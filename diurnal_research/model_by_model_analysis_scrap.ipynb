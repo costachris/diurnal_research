{
 "cells": [
  {
   "cell_type": "code",
   "execution_count": null,
   "metadata": {},
   "outputs": [],
   "source": [
    "import os\n",
    "import xarray as xr\n",
    "import numpy as np\n",
    "import matplotlib.pyplot as plt\n",
    "import seaborn as sns\n",
    "from tqdm import tqdm\n",
    "import pandas as pd\n",
    "from scipy.stats import circmean, circstd, mode\n",
    "\n",
    "import ephem\n",
    "from datetime import datetime, time, timedelta\n",
    "from scipy import optimize\n",
    "from mpl_toolkits.basemap import Basemap\n",
    "import taylorDiagram\n",
    "\n",
    "from numpy.fft import fft, ifft\n",
    "import astropy.stats.circstats as astro_circstats\n",
    "\n",
    "import diurnal_config\n",
    "\n",
    "from diurnal_utils import *\n",
    "from fetch_model_helper import *\n",
    "import dask.dataframe as dd\n",
    "\n",
    "%run cmip_metrics.py\n",
    "%run model_by_model_analysis_helper.py\n",
    "\n",
    "import matplotlib \n",
    "\n",
    "font = {'weight' : 'bold',\n",
    "        'size'   : 13}\n",
    "label_fontdict = {'weight' : 'bold',\n",
    "        'size'   : 13}\n",
    "title_fontdict = {'weight' : 'bold',\n",
    "        'size'   : 13}\n",
    "\n",
    "matplotlib.rc('font', **font)\n",
    "\n",
    "FLUX_TO_MM_HR = 60*60\n",
    "FLUX_TO_MM_YR = FLUX_TO_MM_HR*24*365\n",
    "HOURS_TO_RADIANS = 2*np.pi/24"
   ]
  },
  {
   "cell_type": "code",
   "execution_count": null,
   "metadata": {},
   "outputs": [],
   "source": []
  },
  {
   "cell_type": "code",
   "execution_count": null,
   "metadata": {},
   "outputs": [],
   "source": [
    "sns.boxplot(x = 'model_name', y = 'phase_season', data = df, whis = 0.5)\n",
    "# sns.swarmplot(x = 'model_name', y = 'phase_season', data = df.sample(1000), color=\".25\")\n",
    "plt.ylim(0, 24.3)\n",
    "plt.xticks(rotation = 45)\n",
    "plt.title('CMIP5 Diurnal Precipitation Phase by Model')\n",
    "# plt.grid()\n",
    "plt.tight_layout()\n",
    "# plt.savefig(save_figs_dir + 'compare_models/' + 'box_and_whiskers_cmip5.png', dpi = 300)"
   ]
  },
  {
   "cell_type": "code",
   "execution_count": null,
   "metadata": {},
   "outputs": [],
   "source": [
    "sns.boxplot(x = 'model_name', y = 'phase_season', data = df_cm6, whis = 0.5)\n",
    "# sns.swarmplot(x = 'model_name', y = 'phase_season', data = df.sample(1000), color=\".25\")\n",
    "plt.ylim(0, 24.3)\n",
    "plt.xticks(rotation = 45)\n",
    "plt.title('CMIP6 Diurnal Precipitation Phase by Model')\n",
    "plt.tight_layout()\n",
    "plt.savefig(save_figs_dir + 'compare_models/' + 'box_and_whiskers_cmip6.png', dpi = 300)\n"
   ]
  },
  {
   "cell_type": "code",
   "execution_count": null,
   "metadata": {},
   "outputs": [],
   "source": [
    "\n",
    "sns.boxplot(y = 'phase_season', data = df_gpm, whis = 0.5, width = 0.4)\n",
    "plt.ylim(0, 24.3)\n",
    "plt.xticks(rotation = 45)\n",
    "plt.title('GPM Diurnal Precipitation Phase')\n",
    "plt.tight_layout()\n",
    "plt.savefig(save_figs_dir + 'compare_models/' + 'box_and_whiskers_gpm.png', dpi = 300)"
   ]
  },
  {
   "cell_type": "code",
   "execution_count": null,
   "metadata": {},
   "outputs": [],
   "source": [
    "# plt.figure(figsize = (8,5))\n",
    "# sns.boxplot(x = 'model_name', y = 'phase_season', hue = 'land_sea_mask', data = df_cm6, whis = 0.5)\n",
    "# # sns.swarmplot(x = 'model_name', y = 'phase_season', data = df.sample(1000), color=\".25\")\n",
    "# plt.ylim(0, 24.3)\n",
    "# plt.xticks(rotation = 45)\n",
    "# plt.title('CMIP6 Diurnal Precipitation Phase by Model [land/sea]')\n",
    "# plt.tight_layout()\n",
    "# plt.legend(loc  = 1)\n",
    "# plt.savefig(save_figs_dir + 'compare_models/' + 'box_and_whiskers_land_sea_cmip6.png', dpi = 300)"
   ]
  },
  {
   "cell_type": "code",
   "execution_count": null,
   "metadata": {},
   "outputs": [],
   "source": [
    "plt.figure(figsize = (8,5))\n",
    "sns.boxplot(x = 'model_name', y = 'phase_season', hue = 'land_sea_mask', data = df_cm5, whis = 0.5)\n",
    "# sns.swarmplot(x = 'model_name', y = 'phase_season', data = df.sample(1000), color=\".25\")\n",
    "plt.ylim(0, 24.3)\n",
    "plt.xticks(rotation = 45)\n",
    "plt.title('CMIP5 Diurnal Precipitation Phase by Model [land/sea]')\n",
    "plt.tight_layout()\n",
    "plt.legend(loc  = 1)\n",
    "plt.savefig(save_figs_dir + 'compare_models/' + 'box_and_whiskers_land_sea_cmip5.png', dpi = 300)"
   ]
  },
  {
   "cell_type": "code",
   "execution_count": null,
   "metadata": {},
   "outputs": [],
   "source": [
    "# df_gpm\n",
    "df_gpm['source'] = 'gpm'"
   ]
  },
  {
   "cell_type": "code",
   "execution_count": null,
   "metadata": {},
   "outputs": [],
   "source": [
    "\n",
    "sns.boxplot(x = 'source', y = 'phase_season', data = df_gpm, whis = 0.5, hue = 'land_sea_mask', width = 1)\n",
    "plt.ylim(0, 24.3)\n",
    "plt.xticks(rotation = 45)\n",
    "plt.title('GPM Diurnal Precipitation Phase [land/sea]')\n",
    "plt.tight_layout()\n",
    "plt.legend(loc  = 1)\n",
    "plt.savefig(save_figs_dir + 'compare_models/' + 'box_and_whiskers_gpm_land_sea.png', dpi = 300)"
   ]
  },
  {
   "cell_type": "code",
   "execution_count": null,
   "metadata": {},
   "outputs": [],
   "source": []
  },
  {
   "cell_type": "code",
   "execution_count": null,
   "metadata": {},
   "outputs": [],
   "source": [
    "# # fig, ax = plt.subplots()\n",
    "# plt.figure(figsize = (7,5))\n",
    "# # for mod_ii in model_error_stats_df.iterrows():\n",
    "# model_list = list(model_error_stats_df.index)\n",
    "# for ii in range(len(model_error_stats_df)):\n",
    "#     mod_ii = model_error_stats_df.iloc[ii,:]\n",
    "#     xx,yy = mod_ii[x_field], mod_ii[y_field]\n",
    "#     if (not np.isnan(xx)) & (not np.isnan(yy)):\n",
    "# #         print(xx,yy)\n",
    "#         plt.plot(xx, yy, 'o', label = str(ii) + ': ' + model_list[ii])\n",
    "#         plt.annotate(str(ii), (xx, yy), size = 9, weight = 'bold')\n",
    "# plt.grid()\n",
    "# plt.legend(loc = 'center left', bbox_to_anchor=(1.1,0.5),prop={'size': 8})\n",
    "# plt.xlabel('Phase Mean')\n",
    "# plt.ylabel('ECS')\n",
    "# plt.tight_layout()"
   ]
  }
 ],
 "metadata": {
  "kernelspec": {
   "display_name": "Python 3",
   "language": "python",
   "name": "python3"
  },
  "language_info": {
   "codemirror_mode": {
    "name": "ipython",
    "version": 3
   },
   "file_extension": ".py",
   "mimetype": "text/x-python",
   "name": "python",
   "nbconvert_exporter": "python",
   "pygments_lexer": "ipython3",
   "version": "3.6.10"
  }
 },
 "nbformat": 4,
 "nbformat_minor": 4
}
