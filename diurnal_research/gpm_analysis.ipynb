{
 "cells": [
  {
   "cell_type": "code",
   "execution_count": 64,
   "metadata": {},
   "outputs": [],
   "source": [
    "import os\n",
    "from glob import glob\n",
    "import xarray as xr\n",
    "import numpy as np\n",
    "import matplotlib.pyplot as plt\n",
    "from tqdm import tqdm\n",
    "import h5py\n",
    "\n",
    "import math\n",
    "import ephem\n",
    "from datetime import datetime, time, timedelta\n",
    "from math import pi, cos, sin\n",
    "from scipy import optimize\n",
    "from joblib import Parallel, delayed\n",
    "from mpl_toolkits.basemap import Basemap\n",
    "# import xesmf as xr\n",
    "\n",
    "from diurnal_utils import *\n",
    "# %run diurnal_utils.py"
   ]
  },
  {
   "cell_type": "code",
   "execution_count": 65,
   "metadata": {},
   "outputs": [],
   "source": [
    "start_date = '2000-06'\n",
    "end_date =  '2010-06'\n",
    "# end_date =  '2001-06'"
   ]
  },
  {
   "cell_type": "code",
   "execution_count": 19,
   "metadata": {},
   "outputs": [],
   "source": [
    "save_output_dir = '/export/data1/cchristo/diurnal_analysis_results/GPM/'\n",
    "save_figs_dir = '/home/cchristo/proj_tapio/figs/diurnal_cycle_figs/gpm_2000_2010_precip/'"
   ]
  },
  {
   "cell_type": "code",
   "execution_count": 57,
   "metadata": {},
   "outputs": [],
   "source": [
    "# model_dir = '/export/data1/cchristo/gpm_data/gpmdata/'\n",
    "model_dir = '/export/data1/cchristo/gpm_data/gpmdata_regridded_gfdl_cm4/'\n",
    "\n",
    "years_to_include = range(2000, 2012)\n",
    "years_to_include = [str(year_ii) for year_ii in years_to_include]\n",
    "\n",
    "result = [y for x in os.walk(model_dir) for y in glob(os.path.join(x[0], '*.nc'))]\n",
    "\n",
    "\n",
    "# filter paths based on year\n",
    "result_filt =[]\n",
    "for path_i in result: \n",
    "    if (os.path.dirname(path_i).split('/')[-4] in years_to_include):\n",
    "        result_filt.append(path_i)\n",
    "\n",
    "# get only certain years\n",
    "# result = sorted(result)\n",
    "result = sorted(result_filt)"
   ]
  },
  {
   "cell_type": "code",
   "execution_count": null,
   "metadata": {},
   "outputs": [],
   "source": []
  },
  {
   "cell_type": "code",
   "execution_count": 5,
   "metadata": {},
   "outputs": [
    {
     "name": "stdout",
     "output_type": "stream",
     "text": [
      "CPU times: user 22min 48s, sys: 39.4 s, total: 23min 28s\n",
      "Wall time: 33min 13s\n"
     ]
    }
   ],
   "source": [
    "# %%time\n",
    "ds = xr.open_mfdataset(result, combine='nested', concat_dim = 'time')\n",
    "# ds = xr.open_dataset(result[0],  engine = 'h5netcdf')"
   ]
  },
  {
   "cell_type": "code",
   "execution_count": 82,
   "metadata": {},
   "outputs": [],
   "source": [
    "# ds['lon'] = ds['lon'].where(ds['lon'] > 0, ds['lon'] + 360)"
   ]
  },
  {
   "cell_type": "code",
   "execution_count": null,
   "metadata": {},
   "outputs": [],
   "source": []
  },
  {
   "cell_type": "code",
   "execution_count": 6,
   "metadata": {},
   "outputs": [],
   "source": [
    "ds = ds.sel(time = slice(start_date, end_date))\n",
    "ds = ds.sel(lat= slice(-60, 60))\n",
    "# ds.load()\n",
    "# print('Dataset Loaded')"
   ]
  },
  {
   "cell_type": "code",
   "execution_count": 10,
   "metadata": {},
   "outputs": [],
   "source": [
    "# ds['precipitationCal'].fillna(0)\n"
   ]
  },
  {
   "cell_type": "code",
   "execution_count": null,
   "metadata": {},
   "outputs": [],
   "source": [
    "# ds_mean = ds['precipitationCal'].mean(dim = 'time')\n",
    "# ds_mean.load()\n",
    "\n",
    "# ds_max = ds['precipitationCal'].mean(dim = 'time')\n",
    "# ds_max.load()\n"
   ]
  },
  {
   "cell_type": "code",
   "execution_count": null,
   "metadata": {},
   "outputs": [],
   "source": [
    "# ds_mean.plot.imshow(vmin =0, vmax = 1, cmap = plt.get_cmap('gist_ncar'))\n",
    "# ds_max.plot.imshow(vmin =0, vmax = 0.25 , cmap = plt.get_cmap('gist_ncar'))"
   ]
  },
  {
   "cell_type": "code",
   "execution_count": null,
   "metadata": {},
   "outputs": [],
   "source": [
    "# ds_mean.plot.imshow(vmin =0, vmax = 2, cmap = plt.get_cmap('gist_ncar'))"
   ]
  },
  {
   "cell_type": "code",
   "execution_count": null,
   "metadata": {},
   "outputs": [],
   "source": [
    "# ds.isel(time = 0)['precipitationCal'].plot.imshow(vmin =0, vmax = 10)"
   ]
  },
  {
   "cell_type": "code",
   "execution_count": null,
   "metadata": {},
   "outputs": [],
   "source": [
    "# ds['precipitationCal']"
   ]
  },
  {
   "cell_type": "code",
   "execution_count": 8,
   "metadata": {},
   "outputs": [
    {
     "name": "stderr",
     "output_type": "stream",
     "text": [
      "  1%|▏         | 58/4320 [00:00<00:07, 579.50it/s]"
     ]
    },
    {
     "name": "stdout",
     "output_type": "stream",
     "text": [
      "DJF\n"
     ]
    },
    {
     "name": "stderr",
     "output_type": "stream",
     "text": [
      "100%|██████████| 4320/4320 [00:07<00:00, 582.39it/s]\n",
      "/home/cchristo/proj_tapio/diurnal_research/diurnal_utils.py:215: RuntimeWarning: Mean of empty slice\n",
      "  f_bar_k = np.nanmean(masked_field, axis = 0)\n",
      "/home/cchristo/proj_tapio/diurnal_research/diurnal_utils.py:233: RuntimeWarning: Mean of empty slice\n",
      "  f_bar_k = np.nanmean(masked_field, axis = 0)\n",
      "100%|██████████| 4320/4320 [00:07<00:00, 567.85it/s]\n",
      "/home/cchristo/proj_tapio/diurnal_research/diurnal_utils.py:262: RuntimeWarning: Mean of empty slice\n",
      "  f_bar_k = np.nanmean(masked_field, axis = 0)\n",
      "  0%|          | 0/120 [00:00<?, ?it/s]"
     ]
    },
    {
     "name": "stdout",
     "output_type": "stream",
     "text": [
      "Performing Cos Fit\n"
     ]
    },
    {
     "name": "stderr",
     "output_type": "stream",
     "text": [
      "100%|██████████| 120/120 [02:08<00:00,  1.07s/it]\n"
     ]
    },
    {
     "name": "stdout",
     "output_type": "stream",
     "text": [
      "Finished Cos Fit\n"
     ]
    },
    {
     "name": "stderr",
     "output_type": "stream",
     "text": [
      "  1%|          | 58/5856 [00:00<00:10, 570.77it/s]"
     ]
    },
    {
     "name": "stdout",
     "output_type": "stream",
     "text": [
      "JJA\n"
     ]
    },
    {
     "name": "stderr",
     "output_type": "stream",
     "text": [
      "100%|██████████| 5856/5856 [00:10<00:00, 571.16it/s]\n",
      "/home/cchristo/proj_tapio/diurnal_research/diurnal_utils.py:215: RuntimeWarning: Mean of empty slice\n",
      "  f_bar_k = np.nanmean(masked_field, axis = 0)\n",
      "/home/cchristo/proj_tapio/diurnal_research/diurnal_utils.py:233: RuntimeWarning: Mean of empty slice\n",
      "  f_bar_k = np.nanmean(masked_field, axis = 0)\n",
      "100%|██████████| 5856/5856 [00:10<00:00, 567.27it/s]\n",
      "/home/cchristo/proj_tapio/diurnal_research/diurnal_utils.py:262: RuntimeWarning: Mean of empty slice\n",
      "  f_bar_k = np.nanmean(masked_field, axis = 0)\n",
      "  0%|          | 0/120 [00:00<?, ?it/s]"
     ]
    },
    {
     "name": "stdout",
     "output_type": "stream",
     "text": [
      "Performing Cos Fit\n"
     ]
    },
    {
     "name": "stderr",
     "output_type": "stream",
     "text": [
      "100%|██████████| 120/120 [02:07<00:00,  1.06s/it]\n"
     ]
    },
    {
     "name": "stdout",
     "output_type": "stream",
     "text": [
      "Finished Cos Fit\n"
     ]
    },
    {
     "name": "stderr",
     "output_type": "stream",
     "text": [
      "  1%|▏         | 57/4416 [00:00<00:07, 567.89it/s]"
     ]
    },
    {
     "name": "stdout",
     "output_type": "stream",
     "text": [
      "MAM\n"
     ]
    },
    {
     "name": "stderr",
     "output_type": "stream",
     "text": [
      "100%|██████████| 4416/4416 [00:07<00:00, 558.71it/s]\n",
      "/home/cchristo/proj_tapio/diurnal_research/diurnal_utils.py:215: RuntimeWarning: Mean of empty slice\n",
      "  f_bar_k = np.nanmean(masked_field, axis = 0)\n",
      "/home/cchristo/proj_tapio/diurnal_research/diurnal_utils.py:233: RuntimeWarning: Mean of empty slice\n",
      "  f_bar_k = np.nanmean(masked_field, axis = 0)\n",
      "100%|██████████| 4416/4416 [00:07<00:00, 553.94it/s]\n",
      "/home/cchristo/proj_tapio/diurnal_research/diurnal_utils.py:262: RuntimeWarning: Mean of empty slice\n",
      "  f_bar_k = np.nanmean(masked_field, axis = 0)\n",
      "  0%|          | 0/120 [00:00<?, ?it/s]"
     ]
    },
    {
     "name": "stdout",
     "output_type": "stream",
     "text": [
      "Performing Cos Fit\n"
     ]
    },
    {
     "name": "stderr",
     "output_type": "stream",
     "text": [
      "100%|██████████| 120/120 [02:18<00:00,  1.16s/it]\n"
     ]
    },
    {
     "name": "stdout",
     "output_type": "stream",
     "text": [
      "Finished Cos Fit\n"
     ]
    },
    {
     "name": "stderr",
     "output_type": "stream",
     "text": [
      "  1%|          | 54/4368 [00:00<00:08, 535.35it/s]"
     ]
    },
    {
     "name": "stdout",
     "output_type": "stream",
     "text": [
      "SON\n"
     ]
    },
    {
     "name": "stderr",
     "output_type": "stream",
     "text": [
      "100%|██████████| 4368/4368 [00:08<00:00, 530.54it/s]\n",
      "/home/cchristo/proj_tapio/diurnal_research/diurnal_utils.py:215: RuntimeWarning: Mean of empty slice\n",
      "  f_bar_k = np.nanmean(masked_field, axis = 0)\n",
      "/home/cchristo/proj_tapio/diurnal_research/diurnal_utils.py:233: RuntimeWarning: Mean of empty slice\n",
      "  f_bar_k = np.nanmean(masked_field, axis = 0)\n",
      "100%|██████████| 4368/4368 [00:08<00:00, 528.85it/s]\n",
      "/home/cchristo/proj_tapio/diurnal_research/diurnal_utils.py:262: RuntimeWarning: Mean of empty slice\n",
      "  f_bar_k = np.nanmean(masked_field, axis = 0)\n",
      "  0%|          | 0/120 [00:00<?, ?it/s]"
     ]
    },
    {
     "name": "stdout",
     "output_type": "stream",
     "text": [
      "Performing Cos Fit\n"
     ]
    },
    {
     "name": "stderr",
     "output_type": "stream",
     "text": [
      "100%|██████████| 120/120 [02:18<00:00,  1.15s/it]\n"
     ]
    },
    {
     "name": "stdout",
     "output_type": "stream",
     "text": [
      "Finished Cos Fit\n"
     ]
    }
   ],
   "source": [
    "\n",
    "out_ds, out_ds_means = diurnal_analysis(ds, \n",
    "                                        field_id = 'precipitationCal', \n",
    "                                        grid_time_resolution_hours = 0.5,\n",
    "                                        time_resolution_hours = 0.5)"
   ]
  },
  {
   "cell_type": "code",
   "execution_count": 9,
   "metadata": {},
   "outputs": [],
   "source": [
    "out_ds.to_netcdf(save_output_dir + start_date + '_' + end_date + '_precip.nc')\n",
    "out_ds_means.to_netcdf(save_output_dir + start_date + '_' + end_date + '_precip_diurnal_means.nc')"
   ]
  },
  {
   "cell_type": "code",
   "execution_count": null,
   "metadata": {},
   "outputs": [],
   "source": []
  },
  {
   "cell_type": "code",
   "execution_count": null,
   "metadata": {},
   "outputs": [],
   "source": [
    "# make_four_panel(mu_season , \n",
    "# #                 cmap = plt.get_cmap('bwr'),\n",
    "#                 cmap = plt.get_cmap('gist_ncar'),\n",
    "#                 lats = ds['lat'].values, \n",
    "#                 lons = ds['lon'].values,\n",
    "#                 vmin = 0,\n",
    "#                 vmax = 0.8,\n",
    "#                 title = r'$\\mu$',\n",
    "# #                 axis = plt.axis([220, 300, 10, 50]), \n",
    "#                 save_fig_path= save_figs_dir + 'GFDL_CM4_means_pr.png')"
   ]
  },
  {
   "cell_type": "code",
   "execution_count": null,
   "metadata": {},
   "outputs": [],
   "source": []
  },
  {
   "cell_type": "code",
   "execution_count": null,
   "metadata": {},
   "outputs": [],
   "source": [
    "# make_four_panel(sigma_season , \n",
    "#                 lats = ds['lat'].values, \n",
    "#                 lons = ds['lon'].values,\n",
    "#                 vmin = 0, vmax = 0.2, \n",
    "# #                 cmap = plt.get_cmap('bwr'),\n",
    "#                 cmap = plt.get_cmap('gist_ncar'),\n",
    "#                 title = r'$\\sigma$',\n",
    "# #                 axis = plt.axis([220, 300, 10, 50]), \n",
    "#                 save_fig_path= save_figs_dir + 'GFDL_CM4_stds_pr.png')"
   ]
  },
  {
   "cell_type": "code",
   "execution_count": null,
   "metadata": {},
   "outputs": [],
   "source": [
    "# make_four_panel(ampl_season , \n",
    "#                 lats = ds['lat'].values, \n",
    "#                 lons = ds['lon'].values,\n",
    "# #                 vmax = 0.00003, \n",
    "# #                 cmap = plt.get_cmap('bwr'),\n",
    "#                 cmap = plt.get_cmap('gist_ncar'),\n",
    "#                 title = r'$A$',\n",
    "#                 vmin = 0, vmax = 0.2,\n",
    "# #                 axis = plt.axis([220, 300, 10, 50]), \n",
    "#                 save_fig_path= save_figs_dir + 'GFDL_CM4_ampl_pr.png')"
   ]
  },
  {
   "cell_type": "code",
   "execution_count": null,
   "metadata": {},
   "outputs": [],
   "source": [
    "# make_four_panel(phase_season , \n",
    "#                 lats = ds['lat'].values, \n",
    "#                 lons = ds['lon'].values,\n",
    "# #                 vmin = 0, vmax = 24, \n",
    "#                 cmap = plt.get_cmap('twilight'),\n",
    "#                 title = r'$\\Phi$',\n",
    "# #                 axis = plt.axis([220, 300, 10, 50]), \n",
    "#                 save_fig_path= save_figs_dir + 'GFDL_CM4_phase_pr.png')"
   ]
  },
  {
   "cell_type": "code",
   "execution_count": 18,
   "metadata": {},
   "outputs": [],
   "source": [
    "# out_ds = xr.Dataset()\n",
    "# out_ds['mu_season'] = make_da_from_dict(mu_season, ds)\n",
    "# out_ds['sigma_season'] = make_da_from_dict(sigma_season, ds)\n",
    "# out_ds['ampl_season'] = make_da_from_dict(ampl_season, ds)\n",
    "# out_ds['phase_season'] = make_da_from_dict(phase_season, ds)"
   ]
  },
  {
   "cell_type": "code",
   "execution_count": 22,
   "metadata": {},
   "outputs": [],
   "source": [
    "# out_ds.to_netcdf(save_output_dir + 'gpm_2000_2010_precip.nc')"
   ]
  }
 ],
 "metadata": {
  "kernelspec": {
   "display_name": "Python 3",
   "language": "python",
   "name": "python3"
  },
  "language_info": {
   "codemirror_mode": {
    "name": "ipython",
    "version": 3
   },
   "file_extension": ".py",
   "mimetype": "text/x-python",
   "name": "python",
   "nbconvert_exporter": "python",
   "pygments_lexer": "ipython3",
   "version": "3.6.10"
  }
 },
 "nbformat": 4,
 "nbformat_minor": 4
}
