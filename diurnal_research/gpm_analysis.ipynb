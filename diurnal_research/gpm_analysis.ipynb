{
 "cells": [
  {
   "cell_type": "code",
   "execution_count": 1,
   "metadata": {},
   "outputs": [],
   "source": [
    "import os\n",
    "from glob import glob\n",
    "import xarray as xr\n",
    "import numpy as np\n",
    "import matplotlib.pyplot as plt\n",
    "from tqdm import tqdm\n",
    "import h5py\n",
    "\n",
    "import math\n",
    "import ephem\n",
    "from datetime import datetime, time, timedelta\n",
    "from math import pi, cos, sin\n",
    "from scipy import optimize\n",
    "from joblib import Parallel, delayed\n",
    "from mpl_toolkits.basemap import Basemap\n",
    "# import xesmf as xr\n",
    "\n",
    "from diurnal_utils import *\n",
    "%run diurnal_utils.py"
   ]
  },
  {
   "cell_type": "code",
   "execution_count": 6,
   "metadata": {},
   "outputs": [],
   "source": [
    "out_folder_identifier = 'bin_pt2_hr_15_yr_round_2_mode_year_mean_bootstrap_5yr_final' #label to append to output path\n",
    "\n",
    "start_date = '2000-06'\n",
    "# end_date = '2000-07'\n",
    "end_date =  '2016-06'\n"
   ]
  },
  {
   "cell_type": "code",
   "execution_count": 5,
   "metadata": {},
   "outputs": [],
   "source": [
    "# for sampo\n",
    "# save_output_dir = '/export/data1/cchristo/diurnal_analysis_results/GPM_' + out_folder_identifier + '/'\n",
    "\n",
    "# for tofu\n",
    "# save_output_dir = '/net/fluo/data2/groupMembers/cchristo/gpm_results/' + out_folder_identifier + '/'\n",
    "\n",
    "# for curry\n",
    "save_output_dir = '/net/fluo/data2/groupMembers/cchristo/gpm_results/' + out_folder_identifier + '/'\n",
    "\n",
    "\n",
    "\n",
    "# save_figs_dir = '/home/cchristo/proj_tapio/figs/diurnal_cycle_figs/gpm_2000_2010_precip/'"
   ]
  },
  {
   "cell_type": "code",
   "execution_count": 7,
   "metadata": {},
   "outputs": [],
   "source": [
    "\n",
    "# for sampo\n",
    "# model_dir = '/export/data1/cchristo/gpm_data/gpmdata/'\n",
    "# model_dir = '/export/data1/cchristo/gpm_data/gpmdata_regridded_gfdl_cm4/'\n",
    "# # model_dir = '/export/data1/cchristo/gpm_data/gpmdata_regridded_grid1/'\n",
    "\n",
    "# for tofu\n",
    "# model_dir = '/net/fluo/data2/groupMembers/cchristo/gpm_grid1/'\n",
    "model_dir = '/net/fluo/data2/groupMembers/cchristo/gpm_cm4/'\n",
    "\n",
    "\n",
    "years_to_include = range(2000, 2017)\n",
    "# years_to_include = range(2000, 2001)\n",
    "years_to_include = [str(year_ii) for year_ii in years_to_include]\n",
    "\n",
    "result = [y for x in os.walk(model_dir) for y in glob(os.path.join(x[0], '*.nc'))]\n",
    "\n",
    "\n",
    "# filter paths based on year\n",
    "result_filt =[]\n",
    "for path_i in result: \n",
    "    if (os.path.dirname(path_i).split('/')[-4] in years_to_include):\n",
    "        result_filt.append(path_i)\n",
    "\n",
    "# get only certain years\n",
    "# result = sorted(result)\n",
    "result = sorted(result_filt)"
   ]
  },
  {
   "cell_type": "code",
   "execution_count": 6,
   "metadata": {},
   "outputs": [
    {
     "name": "stdout",
     "output_type": "stream",
     "text": [
      "/net/fluo/data2/groupMembers/cchristo/gpm/2016/12/31/imerg/3B-HHR.MS.MRG.3IMERG.20161231-S233000-E235959.1410.V06B.nc\n"
     ]
    }
   ],
   "source": [
    "# print(result[-1])"
   ]
  },
  {
   "cell_type": "code",
   "execution_count": 8,
   "metadata": {},
   "outputs": [],
   "source": [
    "# %%time\n",
    "ds = xr.open_mfdataset(result, combine='nested', concat_dim = 'time')\n",
    "# ds = xr.open_dataset(result[0],  engine = 'h5netcdf')"
   ]
  },
  {
   "cell_type": "code",
   "execution_count": 82,
   "metadata": {},
   "outputs": [],
   "source": [
    "# ds['lon'] = ds['lon'].where(ds['lon'] > 0, ds['lon'] + 360)"
   ]
  },
  {
   "cell_type": "code",
   "execution_count": null,
   "metadata": {},
   "outputs": [],
   "source": []
  },
  {
   "cell_type": "code",
   "execution_count": 9,
   "metadata": {},
   "outputs": [],
   "source": [
    "ds = ds.sel(time = slice(start_date, end_date))\n",
    "ds = ds.sel(lat= slice(-60, 60))\n",
    "# ds.load()\n",
    "# print('Dataset Loaded')"
   ]
  },
  {
   "cell_type": "code",
   "execution_count": 10,
   "metadata": {},
   "outputs": [],
   "source": [
    "# ds['precipitationCal'].fillna(0)\n"
   ]
  },
  {
   "cell_type": "code",
   "execution_count": null,
   "metadata": {},
   "outputs": [],
   "source": [
    "# ds_mean = ds['precipitationCal'].mean(dim = 'time')\n",
    "# ds_mean.load()\n",
    "\n",
    "# ds_max = ds['precipitationCal'].mean(dim = 'time')\n",
    "# ds_max.load()\n"
   ]
  },
  {
   "cell_type": "code",
   "execution_count": null,
   "metadata": {},
   "outputs": [],
   "source": [
    "# ds_mean.plot.imshow(vmin =0, vmax = 1, cmap = plt.get_cmap('gist_ncar'))\n",
    "# ds_max.plot.imshow(vmin =0, vmax = 0.25 , cmap = plt.get_cmap('gist_ncar'))"
   ]
  },
  {
   "cell_type": "code",
   "execution_count": null,
   "metadata": {},
   "outputs": [],
   "source": [
    "# ds_mean.plot.imshow(vmin =0, vmax = 2, cmap = plt.get_cmap('gist_ncar'))"
   ]
  },
  {
   "cell_type": "code",
   "execution_count": null,
   "metadata": {},
   "outputs": [],
   "source": [
    "# ds.isel(time = 0)['precipitationCal'].plot.imshow(vmin =0, vmax = 10)"
   ]
  },
  {
   "cell_type": "code",
   "execution_count": 58,
   "metadata": {},
   "outputs": [
    {
     "name": "stderr",
     "output_type": "stream",
     "text": [
      "  0%|          | 0/1440 [00:00<?, ?it/s]"
     ]
    },
    {
     "name": "stdout",
     "output_type": "stream",
     "text": [
      "0\n"
     ]
    },
    {
     "name": "stderr",
     "output_type": "stream",
     "text": [
      "100%|██████████| 1440/1440 [00:03<00:00, 380.31it/s]\n",
      "100%|██████████| 1440/1440 [00:03<00:00, 364.00it/s]\n",
      "/home/cchristo/proj_tapio/diurnal_research/diurnal_utils.py:453: RuntimeWarning: Mean of empty slice\n",
      "  f_bar_k = np.nanmean(masked_field, axis = 0)\n",
      "  0%|          | 0/120 [00:00<?, ?it/s]"
     ]
    },
    {
     "name": "stdout",
     "output_type": "stream",
     "text": [
      "Performing Cos Fit\n"
     ]
    },
    {
     "name": "stderr",
     "output_type": "stream",
     "text": [
      " 28%|██▊       | 33/120 [00:10<00:26,  3.33it/s]/home/cchristo/.conda/envs/diurnal_research/lib/python3.6/site-packages/scipy/optimize/minpack.py:808: OptimizeWarning: Covariance of the parameters could not be estimated\n",
      "  category=OptimizeWarning)\n",
      "100%|██████████| 120/120 [00:36<00:00,  3.31it/s]"
     ]
    },
    {
     "name": "stdout",
     "output_type": "stream",
     "text": [
      "Finished Cos Fit\n"
     ]
    },
    {
     "name": "stderr",
     "output_type": "stream",
     "text": [
      "\n"
     ]
    }
   ],
   "source": [
    "# ds['precipitationCal']\n",
    "# len(ds['time'])\n",
    "%run diurnal_utils.py\n",
    "\n",
    "ds = xr.open_mfdataset(result, combine='nested', concat_dim = 'time')\n",
    "\n",
    "ds = ds.sel(time = slice(start_date, end_date))\n",
    "ds = ds.sel(lat= slice(-60, 60))\n",
    "\n",
    "out_ds, out_ds_means = diurnal_analysis_2_mode_full_bootstrapped(ds, \n",
    "                                    field_id = 'precipitationCal', \n",
    "                                    grid_time_resolution_hours = 0.5,\n",
    "                                    time_resolution_hours = 0.2,\n",
    "                                    samplesize = 48*365*5,\n",
    "                                    blocksize = 48,\n",
    "                                    nboot = 200)"
   ]
  },
  {
   "cell_type": "code",
   "execution_count": 59,
   "metadata": {},
   "outputs": [
    {
     "data": {
      "text/plain": [
       "(<xarray.Dataset>\n",
       " Dimensions:       (bootstrap_id: 1, lat: 120, lon: 288)\n",
       " Coordinates:\n",
       "   * bootstrap_id  (bootstrap_id) int64 0\n",
       "   * lon           (lon) float64 0.625 1.875 3.125 4.375 ... 356.9 358.1 359.4\n",
       "   * lat           (lat) float64 -59.5 -58.5 -57.5 -56.5 ... 56.5 57.5 58.5 59.5\n",
       " Data variables:\n",
       "     mu_season     (bootstrap_id, lat, lon) float64 0.07827 0.05077 ... 0.05744\n",
       "     ampl_season   (bootstrap_id, lat, lon) float64 0.05305 0.02147 ... 0.07484\n",
       "     phase_season  (bootstrap_id, lat, lon) float64 13.09 8.859 ... 19.96 22.28,\n",
       " <xarray.Dataset>\n",
       " Dimensions:                (lat: 120, lon: 288, season: 1, time: 48)\n",
       " Coordinates:\n",
       "   * season                 (season) int64 0\n",
       "   * time                   (time) float64 0.5 1.0 1.5 2.0 ... 23.0 23.5 24.0\n",
       "   * lon                    (lon) float64 0.625 1.875 3.125 ... 356.9 358.1 359.4\n",
       "   * lat                    (lat) float64 -59.5 -58.5 -57.5 ... 57.5 58.5 59.5\n",
       " Data variables:\n",
       "     precipitationCal_mean  (season, time, lat, lon) float32 0.09043 ... 0.004764)"
      ]
     },
     "execution_count": 59,
     "metadata": {},
     "output_type": "execute_result"
    }
   ],
   "source": [
    "res"
   ]
  },
  {
   "cell_type": "code",
   "execution_count": 57,
   "metadata": {},
   "outputs": [],
   "source": [
    "# res[0].isel(season = 2)['phase_season'].plot.imshow(cmap = plt.get_cmap('twilight_shifted'))"
   ]
  },
  {
   "cell_type": "code",
   "execution_count": 22,
   "metadata": {},
   "outputs": [
    {
     "name": "stdout",
     "output_type": "stream",
     "text": [
      "JJA\n"
     ]
    },
    {
     "name": "stderr",
     "output_type": "stream",
     "text": [
      "100%|██████████| 2928/2928 [00:05<00:00, 572.33it/s]\n",
      "100%|██████████| 2928/2928 [00:05<00:00, 512.10it/s]\n",
      "/home/cchristo/proj_tapio/diurnal_research/diurnal_utils.py:361: RuntimeWarning: Mean of empty slice\n",
      "  f_bar_k = np.nanmean(masked_field, axis = 0)\n",
      "  0%|          | 0/120 [00:00<?, ?it/s]"
     ]
    },
    {
     "name": "stdout",
     "output_type": "stream",
     "text": [
      "Performing Cos Fit\n"
     ]
    },
    {
     "name": "stderr",
     "output_type": "stream",
     "text": [
      " 29%|██▉       | 35/120 [00:10<00:25,  3.38it/s]/home/cchristo/.conda/envs/diurnal_research/lib/python3.6/site-packages/scipy/optimize/minpack.py:808: OptimizeWarning: Covariance of the parameters could not be estimated\n",
      "  category=OptimizeWarning)\n",
      "100%|██████████| 120/120 [00:35<00:00,  3.37it/s]\n"
     ]
    },
    {
     "name": "stdout",
     "output_type": "stream",
     "text": [
      "New!\n",
      "Finished Cos Fit\n"
     ]
    }
   ],
   "source": [
    "\n",
    "# out_ds, out_ds_means = diurnal_analysis_2_mode_seasonal(ds, \n",
    "#                                         field_id = 'precipitationCal', \n",
    "#                                         grid_time_resolution_hours = 0.5,\n",
    "#                                         time_resolution_hours = 0.2)\n",
    "#                                         time_resolution_hours = 0.2) #0.5)\n",
    "# ds = xr.open_mfdataset(result, combine='nested', concat_dim = 'time')\n",
    "\n",
    "# ds = ds.sel(time = slice(start_date, end_date))\n",
    "# ds = ds.sel(lat= slice(-60, 60))\n",
    "\n",
    "out_ds, out_ds_means = diurnal_analysis_2_mode_full(ds, \n",
    "                                        field_id = 'precipitationCal', \n",
    "                                        grid_time_resolution_hours = 0.5,\n",
    "                                        time_resolution_hours = 0.2)\n",
    "\n",
    "if not os.path.exists(save_output_dir):\n",
    "    os.makedirs(save_output_dir)\n",
    "\n",
    "out_ds.to_netcdf(save_output_dir + start_date + '_' + end_date + '_precip.nc')\n",
    "out_ds_means.to_netcdf(save_output_dir + start_date + '_' + end_date + '_precip_diurnal_means.nc')\n"
   ]
  },
  {
   "cell_type": "code",
   "execution_count": 24,
   "metadata": {},
   "outputs": [],
   "source": [
    "if not os.path.exists(save_output_dir):\n",
    "    os.makedirs(save_output_dir)\n",
    "\n",
    "out_ds.to_netcdf(save_output_dir + start_date + '_' + end_date + '_precip.nc')\n",
    "out_ds_means.to_netcdf(save_output_dir + start_date + '_' + end_date + '_precip_diurnal_means.nc')"
   ]
  },
  {
   "cell_type": "code",
   "execution_count": null,
   "metadata": {},
   "outputs": [],
   "source": []
  },
  {
   "cell_type": "code",
   "execution_count": null,
   "metadata": {},
   "outputs": [],
   "source": [
    "# make_four_panel(mu_season , \n",
    "# #                 cmap = plt.get_cmap('bwr'),\n",
    "#                 cmap = plt.get_cmap('gist_ncar'),\n",
    "#                 lats = ds['lat'].values, \n",
    "#                 lons = ds['lon'].values,\n",
    "#                 vmin = 0,\n",
    "#                 vmax = 0.8,\n",
    "#                 title = r'$\\mu$',\n",
    "# #                 axis = plt.axis([220, 300, 10, 50]), \n",
    "#                 save_fig_path= save_figs_dir + 'GFDL_CM4_means_pr.png')"
   ]
  },
  {
   "cell_type": "code",
   "execution_count": null,
   "metadata": {},
   "outputs": [],
   "source": []
  },
  {
   "cell_type": "code",
   "execution_count": null,
   "metadata": {},
   "outputs": [],
   "source": [
    "# make_four_panel(sigma_season , \n",
    "#                 lats = ds['lat'].values, \n",
    "#                 lons = ds['lon'].values,\n",
    "#                 vmin = 0, vmax = 0.2, \n",
    "# #                 cmap = plt.get_cmap('bwr'),\n",
    "#                 cmap = plt.get_cmap('gist_ncar'),\n",
    "#                 title = r'$\\sigma$',\n",
    "# #                 axis = plt.axis([220, 300, 10, 50]), \n",
    "#                 save_fig_path= save_figs_dir + 'GFDL_CM4_stds_pr.png')"
   ]
  },
  {
   "cell_type": "code",
   "execution_count": null,
   "metadata": {},
   "outputs": [],
   "source": [
    "# make_four_panel(ampl_season , \n",
    "#                 lats = ds['lat'].values, \n",
    "#                 lons = ds['lon'].values,\n",
    "# #                 vmax = 0.00003, \n",
    "# #                 cmap = plt.get_cmap('bwr'),\n",
    "#                 cmap = plt.get_cmap('gist_ncar'),\n",
    "#                 title = r'$A$',\n",
    "#                 vmin = 0, vmax = 0.2,\n",
    "# #                 axis = plt.axis([220, 300, 10, 50]), \n",
    "#                 save_fig_path= save_figs_dir + 'GFDL_CM4_ampl_pr.png')"
   ]
  },
  {
   "cell_type": "code",
   "execution_count": null,
   "metadata": {},
   "outputs": [],
   "source": [
    "# make_four_panel(phase_season , \n",
    "#                 lats = ds['lat'].values, \n",
    "#                 lons = ds['lon'].values,\n",
    "# #                 vmin = 0, vmax = 24, \n",
    "#                 cmap = plt.get_cmap('twilight'),\n",
    "#                 title = r'$\\Phi$',\n",
    "# #                 axis = plt.axis([220, 300, 10, 50]), \n",
    "#                 save_fig_path= save_figs_dir + 'GFDL_CM4_phase_pr.png')"
   ]
  },
  {
   "cell_type": "code",
   "execution_count": 18,
   "metadata": {},
   "outputs": [],
   "source": [
    "# out_ds = xr.Dataset()\n",
    "# out_ds['mu_season'] = make_da_from_dict(mu_season, ds)\n",
    "# out_ds['sigma_season'] = make_da_from_dict(sigma_season, ds)\n",
    "# out_ds['ampl_season'] = make_da_from_dict(ampl_season, ds)\n",
    "# out_ds['phase_season'] = make_da_from_dict(phase_season, ds)"
   ]
  },
  {
   "cell_type": "code",
   "execution_count": 22,
   "metadata": {},
   "outputs": [],
   "source": [
    "# out_ds.to_netcdf(save_output_dir + 'gpm_2000_2010_precip.nc')"
   ]
  }
 ],
 "metadata": {
  "kernelspec": {
   "display_name": "Python 3",
   "language": "python",
   "name": "python3"
  },
  "language_info": {
   "codemirror_mode": {
    "name": "ipython",
    "version": 3
   },
   "file_extension": ".py",
   "mimetype": "text/x-python",
   "name": "python",
   "nbconvert_exporter": "python",
   "pygments_lexer": "ipython3",
   "version": "3.6.10"
  }
 },
 "nbformat": 4,
 "nbformat_minor": 4
}
