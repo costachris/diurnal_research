{
 "cells": [
  {
   "cell_type": "code",
   "execution_count": 2,
   "metadata": {},
   "outputs": [],
   "source": [
    "import os\n",
    "import xarray as xr\n",
    "import numpy as np\n",
    "import matplotlib.pyplot as plt\n",
    "import matplotlib \n",
    "import seaborn as sns\n",
    "import cmocean\n",
    "from tqdm import tqdm\n",
    "import pandas as pd\n",
    "from scipy.stats import circmean, circstd, mode\n",
    "\n",
    "from datetime import datetime, time, timedelta\n",
    "\n",
    "import taylorDiagram\n",
    "\n",
    "\n",
    "import astropy.stats.circstats as astro_circstats\n",
    "\n",
    "import diurnal_config\n",
    "\n",
    "from diurnal_utils import *\n",
    "from fetch_model_helper import *\n",
    "import dask.dataframe as dd\n",
    "\n",
    "%run cmip_metrics.py\n",
    "%run model_by_model_analysis_helper.py\n",
    "\n",
    "import matplotlib \n",
    "\n",
    "font = {'weight' : 'bold',\n",
    "        'size'   : 13}\n",
    "label_fontdict = {'weight' : 'bold',\n",
    "        'size'   : 13}\n",
    "title_fontdict = {'weight' : 'bold',\n",
    "        'size'   : 13}\n",
    "\n",
    "matplotlib.rc('font', **font)\n",
    "\n",
    "FLUX_TO_MM_HR = 60*60\n",
    "MM_HR_TO_MM_DAY = 24.0\n",
    "MM_HR_TO_MM_YR = 24*365\n",
    "FLUX_TO_MM_YR = FLUX_TO_MM_HR*MM_HR_TO_MM_YR\n",
    "FLUX_TO_MM_DAY = FLUX_TO_MM_HR*MM_HR_TO_MM_DAY\n",
    "\n",
    "HOURS_TO_RADIANS = 2*np.pi/24\n",
    "\n"
   ]
  },
  {
   "cell_type": "code",
   "execution_count": 22,
   "metadata": {},
   "outputs": [],
   "source": [
    "rel_data_dir = '/export/data1/cchristo/'\n",
    "\n",
    "input_data_dir_gpm_3h_path = rel_data_dir + 'diurnal_analysis_results/gpm_time_freq_compare_regridded/grid1/3hrly/grid1_3hr_3yr.nc'\n",
    "input_data_dir_gpm_30min_path = rel_data_dir + 'diurnal_analysis_results/gpm_time_freq_compare_regridded/grid1/pt5hrly/grid1_pt5hr_3yr.nc'\n",
    "input_data_dir_gpm_bootstrap = rel_data_dir + 'diurnal_analysis_results/GPM_final_paper_v1_regridded/grid1/combined/grid1_bootstrap_10day_mean_CI_3sig.nc'\n",
    "\n",
    "land_sea_mask = rel_data_dir  + 'land_sea_masks/land_sea_masks_regridded/grid1/grid1_GLDASp4_landmask_1d.nc'\n",
    "\n"
   ]
  },
  {
   "cell_type": "code",
   "execution_count": 4,
   "metadata": {},
   "outputs": [],
   "source": [
    "ds_land_sea = xr.open_dataset(land_sea_mask)\n",
    "df_land_sea = ds_land_sea.to_dataframe().astype(int)"
   ]
  },
  {
   "cell_type": "code",
   "execution_count": 55,
   "metadata": {},
   "outputs": [
    {
     "name": "stderr",
     "output_type": "stream",
     "text": [
      "/home/cchristo/.conda/envs/diurnal_research/lib/python3.6/site-packages/pandas/core/indexing.py:1048: SettingWithCopyWarning: \n",
      "A value is trying to be set on a copy of a slice from a DataFrame.\n",
      "Try using .loc[row_indexer,col_indexer] = value instead\n",
      "\n",
      "See the caveats in the documentation: https://pandas.pydata.org/pandas-docs/stable/user_guide/indexing.html#returning-a-view-versus-a-copy\n",
      "  self.obj[item_labels[indexer[info_axis]]] = value\n"
     ]
    }
   ],
   "source": [
    "ds_3hr = xr.open_dataset(input_data_dir_gpm_3h_path)\n",
    "ds_30min = xr.open_dataset(input_data_dir_gpm_30min_path)\n",
    "\n",
    "ds_bootstrap = xr.open_dataset(input_data_dir_gpm_bootstrap)\n",
    "df_bootstrap = ds_bootstrap.to_dataframe()\n",
    "\n",
    "ds_3hr['land_sea_mask'] = ds_land_sea['GLDAS_mask']\n",
    "df_3hr = ds_3hr.to_dataframe()\n",
    "\n",
    "df_3hr = pd.merge(df_3hr, df_bootstrap['CI_mask'],\n",
    "                                 how = 'left',\n",
    "                                 left_index = True, \n",
    "                                 right_index = True)\n",
    "\n",
    "\n",
    "ds_30min['land_sea_mask'] = ds_land_sea['GLDAS_mask']\n",
    "df_30min = ds_30min.to_dataframe()\n",
    "df_30min = pd.merge(df_30min, df_bootstrap['CI_mask'],\n",
    "                                 how = 'left',\n",
    "                                 left_index = True, \n",
    "                                 right_index = True)\n",
    "\n",
    "\n",
    "df_3hr.loc[:,'ampl_season'] = df_3hr['ampl_season'].apply(lambda x: x*MM_HR_TO_MM_DAY)\n",
    "df_30min.loc[:,'ampl_season'] = df_30min['ampl_season'].apply(lambda x: x*MM_HR_TO_MM_DAY)\n",
    "\n",
    "df_3hr_masked = df_3hr[df_3hr['CI_mask'] == 1]\n",
    "df_30min_masked = df_30min[df_30min['CI_mask'] == 1]\n",
    "\n",
    "diff =  df_30min - df_3hr "
   ]
  },
  {
   "cell_type": "markdown",
   "metadata": {},
   "source": [
    "# Without mask"
   ]
  },
  {
   "cell_type": "code",
   "execution_count": 12,
   "metadata": {},
   "outputs": [
    {
     "name": "stdout",
     "output_type": "stream",
     "text": [
      "0.015658203523488123\n",
      "0.02529161637384303\n"
     ]
    }
   ],
   "source": [
    "ocean_mean_3hr = df_3hr[df_3hr['land_sea_mask'] == 0]\n",
    "land_mean_3hr = df_3hr[df_3hr['land_sea_mask'] == 1]\n",
    "\n",
    "ocean_mean_30min = df_30min[df_30min['land_sea_mask'] == 0]\n",
    "land_mean_30min = df_30min[df_30min['land_sea_mask'] == 1]\n",
    "\n",
    "field_id = 'ampl_season'\n",
    "print((ocean_mean_30min.mean() - ocean_mean_3hr.mean())[field_id])\n",
    "print((land_mean_30min.mean() - land_mean_3hr.mean())[field_id])"
   ]
  },
  {
   "cell_type": "code",
   "execution_count": 20,
   "metadata": {},
   "outputs": [
    {
     "data": {
      "text/plain": [
       "mu_season            0.10\n",
       "sigma_season         0.04\n",
       "ampl_season          1.00\n",
       "phase_season        16.61\n",
       "ampl_cov_season      0.00\n",
       "phase_cov_season    60.29\n",
       "land_sea_mask        1.00\n",
       "dtype: float64"
      ]
     },
     "execution_count": 20,
     "metadata": {},
     "output_type": "execute_result"
    }
   ],
   "source": [
    "land_mean_30min.mean().round(2)"
   ]
  },
  {
   "cell_type": "code",
   "execution_count": 17,
   "metadata": {},
   "outputs": [
    {
     "data": {
      "text/plain": [
       "0.023928826323377"
      ]
     },
     "execution_count": 17,
     "metadata": {},
     "output_type": "execute_result"
    }
   ],
   "source": [
    "0.015658/ocean_mean_30min.mean()['ampl_season']"
   ]
  },
  {
   "cell_type": "markdown",
   "metadata": {},
   "source": [
    "# With mask"
   ]
  },
  {
   "cell_type": "code",
   "execution_count": 46,
   "metadata": {},
   "outputs": [
    {
     "name": "stdout",
     "output_type": "stream",
     "text": [
      "0.00258138862222089\n",
      "0.0020319521073959707\n"
     ]
    }
   ],
   "source": [
    "ocean_mean_3hr_masked = df_3hr_masked[df_3hr_masked['land_sea_mask'] == 0]\n",
    "land_mean_3hr_masked = df_3hr_masked[df_3hr_masked['land_sea_mask'] == 1]\n",
    "\n",
    "ocean_mean_30min_masked = df_30min_masked[df_30min_masked['land_sea_mask'] == 0]\n",
    "land_mean_30min_masked = df_30min_masked[df_30min_masked['land_sea_mask'] == 1]\n",
    "\n",
    "field_id = 'ampl_season'\n",
    "print((ocean_mean_30min_masked.mean() - ocean_mean_3hr_masked.mean())[field_id])\n",
    "print((land_mean_30min_masked.mean() - land_mean_3hr_masked.mean())[field_id])"
   ]
  },
  {
   "cell_type": "code",
   "execution_count": 53,
   "metadata": {},
   "outputs": [
    {
     "data": {
      "text/plain": [
       "0.11"
      ]
     },
     "execution_count": 53,
     "metadata": {},
     "output_type": "execute_result"
    }
   ],
   "source": [
    "ocean_mean_30min_masked.mean()['ampl_season'].round(2)"
   ]
  },
  {
   "cell_type": "code",
   "execution_count": 54,
   "metadata": {},
   "outputs": [
    {
     "data": {
      "text/html": [
       "<div>\n",
       "<style scoped>\n",
       "    .dataframe tbody tr th:only-of-type {\n",
       "        vertical-align: middle;\n",
       "    }\n",
       "\n",
       "    .dataframe tbody tr th {\n",
       "        vertical-align: top;\n",
       "    }\n",
       "\n",
       "    .dataframe thead th {\n",
       "        text-align: right;\n",
       "    }\n",
       "</style>\n",
       "<table border=\"1\" class=\"dataframe\">\n",
       "  <thead>\n",
       "    <tr style=\"text-align: right;\">\n",
       "      <th></th>\n",
       "      <th></th>\n",
       "      <th></th>\n",
       "      <th>mu_season</th>\n",
       "      <th>sigma_season</th>\n",
       "      <th>ampl_season</th>\n",
       "      <th>phase_season</th>\n",
       "      <th>ampl_cov_season</th>\n",
       "      <th>phase_cov_season</th>\n",
       "      <th>land_sea_mask</th>\n",
       "      <th>CI_mask</th>\n",
       "    </tr>\n",
       "    <tr>\n",
       "      <th>lat</th>\n",
       "      <th>lon</th>\n",
       "      <th>season</th>\n",
       "      <th></th>\n",
       "      <th></th>\n",
       "      <th></th>\n",
       "      <th></th>\n",
       "      <th></th>\n",
       "      <th></th>\n",
       "      <th></th>\n",
       "      <th></th>\n",
       "    </tr>\n",
       "  </thead>\n",
       "  <tbody>\n",
       "    <tr>\n",
       "      <th rowspan=\"2\" valign=\"top\">-55.5</th>\n",
       "      <th>291.5</th>\n",
       "      <th>year_mean</th>\n",
       "      <td>0.092090</td>\n",
       "      <td>0.021445</td>\n",
       "      <td>0.024579</td>\n",
       "      <td>14.469723</td>\n",
       "      <td>0.004253</td>\n",
       "      <td>102.711623</td>\n",
       "      <td>0.0</td>\n",
       "      <td>1.0</td>\n",
       "    </tr>\n",
       "    <tr>\n",
       "      <th>292.0</th>\n",
       "      <th>year_mean</th>\n",
       "      <td>0.092090</td>\n",
       "      <td>0.021445</td>\n",
       "      <td>0.024579</td>\n",
       "      <td>14.469723</td>\n",
       "      <td>0.004253</td>\n",
       "      <td>102.711623</td>\n",
       "      <td>0.0</td>\n",
       "      <td>1.0</td>\n",
       "    </tr>\n",
       "    <tr>\n",
       "      <th rowspan=\"2\" valign=\"top\">-55.0</th>\n",
       "      <th>291.5</th>\n",
       "      <th>year_mean</th>\n",
       "      <td>0.092090</td>\n",
       "      <td>0.021445</td>\n",
       "      <td>0.024579</td>\n",
       "      <td>14.469723</td>\n",
       "      <td>0.004253</td>\n",
       "      <td>102.711623</td>\n",
       "      <td>0.0</td>\n",
       "      <td>1.0</td>\n",
       "    </tr>\n",
       "    <tr>\n",
       "      <th>292.0</th>\n",
       "      <th>year_mean</th>\n",
       "      <td>0.092090</td>\n",
       "      <td>0.021445</td>\n",
       "      <td>0.024579</td>\n",
       "      <td>14.469723</td>\n",
       "      <td>0.004253</td>\n",
       "      <td>102.711623</td>\n",
       "      <td>0.0</td>\n",
       "      <td>1.0</td>\n",
       "    </tr>\n",
       "    <tr>\n",
       "      <th>-52.5</th>\n",
       "      <th>291.0</th>\n",
       "      <th>year_mean</th>\n",
       "      <td>0.056629</td>\n",
       "      <td>0.018162</td>\n",
       "      <td>0.017464</td>\n",
       "      <td>16.039107</td>\n",
       "      <td>0.001622</td>\n",
       "      <td>77.614980</td>\n",
       "      <td>0.0</td>\n",
       "      <td>1.0</td>\n",
       "    </tr>\n",
       "    <tr>\n",
       "      <th>...</th>\n",
       "      <th>...</th>\n",
       "      <th>...</th>\n",
       "      <td>...</td>\n",
       "      <td>...</td>\n",
       "      <td>...</td>\n",
       "      <td>...</td>\n",
       "      <td>...</td>\n",
       "      <td>...</td>\n",
       "      <td>...</td>\n",
       "      <td>...</td>\n",
       "    </tr>\n",
       "    <tr>\n",
       "      <th>55.0</th>\n",
       "      <th>196.0</th>\n",
       "      <th>year_mean</th>\n",
       "      <td>0.099483</td>\n",
       "      <td>0.013407</td>\n",
       "      <td>0.012322</td>\n",
       "      <td>22.662082</td>\n",
       "      <td>0.004984</td>\n",
       "      <td>478.871343</td>\n",
       "      <td>0.0</td>\n",
       "      <td>1.0</td>\n",
       "    </tr>\n",
       "    <tr>\n",
       "      <th rowspan=\"3\" valign=\"top\">55.5</th>\n",
       "      <th>195.0</th>\n",
       "      <th>year_mean</th>\n",
       "      <td>0.099483</td>\n",
       "      <td>0.013407</td>\n",
       "      <td>0.012322</td>\n",
       "      <td>22.662082</td>\n",
       "      <td>0.004984</td>\n",
       "      <td>478.871343</td>\n",
       "      <td>0.0</td>\n",
       "      <td>1.0</td>\n",
       "    </tr>\n",
       "    <tr>\n",
       "      <th>195.5</th>\n",
       "      <th>year_mean</th>\n",
       "      <td>0.099483</td>\n",
       "      <td>0.013407</td>\n",
       "      <td>0.012322</td>\n",
       "      <td>22.662082</td>\n",
       "      <td>0.004984</td>\n",
       "      <td>478.871343</td>\n",
       "      <td>0.0</td>\n",
       "      <td>1.0</td>\n",
       "    </tr>\n",
       "    <tr>\n",
       "      <th>196.0</th>\n",
       "      <th>year_mean</th>\n",
       "      <td>0.099483</td>\n",
       "      <td>0.013407</td>\n",
       "      <td>0.012322</td>\n",
       "      <td>22.662082</td>\n",
       "      <td>0.004984</td>\n",
       "      <td>478.871343</td>\n",
       "      <td>0.0</td>\n",
       "      <td>1.0</td>\n",
       "    </tr>\n",
       "    <tr>\n",
       "      <th>56.0</th>\n",
       "      <th>200.5</th>\n",
       "      <th>year_mean</th>\n",
       "      <td>0.096830</td>\n",
       "      <td>0.023118</td>\n",
       "      <td>0.023321</td>\n",
       "      <td>23.466146</td>\n",
       "      <td>0.004728</td>\n",
       "      <td>126.836885</td>\n",
       "      <td>0.0</td>\n",
       "      <td>1.0</td>\n",
       "    </tr>\n",
       "  </tbody>\n",
       "</table>\n",
       "<p>8339 rows × 8 columns</p>\n",
       "</div>"
      ],
      "text/plain": [
       "                       mu_season  sigma_season  ampl_season  phase_season  \\\n",
       "lat   lon   season                                                          \n",
       "-55.5 291.5 year_mean   0.092090      0.021445     0.024579     14.469723   \n",
       "      292.0 year_mean   0.092090      0.021445     0.024579     14.469723   \n",
       "-55.0 291.5 year_mean   0.092090      0.021445     0.024579     14.469723   \n",
       "      292.0 year_mean   0.092090      0.021445     0.024579     14.469723   \n",
       "-52.5 291.0 year_mean   0.056629      0.018162     0.017464     16.039107   \n",
       "...                          ...           ...          ...           ...   \n",
       " 55.0 196.0 year_mean   0.099483      0.013407     0.012322     22.662082   \n",
       " 55.5 195.0 year_mean   0.099483      0.013407     0.012322     22.662082   \n",
       "      195.5 year_mean   0.099483      0.013407     0.012322     22.662082   \n",
       "      196.0 year_mean   0.099483      0.013407     0.012322     22.662082   \n",
       " 56.0 200.5 year_mean   0.096830      0.023118     0.023321     23.466146   \n",
       "\n",
       "                       ampl_cov_season  phase_cov_season  land_sea_mask  \\\n",
       "lat   lon   season                                                        \n",
       "-55.5 291.5 year_mean         0.004253        102.711623            0.0   \n",
       "      292.0 year_mean         0.004253        102.711623            0.0   \n",
       "-55.0 291.5 year_mean         0.004253        102.711623            0.0   \n",
       "      292.0 year_mean         0.004253        102.711623            0.0   \n",
       "-52.5 291.0 year_mean         0.001622         77.614980            0.0   \n",
       "...                                ...               ...            ...   \n",
       " 55.0 196.0 year_mean         0.004984        478.871343            0.0   \n",
       " 55.5 195.0 year_mean         0.004984        478.871343            0.0   \n",
       "      195.5 year_mean         0.004984        478.871343            0.0   \n",
       "      196.0 year_mean         0.004984        478.871343            0.0   \n",
       " 56.0 200.5 year_mean         0.004728        126.836885            0.0   \n",
       "\n",
       "                       CI_mask  \n",
       "lat   lon   season              \n",
       "-55.5 291.5 year_mean      1.0  \n",
       "      292.0 year_mean      1.0  \n",
       "-55.0 291.5 year_mean      1.0  \n",
       "      292.0 year_mean      1.0  \n",
       "-52.5 291.0 year_mean      1.0  \n",
       "...                        ...  \n",
       " 55.0 196.0 year_mean      1.0  \n",
       " 55.5 195.0 year_mean      1.0  \n",
       "      195.5 year_mean      1.0  \n",
       "      196.0 year_mean      1.0  \n",
       " 56.0 200.5 year_mean      1.0  \n",
       "\n",
       "[8339 rows x 8 columns]"
      ]
     },
     "execution_count": 54,
     "metadata": {},
     "output_type": "execute_result"
    }
   ],
   "source": [
    "ocean_mean_3hr_masked"
   ]
  },
  {
   "cell_type": "code",
   "execution_count": 63,
   "metadata": {},
   "outputs": [],
   "source": [
    "# abs(((ds_30min - ds_3hr)/ds_30min))['ampl_season'].plot(vmax = 0.10)"
   ]
  },
  {
   "cell_type": "code",
   "execution_count": 10,
   "metadata": {},
   "outputs": [
    {
     "data": {
      "text/plain": [
       "<matplotlib.axes._subplots.AxesSubplot at 0x7f6db7cb50f0>"
      ]
     },
     "execution_count": 10,
     "metadata": {},
     "output_type": "execute_result"
    },
    {
     "data": {
      "image/png": "[encoded data removed]",
      "text/plain": [
       "<Figure size 432x288 with 1 Axes>"
      ]
     },
     "metadata": {
      "needs_background": "light"
     },
     "output_type": "display_data"
    }
   ],
   "source": [
    "diff['ampl_season'].hist(bins = 1000)"
   ]
  },
  {
   "cell_type": "code",
   "execution_count": 11,
   "metadata": {},
   "outputs": [
    {
     "data": {
      "text/plain": [
       "<matplotlib.axes._subplots.AxesSubplot at 0x7f6db87fdd30>"
      ]
     },
     "execution_count": 11,
     "metadata": {},
     "output_type": "execute_result"
    },
    {
     "data": {
      "image/png": "[encoded data removed]",
      "text/plain": [
       "<Figure size 432x288 with 1 Axes>"
      ]
     },
     "metadata": {
      "needs_background": "light"
     },
     "output_type": "display_data"
    }
   ],
   "source": [
    "diff['phase_season'].hist(bins = 1000)"
   ]
  },
  {
   "cell_type": "code",
   "execution_count": null,
   "metadata": {},
   "outputs": [],
   "source": []
  },
  {
   "cell_type": "code",
   "execution_count": null,
   "metadata": {},
   "outputs": [],
   "source": []
  },
  {
   "cell_type": "code",
   "execution_count": 16,
   "metadata": {},
   "outputs": [
    {
     "ename": "ValueError",
     "evalue": "operand to apply_ufunc has required core dimensions ['season'], but some of these dimensions are absent on an input variable: ['season']",
     "output_type": "error",
     "traceback": [
      "\u001b[0;31m---------------------------------------------------------------------------\u001b[0m",
      "\u001b[0;31mValueError\u001b[0m                                Traceback (most recent call last)",
      "\u001b[0;32m<ipython-input-16-cb9a8db953a4>\u001b[0m in \u001b[0;36m<module>\u001b[0;34m\u001b[0m\n\u001b[1;32m      7\u001b[0m \u001b[0;31m# open and preprocess gpm\u001b[0m\u001b[0;34m\u001b[0m\u001b[0;34m\u001b[0m\u001b[0;34m\u001b[0m\u001b[0m\n\u001b[1;32m      8\u001b[0m \u001b[0mdf_gpm_seasonal\u001b[0m \u001b[0;34m=\u001b[0m \u001b[0m_open_and_preprocess_gpm\u001b[0m\u001b[0;34m(\u001b[0m\u001b[0minput_data_dir_gpm\u001b[0m\u001b[0;34m,\u001b[0m \u001b[0mds_land_sea\u001b[0m\u001b[0;34m,\u001b[0m \u001b[0;32mFalse\u001b[0m\u001b[0;34m)\u001b[0m\u001b[0;34m\u001b[0m\u001b[0;34m\u001b[0m\u001b[0m\n\u001b[0;32m----> 9\u001b[0;31m \u001b[0mdf_gpm\u001b[0m \u001b[0;34m=\u001b[0m \u001b[0m_open_and_preprocess_gpm\u001b[0m\u001b[0;34m(\u001b[0m\u001b[0minput_data_dir_gpm\u001b[0m\u001b[0;34m,\u001b[0m \u001b[0mds_land_sea\u001b[0m\u001b[0;34m,\u001b[0m \u001b[0;32mTrue\u001b[0m\u001b[0;34m)\u001b[0m\u001b[0;34m\u001b[0m\u001b[0;34m\u001b[0m\u001b[0m\n\u001b[0m\u001b[1;32m     10\u001b[0m \u001b[0;34m\u001b[0m\u001b[0m\n\u001b[1;32m     11\u001b[0m \u001b[0;31m# get amplitude/mean in mm/hr\u001b[0m\u001b[0;34m\u001b[0m\u001b[0;34m\u001b[0m\u001b[0;34m\u001b[0m\u001b[0m\n",
      "\u001b[0;32m~/proj_tapio/diurnal_research/model_by_model_analysis_helper.py\u001b[0m in \u001b[0;36m_open_and_preprocess_gpm\u001b[0;34m(input_data_dir_gpm, ds_land_sea, yearly_mean_bool, fname)\u001b[0m\n\u001b[1;32m    184\u001b[0m         \u001b[0;31m#                                    kwargs = {'low' : 0.0, 'high' : 24.0},\u001b[0m\u001b[0;34m\u001b[0m\u001b[0;34m\u001b[0m\u001b[0;34m\u001b[0m\u001b[0m\n\u001b[1;32m    185\u001b[0m                                            \u001b[0minput_core_dims\u001b[0m\u001b[0;34m=\u001b[0m\u001b[0;34m[\u001b[0m\u001b[0;34m[\u001b[0m\u001b[0;34m\"season\"\u001b[0m\u001b[0;34m]\u001b[0m\u001b[0;34m]\u001b[0m\u001b[0;34m,\u001b[0m\u001b[0;34m\u001b[0m\u001b[0;34m\u001b[0m\u001b[0m\n\u001b[0;32m--> 186\u001b[0;31m                                            vectorize = True)\n\u001b[0m\u001b[1;32m    187\u001b[0m         \u001b[0;31m# compute yearly mean other data\u001b[0m\u001b[0;34m\u001b[0m\u001b[0;34m\u001b[0m\u001b[0;34m\u001b[0m\u001b[0m\n\u001b[1;32m    188\u001b[0m         \u001b[0mds_gpm\u001b[0m \u001b[0;34m=\u001b[0m \u001b[0mds_gpm\u001b[0m\u001b[0;34m.\u001b[0m\u001b[0mmean\u001b[0m\u001b[0;34m(\u001b[0m\u001b[0mdim\u001b[0m \u001b[0;34m=\u001b[0m \u001b[0;34m'season'\u001b[0m\u001b[0;34m)\u001b[0m\u001b[0;34m\u001b[0m\u001b[0;34m\u001b[0m\u001b[0m\n",
      "\u001b[0;32m~/.conda/envs/diurnal_research/lib/python3.6/site-packages/xarray/core/computation.py\u001b[0m in \u001b[0;36mapply_ufunc\u001b[0;34m(func, input_core_dims, output_core_dims, exclude_dims, vectorize, join, dataset_join, dataset_fill_value, keep_attrs, kwargs, dask, output_dtypes, output_sizes, meta, dask_gufunc_kwargs, *args)\u001b[0m\n\u001b[1;32m   1132\u001b[0m             \u001b[0mjoin\u001b[0m\u001b[0;34m=\u001b[0m\u001b[0mjoin\u001b[0m\u001b[0;34m,\u001b[0m\u001b[0;34m\u001b[0m\u001b[0;34m\u001b[0m\u001b[0m\n\u001b[1;32m   1133\u001b[0m             \u001b[0mexclude_dims\u001b[0m\u001b[0;34m=\u001b[0m\u001b[0mexclude_dims\u001b[0m\u001b[0;34m,\u001b[0m\u001b[0;34m\u001b[0m\u001b[0;34m\u001b[0m\u001b[0m\n\u001b[0;32m-> 1134\u001b[0;31m             \u001b[0mkeep_attrs\u001b[0m\u001b[0;34m=\u001b[0m\u001b[0mkeep_attrs\u001b[0m\u001b[0;34m,\u001b[0m\u001b[0;34m\u001b[0m\u001b[0;34m\u001b[0m\u001b[0m\n\u001b[0m\u001b[1;32m   1135\u001b[0m         )\n\u001b[1;32m   1136\u001b[0m     \u001b[0;31m# feed Variables directly through apply_variable_ufunc\u001b[0m\u001b[0;34m\u001b[0m\u001b[0;34m\u001b[0m\u001b[0;34m\u001b[0m\u001b[0m\n",
      "\u001b[0;32m~/.conda/envs/diurnal_research/lib/python3.6/site-packages/xarray/core/computation.py\u001b[0m in \u001b[0;36mapply_dataarray_vfunc\u001b[0;34m(func, signature, join, exclude_dims, keep_attrs, *args)\u001b[0m\n\u001b[1;32m    269\u001b[0m \u001b[0;34m\u001b[0m\u001b[0m\n\u001b[1;32m    270\u001b[0m     \u001b[0mdata_vars\u001b[0m \u001b[0;34m=\u001b[0m \u001b[0;34m[\u001b[0m\u001b[0mgetattr\u001b[0m\u001b[0;34m(\u001b[0m\u001b[0ma\u001b[0m\u001b[0;34m,\u001b[0m \u001b[0;34m\"variable\"\u001b[0m\u001b[0;34m,\u001b[0m \u001b[0ma\u001b[0m\u001b[0;34m)\u001b[0m \u001b[0;32mfor\u001b[0m \u001b[0ma\u001b[0m \u001b[0;32min\u001b[0m \u001b[0margs\u001b[0m\u001b[0;34m]\u001b[0m\u001b[0;34m\u001b[0m\u001b[0;34m\u001b[0m\u001b[0m\n\u001b[0;32m--> 271\u001b[0;31m     \u001b[0mresult_var\u001b[0m \u001b[0;34m=\u001b[0m \u001b[0mfunc\u001b[0m\u001b[0;34m(\u001b[0m\u001b[0;34m*\u001b[0m\u001b[0mdata_vars\u001b[0m\u001b[0;34m)\u001b[0m\u001b[0;34m\u001b[0m\u001b[0;34m\u001b[0m\u001b[0m\n\u001b[0m\u001b[1;32m    272\u001b[0m \u001b[0;34m\u001b[0m\u001b[0m\n\u001b[1;32m    273\u001b[0m     \u001b[0;32mif\u001b[0m \u001b[0msignature\u001b[0m\u001b[0;34m.\u001b[0m\u001b[0mnum_outputs\u001b[0m \u001b[0;34m>\u001b[0m \u001b[0;36m1\u001b[0m\u001b[0;34m:\u001b[0m\u001b[0;34m\u001b[0m\u001b[0;34m\u001b[0m\u001b[0m\n",
      "\u001b[0;32m~/.conda/envs/diurnal_research/lib/python3.6/site-packages/xarray/core/computation.py\u001b[0m in \u001b[0;36mapply_variable_ufunc\u001b[0;34m(func, signature, exclude_dims, dask, output_dtypes, vectorize, keep_attrs, dask_gufunc_kwargs, *args)\u001b[0m\n\u001b[1;32m    630\u001b[0m         \u001b[0;32mif\u001b[0m \u001b[0misinstance\u001b[0m\u001b[0;34m(\u001b[0m\u001b[0marg\u001b[0m\u001b[0;34m,\u001b[0m \u001b[0mVariable\u001b[0m\u001b[0;34m)\u001b[0m\u001b[0;34m\u001b[0m\u001b[0;34m\u001b[0m\u001b[0m\n\u001b[1;32m    631\u001b[0m         \u001b[0;32melse\u001b[0m \u001b[0marg\u001b[0m\u001b[0;34m\u001b[0m\u001b[0;34m\u001b[0m\u001b[0m\n\u001b[0;32m--> 632\u001b[0;31m         \u001b[0;32mfor\u001b[0m \u001b[0marg\u001b[0m\u001b[0;34m,\u001b[0m \u001b[0mcore_dims\u001b[0m \u001b[0;32min\u001b[0m \u001b[0mzip\u001b[0m\u001b[0;34m(\u001b[0m\u001b[0margs\u001b[0m\u001b[0;34m,\u001b[0m \u001b[0msignature\u001b[0m\u001b[0;34m.\u001b[0m\u001b[0minput_core_dims\u001b[0m\u001b[0;34m)\u001b[0m\u001b[0;34m\u001b[0m\u001b[0;34m\u001b[0m\u001b[0m\n\u001b[0m\u001b[1;32m    633\u001b[0m     ]\n\u001b[1;32m    634\u001b[0m \u001b[0;34m\u001b[0m\u001b[0m\n",
      "\u001b[0;32m~/.conda/envs/diurnal_research/lib/python3.6/site-packages/xarray/core/computation.py\u001b[0m in \u001b[0;36m<listcomp>\u001b[0;34m(.0)\u001b[0m\n\u001b[1;32m    630\u001b[0m         \u001b[0;32mif\u001b[0m \u001b[0misinstance\u001b[0m\u001b[0;34m(\u001b[0m\u001b[0marg\u001b[0m\u001b[0;34m,\u001b[0m \u001b[0mVariable\u001b[0m\u001b[0;34m)\u001b[0m\u001b[0;34m\u001b[0m\u001b[0;34m\u001b[0m\u001b[0m\n\u001b[1;32m    631\u001b[0m         \u001b[0;32melse\u001b[0m \u001b[0marg\u001b[0m\u001b[0;34m\u001b[0m\u001b[0;34m\u001b[0m\u001b[0m\n\u001b[0;32m--> 632\u001b[0;31m         \u001b[0;32mfor\u001b[0m \u001b[0marg\u001b[0m\u001b[0;34m,\u001b[0m \u001b[0mcore_dims\u001b[0m \u001b[0;32min\u001b[0m \u001b[0mzip\u001b[0m\u001b[0;34m(\u001b[0m\u001b[0margs\u001b[0m\u001b[0;34m,\u001b[0m \u001b[0msignature\u001b[0m\u001b[0;34m.\u001b[0m\u001b[0minput_core_dims\u001b[0m\u001b[0;34m)\u001b[0m\u001b[0;34m\u001b[0m\u001b[0;34m\u001b[0m\u001b[0m\n\u001b[0m\u001b[1;32m    633\u001b[0m     ]\n\u001b[1;32m    634\u001b[0m \u001b[0;34m\u001b[0m\u001b[0m\n",
      "\u001b[0;32m~/.conda/envs/diurnal_research/lib/python3.6/site-packages/xarray/core/computation.py\u001b[0m in \u001b[0;36mbroadcast_compat_data\u001b[0;34m(variable, broadcast_dims, core_dims)\u001b[0m\n\u001b[1;32m    555\u001b[0m             \u001b[0;34m\"operand to apply_ufunc has required core dimensions {}, but \"\u001b[0m\u001b[0;34m\u001b[0m\u001b[0;34m\u001b[0m\u001b[0m\n\u001b[1;32m    556\u001b[0m             \"some of these dimensions are absent on an input variable: {}\".format(\n\u001b[0;32m--> 557\u001b[0;31m                 \u001b[0mlist\u001b[0m\u001b[0;34m(\u001b[0m\u001b[0mcore_dims\u001b[0m\u001b[0;34m)\u001b[0m\u001b[0;34m,\u001b[0m \u001b[0mmissing_core_dims\u001b[0m\u001b[0;34m\u001b[0m\u001b[0;34m\u001b[0m\u001b[0m\n\u001b[0m\u001b[1;32m    558\u001b[0m             )\n\u001b[1;32m    559\u001b[0m         )\n",
      "\u001b[0;31mValueError\u001b[0m: operand to apply_ufunc has required core dimensions ['season'], but some of these dimensions are absent on an input variable: ['season']"
     ]
    }
   ],
   "source": [
    "%run model_by_model_analysis_helper.py\n",
    "\n",
    "# open dataset containing gpm means \n",
    "df_gpm_mean = xr.open_dataset(input_data_dir_gpm_mean_path).to_dataframe()\n",
    "df_gpm_mean = df_gpm_mean.rename({'precipitationCal': 'pr_mean'}, axis = 1)\n",
    "\n",
    "# open and preprocess gpm\n",
    "df_gpm_seasonal = _open_and_preprocess_gpm(input_data_dir_gpm, ds_land_sea, False)\n",
    "df_gpm = _open_and_preprocess_gpm(input_data_dir_gpm, ds_land_sea, True)\n",
    "\n",
    "# get amplitude/mean in mm/hr\n",
    "df_gpm.loc[:,'ampl_season'] = df_gpm['ampl_season'].apply(lambda x: x*MM_HR_TO_MM_DAY)\n",
    "df_gpm.loc[:,'mu_season'] = df_gpm['mu_season'].apply(lambda x: x*MM_HR_TO_MM_DAY)\n",
    "\n",
    "# merge in mean field\n",
    "df_gpm = pd.merge(df_gpm, df_gpm_mean, how = 'left', left_index = True, right_index = True)\n",
    "ds_gpm = xr.Dataset.from_dataframe(df_gpm)\n",
    "\n",
    "# df_gpm_seasonal.loc[:,'ampl_season'] = df_gpm_seasonal['ampl_season'].apply(lambda x: x*MM_HR_TO_MM_DAY)\n",
    "# df_gpm_seasonal.loc[:,'mu_season'] = df_gpm_seasonal['mu_season'].apply(lambda x: x*MM_HR_TO_MM_DAY)\n",
    "\n"
   ]
  },
  {
   "cell_type": "code",
   "execution_count": null,
   "metadata": {},
   "outputs": [],
   "source": []
  },
  {
   "cell_type": "code",
   "execution_count": null,
   "metadata": {},
   "outputs": [],
   "source": []
  }
 ],
 "metadata": {
  "kernelspec": {
   "display_name": "Python 3",
   "language": "python",
   "name": "python3"
  },
  "language_info": {
   "codemirror_mode": {
    "name": "ipython",
    "version": 3
   },
   "file_extension": ".py",
   "mimetype": "text/x-python",
   "name": "python",
   "nbconvert_exporter": "python",
   "pygments_lexer": "ipython3",
   "version": "3.6.10"
  }
 },
 "nbformat": 4,
 "nbformat_minor": 4
}
