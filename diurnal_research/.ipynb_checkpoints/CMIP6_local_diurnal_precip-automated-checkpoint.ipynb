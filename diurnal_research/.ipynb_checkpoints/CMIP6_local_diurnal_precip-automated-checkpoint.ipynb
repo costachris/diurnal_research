{
 "cells": [
  {
   "cell_type": "code",
   "execution_count": 18,
   "metadata": {},
   "outputs": [],
   "source": [
    "import os\n",
    "import xarray as xr\n",
    "import numpy as np\n",
    "import matplotlib.pyplot as plt\n",
    "from tqdm import tqdm\n",
    "\n",
    "import ephem\n",
    "from datetime import datetime, time, timedelta\n",
    "from scipy import optimize\n",
    "from mpl_toolkits.basemap import Basemap\n",
    "\n",
    "import diurnal_config\n",
    "\n",
    "from diurnal_utils import *\n",
    "from fetch_model_helper import *\n",
    "# %run fetch_model_helper.py"
   ]
  },
  {
   "cell_type": "markdown",
   "metadata": {},
   "source": [
    "# Notebook for exploring local CMIP6 data downloaded with `cmip6_downloader.py`"
   ]
  },
  {
   "cell_type": "code",
   "execution_count": 2,
   "metadata": {},
   "outputs": [],
   "source": [
    "cmip_identifier = 'CMIP6'\n",
    "start_date = '1985-01'\n",
    "# end_date = '1986-01'\n",
    "end_date = '2006-01'\n",
    "\n",
    "# cmip_identifier = 'CMIP5'\n",
    "# start_date = '1985-01'\n",
    "# end_date = '2006-01'\n",
    "\n",
    "#TODO overwrite_existing_files = False"
   ]
  },
  {
   "cell_type": "code",
   "execution_count": 22,
   "metadata": {},
   "outputs": [],
   "source": [
    "# get all available model names\n",
    "rel_cmip6_path= '/export/data1/cchristo/CMIP6_precip/pr_3hr_historical/'\n",
    "rel_cmip5_path = '/export/data1/cchristo/CMIP5_precip/pr_3hr_historical/'\n",
    "unique_cmip6_models = get_unique_models(rel_cmip6_path)\n",
    "unique_cmip5_models = get_unique_models(rel_cmip5_path)"
   ]
  },
  {
   "cell_type": "code",
   "execution_count": 19,
   "metadata": {},
   "outputs": [],
   "source": [
    "# unique_cmip6_models\n"
   ]
  },
  {
   "cell_type": "code",
   "execution_count": 8,
   "metadata": {},
   "outputs": [],
   "source": [
    "cmip6_model_names = diurnal_config.cmip6_to_cmip5_map.keys()\n",
    "cmip5_model_names = diurnal_config.cmip6_to_cmip5_map.values()\n",
    "\n",
    "\n",
    "\n",
    "if cmip_identifier == 'CMIP6':\n",
    "#     all_model_names = list(cmip6_model_names)\n",
    "    all_model_names = unique_cmip6_models\n",
    "    cmip_rel_dir = '/export/data1/cchristo/CMIP6_precip/pr_3hr_historical/'\n",
    "\n",
    "elif cmip_identifier == 'CMIP5':\n",
    "#     all_model_names = list(cmip5_model_names)\n",
    "    all_model_names = unique_cmip5_models\n",
    "    cmip_rel_dir = '/export/data1/cchristo/CMIP5_precip/pr_3hr_historical/'\n",
    "    \n"
   ]
  },
  {
   "cell_type": "code",
   "execution_count": 20,
   "metadata": {},
   "outputs": [],
   "source": [
    "# get_path_to_desired_model_cmip6(cmip_rel_dir, \n",
    "#                                   desired_model= 'CanESM5',\n",
    "#                                   desired_grid_types = ('gn', 'gr', 'gr1'))"
   ]
  },
  {
   "cell_type": "code",
   "execution_count": 4,
   "metadata": {},
   "outputs": [
    {
     "name": "stdout",
     "output_type": "stream",
     "text": [
      "Started...  GFDL-ESM4\n",
      "Opening data...\n"
     ]
    },
    {
     "name": "stderr",
     "output_type": "stream",
     "text": [
      "  4%|▍         | 40/968 [00:00<00:02, 399.68it/s]"
     ]
    },
    {
     "name": "stdout",
     "output_type": "stream",
     "text": [
      "Performing diurnal analysis... \n",
      "DJF\n"
     ]
    },
    {
     "name": "stderr",
     "output_type": "stream",
     "text": [
      "100%|██████████| 968/968 [00:02<00:00, 394.13it/s]\n",
      "100%|██████████| 968/968 [00:02<00:00, 400.66it/s]\n",
      "/home/cchristo/proj_tapio/diurnal_research/diurnal_utils.py:270: RuntimeWarning: Mean of empty slice\n",
      "  f_bar_k = np.nanmean(masked_field, axis = 0)\n",
      "  0%|          | 0/120 [00:00<?, ?it/s]"
     ]
    },
    {
     "name": "stdout",
     "output_type": "stream",
     "text": [
      "Performing Cos Fit\n"
     ]
    },
    {
     "name": "stderr",
     "output_type": "stream",
     "text": [
      "100%|██████████| 120/120 [06:22<00:00,  3.18s/it]\n",
      "  5%|▌         | 40/736 [00:00<00:01, 395.47it/s]"
     ]
    },
    {
     "name": "stdout",
     "output_type": "stream",
     "text": [
      "Finished Cos Fit\n",
      "JJA\n"
     ]
    },
    {
     "name": "stderr",
     "output_type": "stream",
     "text": [
      "100%|██████████| 736/736 [00:01<00:00, 409.22it/s]\n",
      "100%|██████████| 736/736 [00:01<00:00, 396.63it/s]\n",
      "/home/cchristo/proj_tapio/diurnal_research/diurnal_utils.py:270: RuntimeWarning: Mean of empty slice\n",
      "  f_bar_k = np.nanmean(masked_field, axis = 0)\n",
      "  0%|          | 0/120 [00:00<?, ?it/s]"
     ]
    },
    {
     "name": "stdout",
     "output_type": "stream",
     "text": [
      "Performing Cos Fit\n"
     ]
    },
    {
     "name": "stderr",
     "output_type": "stream",
     "text": [
      "100%|██████████| 120/120 [06:09<00:00,  3.08s/it]\n",
      "  6%|▌         | 42/736 [00:00<00:01, 419.13it/s]"
     ]
    },
    {
     "name": "stdout",
     "output_type": "stream",
     "text": [
      "Finished Cos Fit\n",
      "MAM\n"
     ]
    },
    {
     "name": "stderr",
     "output_type": "stream",
     "text": [
      "100%|██████████| 736/736 [00:01<00:00, 418.81it/s]\n",
      "100%|██████████| 736/736 [00:01<00:00, 411.58it/s]\n",
      "/home/cchristo/proj_tapio/diurnal_research/diurnal_utils.py:270: RuntimeWarning: Mean of empty slice\n",
      "  f_bar_k = np.nanmean(masked_field, axis = 0)\n",
      "  0%|          | 0/120 [00:00<?, ?it/s]"
     ]
    },
    {
     "name": "stdout",
     "output_type": "stream",
     "text": [
      "Performing Cos Fit\n"
     ]
    },
    {
     "name": "stderr",
     "output_type": "stream",
     "text": [
      "100%|██████████| 120/120 [06:11<00:00,  3.09s/it]\n",
      "  6%|▌         | 41/728 [00:00<00:01, 408.99it/s]"
     ]
    },
    {
     "name": "stdout",
     "output_type": "stream",
     "text": [
      "Finished Cos Fit\n",
      "SON\n"
     ]
    },
    {
     "name": "stderr",
     "output_type": "stream",
     "text": [
      "100%|██████████| 728/728 [00:01<00:00, 415.44it/s]\n",
      "100%|██████████| 728/728 [00:01<00:00, 394.22it/s]\n",
      "/home/cchristo/proj_tapio/diurnal_research/diurnal_utils.py:270: RuntimeWarning: Mean of empty slice\n",
      "  f_bar_k = np.nanmean(masked_field, axis = 0)\n",
      "  0%|          | 0/120 [00:00<?, ?it/s]"
     ]
    },
    {
     "name": "stdout",
     "output_type": "stream",
     "text": [
      "Performing Cos Fit\n"
     ]
    },
    {
     "name": "stderr",
     "output_type": "stream",
     "text": [
      "100%|██████████| 120/120 [06:21<00:00,  3.18s/it]"
     ]
    },
    {
     "name": "stdout",
     "output_type": "stream",
     "text": [
      "Finished Cos Fit\n",
      "Saving results... \n"
     ]
    },
    {
     "name": "stderr",
     "output_type": "stream",
     "text": [
      "\n"
     ]
    }
   ],
   "source": [
    "\n",
    "for model_name in list(all_model_names):\n",
    "    print('Started... ', model_name)\n",
    "    save_figs_dir = '/home/cchristo/proj_tapio/diurnal_research/figs/diurnal_cycle_figs/' + cmip_identifier + '/' + model_name + '/'\n",
    "    save_output_dir = '/export/data1/cchristo/diurnal_analysis_results/' + cmip_identifier + '/'+ model_name + '/'\n",
    "    \n",
    "    save_output_path = save_output_dir + start_date + '_' + end_date + '_precip.nc'\n",
    "    save_output_path_means = save_output_dir + start_date + '_' + end_date + '_precip_diurnal_means.nc'\n",
    "     # make dirs if they don't already exist\n",
    "    if not os.path.exists(save_figs_dir):\n",
    "        os.makedirs(save_figs_dir)\n",
    "\n",
    "    if not os.path.exists(save_output_dir):\n",
    "        os.makedirs(save_output_dir)\n",
    "    \n",
    "    # if files already exist, skip\n",
    "    if (not os.path.exists(save_output_path)) & \\\n",
    "        (not os.path.exists(save_output_path_means)):\n",
    "   \n",
    "        try:\n",
    "            #### Load data\n",
    "            if cmip_identifier == 'CMIP6':\n",
    "                path_to_cmip_files =  get_path_to_desired_model_cmip6(cmip_rel_dir, \n",
    "                                      desired_model= model_name,\n",
    "                                      desired_grid_types = ('gn', 'gr', 'gr1'))\n",
    "            elif cmip_identifier == 'CMIP5':\n",
    "                path_to_cmip_files = get_path_to_desired_model_cmip5(cmip_rel_dir, \n",
    "                                  desired_model=model_name)\n",
    "            # subset lat/lon and time\n",
    "            print('Opening data...')\n",
    "            ds = xr.open_mfdataset(path_to_cmip_files, combine='by_coords')\n",
    "            ds = ds.sel(time = slice(start_date, end_date))\n",
    "            ds = ds.sel(lat= slice(-60, 60))\n",
    "\n",
    "            # perform diurnal analysis \n",
    "            print('Performing diurnal analysis... ')\n",
    "            ds_sub = ds['pr'].to_dataset()\n",
    "\n",
    "            out_ds, out_ds_means = diurnal_analysis(ds_sub, \n",
    "                                                    field_id = 'pr', \n",
    "                                                    grid_time_resolution_hours = 3,\n",
    "                                                    time_resolution_hours = 1)\n",
    "\n",
    "            # save results \n",
    "            print('Saving results... ')\n",
    "            out_ds.to_netcdf(save_output_path)\n",
    "            out_ds_means.to_netcdf(save_output_path_means)\n",
    "            \n",
    "        except Exception as e:\n",
    "            print('Could not process ' + model_name)\n",
    "            print(e)\n",
    "\n",
    "print('DONE!')"
   ]
  },
  {
   "cell_type": "code",
   "execution_count": 8,
   "metadata": {},
   "outputs": [],
   "source": [
    "# average_cycle_season['DJF'].shape\n",
    "# dd = xr.DataArray()\n",
    "# dd.to_dataset(name = 'pr_mean')"
   ]
  },
  {
   "cell_type": "code",
   "execution_count": 29,
   "metadata": {},
   "outputs": [],
   "source": [
    "# path_to_cmip_files\n",
    "# stacked = np.stack(list(average_cycle_season.values()))\n",
    "# save_output_dir + start_date + '_' + end_date + '_precip.nc'"
   ]
  },
  {
   "cell_type": "code",
   "execution_count": 30,
   "metadata": {},
   "outputs": [],
   "source": [
    "# res = make_da_from_dict_time(average_cycle_season, ds, hour_bins)"
   ]
  },
  {
   "cell_type": "code",
   "execution_count": 31,
   "metadata": {},
   "outputs": [],
   "source": [
    "# print(stacked.shape)\n",
    "# # plt.plot(stacked[0,:,100,100])\n",
    "# plt.plot(average_cycle_season['DJF'][:,50,50])"
   ]
  },
  {
   "cell_type": "code",
   "execution_count": 32,
   "metadata": {},
   "outputs": [],
   "source": [
    "# res.isel(season = 0, lat = 50, lon = 50).plot()"
   ]
  },
  {
   "cell_type": "code",
   "execution_count": null,
   "metadata": {},
   "outputs": [],
   "source": []
  },
  {
   "cell_type": "code",
   "execution_count": 35,
   "metadata": {},
   "outputs": [],
   "source": [
    "FLUX_TO_MM_HR = 60*60"
   ]
  },
  {
   "cell_type": "code",
   "execution_count": 6,
   "metadata": {},
   "outputs": [],
   "source": [
    "# model_list = os.listdir(path_to_cmip_dirs)\n",
    "# print(model_list)\n",
    "# path_to_cmip_files = path_to_cmip_dirs + 'GFDL-CM4/'\n",
    "# file_list = os.listdir(path_to_cmip_files)\n",
    "# for file in file_list: print(file)\n"
   ]
  },
  {
   "cell_type": "code",
   "execution_count": 78,
   "metadata": {},
   "outputs": [],
   "source": [
    "\n",
    "# ds = xr.open_mfdataset(path_to_cmip_files, combine='by_coords')\n",
    "\n",
    "# # ds = ds.sel(time=slice('1986','2005'))\n",
    "# # ds = ds.sel(time = slice('2000-06', '2001-05'))\n",
    "# ds = ds.sel(time = slice('1999-01', '2015-01'))\n",
    "# ds = ds.sel(lat= slice(-60, 60))"
   ]
  },
  {
   "cell_type": "code",
   "execution_count": 77,
   "metadata": {},
   "outputs": [],
   "source": [
    "# ds_sub = ds['pr'].to_dataset()\n",
    "# mu_season, sigma_season, ampl_season, phase_season = diurnal_analysis(ds_sub, \n",
    "#                                                                       field_id = 'pr', \n",
    "#                                                                       grid_time_resolution_hours = 3,\n",
    "#                                                                       time_resolution_hours = 1)"
   ]
  },
  {
   "cell_type": "code",
   "execution_count": 76,
   "metadata": {},
   "outputs": [],
   "source": [
    "# mu_mm_hr = {key:FLUX_TO_MM_HR*val for key, val in mu_season.items()}\n",
    "# make_four_panel(mu_mm_hr, \n",
    "#                 lats = ds['lat'].values, \n",
    "#                 lons = ds['lon'].values,\n",
    "# #                 cmap = plt.get_cmap('bwr'),\n",
    "#                 cmap = plt.get_cmap('gist_ncar'),\n",
    "#                 vmin = 0,\n",
    "#                 vmax = 0.8,\n",
    "#                 title = r'$\\mu$',\n",
    "# #                 axis = plt.axis([220, 300, 10, 50]), \n",
    "#                 save_fig_path= save_figs_dir + 'GFDL_CM4_means_pr' + start_date + '_' + end_date +'.png')"
   ]
  },
  {
   "cell_type": "code",
   "execution_count": null,
   "metadata": {},
   "outputs": [],
   "source": []
  },
  {
   "cell_type": "code",
   "execution_count": 75,
   "metadata": {},
   "outputs": [],
   "source": [
    "# sigma_mm_hr = {key:FLUX_TO_MM_HR*val for key, val in sigma_season.items()}\n",
    "\n",
    "\n",
    "# make_four_panel(sigma_mm_hr , \n",
    "#                 lats = ds['lat'].values, \n",
    "#                 lons = ds['lon'].values,\n",
    "# #                 vmax = 0.1, \n",
    "#                 vmin = 0, vmax = 0.2, \n",
    "# #                 cmap = plt.get_cmap('bwr'),\n",
    "#                 cmap = plt.get_cmap('gist_ncar'),\n",
    "#                 title = r'$\\sigma$',\n",
    "# #                 axis = plt.axis([220, 300, 10, 50]), \n",
    "#                 save_fig_path= save_figs_dir + 'GFDL_CM4_stds_pr.png')"
   ]
  },
  {
   "cell_type": "code",
   "execution_count": 74,
   "metadata": {},
   "outputs": [],
   "source": [
    "# ampl_mm_hr = {key:FLUX_TO_MM_HR*val for key, val in ampl_season.items()}\n",
    "\n",
    "\n",
    "\n",
    "# make_four_panel(ampl_mm_hr, \n",
    "#                 lats = ds['lat'].values, \n",
    "#                 lons = ds['lon'].values,\n",
    "# #                 vmax = 0.000015, \n",
    "# #                 cmap = plt.get_cmap('bwr'),\n",
    "#                 vmin = 0, vmax = 0.2, \n",
    "#                 cmap = plt.get_cmap('gist_ncar'),\n",
    "#                 title = r'$A$',\n",
    "# #                 axis = plt.axis([220, 300, 10, 50]), \n",
    "#                 save_fig_path= save_figs_dir + 'GFDL_CM4_ampl_pr.png')"
   ]
  },
  {
   "cell_type": "code",
   "execution_count": 73,
   "metadata": {},
   "outputs": [],
   "source": [
    "# make_four_panel(phase_season , \n",
    "#                 lats = ds['lat'].values, \n",
    "#                 lons = ds['lon'].values,\n",
    "#                 vmin = 0, vmax = 24, \n",
    "#                 cmap = plt.get_cmap('twilight'),\n",
    "#                 title = r'$\\Phi$',\n",
    "# #                 axis = plt.axis([220, 300, 10, 50]), \n",
    "#                 save_fig_path= save_figs_dir + 'GFDL_CM4_phase_pr.png')"
   ]
  },
  {
   "cell_type": "code",
   "execution_count": 71,
   "metadata": {},
   "outputs": [],
   "source": [
    "# out_ds = xr.Dataset()\n",
    "# out_ds['mu_season'] = make_da_from_dict(mu_season, ds)\n",
    "# out_ds['sigma_season'] = make_da_from_dict(sigma_season,ds)\n",
    "# out_ds['ampl_season'] = make_da_from_dict(ampl_season, ds)\n",
    "# out_ds['phase_season'] = make_da_from_dict(phase_season,ds)\n",
    "# out_ds.to_netcdf(save_output_dir + 'gfdl_cm4_2000_2010_precip.nc')"
   ]
  },
  {
   "cell_type": "code",
   "execution_count": 72,
   "metadata": {},
   "outputs": [],
   "source": [
    "# out_ds.to_netcdf(save_output_dir + 'gfdl_cm4_2000_2010_precip.nc')"
   ]
  }
 ],
 "metadata": {
  "kernelspec": {
   "display_name": "Python 3",
   "language": "python",
   "name": "python3"
  },
  "language_info": {
   "codemirror_mode": {
    "name": "ipython",
    "version": 3
   },
   "file_extension": ".py",
   "mimetype": "text/x-python",
   "name": "python",
   "nbconvert_exporter": "python",
   "pygments_lexer": "ipython3",
   "version": "3.6.10"
  }
 },
 "nbformat": 4,
 "nbformat_minor": 4
}
