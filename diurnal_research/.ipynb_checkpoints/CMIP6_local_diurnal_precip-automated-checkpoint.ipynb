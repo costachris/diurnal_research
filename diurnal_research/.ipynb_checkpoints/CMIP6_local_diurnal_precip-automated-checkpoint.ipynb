{
 "cells": [
  {
   "cell_type": "code",
   "execution_count": 14,
   "metadata": {},
   "outputs": [],
   "source": [
    "import os\n",
    "import xarray as xr\n",
    "import numpy as np\n",
    "import matplotlib.pyplot as plt\n",
    "from tqdm import tqdm\n",
    "\n",
    "import ephem\n",
    "from datetime import datetime, time, timedelta\n",
    "from scipy import optimize\n",
    "from mpl_toolkits.basemap import Basemap\n",
    "\n",
    "import diurnal_config\n",
    "\n",
    "from diurnal_utils import *\n",
    "from fetch_model_helper import *\n",
    "# %run fetch_model_helper.py"
   ]
  },
  {
   "cell_type": "markdown",
   "metadata": {},
   "source": [
    "# Notebook for exploring local CMIP6 data downloaded with `cmip6_downloader.py`"
   ]
  },
  {
   "cell_type": "code",
   "execution_count": 15,
   "metadata": {},
   "outputs": [],
   "source": [
    "out_folder_identifier = 'bin_pt2_hr_round_gpm_overlap' #label to append to output path\n",
    "skip_if_folder_exists =  True # used for processing models in parallel\n",
    "\n",
    "\n",
    "\n",
    "# cmip_identifier = 'CMIP6'\n",
    "# start_date = '1985-01'\n",
    "# end_date = '2006-01'\n",
    "\n",
    "\n",
    "cmip_identifier = 'CMIP6'\n",
    "start_date = '2000-01'\n",
    "end_date = '2015-01'\n",
    "\n",
    "# cmip_identifier = 'CMIP5'\n",
    "# start_date = '1985-01'\n",
    "# end_date = '2006-01'\n",
    "\n",
    "#TODO overwrite_existing_files = False"
   ]
  },
  {
   "cell_type": "code",
   "execution_count": 16,
   "metadata": {},
   "outputs": [],
   "source": [
    "# get all available model names\n",
    "rel_cmip6_path= '/export/data1/cchristo/CMIP6_precip/pr_3hr_historical/'\n",
    "rel_cmip5_path = '/export/data1/cchristo/CMIP5_precip/pr_3hr_historical/'\n",
    "unique_cmip6_models = get_unique_models(rel_cmip6_path)\n",
    "unique_cmip5_models = get_unique_models(rel_cmip5_path)"
   ]
  },
  {
   "cell_type": "code",
   "execution_count": 35,
   "metadata": {},
   "outputs": [],
   "source": [
    "# unique_cmip6_models\n",
    "# unique_cmip6_models\n",
    "# len(unique_cmip6_models)"
   ]
  },
  {
   "cell_type": "code",
   "execution_count": 4,
   "metadata": {},
   "outputs": [],
   "source": [
    "\n",
    "\n",
    "if cmip_identifier == 'CMIP6':\n",
    "    all_model_names = unique_cmip6_models\n",
    "    cmip_rel_dir = rel_cmip6_path\n",
    "\n",
    "elif cmip_identifier == 'CMIP5':\n",
    "    all_model_names = unique_cmip5_models\n",
    "    cmip_rel_dir = rel_cmip5_path\n",
    "    \n"
   ]
  },
  {
   "cell_type": "code",
   "execution_count": 5,
   "metadata": {},
   "outputs": [
    {
     "data": {
      "text/plain": [
       "['IPSL-CM6A-LR']"
      ]
     },
     "execution_count": 5,
     "metadata": {},
     "output_type": "execute_result"
    }
   ],
   "source": [
    "# get_path_to_desired_model_cmip6(cmip_rel_dir, \n",
    "#                                   desired_model= 'CanESM5',\n",
    "#                                   desired_grid_types = ('gn', 'gr', 'gr1'))\n",
    "# list(all_model_names)\n",
    "# all_model_names = ['IPSL-CM6A-LR',]\n",
    "# all_model_names"
   ]
  },
  {
   "cell_type": "code",
   "execution_count": 7,
   "metadata": {},
   "outputs": [
    {
     "name": "stdout",
     "output_type": "stream",
     "text": [
      "Started...  IPSL-CM6A-LR\n",
      "Opening data...\n",
      "Performing diurnal analysis... \n",
      "DJF\n"
     ]
    },
    {
     "name": "stderr",
     "output_type": "stream",
     "text": [
      "100%|██████████| 15408/15408 [00:16<00:00, 923.14it/s]\n",
      "/home/cchristo/proj_tapio/diurnal_research/diurnal_utils.py:325: RuntimeWarning: Mean of empty slice\n",
      "  f_bar_k = np.nanmean(masked_field, axis = 0)\n",
      "/home/cchristo/proj_tapio/diurnal_research/diurnal_utils.py:343: RuntimeWarning: Mean of empty slice\n",
      "  f_bar_k = np.nanmean(masked_field, axis = 0)\n",
      "100%|██████████| 15408/15408 [00:17<00:00, 869.87it/s]\n",
      "/home/cchristo/proj_tapio/diurnal_research/diurnal_utils.py:374: RuntimeWarning: Mean of empty slice\n",
      "  f_bar_k = np.nanmean(masked_field, axis = 0)\n",
      "  1%|          | 1/95 [00:00<00:13,  6.91it/s]"
     ]
    },
    {
     "name": "stdout",
     "output_type": "stream",
     "text": [
      "Performing Cos Fit\n"
     ]
    },
    {
     "name": "stderr",
     "output_type": "stream",
     "text": [
      " 59%|█████▉    | 56/95 [00:07<00:05,  7.39it/s]/home/cchristo/.conda/envs/diurnal_research/lib/python3.6/site-packages/scipy/optimize/minpack.py:808: OptimizeWarning: Covariance of the parameters could not be estimated\n",
      "  category=OptimizeWarning)\n",
      "100%|██████████| 95/95 [00:12<00:00,  7.31it/s]\n"
     ]
    },
    {
     "name": "stdout",
     "output_type": "stream",
     "text": [
      "New!\n",
      "Finished Cos Fit\n",
      "JJA\n"
     ]
    },
    {
     "name": "stderr",
     "output_type": "stream",
     "text": [
      "100%|██████████| 15456/15456 [00:16<00:00, 947.00it/s]\n",
      "/home/cchristo/proj_tapio/diurnal_research/diurnal_utils.py:325: RuntimeWarning: Mean of empty slice\n",
      "  f_bar_k = np.nanmean(masked_field, axis = 0)\n",
      "/home/cchristo/proj_tapio/diurnal_research/diurnal_utils.py:343: RuntimeWarning: Mean of empty slice\n",
      "  f_bar_k = np.nanmean(masked_field, axis = 0)\n",
      "100%|██████████| 15456/15456 [00:17<00:00, 884.46it/s]\n",
      "/home/cchristo/proj_tapio/diurnal_research/diurnal_utils.py:374: RuntimeWarning: Mean of empty slice\n",
      "  f_bar_k = np.nanmean(masked_field, axis = 0)\n",
      "  1%|          | 1/95 [00:00<00:12,  7.29it/s]"
     ]
    },
    {
     "name": "stdout",
     "output_type": "stream",
     "text": [
      "Performing Cos Fit\n"
     ]
    },
    {
     "name": "stderr",
     "output_type": "stream",
     "text": [
      " 59%|█████▉    | 56/95 [00:07<00:05,  7.42it/s]/home/cchristo/.conda/envs/diurnal_research/lib/python3.6/site-packages/scipy/optimize/minpack.py:808: OptimizeWarning: Covariance of the parameters could not be estimated\n",
      "  category=OptimizeWarning)\n",
      "100%|██████████| 95/95 [00:12<00:00,  7.42it/s]\n"
     ]
    },
    {
     "name": "stdout",
     "output_type": "stream",
     "text": [
      "New!\n",
      "Finished Cos Fit\n",
      "MAM\n"
     ]
    },
    {
     "name": "stderr",
     "output_type": "stream",
     "text": [
      "100%|██████████| 15456/15456 [00:15<00:00, 969.76it/s]\n",
      "/home/cchristo/proj_tapio/diurnal_research/diurnal_utils.py:325: RuntimeWarning: Mean of empty slice\n",
      "  f_bar_k = np.nanmean(masked_field, axis = 0)\n",
      "/home/cchristo/proj_tapio/diurnal_research/diurnal_utils.py:343: RuntimeWarning: Mean of empty slice\n",
      "  f_bar_k = np.nanmean(masked_field, axis = 0)\n",
      "100%|██████████| 15456/15456 [00:17<00:00, 892.01it/s]\n",
      "/home/cchristo/proj_tapio/diurnal_research/diurnal_utils.py:374: RuntimeWarning: Mean of empty slice\n",
      "  f_bar_k = np.nanmean(masked_field, axis = 0)\n",
      "  1%|          | 1/95 [00:00<00:12,  7.24it/s]"
     ]
    },
    {
     "name": "stdout",
     "output_type": "stream",
     "text": [
      "Performing Cos Fit\n"
     ]
    },
    {
     "name": "stderr",
     "output_type": "stream",
     "text": [
      " 63%|██████▎   | 60/95 [00:08<00:04,  7.35it/s]/home/cchristo/.conda/envs/diurnal_research/lib/python3.6/site-packages/scipy/optimize/minpack.py:808: OptimizeWarning: Covariance of the parameters could not be estimated\n",
      "  category=OptimizeWarning)\n",
      "100%|██████████| 95/95 [00:13<00:00,  7.28it/s]\n"
     ]
    },
    {
     "name": "stdout",
     "output_type": "stream",
     "text": [
      "New!\n",
      "Finished Cos Fit\n",
      "SON\n"
     ]
    },
    {
     "name": "stderr",
     "output_type": "stream",
     "text": [
      "100%|██████████| 15288/15288 [00:16<00:00, 936.34it/s]\n",
      "/home/cchristo/proj_tapio/diurnal_research/diurnal_utils.py:325: RuntimeWarning: Mean of empty slice\n",
      "  f_bar_k = np.nanmean(masked_field, axis = 0)\n",
      "/home/cchristo/proj_tapio/diurnal_research/diurnal_utils.py:343: RuntimeWarning: Mean of empty slice\n",
      "  f_bar_k = np.nanmean(masked_field, axis = 0)\n",
      "100%|██████████| 15288/15288 [00:17<00:00, 878.13it/s]\n",
      "/home/cchristo/proj_tapio/diurnal_research/diurnal_utils.py:374: RuntimeWarning: Mean of empty slice\n",
      "  f_bar_k = np.nanmean(masked_field, axis = 0)\n",
      "  1%|          | 1/95 [00:00<00:13,  7.19it/s]"
     ]
    },
    {
     "name": "stdout",
     "output_type": "stream",
     "text": [
      "Performing Cos Fit\n"
     ]
    },
    {
     "name": "stderr",
     "output_type": "stream",
     "text": [
      "100%|██████████| 95/95 [00:13<00:00,  7.20it/s]\n"
     ]
    },
    {
     "name": "stdout",
     "output_type": "stream",
     "text": [
      "New!\n",
      "Finished Cos Fit\n",
      "Saving results... \n",
      "DONE!\n"
     ]
    }
   ],
   "source": [
    "\n",
    "for model_name in list(all_model_names):\n",
    "    print('Started... ', model_name)\n",
    "\n",
    "    save_output_dir = '/export/data1/cchristo/diurnal_analysis_results/' + \\\n",
    "        cmip_identifier + '_'+ out_folder_identifier + '/' + model_name + '/'\n",
    "    \n",
    "    save_output_path = save_output_dir + start_date + '_' + end_date + '_precip.nc'\n",
    "    save_output_path_means = save_output_dir + start_date + '_' + end_date + '_precip_diurnal_means.nc'\n",
    "    \n",
    "    # skip folder if it's already been created (another script may be processing it)\n",
    "    skip_model_iteration = False\n",
    "    if skip_if_folder_exists & os.path.exists(save_output_dir):\n",
    "        skip_model_iteration = True\n",
    "\n",
    "    else:\n",
    "         # make dirs if they don't already exist\n",
    "        if not os.path.exists(save_output_dir):\n",
    "            os.makedirs(save_output_dir)\n",
    "    \n",
    "    # if files already exist, skip\n",
    "    if (not os.path.exists(save_output_path)) & \\\n",
    "        (not os.path.exists(save_output_path_means)) & \\\n",
    "        (not skip_model_iteration):\n",
    "   \n",
    "        try:\n",
    "            #### Load data\n",
    "            if cmip_identifier == 'CMIP6':\n",
    "                path_to_cmip_files =  get_path_to_desired_model_cmip6(cmip_rel_dir, \n",
    "                                      desired_model= model_name,\n",
    "                                      desired_ensemble_member = ('r1i1p1f1', 'r1i1p2f1','r1i1p1f2'),\n",
    "                                      desired_grid_types = ('gn', 'gr', 'gr1', 'gr2'))\n",
    "            elif cmip_identifier == 'CMIP5':\n",
    "                path_to_cmip_files = get_path_to_desired_model_cmip5(cmip_rel_dir, \n",
    "                                  desired_model=model_name,\n",
    "                                  desired_ensemble_member = ('r1i1p1','r6i1p1','r2i1p1'))\n",
    "            # subset lat/lon and time\n",
    "            print('Opening data...')\n",
    "            ds = xr.open_mfdataset(path_to_cmip_files, combine='by_coords')\n",
    "            ds = ds.sel(time = slice(start_date, end_date))\n",
    "            ds = ds.sel(lat= slice(-60, 60))\n",
    "\n",
    "            # perform diurnal analysis \n",
    "            print('Performing diurnal analysis... ')\n",
    "            ds_sub = ds['pr'].to_dataset()\n",
    "\n",
    "            out_ds, out_ds_means = diurnal_analysis(ds_sub, \n",
    "                                                    field_id = 'pr', \n",
    "                                                    grid_time_resolution_hours = 3,\n",
    "                                                    time_resolution_hours = 0.2)\n",
    "#             # add some metadata \n",
    "            out_ds.attrs['input_dataset_paths'] = path_to_cmip_files\n",
    "            out_ds_means.attrs['input_dataset_paths'] = path_to_cmip_files\n",
    "            \n",
    "            # save results \n",
    "            print('Saving results... ')\n",
    "            out_ds.to_netcdf(save_output_path)\n",
    "            out_ds_means.to_netcdf(save_output_path_means)\n",
    "            \n",
    "        except Exception as e:\n",
    "            print('Could not process ' + model_name)\n",
    "            print(e)\n",
    "\n",
    "print('DONE!')"
   ]
  },
  {
   "cell_type": "code",
   "execution_count": 12,
   "metadata": {},
   "outputs": [
    {
     "data": {
      "text/plain": [
       "'/export/data1/cchristo/diurnal_analysis_results/CMIP6_bin_pt2_hr/IPSL-CM6A-LR/1985-01_2006-01_precip.nc'"
      ]
     },
     "execution_count": 12,
     "metadata": {},
     "output_type": "execute_result"
    }
   ],
   "source": [
    "# ds.isel(time = 0)['time'].values.item()"
   ]
  },
  {
   "cell_type": "code",
   "execution_count": 112,
   "metadata": {},
   "outputs": [],
   "source": [
    "# %run fetch_model_helper.py\n",
    "# path_to_cmip_files =  get_path_to_desired_model_cmip6(cmip_rel_dir, \n",
    "#                                       desired_model= 'EC-Earth3-Veg-LR', #model_name,\n",
    "#                                       desired_ensemble_member = ('r1i1p1f1', 'r1i1p2f1','r1i1p1f2'),\n",
    "#                                       desired_grid_types = ('gn', 'gr', 'gr1', 'gr2'))"
   ]
  },
  {
   "cell_type": "code",
   "execution_count": 101,
   "metadata": {},
   "outputs": [],
   "source": [
    "# path_to_cmip_files\n",
    "# stacked = np.stack(list(average_cycle_season.values()))\n",
    "# save_output_dir + start_date + '_' + end_date + '_precip.nc'"
   ]
  },
  {
   "cell_type": "code",
   "execution_count": 102,
   "metadata": {},
   "outputs": [],
   "source": [
    "# print(stacked.shape)\n",
    "# # plt.plot(stacked[0,:,100,100])\n",
    "# plt.plot(average_cycle_season['DJF'][:,50,50])"
   ]
  },
  {
   "cell_type": "code",
   "execution_count": 32,
   "metadata": {},
   "outputs": [],
   "source": [
    "# res.isel(season = 0, lat = 50, lon = 50).plot()"
   ]
  },
  {
   "cell_type": "code",
   "execution_count": null,
   "metadata": {},
   "outputs": [],
   "source": []
  },
  {
   "cell_type": "code",
   "execution_count": 35,
   "metadata": {},
   "outputs": [],
   "source": [
    "# FLUX_TO_MM_HR = 60*60"
   ]
  },
  {
   "cell_type": "code",
   "execution_count": 6,
   "metadata": {},
   "outputs": [],
   "source": [
    "# model_list = os.listdir(path_to_cmip_dirs)\n",
    "# print(model_list)\n",
    "# path_to_cmip_files = path_to_cmip_dirs + 'GFDL-CM4/'\n",
    "# file_list = os.listdir(path_to_cmip_files)\n",
    "# for file in file_list: print(file)\n"
   ]
  },
  {
   "cell_type": "code",
   "execution_count": 78,
   "metadata": {},
   "outputs": [],
   "source": [
    "\n",
    "# ds = xr.open_mfdataset(path_to_cmip_files, combine='by_coords')\n",
    "\n",
    "# # ds = ds.sel(time=slice('1986','2005'))\n",
    "# # ds = ds.sel(time = slice('2000-06', '2001-05'))\n",
    "# ds = ds.sel(time = slice('1999-01', '2015-01'))\n",
    "# ds = ds.sel(lat= slice(-60, 60))"
   ]
  },
  {
   "cell_type": "code",
   "execution_count": 77,
   "metadata": {},
   "outputs": [],
   "source": [
    "# ds_sub = ds['pr'].to_dataset()\n",
    "# mu_season, sigma_season, ampl_season, phase_season = diurnal_analysis(ds_sub, \n",
    "#                                                                       field_id = 'pr', \n",
    "#                                                                       grid_time_resolution_hours = 3,\n",
    "#                                                                       time_resolution_hours = 1)"
   ]
  },
  {
   "cell_type": "code",
   "execution_count": 76,
   "metadata": {},
   "outputs": [],
   "source": [
    "# mu_mm_hr = {key:FLUX_TO_MM_HR*val for key, val in mu_season.items()}\n",
    "# make_four_panel(mu_mm_hr, \n",
    "#                 lats = ds['lat'].values, \n",
    "#                 lons = ds['lon'].values,\n",
    "# #                 cmap = plt.get_cmap('bwr'),\n",
    "#                 cmap = plt.get_cmap('gist_ncar'),\n",
    "#                 vmin = 0,\n",
    "#                 vmax = 0.8,\n",
    "#                 title = r'$\\mu$',\n",
    "# #                 axis = plt.axis([220, 300, 10, 50]), \n",
    "#                 save_fig_path= save_figs_dir + 'GFDL_CM4_means_pr' + start_date + '_' + end_date +'.png')"
   ]
  },
  {
   "cell_type": "code",
   "execution_count": null,
   "metadata": {},
   "outputs": [],
   "source": []
  },
  {
   "cell_type": "code",
   "execution_count": 75,
   "metadata": {},
   "outputs": [],
   "source": [
    "# sigma_mm_hr = {key:FLUX_TO_MM_HR*val for key, val in sigma_season.items()}\n",
    "\n",
    "\n",
    "# make_four_panel(sigma_mm_hr , \n",
    "#                 lats = ds['lat'].values, \n",
    "#                 lons = ds['lon'].values,\n",
    "# #                 vmax = 0.1, \n",
    "#                 vmin = 0, vmax = 0.2, \n",
    "# #                 cmap = plt.get_cmap('bwr'),\n",
    "#                 cmap = plt.get_cmap('gist_ncar'),\n",
    "#                 title = r'$\\sigma$',\n",
    "# #                 axis = plt.axis([220, 300, 10, 50]), \n",
    "#                 save_fig_path= save_figs_dir + 'GFDL_CM4_stds_pr.png')"
   ]
  },
  {
   "cell_type": "code",
   "execution_count": 74,
   "metadata": {},
   "outputs": [],
   "source": [
    "# ampl_mm_hr = {key:FLUX_TO_MM_HR*val for key, val in ampl_season.items()}\n",
    "\n",
    "\n",
    "\n",
    "# make_four_panel(ampl_mm_hr, \n",
    "#                 lats = ds['lat'].values, \n",
    "#                 lons = ds['lon'].values,\n",
    "# #                 vmax = 0.000015, \n",
    "# #                 cmap = plt.get_cmap('bwr'),\n",
    "#                 vmin = 0, vmax = 0.2, \n",
    "#                 cmap = plt.get_cmap('gist_ncar'),\n",
    "#                 title = r'$A$',\n",
    "# #                 axis = plt.axis([220, 300, 10, 50]), \n",
    "#                 save_fig_path= save_figs_dir + 'GFDL_CM4_ampl_pr.png')"
   ]
  },
  {
   "cell_type": "code",
   "execution_count": 73,
   "metadata": {},
   "outputs": [],
   "source": [
    "# make_four_panel(phase_season , \n",
    "#                 lats = ds['lat'].values, \n",
    "#                 lons = ds['lon'].values,\n",
    "#                 vmin = 0, vmax = 24, \n",
    "#                 cmap = plt.get_cmap('twilight'),\n",
    "#                 title = r'$\\Phi$',\n",
    "# #                 axis = plt.axis([220, 300, 10, 50]), \n",
    "#                 save_fig_path= save_figs_dir + 'GFDL_CM4_phase_pr.png')"
   ]
  },
  {
   "cell_type": "code",
   "execution_count": 71,
   "metadata": {},
   "outputs": [],
   "source": [
    "# out_ds = xr.Dataset()\n",
    "# out_ds['mu_season'] = make_da_from_dict(mu_season, ds)\n",
    "# out_ds['sigma_season'] = make_da_from_dict(sigma_season,ds)\n",
    "# out_ds['ampl_season'] = make_da_from_dict(ampl_season, ds)\n",
    "# out_ds['phase_season'] = make_da_from_dict(phase_season,ds)\n",
    "# out_ds.to_netcdf(save_output_dir + 'gfdl_cm4_2000_2010_precip.nc')"
   ]
  },
  {
   "cell_type": "code",
   "execution_count": 72,
   "metadata": {},
   "outputs": [],
   "source": [
    "# out_ds.to_netcdf(save_output_dir + 'gfdl_cm4_2000_2010_precip.nc')"
   ]
  }
 ],
 "metadata": {
  "kernelspec": {
   "display_name": "Python 3",
   "language": "python",
   "name": "python3"
  },
  "language_info": {
   "codemirror_mode": {
    "name": "ipython",
    "version": 3
   },
   "file_extension": ".py",
   "mimetype": "text/x-python",
   "name": "python",
   "nbconvert_exporter": "python",
   "pygments_lexer": "ipython3",
   "version": "3.6.10"
  }
 },
 "nbformat": 4,
 "nbformat_minor": 4
}
