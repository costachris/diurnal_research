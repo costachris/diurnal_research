{
 "cells": [
  {
   "cell_type": "code",
   "execution_count": 1,
   "metadata": {},
   "outputs": [],
   "source": [
    "import os\n",
    "import xarray as xr\n",
    "import numpy as np\n",
    "import matplotlib.pyplot as plt\n",
    "import seaborn as sns\n",
    "import scipy.stats\n",
    "%run model_by_model_analysis_helper.py"
   ]
  },
  {
   "cell_type": "code",
   "execution_count": 2,
   "metadata": {},
   "outputs": [],
   "source": [
    "# save_output_path = '/export/data1/cchristo/diurnal_analysis_results/GPM_bin_pt2_hr_15_yr_round_2_mode_year_mean_bootstrap_1yr_final_means/2000-06_2016-06_precip.nc'\n",
    "\n",
    "save_output_path = '/export/data1/cchristo/diurnal_analysis_results/GPM_final_paper_v1/combined/'"
   ]
  },
  {
   "cell_type": "code",
   "execution_count": 3,
   "metadata": {},
   "outputs": [
    {
     "data": {
      "text/html": [
       "<div><svg style=\"position: absolute; width: 0; height: 0; overflow: hidden\">\n",
       "<defs>\n",
       "<symbol id=\"icon-database\" viewBox=\"0 0 32 32\">\n",
       "<path d=\"M16 0c-8.837 0-16 2.239-16 5v4c0 2.761 7.163 5 16 5s16-2.239 16-5v-4c0-2.761-7.163-5-16-5z\"></path>\n",
       "<path d=\"M16 17c-8.837 0-16-2.239-16-5v6c0 2.761 7.163 5 16 5s16-2.239 16-5v-6c0 2.761-7.163 5-16 5z\"></path>\n",
       "<path d=\"M16 26c-8.837 0-16-2.239-16-5v6c0 2.761 7.163 5 16 5s16-2.239 16-5v-6c0 2.761-7.163 5-16 5z\"></path>\n",
       "</symbol>\n",
       "<symbol id=\"icon-file-text2\" viewBox=\"0 0 32 32\">\n",
       "<path d=\"M28.681 7.159c-0.694-0.947-1.662-2.053-2.724-3.116s-2.169-2.030-3.116-2.724c-1.612-1.182-2.393-1.319-2.841-1.319h-15.5c-1.378 0-2.5 1.121-2.5 2.5v27c0 1.378 1.122 2.5 2.5 2.5h23c1.378 0 2.5-1.122 2.5-2.5v-19.5c0-0.448-0.137-1.23-1.319-2.841zM24.543 5.457c0.959 0.959 1.712 1.825 2.268 2.543h-4.811v-4.811c0.718 0.556 1.584 1.309 2.543 2.268zM28 29.5c0 0.271-0.229 0.5-0.5 0.5h-23c-0.271 0-0.5-0.229-0.5-0.5v-27c0-0.271 0.229-0.5 0.5-0.5 0 0 15.499-0 15.5 0v7c0 0.552 0.448 1 1 1h7v19.5z\"></path>\n",
       "<path d=\"M23 26h-14c-0.552 0-1-0.448-1-1s0.448-1 1-1h14c0.552 0 1 0.448 1 1s-0.448 1-1 1z\"></path>\n",
       "<path d=\"M23 22h-14c-0.552 0-1-0.448-1-1s0.448-1 1-1h14c0.552 0 1 0.448 1 1s-0.448 1-1 1z\"></path>\n",
       "<path d=\"M23 18h-14c-0.552 0-1-0.448-1-1s0.448-1 1-1h14c0.552 0 1 0.448 1 1s-0.448 1-1 1z\"></path>\n",
       "</symbol>\n",
       "</defs>\n",
       "</svg>\n",
       "<style>/* CSS stylesheet for displaying xarray objects in jupyterlab.\n",
       " *\n",
       " */\n",
       "\n",
       ":root {\n",
       "  --xr-font-color0: var(--jp-content-font-color0, rgba(0, 0, 0, 1));\n",
       "  --xr-font-color2: var(--jp-content-font-color2, rgba(0, 0, 0, 0.54));\n",
       "  --xr-font-color3: var(--jp-content-font-color3, rgba(0, 0, 0, 0.38));\n",
       "  --xr-border-color: var(--jp-border-color2, #e0e0e0);\n",
       "  --xr-disabled-color: var(--jp-layout-color3, #bdbdbd);\n",
       "  --xr-background-color: var(--jp-layout-color0, white);\n",
       "  --xr-background-color-row-even: var(--jp-layout-color1, white);\n",
       "  --xr-background-color-row-odd: var(--jp-layout-color2, #eeeeee);\n",
       "}\n",
       "\n",
       "html[theme=dark],\n",
       "body.vscode-dark {\n",
       "  --xr-font-color0: rgba(255, 255, 255, 1);\n",
       "  --xr-font-color2: rgba(255, 255, 255, 0.54);\n",
       "  --xr-font-color3: rgba(255, 255, 255, 0.38);\n",
       "  --xr-border-color: #1F1F1F;\n",
       "  --xr-disabled-color: #515151;\n",
       "  --xr-background-color: #111111;\n",
       "  --xr-background-color-row-even: #111111;\n",
       "  --xr-background-color-row-odd: #313131;\n",
       "}\n",
       "\n",
       ".xr-wrap {\n",
       "  display: block;\n",
       "  min-width: 300px;\n",
       "  max-width: 700px;\n",
       "}\n",
       "\n",
       ".xr-text-repr-fallback {\n",
       "  /* fallback to plain text repr when CSS is not injected (untrusted notebook) */\n",
       "  display: none;\n",
       "}\n",
       "\n",
       ".xr-header {\n",
       "  padding-top: 6px;\n",
       "  padding-bottom: 6px;\n",
       "  margin-bottom: 4px;\n",
       "  border-bottom: solid 1px var(--xr-border-color);\n",
       "}\n",
       "\n",
       ".xr-header > div,\n",
       ".xr-header > ul {\n",
       "  display: inline;\n",
       "  margin-top: 0;\n",
       "  margin-bottom: 0;\n",
       "}\n",
       "\n",
       ".xr-obj-type,\n",
       ".xr-array-name {\n",
       "  margin-left: 2px;\n",
       "  margin-right: 10px;\n",
       "}\n",
       "\n",
       ".xr-obj-type {\n",
       "  color: var(--xr-font-color2);\n",
       "}\n",
       "\n",
       ".xr-sections {\n",
       "  padding-left: 0 !important;\n",
       "  display: grid;\n",
       "  grid-template-columns: 150px auto auto 1fr 20px 20px;\n",
       "}\n",
       "\n",
       ".xr-section-item {\n",
       "  display: contents;\n",
       "}\n",
       "\n",
       ".xr-section-item input {\n",
       "  display: none;\n",
       "}\n",
       "\n",
       ".xr-section-item input + label {\n",
       "  color: var(--xr-disabled-color);\n",
       "}\n",
       "\n",
       ".xr-section-item input:enabled + label {\n",
       "  cursor: pointer;\n",
       "  color: var(--xr-font-color2);\n",
       "}\n",
       "\n",
       ".xr-section-item input:enabled + label:hover {\n",
       "  color: var(--xr-font-color0);\n",
       "}\n",
       "\n",
       ".xr-section-summary {\n",
       "  grid-column: 1;\n",
       "  color: var(--xr-font-color2);\n",
       "  font-weight: 500;\n",
       "}\n",
       "\n",
       ".xr-section-summary > span {\n",
       "  display: inline-block;\n",
       "  padding-left: 0.5em;\n",
       "}\n",
       "\n",
       ".xr-section-summary-in:disabled + label {\n",
       "  color: var(--xr-font-color2);\n",
       "}\n",
       "\n",
       ".xr-section-summary-in + label:before {\n",
       "  display: inline-block;\n",
       "  content: '►';\n",
       "  font-size: 11px;\n",
       "  width: 15px;\n",
       "  text-align: center;\n",
       "}\n",
       "\n",
       ".xr-section-summary-in:disabled + label:before {\n",
       "  color: var(--xr-disabled-color);\n",
       "}\n",
       "\n",
       ".xr-section-summary-in:checked + label:before {\n",
       "  content: '▼';\n",
       "}\n",
       "\n",
       ".xr-section-summary-in:checked + label > span {\n",
       "  display: none;\n",
       "}\n",
       "\n",
       ".xr-section-summary,\n",
       ".xr-section-inline-details {\n",
       "  padding-top: 4px;\n",
       "  padding-bottom: 4px;\n",
       "}\n",
       "\n",
       ".xr-section-inline-details {\n",
       "  grid-column: 2 / -1;\n",
       "}\n",
       "\n",
       ".xr-section-details {\n",
       "  display: none;\n",
       "  grid-column: 1 / -1;\n",
       "  margin-bottom: 5px;\n",
       "}\n",
       "\n",
       ".xr-section-summary-in:checked ~ .xr-section-details {\n",
       "  display: contents;\n",
       "}\n",
       "\n",
       ".xr-array-wrap {\n",
       "  grid-column: 1 / -1;\n",
       "  display: grid;\n",
       "  grid-template-columns: 20px auto;\n",
       "}\n",
       "\n",
       ".xr-array-wrap > label {\n",
       "  grid-column: 1;\n",
       "  vertical-align: top;\n",
       "}\n",
       "\n",
       ".xr-preview {\n",
       "  color: var(--xr-font-color3);\n",
       "}\n",
       "\n",
       ".xr-array-preview,\n",
       ".xr-array-data {\n",
       "  padding: 0 5px !important;\n",
       "  grid-column: 2;\n",
       "}\n",
       "\n",
       ".xr-array-data,\n",
       ".xr-array-in:checked ~ .xr-array-preview {\n",
       "  display: none;\n",
       "}\n",
       "\n",
       ".xr-array-in:checked ~ .xr-array-data,\n",
       ".xr-array-preview {\n",
       "  display: inline-block;\n",
       "}\n",
       "\n",
       ".xr-dim-list {\n",
       "  display: inline-block !important;\n",
       "  list-style: none;\n",
       "  padding: 0 !important;\n",
       "  margin: 0;\n",
       "}\n",
       "\n",
       ".xr-dim-list li {\n",
       "  display: inline-block;\n",
       "  padding: 0;\n",
       "  margin: 0;\n",
       "}\n",
       "\n",
       ".xr-dim-list:before {\n",
       "  content: '(';\n",
       "}\n",
       "\n",
       ".xr-dim-list:after {\n",
       "  content: ')';\n",
       "}\n",
       "\n",
       ".xr-dim-list li:not(:last-child):after {\n",
       "  content: ',';\n",
       "  padding-right: 5px;\n",
       "}\n",
       "\n",
       ".xr-has-index {\n",
       "  font-weight: bold;\n",
       "}\n",
       "\n",
       ".xr-var-list,\n",
       ".xr-var-item {\n",
       "  display: contents;\n",
       "}\n",
       "\n",
       ".xr-var-item > div,\n",
       ".xr-var-item label,\n",
       ".xr-var-item > .xr-var-name span {\n",
       "  background-color: var(--xr-background-color-row-even);\n",
       "  margin-bottom: 0;\n",
       "}\n",
       "\n",
       ".xr-var-item > .xr-var-name:hover span {\n",
       "  padding-right: 5px;\n",
       "}\n",
       "\n",
       ".xr-var-list > li:nth-child(odd) > div,\n",
       ".xr-var-list > li:nth-child(odd) > label,\n",
       ".xr-var-list > li:nth-child(odd) > .xr-var-name span {\n",
       "  background-color: var(--xr-background-color-row-odd);\n",
       "}\n",
       "\n",
       ".xr-var-name {\n",
       "  grid-column: 1;\n",
       "}\n",
       "\n",
       ".xr-var-dims {\n",
       "  grid-column: 2;\n",
       "}\n",
       "\n",
       ".xr-var-dtype {\n",
       "  grid-column: 3;\n",
       "  text-align: right;\n",
       "  color: var(--xr-font-color2);\n",
       "}\n",
       "\n",
       ".xr-var-preview {\n",
       "  grid-column: 4;\n",
       "}\n",
       "\n",
       ".xr-var-name,\n",
       ".xr-var-dims,\n",
       ".xr-var-dtype,\n",
       ".xr-preview,\n",
       ".xr-attrs dt {\n",
       "  white-space: nowrap;\n",
       "  overflow: hidden;\n",
       "  text-overflow: ellipsis;\n",
       "  padding-right: 10px;\n",
       "}\n",
       "\n",
       ".xr-var-name:hover,\n",
       ".xr-var-dims:hover,\n",
       ".xr-var-dtype:hover,\n",
       ".xr-attrs dt:hover {\n",
       "  overflow: visible;\n",
       "  width: auto;\n",
       "  z-index: 1;\n",
       "}\n",
       "\n",
       ".xr-var-attrs,\n",
       ".xr-var-data {\n",
       "  display: none;\n",
       "  background-color: var(--xr-background-color) !important;\n",
       "  padding-bottom: 5px !important;\n",
       "}\n",
       "\n",
       ".xr-var-attrs-in:checked ~ .xr-var-attrs,\n",
       ".xr-var-data-in:checked ~ .xr-var-data {\n",
       "  display: block;\n",
       "}\n",
       "\n",
       ".xr-var-data > table {\n",
       "  float: right;\n",
       "}\n",
       "\n",
       ".xr-var-name span,\n",
       ".xr-var-data,\n",
       ".xr-attrs {\n",
       "  padding-left: 25px !important;\n",
       "}\n",
       "\n",
       ".xr-attrs,\n",
       ".xr-var-attrs,\n",
       ".xr-var-data {\n",
       "  grid-column: 1 / -1;\n",
       "}\n",
       "\n",
       "dl.xr-attrs {\n",
       "  padding: 0;\n",
       "  margin: 0;\n",
       "  display: grid;\n",
       "  grid-template-columns: 125px auto;\n",
       "}\n",
       "\n",
       ".xr-attrs dt,\n",
       ".xr-attrs dd {\n",
       "  padding: 0;\n",
       "  margin: 0;\n",
       "  float: left;\n",
       "  padding-right: 10px;\n",
       "  width: auto;\n",
       "}\n",
       "\n",
       ".xr-attrs dt {\n",
       "  font-weight: normal;\n",
       "  grid-column: 1;\n",
       "}\n",
       "\n",
       ".xr-attrs dt:hover span {\n",
       "  display: inline-block;\n",
       "  background: var(--xr-background-color);\n",
       "  padding-right: 10px;\n",
       "}\n",
       "\n",
       ".xr-attrs dd {\n",
       "  grid-column: 2;\n",
       "  white-space: pre-wrap;\n",
       "  word-break: break-all;\n",
       "}\n",
       "\n",
       ".xr-icon-database,\n",
       ".xr-icon-file-text2 {\n",
       "  display: inline-block;\n",
       "  vertical-align: middle;\n",
       "  width: 1em;\n",
       "  height: 1.5em !important;\n",
       "  stroke-width: 0;\n",
       "  stroke: currentColor;\n",
       "  fill: currentColor;\n",
       "}\n",
       "</style><pre class='xr-text-repr-fallback'>&lt;xarray.Dataset&gt;\n",
       "Dimensions:       (bootstrap_id: 200, lat: 120, lon: 288)\n",
       "Coordinates:\n",
       "  * bootstrap_id  (bootstrap_id) int64 0 1 2 3 4 5 6 ... 194 195 196 197 198 199\n",
       "  * lon           (lon) float64 0.625 1.875 3.125 4.375 ... 356.9 358.1 359.4\n",
       "  * lat           (lat) float64 -59.5 -58.5 -57.5 -56.5 ... 56.5 57.5 58.5 59.5\n",
       "Data variables:\n",
       "    ampl_season   (bootstrap_id, lat, lon) float64 0.013 0.01386 ... 0.008561\n",
       "    phase_season  (bootstrap_id, lat, lon) float64 12.31 13.08 ... 22.23 0.812</pre><div class='xr-wrap' hidden><div class='xr-header'><div class='xr-obj-type'>xarray.Dataset</div></div><ul class='xr-sections'><li class='xr-section-item'><input id='section-e4b08d8a-03ab-456e-a49c-3f9217069188' class='xr-section-summary-in' type='checkbox' disabled ><label for='section-e4b08d8a-03ab-456e-a49c-3f9217069188' class='xr-section-summary'  title='Expand/collapse section'>Dimensions:</label><div class='xr-section-inline-details'><ul class='xr-dim-list'><li><span class='xr-has-index'>bootstrap_id</span>: 200</li><li><span class='xr-has-index'>lat</span>: 120</li><li><span class='xr-has-index'>lon</span>: 288</li></ul></div><div class='xr-section-details'></div></li><li class='xr-section-item'><input id='section-90dc7c27-7571-43bf-97e1-d03903ed02ac' class='xr-section-summary-in' type='checkbox'  checked><label for='section-90dc7c27-7571-43bf-97e1-d03903ed02ac' class='xr-section-summary' >Coordinates: <span>(3)</span></label><div class='xr-section-inline-details'></div><div class='xr-section-details'><ul class='xr-var-list'><li class='xr-var-item'><div class='xr-var-name'><span class='xr-has-index'>bootstrap_id</span></div><div class='xr-var-dims'>(bootstrap_id)</div><div class='xr-var-dtype'>int64</div><div class='xr-var-preview xr-preview'>0 1 2 3 4 5 ... 195 196 197 198 199</div><input id='attrs-c2959c5b-243a-48cb-a626-56f495bf1cb5' class='xr-var-attrs-in' type='checkbox' disabled><label for='attrs-c2959c5b-243a-48cb-a626-56f495bf1cb5' title='Show/Hide attributes'><svg class='icon xr-icon-file-text2'><use xlink:href='#icon-file-text2'></use></svg></label><input id='data-5987ca10-4b5a-496a-943a-fd18e77bf5ad' class='xr-var-data-in' type='checkbox'><label for='data-5987ca10-4b5a-496a-943a-fd18e77bf5ad' title='Show/Hide data repr'><svg class='icon xr-icon-database'><use xlink:href='#icon-database'></use></svg></label><div class='xr-var-attrs'><dl class='xr-attrs'></dl></div><div class='xr-var-data'><pre>array([  0,   1,   2,   3,   4,   5,   6,   7,   8,   9,  10,  11,  12,  13,\n",
       "        14,  15,  16,  17,  18,  19,  20,  21,  22,  23,  24,  25,  26,  27,\n",
       "        28,  29,  30,  31,  32,  33,  34,  35,  36,  37,  38,  39,  40,  41,\n",
       "        42,  43,  44,  45,  46,  47,  48,  49,  50,  51,  52,  53,  54,  55,\n",
       "        56,  57,  58,  59,  60,  61,  62,  63,  64,  65,  66,  67,  68,  69,\n",
       "        70,  71,  72,  73,  74,  75,  76,  77,  78,  79,  80,  81,  82,  83,\n",
       "        84,  85,  86,  87,  88,  89,  90,  91,  92,  93,  94,  95,  96,  97,\n",
       "        98,  99, 100, 101, 102, 103, 104, 105, 106, 107, 108, 109, 110, 111,\n",
       "       112, 113, 114, 115, 116, 117, 118, 119, 120, 121, 122, 123, 124, 125,\n",
       "       126, 127, 128, 129, 130, 131, 132, 133, 134, 135, 136, 137, 138, 139,\n",
       "       140, 141, 142, 143, 144, 145, 146, 147, 148, 149, 150, 151, 152, 153,\n",
       "       154, 155, 156, 157, 158, 159, 160, 161, 162, 163, 164, 165, 166, 167,\n",
       "       168, 169, 170, 171, 172, 173, 174, 175, 176, 177, 178, 179, 180, 181,\n",
       "       182, 183, 184, 185, 186, 187, 188, 189, 190, 191, 192, 193, 194, 195,\n",
       "       196, 197, 198, 199])</pre></div></li><li class='xr-var-item'><div class='xr-var-name'><span class='xr-has-index'>lon</span></div><div class='xr-var-dims'>(lon)</div><div class='xr-var-dtype'>float64</div><div class='xr-var-preview xr-preview'>0.625 1.875 3.125 ... 358.1 359.4</div><input id='attrs-335994a8-32c2-42e7-9a47-349adbdb96df' class='xr-var-attrs-in' type='checkbox' disabled><label for='attrs-335994a8-32c2-42e7-9a47-349adbdb96df' title='Show/Hide attributes'><svg class='icon xr-icon-file-text2'><use xlink:href='#icon-file-text2'></use></svg></label><input id='data-c7c2d596-132d-4877-9c6d-b149ce9d25fc' class='xr-var-data-in' type='checkbox'><label for='data-c7c2d596-132d-4877-9c6d-b149ce9d25fc' title='Show/Hide data repr'><svg class='icon xr-icon-database'><use xlink:href='#icon-database'></use></svg></label><div class='xr-var-attrs'><dl class='xr-attrs'></dl></div><div class='xr-var-data'><pre>array([  0.625,   1.875,   3.125, ..., 356.875, 358.125, 359.375])</pre></div></li><li class='xr-var-item'><div class='xr-var-name'><span class='xr-has-index'>lat</span></div><div class='xr-var-dims'>(lat)</div><div class='xr-var-dtype'>float64</div><div class='xr-var-preview xr-preview'>-59.5 -58.5 -57.5 ... 58.5 59.5</div><input id='attrs-b442fdc9-aa9d-4089-89ef-bd78a3ab83c3' class='xr-var-attrs-in' type='checkbox' disabled><label for='attrs-b442fdc9-aa9d-4089-89ef-bd78a3ab83c3' title='Show/Hide attributes'><svg class='icon xr-icon-file-text2'><use xlink:href='#icon-file-text2'></use></svg></label><input id='data-7f207607-6ee0-4f52-8c99-88e89883f2f8' class='xr-var-data-in' type='checkbox'><label for='data-7f207607-6ee0-4f52-8c99-88e89883f2f8' title='Show/Hide data repr'><svg class='icon xr-icon-database'><use xlink:href='#icon-database'></use></svg></label><div class='xr-var-attrs'><dl class='xr-attrs'></dl></div><div class='xr-var-data'><pre>array([-59.5, -58.5, -57.5, -56.5, -55.5, -54.5, -53.5, -52.5, -51.5, -50.5,\n",
       "       -49.5, -48.5, -47.5, -46.5, -45.5, -44.5, -43.5, -42.5, -41.5, -40.5,\n",
       "       -39.5, -38.5, -37.5, -36.5, -35.5, -34.5, -33.5, -32.5, -31.5, -30.5,\n",
       "       -29.5, -28.5, -27.5, -26.5, -25.5, -24.5, -23.5, -22.5, -21.5, -20.5,\n",
       "       -19.5, -18.5, -17.5, -16.5, -15.5, -14.5, -13.5, -12.5, -11.5, -10.5,\n",
       "        -9.5,  -8.5,  -7.5,  -6.5,  -5.5,  -4.5,  -3.5,  -2.5,  -1.5,  -0.5,\n",
       "         0.5,   1.5,   2.5,   3.5,   4.5,   5.5,   6.5,   7.5,   8.5,   9.5,\n",
       "        10.5,  11.5,  12.5,  13.5,  14.5,  15.5,  16.5,  17.5,  18.5,  19.5,\n",
       "        20.5,  21.5,  22.5,  23.5,  24.5,  25.5,  26.5,  27.5,  28.5,  29.5,\n",
       "        30.5,  31.5,  32.5,  33.5,  34.5,  35.5,  36.5,  37.5,  38.5,  39.5,\n",
       "        40.5,  41.5,  42.5,  43.5,  44.5,  45.5,  46.5,  47.5,  48.5,  49.5,\n",
       "        50.5,  51.5,  52.5,  53.5,  54.5,  55.5,  56.5,  57.5,  58.5,  59.5])</pre></div></li></ul></div></li><li class='xr-section-item'><input id='section-905e6b82-4b8f-4991-997d-ac38653feb88' class='xr-section-summary-in' type='checkbox'  checked><label for='section-905e6b82-4b8f-4991-997d-ac38653feb88' class='xr-section-summary' >Data variables: <span>(2)</span></label><div class='xr-section-inline-details'></div><div class='xr-section-details'><ul class='xr-var-list'><li class='xr-var-item'><div class='xr-var-name'><span>ampl_season</span></div><div class='xr-var-dims'>(bootstrap_id, lat, lon)</div><div class='xr-var-dtype'>float64</div><div class='xr-var-preview xr-preview'>0.013 0.01386 ... 0.008159 0.008561</div><input id='attrs-816631a6-c182-4b5b-958d-63637191f353' class='xr-var-attrs-in' type='checkbox' disabled><label for='attrs-816631a6-c182-4b5b-958d-63637191f353' title='Show/Hide attributes'><svg class='icon xr-icon-file-text2'><use xlink:href='#icon-file-text2'></use></svg></label><input id='data-5c3d05d6-bbe9-41a0-9f9b-8aa836325aea' class='xr-var-data-in' type='checkbox'><label for='data-5c3d05d6-bbe9-41a0-9f9b-8aa836325aea' title='Show/Hide data repr'><svg class='icon xr-icon-database'><use xlink:href='#icon-database'></use></svg></label><div class='xr-var-attrs'><dl class='xr-attrs'></dl></div><div class='xr-var-data'><pre>array([[[0.01300129, 0.01385937, 0.00935996, ..., 0.01218888,\n",
       "         0.01140272, 0.00692304],\n",
       "        [0.00469767, 0.00879508, 0.0122073 , ..., 0.01286904,\n",
       "         0.01110393, 0.00841507],\n",
       "        [0.00184419, 0.01220235, 0.00858984, ..., 0.00833991,\n",
       "         0.00521428, 0.00418909],\n",
       "        ...,\n",
       "        [0.01159372, 0.00217027, 0.01549771, ..., 0.01365547,\n",
       "         0.00989111, 0.01125265],\n",
       "        [0.00916235, 0.00897729, 0.00718558, ..., 0.00582558,\n",
       "         0.0134842 , 0.01904583],\n",
       "        [0.01746522, 0.01570719, 0.01328604, ..., 0.01873675,\n",
       "         0.01840159, 0.01705865]],\n",
       "\n",
       "       [[0.00981644, 0.01115237, 0.00763445, ..., 0.00892339,\n",
       "         0.00222134, 0.00579212],\n",
       "        [0.00250068, 0.00197914, 0.01077853, ..., 0.00420641,\n",
       "         0.0018745 , 0.00138254],\n",
       "        [0.00575508, 0.00458669, 0.0062781 , ..., 0.0064038 ,\n",
       "         0.00207374, 0.00636804],\n",
       "...\n",
       "        [0.01578194, 0.00928677, 0.01515449, ..., 0.00735256,\n",
       "         0.01688866, 0.00301774],\n",
       "        [0.00543148, 0.00906976, 0.01026297, ..., 0.01548854,\n",
       "         0.00747635, 0.01020659],\n",
       "        [0.00915277, 0.01303922, 0.00710688, ..., 0.00820696,\n",
       "         0.0192791 , 0.01045237]],\n",
       "\n",
       "       [[0.01769047, 0.01310791, 0.02077103, ..., 0.00951612,\n",
       "         0.01368653, 0.01487356],\n",
       "        [0.01150516, 0.01141197, 0.0089215 , ..., 0.01505271,\n",
       "         0.013531  , 0.00828951],\n",
       "        [0.01521603, 0.01202653, 0.01402809, ..., 0.0174584 ,\n",
       "         0.01614302, 0.01026294],\n",
       "        ...,\n",
       "        [0.0210647 , 0.01337011, 0.00581457, ..., 0.01336071,\n",
       "         0.01341858, 0.00485242],\n",
       "        [0.00874812, 0.0164145 , 0.00212977, ..., 0.01391181,\n",
       "         0.01050774, 0.01647151],\n",
       "        [0.00797619, 0.01566807, 0.00894434, ..., 0.01107774,\n",
       "         0.0081592 , 0.00856139]]])</pre></div></li><li class='xr-var-item'><div class='xr-var-name'><span>phase_season</span></div><div class='xr-var-dims'>(bootstrap_id, lat, lon)</div><div class='xr-var-dtype'>float64</div><div class='xr-var-preview xr-preview'>12.31 13.08 14.0 ... 22.23 0.812</div><input id='attrs-929cac8d-56ea-45ba-9548-fdbafc2c8e44' class='xr-var-attrs-in' type='checkbox' disabled><label for='attrs-929cac8d-56ea-45ba-9548-fdbafc2c8e44' title='Show/Hide attributes'><svg class='icon xr-icon-file-text2'><use xlink:href='#icon-file-text2'></use></svg></label><input id='data-ece6a162-43f8-4d8e-8c5a-ce541dab616d' class='xr-var-data-in' type='checkbox'><label for='data-ece6a162-43f8-4d8e-8c5a-ce541dab616d' title='Show/Hide data repr'><svg class='icon xr-icon-database'><use xlink:href='#icon-database'></use></svg></label><div class='xr-var-attrs'><dl class='xr-attrs'></dl></div><div class='xr-var-data'><pre>array([[[12.30933295, 13.08022237, 14.00209812, ...,  0.91440835,\n",
       "          4.64053866, 12.43069218],\n",
       "        [14.56202434, 14.57686419, 15.75738267, ...,  3.39265687,\n",
       "          3.43938959,  6.33716949],\n",
       "        [11.73586996, 15.56006379, 14.91610305, ...,  1.22796526,\n",
       "          1.35665343, 11.95939245],\n",
       "        ...,\n",
       "        [15.5099951 , 13.48690052,  9.19180532, ..., 23.15169623,\n",
       "          5.44600104,  3.62091629],\n",
       "        [ 5.5303272 , 15.5038173 , 10.92001129, ..., 21.52977144,\n",
       "          1.62438049,  4.65816109],\n",
       "        [ 3.7309913 , 18.03714362,  2.4625957 , ..., 21.09957202,\n",
       "         20.22717409,  1.99159395]],\n",
       "\n",
       "       [[ 8.81576352,  6.92258047,  5.26574612, ..., 20.51078535,\n",
       "          2.23061921,  9.90578832],\n",
       "        [17.29723701,  0.35583456, 21.00539568, ..., 16.1532903 ,\n",
       "          3.79073973, 13.94153873],\n",
       "        [ 6.39878283, 13.29477987, 15.79543897, ..., 11.91444381,\n",
       "         10.25594415,  3.07794494],\n",
       "...\n",
       "        [11.7532876 , 14.27856295, 10.77991778, ..., 14.16023391,\n",
       "         12.24765621,  6.40087324],\n",
       "        [14.52293949, 16.83205252, 14.24326879, ..., 14.96254796,\n",
       "          6.59815433,  7.92643661],\n",
       "        [23.23506548, 13.73461485, 23.63564668, ..., 18.55650389,\n",
       "         22.38872443,  2.18628679]],\n",
       "\n",
       "       [[19.67244432,  0.49320377,  2.74589192, ..., 23.73361212,\n",
       "          0.24914927, 20.15365365],\n",
       "        [19.13510583, 19.45484176, 23.5825203 , ..., 23.34826504,\n",
       "         23.99985947, 21.16221076],\n",
       "        [21.97852544, 23.39114293,  0.63441747, ..., 20.63559732,\n",
       "         21.44401451, 22.06501559],\n",
       "        ...,\n",
       "        [14.58008076, 17.72528385,  0.58779863, ..., 12.90478284,\n",
       "         12.4276363 , 15.63509293],\n",
       "        [22.08372295, 22.68182491,  4.13742713, ..., 13.8776501 ,\n",
       "         19.52183619, 21.92244313],\n",
       "        [20.61245264,  1.46717213,  2.23193669, ...,  0.61625825,\n",
       "         22.23120436,  0.81198523]]])</pre></div></li></ul></div></li><li class='xr-section-item'><input id='section-f7abeaf9-8418-46f4-a532-f9af49d3a9a9' class='xr-section-summary-in' type='checkbox' disabled ><label for='section-f7abeaf9-8418-46f4-a532-f9af49d3a9a9' class='xr-section-summary'  title='Expand/collapse section'>Attributes: <span>(0)</span></label><div class='xr-section-inline-details'></div><div class='xr-section-details'><dl class='xr-attrs'></dl></div></li></ul></div></div>"
      ],
      "text/plain": [
       "<xarray.Dataset>\n",
       "Dimensions:       (bootstrap_id: 200, lat: 120, lon: 288)\n",
       "Coordinates:\n",
       "  * bootstrap_id  (bootstrap_id) int64 0 1 2 3 4 5 6 ... 194 195 196 197 198 199\n",
       "  * lon           (lon) float64 0.625 1.875 3.125 4.375 ... 356.9 358.1 359.4\n",
       "  * lat           (lat) float64 -59.5 -58.5 -57.5 -56.5 ... 56.5 57.5 58.5 59.5\n",
       "Data variables:\n",
       "    ampl_season   (bootstrap_id, lat, lon) float64 0.013 0.01386 ... 0.008561\n",
       "    phase_season  (bootstrap_id, lat, lon) float64 12.31 13.08 ... 22.23 0.812"
      ]
     },
     "execution_count": 3,
     "metadata": {},
     "output_type": "execute_result"
    }
   ],
   "source": [
    "\n",
    "# gpm_full_path = '/export/data1/cchristo/diurnal_analysis_results/GPM_bin_pt2_hr_15_yr_round_2_mode_year_mean_bootstrap_1yr_final/2000-06_2016-06_precip.nc'\n",
    "# ds_gpm = xr.open_dataset(gpm_full_path)\n",
    "gpm_full_path = '/export/data1/cchristo/diurnal_analysis_results/GPM_final_paper_v1/seperate/*.nc'\n",
    "ds_gpm = xr.open_mfdataset(gpm_full_path, combine = 'nested', concat_dim='bootstrap_id')\n",
    "ds_gpm = ds_gpm.assign_coords({'bootstrap_id' :np.arange(0,200)})\n",
    "ds_gpm.load()"
   ]
  },
  {
   "cell_type": "code",
   "execution_count": 6,
   "metadata": {},
   "outputs": [
    {
     "data": {
      "image/png": "[encoded data removed]",
      "text/plain": [
       "<Figure size 432x288 with 1 Axes>"
      ]
     },
     "metadata": {
      "needs_background": "light"
     },
     "output_type": "display_data"
    }
   ],
   "source": []
  },
  {
   "cell_type": "code",
   "execution_count": 43,
   "metadata": {},
   "outputs": [],
   "source": [
    "ds_gpm_mean = ds_gpm.mean(dim = 'bootstrap_id')\n",
    "ds_gpm_std = ds_gpm.std(dim = 'bootstrap_id')['ampl_season']"
   ]
  },
  {
   "cell_type": "code",
   "execution_count": 46,
   "metadata": {},
   "outputs": [
    {
     "data": {
      "text/plain": [
       "array(0.0066849)"
      ]
     },
     "execution_count": 46,
     "metadata": {},
     "output_type": "execute_result"
    }
   ],
   "source": [
    "ds_gpm_std.sel(lat = lat_, lon = lon_, method = 'nearest').values"
   ]
  },
  {
   "cell_type": "code",
   "execution_count": 50,
   "metadata": {},
   "outputs": [
    {
     "name": "stdout",
     "output_type": "stream",
     "text": [
      "0.0002801505891399797\n"
     ]
    },
    {
     "data": {
      "image/png": "[encoded data removed]",
      "text/plain": [
       "<Figure size 432x288 with 1 Axes>"
      ]
     },
     "metadata": {
      "needs_background": "light"
     },
     "output_type": "display_data"
    }
   ],
   "source": [
    "lat_ = 30\n",
    "lon_ = 200\n",
    "mm = ds_gpm_mean.sel(lat = lat_, lon = lon_, method = 'nearest')['ampl_season'].values\n",
    "mm_std = mm - 2*ds_gpm_std.sel(lat = lat_, lon = lon_, method = 'nearest').values\n",
    "_ = ds_gpm.sel(lat = lat_, lon = lon_, method = 'nearest')['ampl_season'].plot.hist(bins = 50)\n",
    "plt.axvline(mm, c = 'r')\n",
    "plt.axvline(mm_std, c = 'r')\n",
    "print(mm_std)"
   ]
  },
  {
   "cell_type": "code",
   "execution_count": 11,
   "metadata": {},
   "outputs": [],
   "source": [
    "# find circular means of phase across bootstrap samples for each gridcell\n",
    "phase_ens_mean = xr.apply_ufunc(phase_circmean, \n",
    "                               ds_gpm['phase_season'], \n",
    "                               input_core_dims = [[\"bootstrap_id\"]],\n",
    "                               vectorize = True)\n",
    "ds_gpm_mean['phase_season'] = phase_ens_mean"
   ]
  },
  {
   "cell_type": "code",
   "execution_count": null,
   "metadata": {},
   "outputs": [],
   "source": []
  },
  {
   "cell_type": "code",
   "execution_count": 7,
   "metadata": {},
   "outputs": [],
   "source": [
    "# param_dist = ds_gpm.sel(lat = 5, lon = 150, method = 'nearest')['phase_season'].values\n",
    "# _ = plt.hist(param_dist, bins = 20)\n",
    "# sns.distplot(param_dist, fit=scipy.stats.lognorm)\n",
    "# lognorm_0_cdf(param_dist)"
   ]
  },
  {
   "cell_type": "code",
   "execution_count": 9,
   "metadata": {},
   "outputs": [],
   "source": [
    "# ds_gpm_std.plot(vmax = 0.1)"
   ]
  },
  {
   "cell_type": "code",
   "execution_count": 21,
   "metadata": {},
   "outputs": [
    {
     "data": {
      "text/plain": [
       "<matplotlib.collections.QuadMesh at 0x7fce6c0798d0>"
      ]
     },
     "execution_count": 21,
     "metadata": {},
     "output_type": "execute_result"
    },
    {
     "data": {
      "image/png": "[encoded data removed]",
      "text/plain": [
       "<Figure size 432x288 with 2 Axes>"
      ]
     },
     "metadata": {
      "needs_background": "light"
     },
     "output_type": "display_data"
    }
   ],
   "source": [
    "ds_gpm_mean.where(ds_gpm_mean['ampl_season'] - 3*ds_gpm_std >= 0)['ampl_season'].plot()"
   ]
  },
  {
   "cell_type": "code",
   "execution_count": 19,
   "metadata": {},
   "outputs": [],
   "source": [
    "CI_mask = xr.where(ds_gpm_mean['ampl_season'] - 2*ds_gpm_std >= 0, True, False)\n",
    "CI_mask.name = 'CI_mask'\n",
    "ds_gpm_mean['CI_mask'] = CI_mask"
   ]
  },
  {
   "cell_type": "code",
   "execution_count": 20,
   "metadata": {},
   "outputs": [
    {
     "data": {
      "text/plain": [
       "<matplotlib.collections.QuadMesh at 0x7fce6c14bf28>"
      ]
     },
     "execution_count": 20,
     "metadata": {},
     "output_type": "execute_result"
    },
    {
     "data": {
      "image/png": "[encoded data removed]",
      "text/plain": [
       "<Figure size 432x288 with 2 Axes>"
      ]
     },
     "metadata": {
      "needs_background": "light"
     },
     "output_type": "display_data"
    }
   ],
   "source": [
    "ds_gpm_mean['CI_mask'].plot()"
   ]
  },
  {
   "cell_type": "code",
   "execution_count": 37,
   "metadata": {},
   "outputs": [
    {
     "data": {
      "text/plain": [
       "<matplotlib.collections.QuadMesh at 0x7f8e5bb95cc0>"
      ]
     },
     "execution_count": 37,
     "metadata": {},
     "output_type": "execute_result"
    },
    {
     "data": {
      "image/png": "[encoded data removed]",
      "text/plain": [
       "<Figure size 432x288 with 2 Axes>"
      ]
     },
     "metadata": {
      "needs_background": "light"
     },
     "output_type": "display_data"
    }
   ],
   "source": [
    "# ds_gpm_mean['phase_season'].plot()\n",
    "\n",
    "# ds_gpm_mean['CI_mask'].plot()\n",
    "# ds_gpm_mean['CI_mask'].plot()"
   ]
  },
  {
   "cell_type": "code",
   "execution_count": 35,
   "metadata": {},
   "outputs": [],
   "source": [
    "\n",
    "# ds_gpm_mean.to_netcdf(save_output_path)"
   ]
  }
 ],
 "metadata": {
  "kernelspec": {
   "display_name": "Python 3",
   "language": "python",
   "name": "python3"
  },
  "language_info": {
   "codemirror_mode": {
    "name": "ipython",
    "version": 3
   },
   "file_extension": ".py",
   "mimetype": "text/x-python",
   "name": "python",
   "nbconvert_exporter": "python",
   "pygments_lexer": "ipython3",
   "version": "3.6.10"
  }
 },
 "nbformat": 4,
 "nbformat_minor": 4
}
