{
 "cells": [
  {
   "cell_type": "code",
   "execution_count": 3,
   "metadata": {},
   "outputs": [],
   "source": [
    "import os\n",
    "import xarray as xr\n",
    "import numpy as np\n",
    "import matplotlib.pyplot as plt\n",
    "from tqdm import tqdm\n",
    "\n",
    "import math\n",
    "import ephem\n",
    "from datetime import datetime, time, timedelta\n",
    "from math import pi, cos, sin\n",
    "%run fetch_model_helper.py"
   ]
  },
  {
   "cell_type": "code",
   "execution_count": 4,
   "metadata": {},
   "outputs": [],
   "source": [
    "rel_cmip6_path= '/export/data1/cchristo/CMIP6_precip/pr_3hr_historical/'\n",
    "rel_cmip5_path = '/export/data1/cchristo/CMIP5_precip/pr_3hr_historical/'"
   ]
  },
  {
   "cell_type": "code",
   "execution_count": null,
   "metadata": {},
   "outputs": [],
   "source": []
  },
  {
   "cell_type": "code",
   "execution_count": 6,
   "metadata": {},
   "outputs": [],
   "source": [
    "unique_cmip6_models = get_unique_models(rel_cmip6_path)\n",
    "unique_cmip5_models = get_unique_models(rel_cmip5_path)"
   ]
  },
  {
   "cell_type": "code",
   "execution_count": 7,
   "metadata": {},
   "outputs": [
    {
     "name": "stdout",
     "output_type": "stream",
     "text": [
      "{'FGOALS-g3', 'GFDL-ESM4', 'UKESM1-0-LL', 'ACCESS-CM2', 'AWI-CM-1-1-MR', 'ACCESS-ESM1-5', 'KACE-1-0-G', 'CNRM-CM6-1-HR', 'EC-Earth3-Veg', 'MRI-ESM2-0', 'GISS-E2-1-G', 'CNRM-ESM2-1', 'EC-Earth3', 'AWI-ESM-1-1-LR', 'EC-Earth3-Veg-LR', 'SAM0-UNICON', 'IPSL-CM6A-LR', 'BCC-CSM2-MR', 'CMCC-CM2-SR5', 'NESM3', 'CanESM5', 'MPI-ESM1-2-HR', 'CNRM-CM6-1', 'GFDL-CM4', 'MIROC-ES2L', 'MIROC6', 'MPI-ESM1-2-LR'}\n"
     ]
    }
   ],
   "source": [
    "print(unique_cmip6_models)"
   ]
  },
  {
   "cell_type": "code",
   "execution_count": 8,
   "metadata": {},
   "outputs": [
    {
     "name": "stdout",
     "output_type": "stream",
     "text": [
      "{'IPSL-CM5A-LR', 'MRI-ESM1', 'GFDL-CM3', 'MIROC-ESM', 'FGOALS-s2', 'MRI-CGCM3', 'MIROC-ESM-CHEM', 'MIROC5', 'MIROC4h', 'IPSL-CM5A-MR', 'NorESM1-M', 'HadGEM2-ES', 'CNRM-CM5', 'FGOALS-g2', 'CMCC-CM', 'inmcm4', 'GISS-E2-H', 'GISS-E2-R'}\n"
     ]
    }
   ],
   "source": [
    "print(unique_cmip5_models)"
   ]
  },
  {
   "cell_type": "code",
   "execution_count": 32,
   "metadata": {},
   "outputs": [
    {
     "data": {
      "text/plain": [
       "['/export/data1/cchristo/CMIP6_precip/pr_3hr_historical/pr_3hr_GFDL-CM4_historical_r1i1p1f1_gr1_196001010130-197912312230.nc',\n",
       " '/export/data1/cchristo/CMIP6_precip/pr_3hr_historical/pr_3hr_GFDL-CM4_historical_r1i1p1f1_gr1_200001010130-201412312230.nc',\n",
       " '/export/data1/cchristo/CMIP6_precip/pr_3hr_historical/pr_3hr_GFDL-CM4_historical_r1i1p1f1_gr1_198001010130-199912312230.nc']"
      ]
     },
     "execution_count": 32,
     "metadata": {},
     "output_type": "execute_result"
    }
   ],
   "source": [
    "get_path_to_desired_model(rel_cmip6_path, \n",
    "                          desired_model='GFDL-CM4',\n",
    "                          desired_grid_types = ('gn', 'gr', 'gr1'))"
   ]
  },
  {
   "cell_type": "code",
   "execution_count": 17,
   "metadata": {},
   "outputs": [
    {
     "data": {
      "text/plain": [
       "[]"
      ]
     },
     "execution_count": 17,
     "metadata": {},
     "output_type": "execute_result"
    }
   ],
   "source": [
    "get_path_to_desired_model(rel_cmip5_path, \n",
    "                          desired_model='FGOALS-g2',\n",
    "                         desired_grid_types = None)"
   ]
  },
  {
   "cell_type": "code",
   "execution_count": null,
   "metadata": {},
   "outputs": [],
   "source": []
  },
  {
   "cell_type": "code",
   "execution_count": 31,
   "metadata": {},
   "outputs": [
    {
     "data": {
      "text/plain": [
       "'r1i1p1'"
      ]
     },
     "execution_count": 31,
     "metadata": {},
     "output_type": "execute_result"
    }
   ],
   "source": [
    "model_list = os.listdir(rel_cmip5_path)\n",
    "# model_list\n",
    "model_list[2].split('_')[-2]"
   ]
  }
 ],
 "metadata": {
  "kernelspec": {
   "display_name": "Python 3",
   "language": "python",
   "name": "python3"
  },
  "language_info": {
   "codemirror_mode": {
    "name": "ipython",
    "version": 3
   },
   "file_extension": ".py",
   "mimetype": "text/x-python",
   "name": "python",
   "nbconvert_exporter": "python",
   "pygments_lexer": "ipython3",
   "version": "3.6.10"
  }
 },
 "nbformat": 4,
 "nbformat_minor": 4
}
