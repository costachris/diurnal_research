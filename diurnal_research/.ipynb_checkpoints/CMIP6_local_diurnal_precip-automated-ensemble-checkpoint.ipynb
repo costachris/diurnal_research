{
 "cells": [
  {
   "cell_type": "markdown",
   "metadata": {},
   "source": [
    "# Notebook for computing diurnal parameters on each ensemble member"
   ]
  },
  {
   "cell_type": "code",
   "execution_count": 1,
   "metadata": {},
   "outputs": [],
   "source": [
    "import os\n",
    "import xarray as xr\n",
    "import numpy as np\n",
    "import matplotlib.pyplot as plt\n",
    "from tqdm import tqdm\n",
    "\n",
    "import ephem\n",
    "from datetime import datetime, time, timedelta\n",
    "from scipy import optimize\n",
    "from mpl_toolkits.basemap import Basemap\n",
    "\n",
    "import diurnal_config\n",
    "\n",
    "from diurnal_utils import *\n",
    "from fetch_model_helper import *\n",
    "# %run fetch_model_helper.py"
   ]
  },
  {
   "cell_type": "markdown",
   "metadata": {},
   "source": [
    "# Notebook for exploring local CMIP6 data downloaded with `cmip6_downloader.py`"
   ]
  },
  {
   "cell_type": "code",
   "execution_count": 18,
   "metadata": {},
   "outputs": [],
   "source": [
    "out_folder_identifier = 'CMIP6_ensembles' #label to append to output path\n",
    "skip_if_folder_exists =  True # used for processing models in parallel\n",
    "\n",
    "\n",
    "\n",
    "# cmip_identifier = 'CMIP6'\n",
    "# start_date = '1985-01'\n",
    "# end_date = '2006-01'\n",
    "\n",
    "\n",
    "# cmip_identifier = 'CMIP6'\n",
    "# start_date = '2000-01'\n",
    "# end_date = '2015-01'\n",
    "\n",
    "cmip_identifier = 'CMIP6'\n",
    "start_date = '1985-01'\n",
    "end_date = '2015-01'\n",
    "\n",
    "# cmip_identifier = 'CMIP5'\n",
    "# start_date = '1985-01'\n",
    "# end_date = '2006-01'\n",
    "\n",
    "##### cmip5 15 year\n",
    "# cmip_identifier = 'CMIP5'\n",
    "# start_date = '1991-01'\n",
    "# end_date = '2006-01'\n",
    "\n",
    "\n",
    "# cmip_identifier = 'CMIP5'\n",
    "# start_date = '1976-01'\n",
    "# end_date = '2006-01'\n",
    "\n",
    "#TODO overwrite_existing_files = False"
   ]
  },
  {
   "cell_type": "code",
   "execution_count": 19,
   "metadata": {},
   "outputs": [],
   "source": [
    "# get all available model names\n",
    "rel_cmip6_path= '/export/data1/cchristo/CMIP6_precip/pr_3hr_historical/'\n",
    "rel_cmip5_path = '/export/data1/cchristo/CMIP5_precip/pr_3hr_historical/'\n",
    "unique_cmip6_models = get_unique_models(rel_cmip6_path)\n",
    "unique_cmip5_models = get_unique_models(rel_cmip5_path)"
   ]
  },
  {
   "cell_type": "code",
   "execution_count": 20,
   "metadata": {},
   "outputs": [
    {
     "data": {
      "text/plain": [
       "{'ACCESS-CM2',\n",
       " 'ACCESS-ESM1-5',\n",
       " 'AWI-CM-1-1-MR',\n",
       " 'AWI-ESM-1-1-LR',\n",
       " 'BCC-CSM2-MR',\n",
       " 'CMCC-CM2-SR5',\n",
       " 'CNRM-CM6-1',\n",
       " 'CNRM-CM6-1-HR',\n",
       " 'CNRM-ESM2-1',\n",
       " 'CanESM5',\n",
       " 'EC-Earth3',\n",
       " 'EC-Earth3-Veg',\n",
       " 'EC-Earth3-Veg-LR',\n",
       " 'FGOALS-g3',\n",
       " 'GFDL-CM4',\n",
       " 'GFDL-ESM4',\n",
       " 'GISS-E2-1-G',\n",
       " 'IPSL-CM6A-LR',\n",
       " 'KACE-1-0-G',\n",
       " 'MIROC-ES2L',\n",
       " 'MIROC6',\n",
       " 'MPI-ESM-1-2-HAM',\n",
       " 'MPI-ESM1-2-HR',\n",
       " 'MPI-ESM1-2-LR',\n",
       " 'MRI-ESM2-0',\n",
       " 'NESM3',\n",
       " 'SAM0-UNICON',\n",
       " 'UKESM1-0-LL'}"
      ]
     },
     "execution_count": 20,
     "metadata": {},
     "output_type": "execute_result"
    }
   ],
   "source": [
    "unique_cmip6_models\n",
    "# unique_cmip6_models\n",
    "# len(unique_cmip6_models)"
   ]
  },
  {
   "cell_type": "code",
   "execution_count": 21,
   "metadata": {},
   "outputs": [],
   "source": [
    "# %run fetch_model_helper.py\n",
    "model_name_to_ensemble_map = get_unique_ensembles_cmip6('/export/data1/cchristo/CMIP6_precip/pr_3hr_historical/')"
   ]
  },
  {
   "cell_type": "code",
   "execution_count": 51,
   "metadata": {},
   "outputs": [],
   "source": [
    "# model_name_to_ensemble_map"
   ]
  },
  {
   "cell_type": "code",
   "execution_count": 22,
   "metadata": {},
   "outputs": [],
   "source": [
    "\n",
    "\n",
    "if cmip_identifier == 'CMIP6':\n",
    "    all_model_names = unique_cmip6_models\n",
    "    cmip_rel_dir = rel_cmip6_path\n",
    "\n",
    "elif cmip_identifier == 'CMIP5':\n",
    "    all_model_names = unique_cmip5_models\n",
    "    cmip_rel_dir = rel_cmip5_path\n",
    "    \n"
   ]
  },
  {
   "cell_type": "code",
   "execution_count": 5,
   "metadata": {},
   "outputs": [
    {
     "data": {
      "text/plain": [
       "['IPSL-CM6A-LR']"
      ]
     },
     "execution_count": 5,
     "metadata": {},
     "output_type": "execute_result"
    }
   ],
   "source": [
    "# get_path_to_desired_model_cmip6(cmip_rel_dir, \n",
    "#                                   desired_model= 'CanESM5',\n",
    "#                                   desired_grid_types = ('gn', 'gr', 'gr1'))\n",
    "# list(all_model_names)\n",
    "# all_model_names = ['IPSL-CM6A-LR',]\n",
    "# all_model_names"
   ]
  },
  {
   "cell_type": "code",
   "execution_count": 26,
   "metadata": {},
   "outputs": [],
   "source": [
    "# path_to_cmip_files =  get_path_to_desired_model_cmip6(cmip_rel_dir, \n",
    "#                                       desired_model= 'GFDL-CM4',\n",
    "#                                       desired_ensemble_member =('r1i1p1f1',) , # ('r1i1p1f1', 'r1i1p2f1','r1i1p1f2'),\n",
    "#                                       desired_grid_types = ('gn', 'gr', 'gr1', 'gr2'))\n",
    "\n",
    "\n",
    "# path_to_cmip_files"
   ]
  },
  {
   "cell_type": "code",
   "execution_count": 23,
   "metadata": {},
   "outputs": [],
   "source": [
    "unique_cmip6_models.discard('IPSL-CM6A-LR')\n",
    "# final_model_list = unique_cmip6_models"
   ]
  },
  {
   "cell_type": "code",
   "execution_count": 25,
   "metadata": {},
   "outputs": [],
   "source": [
    "# final_model_list\n",
    "# unique_cmip6_models"
   ]
  },
  {
   "cell_type": "code",
   "execution_count": 12,
   "metadata": {},
   "outputs": [
    {
     "name": "stdout",
     "output_type": "stream",
     "text": [
      "Started...  IPSL-CM6A-LR\n",
      "Started...  r12i1p1f1\n",
      "Opening data...\n",
      "['/export/data1/cchristo/CMIP6_precip/pr_3hr_historical/pr_3hr_IPSL-CM6A-LR_historical_r12i1p1f1_gr_195001010130-201412312230.nc']\n",
      "/export/data1/cchristo/diurnal_analysis_results/CMIP6_ensembles/CMIP6_CMIP6_ensembles/IPSL-CM6A-LR/1985-01_2015-01_r12i1p1f1_precip.nc\n",
      "Started...  r17i1p1f1\n",
      "Opening data...\n",
      "['/export/data1/cchristo/CMIP6_precip/pr_3hr_historical/pr_3hr_IPSL-CM6A-LR_historical_r17i1p1f1_gr_195001010130-201412312230.nc']\n",
      "/export/data1/cchristo/diurnal_analysis_results/CMIP6_ensembles/CMIP6_CMIP6_ensembles/IPSL-CM6A-LR/1985-01_2015-01_r17i1p1f1_precip.nc\n",
      "Started...  r13i1p1f1\n",
      "Opening data...\n",
      "['/export/data1/cchristo/CMIP6_precip/pr_3hr_historical/pr_3hr_IPSL-CM6A-LR_historical_r13i1p1f1_gr_195001010130-201412312230.nc']\n",
      "/export/data1/cchristo/diurnal_analysis_results/CMIP6_ensembles/CMIP6_CMIP6_ensembles/IPSL-CM6A-LR/1985-01_2015-01_r13i1p1f1_precip.nc\n",
      "Started...  r32i1p1f1\n",
      "Opening data...\n",
      "['/export/data1/cchristo/CMIP6_precip/pr_3hr_historical/pr_3hr_IPSL-CM6A-LR_historical_r32i1p1f1_gr_195001010130-201412312230.nc']\n",
      "/export/data1/cchristo/diurnal_analysis_results/CMIP6_ensembles/CMIP6_CMIP6_ensembles/IPSL-CM6A-LR/1985-01_2015-01_r32i1p1f1_precip.nc\n",
      "Started...  r30i1p1f1\n",
      "Opening data...\n",
      "['/export/data1/cchristo/CMIP6_precip/pr_3hr_historical/pr_3hr_IPSL-CM6A-LR_historical_r30i1p1f1_gr_195001010130-201412312230.nc']\n",
      "/export/data1/cchristo/diurnal_analysis_results/CMIP6_ensembles/CMIP6_CMIP6_ensembles/IPSL-CM6A-LR/1985-01_2015-01_r30i1p1f1_precip.nc\n",
      "Started...  r25i1p1f1\n",
      "Opening data...\n",
      "['/export/data1/cchristo/CMIP6_precip/pr_3hr_historical/pr_3hr_IPSL-CM6A-LR_historical_r25i1p1f1_gr_195001010130-201412312230.nc']\n",
      "/export/data1/cchristo/diurnal_analysis_results/CMIP6_ensembles/CMIP6_CMIP6_ensembles/IPSL-CM6A-LR/1985-01_2015-01_r25i1p1f1_precip.nc\n",
      "Started...  r4i1p1f1\n",
      "Opening data...\n",
      "['/export/data1/cchristo/CMIP6_precip/pr_3hr_historical/pr_3hr_IPSL-CM6A-LR_historical_r4i1p1f1_gr_195001010130-201412312230.nc']\n",
      "/export/data1/cchristo/diurnal_analysis_results/CMIP6_ensembles/CMIP6_CMIP6_ensembles/IPSL-CM6A-LR/1985-01_2015-01_r4i1p1f1_precip.nc\n",
      "Started...  r5i1p1f1\n",
      "Opening data...\n",
      "['/export/data1/cchristo/CMIP6_precip/pr_3hr_historical/pr_3hr_IPSL-CM6A-LR_historical_r5i1p1f1_gr_195001010130-201412312230.nc']\n",
      "/export/data1/cchristo/diurnal_analysis_results/CMIP6_ensembles/CMIP6_CMIP6_ensembles/IPSL-CM6A-LR/1985-01_2015-01_r5i1p1f1_precip.nc\n",
      "Started...  r28i1p1f1\n",
      "Opening data...\n",
      "['/export/data1/cchristo/CMIP6_precip/pr_3hr_historical/pr_3hr_IPSL-CM6A-LR_historical_r28i1p1f1_gr_195001010130-201412312230.nc']\n",
      "/export/data1/cchristo/diurnal_analysis_results/CMIP6_ensembles/CMIP6_CMIP6_ensembles/IPSL-CM6A-LR/1985-01_2015-01_r28i1p1f1_precip.nc\n",
      "Started...  r21i1p1f1\n",
      "Opening data...\n",
      "['/export/data1/cchristo/CMIP6_precip/pr_3hr_historical/pr_3hr_IPSL-CM6A-LR_historical_r21i1p1f1_gr_195001010130-201412312230.nc']\n",
      "/export/data1/cchristo/diurnal_analysis_results/CMIP6_ensembles/CMIP6_CMIP6_ensembles/IPSL-CM6A-LR/1985-01_2015-01_r21i1p1f1_precip.nc\n",
      "Started...  r31i1p1f1\n",
      "Opening data...\n",
      "['/export/data1/cchristo/CMIP6_precip/pr_3hr_historical/pr_3hr_IPSL-CM6A-LR_historical_r31i1p1f1_gr_195001010130-201412312230.nc']\n",
      "/export/data1/cchristo/diurnal_analysis_results/CMIP6_ensembles/CMIP6_CMIP6_ensembles/IPSL-CM6A-LR/1985-01_2015-01_r31i1p1f1_precip.nc\n",
      "Started...  r20i1p1f1\n",
      "Opening data...\n",
      "['/export/data1/cchristo/CMIP6_precip/pr_3hr_historical/pr_3hr_IPSL-CM6A-LR_historical_r20i1p1f1_gr_195001010130-201412312230.nc']\n",
      "/export/data1/cchristo/diurnal_analysis_results/CMIP6_ensembles/CMIP6_CMIP6_ensembles/IPSL-CM6A-LR/1985-01_2015-01_r20i1p1f1_precip.nc\n",
      "Started...  r23i1p1f1\n",
      "Opening data...\n",
      "['/export/data1/cchristo/CMIP6_precip/pr_3hr_historical/pr_3hr_IPSL-CM6A-LR_historical_r23i1p1f1_gr_195001010130-201412312230.nc']\n",
      "/export/data1/cchristo/diurnal_analysis_results/CMIP6_ensembles/CMIP6_CMIP6_ensembles/IPSL-CM6A-LR/1985-01_2015-01_r23i1p1f1_precip.nc\n",
      "Started...  r19i1p1f1\n",
      "Opening data...\n",
      "['/export/data1/cchristo/CMIP6_precip/pr_3hr_historical/pr_3hr_IPSL-CM6A-LR_historical_r19i1p1f1_gr_195001010130-201412312230.nc']\n",
      "/export/data1/cchristo/diurnal_analysis_results/CMIP6_ensembles/CMIP6_CMIP6_ensembles/IPSL-CM6A-LR/1985-01_2015-01_r19i1p1f1_precip.nc\n",
      "Started...  r3i1p1f1\n",
      "Opening data...\n",
      "['/export/data1/cchristo/CMIP6_precip/pr_3hr_historical/pr_3hr_IPSL-CM6A-LR_historical_r3i1p1f1_gr_195001010130-201412312230.nc']\n",
      "/export/data1/cchristo/diurnal_analysis_results/CMIP6_ensembles/CMIP6_CMIP6_ensembles/IPSL-CM6A-LR/1985-01_2015-01_r3i1p1f1_precip.nc\n",
      "Started...  r11i1p1f1\n",
      "Opening data...\n",
      "['/export/data1/cchristo/CMIP6_precip/pr_3hr_historical/pr_3hr_IPSL-CM6A-LR_historical_r11i1p1f1_gr_195001010130-201412312230.nc']\n",
      "/export/data1/cchristo/diurnal_analysis_results/CMIP6_ensembles/CMIP6_CMIP6_ensembles/IPSL-CM6A-LR/1985-01_2015-01_r11i1p1f1_precip.nc\n",
      "Started...  r24i1p1f1\n",
      "Opening data...\n",
      "['/export/data1/cchristo/CMIP6_precip/pr_3hr_historical/pr_3hr_IPSL-CM6A-LR_historical_r24i1p1f1_gr_195001010130-201412312230.nc']\n",
      "/export/data1/cchristo/diurnal_analysis_results/CMIP6_ensembles/CMIP6_CMIP6_ensembles/IPSL-CM6A-LR/1985-01_2015-01_r24i1p1f1_precip.nc\n",
      "Started...  r9i1p1f1\n",
      "Opening data...\n",
      "['/export/data1/cchristo/CMIP6_precip/pr_3hr_historical/pr_3hr_IPSL-CM6A-LR_historical_r9i1p1f1_gr_195001010130-201412312230.nc']\n",
      "/export/data1/cchristo/diurnal_analysis_results/CMIP6_ensembles/CMIP6_CMIP6_ensembles/IPSL-CM6A-LR/1985-01_2015-01_r9i1p1f1_precip.nc\n",
      "Started...  r10i1p1f1\n",
      "Opening data...\n",
      "['/export/data1/cchristo/CMIP6_precip/pr_3hr_historical/pr_3hr_IPSL-CM6A-LR_historical_r10i1p1f1_gr_195001010130-201412312230.nc']\n",
      "/export/data1/cchristo/diurnal_analysis_results/CMIP6_ensembles/CMIP6_CMIP6_ensembles/IPSL-CM6A-LR/1985-01_2015-01_r10i1p1f1_precip.nc\n",
      "Started...  r1i1p1f1\n",
      "Opening data...\n",
      "['/export/data1/cchristo/CMIP6_precip/pr_3hr_historical/pr_3hr_IPSL-CM6A-LR_historical_r1i1p1f1_gr_195001010130-201412312230.nc']\n",
      "/export/data1/cchristo/diurnal_analysis_results/CMIP6_ensembles/CMIP6_CMIP6_ensembles/IPSL-CM6A-LR/1985-01_2015-01_r1i1p1f1_precip.nc\n",
      "Started...  r2i1p1f1\n",
      "Opening data...\n",
      "['/export/data1/cchristo/CMIP6_precip/pr_3hr_historical/pr_3hr_IPSL-CM6A-LR_historical_r2i1p1f1_gr_195001010130-201412312230.nc']\n",
      "/export/data1/cchristo/diurnal_analysis_results/CMIP6_ensembles/CMIP6_CMIP6_ensembles/IPSL-CM6A-LR/1985-01_2015-01_r2i1p1f1_precip.nc\n",
      "Started...  r29i1p1f1\n",
      "Opening data...\n",
      "['/export/data1/cchristo/CMIP6_precip/pr_3hr_historical/pr_3hr_IPSL-CM6A-LR_historical_r29i1p1f1_gr_195001010130-201412312230.nc']\n",
      "/export/data1/cchristo/diurnal_analysis_results/CMIP6_ensembles/CMIP6_CMIP6_ensembles/IPSL-CM6A-LR/1985-01_2015-01_r29i1p1f1_precip.nc\n",
      "Started...  r22i1p1f1\n",
      "Opening data...\n",
      "['/export/data1/cchristo/CMIP6_precip/pr_3hr_historical/pr_3hr_IPSL-CM6A-LR_historical_r22i1p1f1_gr_195001010130-201412312230.nc']\n",
      "/export/data1/cchristo/diurnal_analysis_results/CMIP6_ensembles/CMIP6_CMIP6_ensembles/IPSL-CM6A-LR/1985-01_2015-01_r22i1p1f1_precip.nc\n",
      "Started...  r27i1p1f1\n",
      "Opening data...\n",
      "['/export/data1/cchristo/CMIP6_precip/pr_3hr_historical/pr_3hr_IPSL-CM6A-LR_historical_r27i1p1f1_gr_195001010130-201412312230.nc']\n",
      "/export/data1/cchristo/diurnal_analysis_results/CMIP6_ensembles/CMIP6_CMIP6_ensembles/IPSL-CM6A-LR/1985-01_2015-01_r27i1p1f1_precip.nc\n",
      "Started...  r7i1p1f1\n",
      "Opening data...\n",
      "['/export/data1/cchristo/CMIP6_precip/pr_3hr_historical/pr_3hr_IPSL-CM6A-LR_historical_r7i1p1f1_gr_195001010130-201412312230.nc']\n",
      "/export/data1/cchristo/diurnal_analysis_results/CMIP6_ensembles/CMIP6_CMIP6_ensembles/IPSL-CM6A-LR/1985-01_2015-01_r7i1p1f1_precip.nc\n",
      "Started...  r14i1p1f1\n",
      "Opening data...\n",
      "['/export/data1/cchristo/CMIP6_precip/pr_3hr_historical/pr_3hr_IPSL-CM6A-LR_historical_r14i1p1f1_gr_195001010130-201412312230.nc']\n",
      "/export/data1/cchristo/diurnal_analysis_results/CMIP6_ensembles/CMIP6_CMIP6_ensembles/IPSL-CM6A-LR/1985-01_2015-01_r14i1p1f1_precip.nc\n",
      "Started...  r26i1p1f1\n",
      "Opening data...\n",
      "['/export/data1/cchristo/CMIP6_precip/pr_3hr_historical/pr_3hr_IPSL-CM6A-LR_historical_r26i1p1f1_gr_195001010130-201412312230.nc']\n",
      "/export/data1/cchristo/diurnal_analysis_results/CMIP6_ensembles/CMIP6_CMIP6_ensembles/IPSL-CM6A-LR/1985-01_2015-01_r26i1p1f1_precip.nc\n",
      "Started...  r16i1p1f1\n",
      "Opening data...\n",
      "['/export/data1/cchristo/CMIP6_precip/pr_3hr_historical/pr_3hr_IPSL-CM6A-LR_historical_r16i1p1f1_gr_195001010130-201412312230.nc']\n",
      "/export/data1/cchristo/diurnal_analysis_results/CMIP6_ensembles/CMIP6_CMIP6_ensembles/IPSL-CM6A-LR/1985-01_2015-01_r16i1p1f1_precip.nc\n",
      "Started...  r6i1p1f1\n",
      "Opening data...\n",
      "['/export/data1/cchristo/CMIP6_precip/pr_3hr_historical/pr_3hr_IPSL-CM6A-LR_historical_r6i1p1f1_gr_195001010130-201412312230.nc']\n",
      "/export/data1/cchristo/diurnal_analysis_results/CMIP6_ensembles/CMIP6_CMIP6_ensembles/IPSL-CM6A-LR/1985-01_2015-01_r6i1p1f1_precip.nc\n",
      "Started...  r8i1p1f1\n",
      "Opening data...\n",
      "['/export/data1/cchristo/CMIP6_precip/pr_3hr_historical/pr_3hr_IPSL-CM6A-LR_historical_r8i1p1f1_gr_195001010130-201412312230.nc']\n",
      "/export/data1/cchristo/diurnal_analysis_results/CMIP6_ensembles/CMIP6_CMIP6_ensembles/IPSL-CM6A-LR/1985-01_2015-01_r8i1p1f1_precip.nc\n",
      "Started...  r15i1p1f1\n",
      "Opening data...\n",
      "['/export/data1/cchristo/CMIP6_precip/pr_3hr_historical/pr_3hr_IPSL-CM6A-LR_historical_r15i1p1f1_gr_195001010130-201412312230.nc']\n",
      "/export/data1/cchristo/diurnal_analysis_results/CMIP6_ensembles/CMIP6_CMIP6_ensembles/IPSL-CM6A-LR/1985-01_2015-01_r15i1p1f1_precip.nc\n",
      "Started...  r18i1p1f1\n",
      "Opening data...\n",
      "['/export/data1/cchristo/CMIP6_precip/pr_3hr_historical/pr_3hr_IPSL-CM6A-LR_historical_r18i1p1f1_gr_195001010130-201412312230.nc']\n",
      "/export/data1/cchristo/diurnal_analysis_results/CMIP6_ensembles/CMIP6_CMIP6_ensembles/IPSL-CM6A-LR/1985-01_2015-01_r18i1p1f1_precip.nc\n",
      "DONE!\n"
     ]
    }
   ],
   "source": [
    "\n",
    "# for model_name in list(all_model_names):\n",
    "# for model_name in ['IPSL-CM6A-LR',]:\n",
    "for model_name in unique_cmip6_models:\n",
    "    print('Started... ', model_name)\n",
    "\n",
    "\n",
    "    for ensemble_i in model_name_to_ensemble_map[model_name]:\n",
    "        print('Started... ', ensemble_i)\n",
    "        \n",
    "        save_output_dir = '/export/data1/cchristo/diurnal_analysis_results/CMIP6_ensembles/' + \\\n",
    "        cmip_identifier + '_'+ out_folder_identifier + '/' + model_name + '/'\n",
    "    \n",
    "        save_output_path = save_output_dir + start_date + '_' + end_date + '_' + ensemble_i + '_precip.nc'\n",
    "#     save_output_path_means = save_output_dir + start_date + '_' + end_date + '_precip_diurnal_means.nc'\n",
    "        # skip folder if it's already been created (another script may be processing it)\n",
    "        skip_model_iteration = False\n",
    "        if skip_if_folder_exists & os.path.exists(save_output_dir):\n",
    "            skip_model_iteration = True\n",
    "\n",
    "        else:\n",
    "             # make dirs if they don't already exist\n",
    "            if not os.path.exists(save_output_dir):\n",
    "                os.makedirs(save_output_dir)\n",
    "\n",
    "        # if files already exist, skip\n",
    "        if (not os.path.exists(save_output_path)):\n",
    "    #         (not os.path.exists(save_output_path_means)) & \\\n",
    "#             (not skip_model_iteration):\n",
    "\n",
    "            try:\n",
    "                #### Load data\n",
    "                if cmip_identifier == 'CMIP6':\n",
    "                    path_to_cmip_files =  get_path_to_desired_model_cmip6(cmip_rel_dir, \n",
    "                                          desired_model= model_name,\n",
    "    #                                       desired_ensemble_member = ('r1i1p1f1', 'r1i1p2f1','r1i1p1f2'),\n",
    "                                         desired_ensemble_member = (ensemble_i,),\n",
    "                                          desired_grid_types = ('gn', 'gr', 'gr1', 'gr2'))\n",
    "                elif cmip_identifier == 'CMIP5':\n",
    "                    path_to_cmip_files = get_path_to_desired_model_cmip5(cmip_rel_dir, \n",
    "                                      desired_model=model_name,\n",
    "                                      desired_ensemble_member = ('r1i1p1','r6i1p1','r2i1p1'))\n",
    "                # subset lat/lon and time\n",
    "                print('Opening data...')\n",
    "                print(path_to_cmip_files)\n",
    "                ds = xr.open_mfdataset(path_to_cmip_files, combine='by_coords')\n",
    "                ds = ds.sel(time = slice(start_date, end_date))\n",
    "                ds = ds.sel(lat= slice(-60, 60))\n",
    "\n",
    "                # perform diurnal analysis \n",
    "                print('Performing diurnal analysis... ')\n",
    "                ds_sub = ds['pr'].to_dataset()\n",
    "\n",
    "                out_ds, out_ds_means = diurnal_analysis(ds_sub, \n",
    "                                                        field_id = 'pr', \n",
    "                                                        grid_time_resolution_hours = 3,\n",
    "                                                        time_resolution_hours = 0.2)\n",
    "    #             # add some metadata \n",
    "                out_ds.attrs['input_dataset_paths'] = path_to_cmip_files\n",
    "                out_ds_means.attrs['input_dataset_paths'] = path_to_cmip_files\n",
    "\n",
    "                # save results \n",
    "                print('Saving results... ')\n",
    "                out_ds.to_netcdf(save_output_path)\n",
    "    #             out_ds_means.to_netcdf(save_output_path_means)\n",
    "                print(save_output_path)\n",
    "            except Exception as e:\n",
    "                print('Could not process ' + model_name)\n",
    "                print(e)\n",
    "\n",
    "print('DONE!')"
   ]
  },
  {
   "cell_type": "code",
   "execution_count": 12,
   "metadata": {},
   "outputs": [
    {
     "data": {
      "text/plain": [
       "'/export/data1/cchristo/diurnal_analysis_results/CMIP6_bin_pt2_hr/IPSL-CM6A-LR/1985-01_2006-01_precip.nc'"
      ]
     },
     "execution_count": 12,
     "metadata": {},
     "output_type": "execute_result"
    }
   ],
   "source": [
    "# ds.isel(time = 0)['time'].values.item()"
   ]
  },
  {
   "cell_type": "code",
   "execution_count": 112,
   "metadata": {},
   "outputs": [],
   "source": [
    "# %run fetch_model_helper.py\n",
    "# path_to_cmip_files =  get_path_to_desired_model_cmip6(cmip_rel_dir, \n",
    "#                                       desired_model= 'EC-Earth3-Veg-LR', #model_name,\n",
    "#                                       desired_ensemble_member = ('r1i1p1f1', 'r1i1p2f1','r1i1p1f2'),\n",
    "#                                       desired_grid_types = ('gn', 'gr', 'gr1', 'gr2'))"
   ]
  },
  {
   "cell_type": "code",
   "execution_count": 101,
   "metadata": {},
   "outputs": [],
   "source": [
    "# path_to_cmip_files\n",
    "# stacked = np.stack(list(average_cycle_season.values()))\n",
    "# save_output_dir + start_date + '_' + end_date + '_precip.nc'"
   ]
  },
  {
   "cell_type": "code",
   "execution_count": 102,
   "metadata": {},
   "outputs": [],
   "source": [
    "# print(stacked.shape)\n",
    "# # plt.plot(stacked[0,:,100,100])\n",
    "# plt.plot(average_cycle_season['DJF'][:,50,50])"
   ]
  },
  {
   "cell_type": "code",
   "execution_count": 32,
   "metadata": {},
   "outputs": [],
   "source": [
    "# res.isel(season = 0, lat = 50, lon = 50).plot()"
   ]
  },
  {
   "cell_type": "code",
   "execution_count": null,
   "metadata": {},
   "outputs": [],
   "source": []
  },
  {
   "cell_type": "code",
   "execution_count": 35,
   "metadata": {},
   "outputs": [],
   "source": [
    "# FLUX_TO_MM_HR = 60*60"
   ]
  },
  {
   "cell_type": "code",
   "execution_count": 6,
   "metadata": {},
   "outputs": [],
   "source": [
    "# model_list = os.listdir(path_to_cmip_dirs)\n",
    "# print(model_list)\n",
    "# path_to_cmip_files = path_to_cmip_dirs + 'GFDL-CM4/'\n",
    "# file_list = os.listdir(path_to_cmip_files)\n",
    "# for file in file_list: print(file)\n"
   ]
  },
  {
   "cell_type": "code",
   "execution_count": 78,
   "metadata": {},
   "outputs": [],
   "source": [
    "\n",
    "# ds = xr.open_mfdataset(path_to_cmip_files, combine='by_coords')\n",
    "\n",
    "# # ds = ds.sel(time=slice('1986','2005'))\n",
    "# # ds = ds.sel(time = slice('2000-06', '2001-05'))\n",
    "# ds = ds.sel(time = slice('1999-01', '2015-01'))\n",
    "# ds = ds.sel(lat= slice(-60, 60))"
   ]
  },
  {
   "cell_type": "code",
   "execution_count": 77,
   "metadata": {},
   "outputs": [],
   "source": [
    "# ds_sub = ds['pr'].to_dataset()\n",
    "# mu_season, sigma_season, ampl_season, phase_season = diurnal_analysis(ds_sub, \n",
    "#                                                                       field_id = 'pr', \n",
    "#                                                                       grid_time_resolution_hours = 3,\n",
    "#                                                                       time_resolution_hours = 1)"
   ]
  },
  {
   "cell_type": "code",
   "execution_count": 76,
   "metadata": {},
   "outputs": [],
   "source": [
    "# mu_mm_hr = {key:FLUX_TO_MM_HR*val for key, val in mu_season.items()}\n",
    "# make_four_panel(mu_mm_hr, \n",
    "#                 lats = ds['lat'].values, \n",
    "#                 lons = ds['lon'].values,\n",
    "# #                 cmap = plt.get_cmap('bwr'),\n",
    "#                 cmap = plt.get_cmap('gist_ncar'),\n",
    "#                 vmin = 0,\n",
    "#                 vmax = 0.8,\n",
    "#                 title = r'$\\mu$',\n",
    "# #                 axis = plt.axis([220, 300, 10, 50]), \n",
    "#                 save_fig_path= save_figs_dir + 'GFDL_CM4_means_pr' + start_date + '_' + end_date +'.png')"
   ]
  },
  {
   "cell_type": "code",
   "execution_count": null,
   "metadata": {},
   "outputs": [],
   "source": []
  },
  {
   "cell_type": "code",
   "execution_count": 75,
   "metadata": {},
   "outputs": [],
   "source": [
    "# sigma_mm_hr = {key:FLUX_TO_MM_HR*val for key, val in sigma_season.items()}\n",
    "\n",
    "\n",
    "# make_four_panel(sigma_mm_hr , \n",
    "#                 lats = ds['lat'].values, \n",
    "#                 lons = ds['lon'].values,\n",
    "# #                 vmax = 0.1, \n",
    "#                 vmin = 0, vmax = 0.2, \n",
    "# #                 cmap = plt.get_cmap('bwr'),\n",
    "#                 cmap = plt.get_cmap('gist_ncar'),\n",
    "#                 title = r'$\\sigma$',\n",
    "# #                 axis = plt.axis([220, 300, 10, 50]), \n",
    "#                 save_fig_path= save_figs_dir + 'GFDL_CM4_stds_pr.png')"
   ]
  },
  {
   "cell_type": "code",
   "execution_count": 74,
   "metadata": {},
   "outputs": [],
   "source": [
    "# ampl_mm_hr = {key:FLUX_TO_MM_HR*val for key, val in ampl_season.items()}\n",
    "\n",
    "\n",
    "\n",
    "# make_four_panel(ampl_mm_hr, \n",
    "#                 lats = ds['lat'].values, \n",
    "#                 lons = ds['lon'].values,\n",
    "# #                 vmax = 0.000015, \n",
    "# #                 cmap = plt.get_cmap('bwr'),\n",
    "#                 vmin = 0, vmax = 0.2, \n",
    "#                 cmap = plt.get_cmap('gist_ncar'),\n",
    "#                 title = r'$A$',\n",
    "# #                 axis = plt.axis([220, 300, 10, 50]), \n",
    "#                 save_fig_path= save_figs_dir + 'GFDL_CM4_ampl_pr.png')"
   ]
  },
  {
   "cell_type": "code",
   "execution_count": 73,
   "metadata": {},
   "outputs": [],
   "source": [
    "# make_four_panel(phase_season , \n",
    "#                 lats = ds['lat'].values, \n",
    "#                 lons = ds['lon'].values,\n",
    "#                 vmin = 0, vmax = 24, \n",
    "#                 cmap = plt.get_cmap('twilight'),\n",
    "#                 title = r'$\\Phi$',\n",
    "# #                 axis = plt.axis([220, 300, 10, 50]), \n",
    "#                 save_fig_path= save_figs_dir + 'GFDL_CM4_phase_pr.png')"
   ]
  },
  {
   "cell_type": "code",
   "execution_count": 71,
   "metadata": {},
   "outputs": [],
   "source": [
    "# out_ds = xr.Dataset()\n",
    "# out_ds['mu_season'] = make_da_from_dict(mu_season, ds)\n",
    "# out_ds['sigma_season'] = make_da_from_dict(sigma_season,ds)\n",
    "# out_ds['ampl_season'] = make_da_from_dict(ampl_season, ds)\n",
    "# out_ds['phase_season'] = make_da_from_dict(phase_season,ds)\n",
    "# out_ds.to_netcdf(save_output_dir + 'gfdl_cm4_2000_2010_precip.nc')"
   ]
  },
  {
   "cell_type": "code",
   "execution_count": 72,
   "metadata": {},
   "outputs": [],
   "source": [
    "# out_ds.to_netcdf(save_output_dir + 'gfdl_cm4_2000_2010_precip.nc')"
   ]
  }
 ],
 "metadata": {
  "kernelspec": {
   "display_name": "Python 3",
   "language": "python",
   "name": "python3"
  },
  "language_info": {
   "codemirror_mode": {
    "name": "ipython",
    "version": 3
   },
   "file_extension": ".py",
   "mimetype": "text/x-python",
   "name": "python",
   "nbconvert_exporter": "python",
   "pygments_lexer": "ipython3",
   "version": "3.6.10"
  }
 },
 "nbformat": 4,
 "nbformat_minor": 4
}
