{
 "cells": [
  {
   "cell_type": "code",
   "execution_count": 113,
   "metadata": {},
   "outputs": [],
   "source": [
    "import os\n",
    "from glob import glob\n",
    "import xarray as xr\n",
    "import numpy as np\n",
    "import matplotlib.pyplot as plt\n",
    "from tqdm import tqdm\n",
    "import h5py\n",
    "\n",
    "import math\n",
    "import ephem\n",
    "from datetime import datetime, time, timedelta\n",
    "from math import pi, cos, sin\n",
    "from scipy import optimize\n",
    "from joblib import Parallel, delayed\n",
    "from mpl_toolkits.basemap import Basemap\n",
    "# import xesmf as xr\n",
    "\n",
    "# from diurnal_utils import *\n",
    "%run diurnal_utils.py"
   ]
  },
  {
   "cell_type": "code",
   "execution_count": 2,
   "metadata": {},
   "outputs": [],
   "source": [
    "start_date = '2000-06'\n",
    "# end_date =  '2010-06'\n",
    "end_date =  '2001-06'"
   ]
  },
  {
   "cell_type": "code",
   "execution_count": 3,
   "metadata": {},
   "outputs": [],
   "source": [
    "save_output_dir = '/export/data1/cchristo/diurnal_analysis_results/GPM/'\n",
    "save_figs_dir = '/home/cchristo/proj_tapio/figs/diurnal_cycle_figs/gpm_2000_2010_precip/'"
   ]
  },
  {
   "cell_type": "code",
   "execution_count": 24,
   "metadata": {},
   "outputs": [],
   "source": [
    "# model_dir = '/export/data1/cchristo/gpm_data/gpmdata/'\n",
    "model_dir = '/export/data1/cchristo/gpm_data/gpmdata_regridded_gfdl_cm4/'\n",
    "# years_to_include = ('2000', '2001')\n",
    "# years_to_include = range(2000, 2001)\n",
    "\n",
    "result = [y for x in os.walk(model_dir) for y in glob(os.path.join(x[0], '*.nc'))]\n",
    "\n",
    "# filter paths based on year\n",
    "result_filt =[]\n",
    "for path_i in result: \n",
    "    if (os.path.dirname(path_i).split('/')[-4] in years_to_include):\n",
    "        result_filt.append(path_i)\n",
    "\n",
    "# get only certain years\n",
    "# result = sorted(result)\n",
    "result = sorted(result_filt)"
   ]
  },
  {
   "cell_type": "code",
   "execution_count": 29,
   "metadata": {},
   "outputs": [
    {
     "name": "stdout",
     "output_type": "stream",
     "text": [
      "CPU times: user 3min 6s, sys: 5.32 s, total: 3min 11s\n",
      "Wall time: 3min 11s\n"
     ]
    }
   ],
   "source": [
    "%%time\n",
    "ds = xr.open_mfdataset(result, combine='nested', concat_dim = 'time')\n",
    "# ds = xr.open_dataset(result[0],  engine = 'h5netcdf')"
   ]
  },
  {
   "cell_type": "code",
   "execution_count": 32,
   "metadata": {},
   "outputs": [],
   "source": [
    "ds = ds.sel(time = slice(start_date, end_date))\n",
    "ds = ds.sel(lat= slice(-60, 60))\n",
    "# ds.load()\n",
    "# print('Dataset Loaded')"
   ]
  },
  {
   "cell_type": "code",
   "execution_count": 10,
   "metadata": {},
   "outputs": [],
   "source": [
    "# ds['precipitationCal'].fillna(0)\n"
   ]
  },
  {
   "cell_type": "code",
   "execution_count": null,
   "metadata": {},
   "outputs": [],
   "source": [
    "# ds_mean = ds['precipitationCal'].mean(dim = 'time')\n",
    "# ds_mean.load()\n",
    "\n",
    "# ds_max = ds['precipitationCal'].mean(dim = 'time')\n",
    "# ds_max.load()\n"
   ]
  },
  {
   "cell_type": "code",
   "execution_count": null,
   "metadata": {},
   "outputs": [],
   "source": [
    "# ds_mean.plot.imshow(vmin =0, vmax = 1, cmap = plt.get_cmap('gist_ncar'))\n",
    "# ds_max.plot.imshow(vmin =0, vmax = 0.25 , cmap = plt.get_cmap('gist_ncar'))"
   ]
  },
  {
   "cell_type": "code",
   "execution_count": null,
   "metadata": {},
   "outputs": [],
   "source": [
    "# ds_mean.plot.imshow(vmin =0, vmax = 2, cmap = plt.get_cmap('gist_ncar'))"
   ]
  },
  {
   "cell_type": "code",
   "execution_count": null,
   "metadata": {},
   "outputs": [],
   "source": [
    "# ds.isel(time = 0)['precipitationCal'].plot.imshow(vmin =0, vmax = 10)"
   ]
  },
  {
   "cell_type": "code",
   "execution_count": null,
   "metadata": {},
   "outputs": [],
   "source": [
    "# ds['precipitationCal']"
   ]
  },
  {
   "cell_type": "code",
   "execution_count": 114,
   "metadata": {},
   "outputs": [
    {
     "name": "stdout",
     "output_type": "stream",
     "text": [
      "DJF\n"
     ]
    },
    {
     "name": "stderr",
     "output_type": "stream",
     "text": [
      "100%|██████████| 4320/4320 [00:06<00:00, 638.25it/s]\n"
     ]
    }
   ],
   "source": [
    "grid_time_resolution_hours = 0.5\n",
    "time_resolution_hours = 0.5\n",
    "field_id = 'precipitationCal'\n",
    "\n",
    "\n",
    "hour_bins = np.arange(time_resolution_hours, 24 + time_resolution_hours, time_resolution_hours)\n",
    "grid_hour_bins = np.arange(grid_time_resolution_hours, 24 + grid_time_resolution_hours, grid_time_resolution_hours)\n",
    "\n",
    "lon_mesh, lat_mesh = np.meshgrid(ds['lon'].values, ds['lat'].values)\n",
    "ds_seasons = ds.groupby('time.season')\n",
    "\n",
    "mu_season = {}\n",
    "sigma_season = {}\n",
    "ampl_season = {}\n",
    "phase_season = {}\n",
    "average_cycle_season = {}\n",
    "\n",
    "for season_i, season_ds in ds_seasons:\n",
    "    if season_i != 'DJF':\n",
    "        break\n",
    "    print(season_i)\n",
    "    lst_da = compute_lst_array(season_ds, \n",
    "                               bin_interval = grid_time_resolution_hours, # time_resolution_hours,\n",
    "                               bin_bool = True, \n",
    "                               lon_mesh = lon_mesh, \n",
    "                               lat_mesh = lat_mesh,\n",
    "                               field_id = field_id)\n",
    "    lst_array = lst_da.values\n",
    "    lst_array[lst_array == 0] = 24\n",
    "    field_season_array = season_ds[field_id].values\n",
    "\n",
    "#         field_season_mean = field_season_array.mean(axis = 0)\n",
    "\n",
    "    # compute mu_ij\n",
    "#         mu_ij = np.zeros(field_season_array.shape[-2:])\n",
    "    mu_ij = np.zeros(field_season_array.shape[-2:])\n",
    "#         sigma_ij = np.zeros((len(hour_bins),) + field_season_array.shape[-2:])\n",
    "\n",
    "    f_bar_ks = {}\n",
    "    for hour_i in grid_hour_bins:\n",
    "        masked_field = np.where(lst_array == hour_i, field_season_array, np.nan)\n",
    "\n",
    "        # mean for a given season, LST\n",
    "        f_bar_k = np.nanmean(masked_field, axis = 0)\n",
    "        f_bar_k[np.isnan(f_bar_k)] = 0\n",
    "        f_bar_ks[hour_i] = f_bar_k\n",
    "        mu_ij  += f_bar_k\n",
    "\n",
    "    hour_means = np.stack(list(f_bar_ks.values()))\n",
    "    average_cycle_season[season_i] = hour_means\n",
    "\n",
    "\n",
    "#     mu_ij = (1/len(grid_hour_bins))*mu_ij\n",
    "# #         mu_ij = (1/8)*mu_ij\n",
    "#     mu_season[season_i] = mu_ij\n",
    "\n",
    "#     sigma_ij = np.zeros(field_season_array.shape[-2:])\n",
    "#     for hour_i in grid_hour_bins:\n",
    "#         masked_field = np.where(lst_array == hour_i, field_season_array, np.nan)\n",
    "\n",
    "#         # mean for a given season, LST\n",
    "#         f_bar_k = np.nanmean(masked_field, axis = 0)\n",
    "#         f_bar_k[np.isnan(f_bar_k)] = 0\n",
    "#         sigma_ij += np.square(f_bar_k - mu_ij)\n",
    "\n",
    "#     sigma_ij = np.sqrt((1/(len(grid_hour_bins) - 1))*sigma_ij)\n",
    "# #         sigma_ij = np.sqrt((1/7)*sigma_ij)\n",
    "# #         sigma_ij = np.nanstd(sigma_ij, axis = 0)\n",
    "\n",
    "#     sigma_season[season_i] = sigma_ij\n",
    "\n",
    "#     lst_da = compute_lst_array(season_ds, \n",
    "#                                bin_interval = time_resolution_hours,\n",
    "#                                bin_bool = True, \n",
    "#                                lon_mesh = lon_mesh, \n",
    "#                                lat_mesh = lat_mesh,\n",
    "#                                field_id = field_id)\n",
    "#     lst_array = lst_da.values\n",
    "#     del lst_da\n",
    "#     lst_array[lst_array == 0] = 24\n",
    "#     field_season_array = season_ds[field_id].values\n",
    "\n",
    "# #         field_season_mean = field_season_array.mean(axis = 0)\n",
    "\n",
    "#     # compute hourly grid means needed for cos fit\n",
    "#     f_bar_ks = {}\n",
    "#     for ii in range(len(hour_bins)):\n",
    "#         hour_i = hour_bins[ii]\n",
    "#         masked_field = np.where(lst_array == hour_i, field_season_array, np.nan)\n",
    "\n",
    "#         # mean for a given season, LST\n",
    "#         f_bar_k = np.nanmean(masked_field, axis = 0)\n",
    "#         f_bar_ks[hour_i] = f_bar_k\n",
    "\n",
    "#     hour_means = np.stack(list(f_bar_ks.values()))\n",
    "\n",
    "#     print('Performing Cos Fit')\n",
    "# #         res = cos_fit_grid(field_season_array, lst_array, hour_means, hour_bins)\n",
    "#     res = cos_fit_grid_average(hour_means, hour_bins)\n",
    "#     print('Finished Cos Fit')\n",
    "#     ampl_season[season_i], phase_season[season_i] = res[0], res[1]\n",
    "\n",
    "#     # make results into dataarrays\n",
    "#     out_ds = xr.Dataset()\n",
    "#     out_ds['mu_season'] = make_da_from_dict(mu_season, ds)\n",
    "#     out_ds['sigma_season'] = make_da_from_dict(sigma_season,ds)\n",
    "#     out_ds['ampl_season'] = make_da_from_dict(ampl_season, ds)\n",
    "#     out_ds['phase_season'] = make_da_from_dict(phase_season,ds)\n",
    "\n",
    "#     out_ds_means = xr.Dataset()\n",
    "#     out_ds_means = make_da_from_dict_time(average_cycle_season, ds, grid_hour_bins)\n",
    "#     out_ds_means = out_ds_means.to_dataset(name = field_id + '_mean')"
   ]
  },
  {
   "cell_type": "code",
   "execution_count": 118,
   "metadata": {},
   "outputs": [
    {
     "name": "stdout",
     "output_type": "stream",
     "text": [
      "(48, 120, 288)\n"
     ]
    },
    {
     "data": {
      "text/plain": [
       "<matplotlib.image.AxesImage at 0x7fd2d5fe90f0>"
      ]
     },
     "execution_count": 118,
     "metadata": {},
     "output_type": "execute_result"
    },
    {
     "data": {
      "image/png": "[encoded data removed]",
      "text/plain": [
       "<Figure size 432x288 with 1 Axes>"
      ]
     },
     "metadata": {
      "needs_background": "light"
     },
     "output_type": "display_data"
    }
   ],
   "source": [
    "print(hour_means.shape)\n",
    "plt.imshow(hour_means[2,:,:], origin = 'lower', cmap = plt.get_cmap('gist_ncar'))"
   ]
  },
  {
   "cell_type": "code",
   "execution_count": null,
   "metadata": {},
   "outputs": [],
   "source": []
  },
  {
   "cell_type": "code",
   "execution_count": 104,
   "metadata": {},
   "outputs": [
    {
     "data": {
      "image/png": "[encoded data removed]",
      "text/plain": [
       "<Figure size 1008x504 with 2 Axes>"
      ]
     },
     "metadata": {
      "needs_background": "light"
     },
     "output_type": "display_data"
    }
   ],
   "source": [
    "# lst_da.isel(time = 0).plot.imshow(cmap = plt.get_cmap('gist_ncar'))\n",
    "plt.figure(figsize = (14,7))\n",
    "# plt.imshow(lst_da.isel(time = 23).values, cmap = plt.get_cmap('gist_ncar'))\n",
    "lst_da.isel(time = 24).plot.imshow(cmap = plt.get_cmap('gist_ncar'))\n",
    "plt.grid()"
   ]
  },
  {
   "cell_type": "code",
   "execution_count": 108,
   "metadata": {},
   "outputs": [
    {
     "data": {
      "text/html": [
       "<pre>&lt;xarray.DataArray (time: 4320, lat: 120, lon: 288)&gt;\n",
       "array([[[24., 24., 24., ..., 24., 24., 24.],\n",
       "        [24., 24., 24., ..., 24., 24., 24.],\n",
       "        [24., 24., 24., ..., 24., 24., 24.],\n",
       "        ...,\n",
       "        [24., 24., 24., ..., 24., 24., 24.],\n",
       "        [24., 24., 24., ..., 24., 24., 24.],\n",
       "        [24., 24., 24., ..., 24., 24., 24.]],\n",
       "\n",
       "       [[24., 24., 24., ..., 24., 24., 24.],\n",
       "        [24., 24., 24., ..., 24., 24., 24.],\n",
       "        [24., 24., 24., ..., 24., 24., 24.],\n",
       "        ...,\n",
       "        [24., 24., 24., ..., 24., 24., 24.],\n",
       "        [24., 24., 24., ..., 24., 24., 24.],\n",
       "        [24., 24., 24., ..., 24., 24., 24.]],\n",
       "\n",
       "       [[ 1.,  1.,  1., ...,  1.,  1.,  1.],\n",
       "        [ 1.,  1.,  1., ...,  1.,  1.,  1.],\n",
       "        [ 1.,  1.,  1., ...,  1.,  1.,  1.],\n",
       "        ...,\n",
       "        [ 1.,  1.,  1., ...,  1.,  1.,  1.],\n",
       "        [ 1.,  1.,  1., ...,  1.,  1.,  1.],\n",
       "        [ 1.,  1.,  1., ...,  1.,  1.,  1.]],\n",
       "\n",
       "       ...,\n",
       "\n",
       "       [[22., 22., 22., ..., 22., 22., 22.],\n",
       "        [22., 22., 22., ..., 22., 22., 22.],\n",
       "        [22., 22., 22., ..., 22., 22., 22.],\n",
       "        ...,\n",
       "        [22., 22., 22., ..., 22., 22., 22.],\n",
       "        [22., 22., 22., ..., 22., 22., 22.],\n",
       "        [22., 22., 22., ..., 22., 22., 22.]],\n",
       "\n",
       "       [[23., 23., 23., ..., 23., 23., 23.],\n",
       "        [23., 23., 23., ..., 23., 23., 23.],\n",
       "        [23., 23., 23., ..., 23., 23., 23.],\n",
       "        ...,\n",
       "        [23., 23., 23., ..., 23., 23., 23.],\n",
       "        [23., 23., 23., ..., 23., 23., 23.],\n",
       "        [23., 23., 23., ..., 23., 23., 23.]],\n",
       "\n",
       "       [[23., 23., 23., ..., 23., 23., 23.],\n",
       "        [23., 23., 23., ..., 23., 23., 23.],\n",
       "        [23., 23., 23., ..., 23., 23., 23.],\n",
       "        ...,\n",
       "        [23., 23., 23., ..., 23., 23., 23.],\n",
       "        [23., 23., 23., ..., 23., 23., 23.],\n",
       "        [23., 23., 23., ..., 23., 23., 23.]]], dtype=float32)\n",
       "Coordinates:\n",
       "  * time     (time) datetime64[ns] 2000-12-01 ... 2001-02-28T23:30:00\n",
       "  * lon      (lon) float64 0.625 1.875 3.125 4.375 ... 355.6 356.9 358.1 359.4\n",
       "  * lat      (lat) float64 -59.5 -58.5 -57.5 -56.5 -55.5 ... 56.5 57.5 58.5 59.5</pre>"
      ],
      "text/plain": [
       "<xarray.DataArray (time: 4320, lat: 120, lon: 288)>\n",
       "array([[[24., 24., 24., ..., 24., 24., 24.],\n",
       "        [24., 24., 24., ..., 24., 24., 24.],\n",
       "        [24., 24., 24., ..., 24., 24., 24.],\n",
       "        ...,\n",
       "        [24., 24., 24., ..., 24., 24., 24.],\n",
       "        [24., 24., 24., ..., 24., 24., 24.],\n",
       "        [24., 24., 24., ..., 24., 24., 24.]],\n",
       "\n",
       "       [[24., 24., 24., ..., 24., 24., 24.],\n",
       "        [24., 24., 24., ..., 24., 24., 24.],\n",
       "        [24., 24., 24., ..., 24., 24., 24.],\n",
       "        ...,\n",
       "        [24., 24., 24., ..., 24., 24., 24.],\n",
       "        [24., 24., 24., ..., 24., 24., 24.],\n",
       "        [24., 24., 24., ..., 24., 24., 24.]],\n",
       "\n",
       "       [[ 1.,  1.,  1., ...,  1.,  1.,  1.],\n",
       "        [ 1.,  1.,  1., ...,  1.,  1.,  1.],\n",
       "        [ 1.,  1.,  1., ...,  1.,  1.,  1.],\n",
       "        ...,\n",
       "        [ 1.,  1.,  1., ...,  1.,  1.,  1.],\n",
       "        [ 1.,  1.,  1., ...,  1.,  1.,  1.],\n",
       "        [ 1.,  1.,  1., ...,  1.,  1.,  1.]],\n",
       "\n",
       "       ...,\n",
       "\n",
       "       [[22., 22., 22., ..., 22., 22., 22.],\n",
       "        [22., 22., 22., ..., 22., 22., 22.],\n",
       "        [22., 22., 22., ..., 22., 22., 22.],\n",
       "        ...,\n",
       "        [22., 22., 22., ..., 22., 22., 22.],\n",
       "        [22., 22., 22., ..., 22., 22., 22.],\n",
       "        [22., 22., 22., ..., 22., 22., 22.]],\n",
       "\n",
       "       [[23., 23., 23., ..., 23., 23., 23.],\n",
       "        [23., 23., 23., ..., 23., 23., 23.],\n",
       "        [23., 23., 23., ..., 23., 23., 23.],\n",
       "        ...,\n",
       "        [23., 23., 23., ..., 23., 23., 23.],\n",
       "        [23., 23., 23., ..., 23., 23., 23.],\n",
       "        [23., 23., 23., ..., 23., 23., 23.]],\n",
       "\n",
       "       [[23., 23., 23., ..., 23., 23., 23.],\n",
       "        [23., 23., 23., ..., 23., 23., 23.],\n",
       "        [23., 23., 23., ..., 23., 23., 23.],\n",
       "        ...,\n",
       "        [23., 23., 23., ..., 23., 23., 23.],\n",
       "        [23., 23., 23., ..., 23., 23., 23.],\n",
       "        [23., 23., 23., ..., 23., 23., 23.]]], dtype=float32)\n",
       "Coordinates:\n",
       "  * time     (time) datetime64[ns] 2000-12-01 ... 2001-02-28T23:30:00\n",
       "  * lon      (lon) float64 0.625 1.875 3.125 4.375 ... 355.6 356.9 358.1 359.4\n",
       "  * lat      (lat) float64 -59.5 -58.5 -57.5 -56.5 -55.5 ... 56.5 57.5 58.5 59.5"
      ]
     },
     "execution_count": 108,
     "metadata": {},
     "output_type": "execute_result"
    }
   ],
   "source": [
    "lst_da"
   ]
  },
  {
   "cell_type": "code",
   "execution_count": null,
   "metadata": {},
   "outputs": [],
   "source": [
    "calc_solar_time(utc_time, \n",
    "                    longitude, \n",
    "                    bin_interval = 3, \n",
    "                    bin_bool = True)"
   ]
  },
  {
   "cell_type": "code",
   "execution_count": 107,
   "metadata": {},
   "outputs": [
    {
     "data": {
      "image/png": "[encoded data removed]",
      "text/plain": [
       "<Figure size 1008x504 with 2 Axes>"
      ]
     },
     "metadata": {
      "needs_background": "light"
     },
     "output_type": "display_data"
    }
   ],
   "source": [
    "plt.figure(figsize = (14,7))\n",
    "lst_da_time = lst_da.isel(time = 24)\n",
    "lst_da_time.where(lst_da_time == grid_hour_bins[0]).plot.imshow()\n",
    "plt.grid()"
   ]
  },
  {
   "cell_type": "code",
   "execution_count": null,
   "metadata": {},
   "outputs": [],
   "source": []
  },
  {
   "cell_type": "code",
   "execution_count": null,
   "metadata": {},
   "outputs": [],
   "source": []
  },
  {
   "cell_type": "code",
   "execution_count": 8,
   "metadata": {},
   "outputs": [
    {
     "name": "stderr",
     "output_type": "stream",
     "text": [
      "  1%|▏         | 58/4320 [00:00<00:07, 579.50it/s]"
     ]
    },
    {
     "name": "stdout",
     "output_type": "stream",
     "text": [
      "DJF\n"
     ]
    },
    {
     "name": "stderr",
     "output_type": "stream",
     "text": [
      "100%|██████████| 4320/4320 [00:07<00:00, 582.39it/s]\n",
      "/home/cchristo/proj_tapio/diurnal_research/diurnal_utils.py:215: RuntimeWarning: Mean of empty slice\n",
      "  f_bar_k = np.nanmean(masked_field, axis = 0)\n",
      "/home/cchristo/proj_tapio/diurnal_research/diurnal_utils.py:233: RuntimeWarning: Mean of empty slice\n",
      "  f_bar_k = np.nanmean(masked_field, axis = 0)\n",
      "100%|██████████| 4320/4320 [00:07<00:00, 567.85it/s]\n",
      "/home/cchristo/proj_tapio/diurnal_research/diurnal_utils.py:262: RuntimeWarning: Mean of empty slice\n",
      "  f_bar_k = np.nanmean(masked_field, axis = 0)\n",
      "  0%|          | 0/120 [00:00<?, ?it/s]"
     ]
    },
    {
     "name": "stdout",
     "output_type": "stream",
     "text": [
      "Performing Cos Fit\n"
     ]
    },
    {
     "name": "stderr",
     "output_type": "stream",
     "text": [
      "100%|██████████| 120/120 [02:08<00:00,  1.07s/it]\n"
     ]
    },
    {
     "name": "stdout",
     "output_type": "stream",
     "text": [
      "Finished Cos Fit\n"
     ]
    },
    {
     "name": "stderr",
     "output_type": "stream",
     "text": [
      "  1%|          | 58/5856 [00:00<00:10, 570.77it/s]"
     ]
    },
    {
     "name": "stdout",
     "output_type": "stream",
     "text": [
      "JJA\n"
     ]
    },
    {
     "name": "stderr",
     "output_type": "stream",
     "text": [
      "100%|██████████| 5856/5856 [00:10<00:00, 571.16it/s]\n",
      "/home/cchristo/proj_tapio/diurnal_research/diurnal_utils.py:215: RuntimeWarning: Mean of empty slice\n",
      "  f_bar_k = np.nanmean(masked_field, axis = 0)\n",
      "/home/cchristo/proj_tapio/diurnal_research/diurnal_utils.py:233: RuntimeWarning: Mean of empty slice\n",
      "  f_bar_k = np.nanmean(masked_field, axis = 0)\n",
      "100%|██████████| 5856/5856 [00:10<00:00, 567.27it/s]\n",
      "/home/cchristo/proj_tapio/diurnal_research/diurnal_utils.py:262: RuntimeWarning: Mean of empty slice\n",
      "  f_bar_k = np.nanmean(masked_field, axis = 0)\n",
      "  0%|          | 0/120 [00:00<?, ?it/s]"
     ]
    },
    {
     "name": "stdout",
     "output_type": "stream",
     "text": [
      "Performing Cos Fit\n"
     ]
    },
    {
     "name": "stderr",
     "output_type": "stream",
     "text": [
      "100%|██████████| 120/120 [02:07<00:00,  1.06s/it]\n"
     ]
    },
    {
     "name": "stdout",
     "output_type": "stream",
     "text": [
      "Finished Cos Fit\n"
     ]
    },
    {
     "name": "stderr",
     "output_type": "stream",
     "text": [
      "  1%|▏         | 57/4416 [00:00<00:07, 567.89it/s]"
     ]
    },
    {
     "name": "stdout",
     "output_type": "stream",
     "text": [
      "MAM\n"
     ]
    },
    {
     "name": "stderr",
     "output_type": "stream",
     "text": [
      "100%|██████████| 4416/4416 [00:07<00:00, 558.71it/s]\n",
      "/home/cchristo/proj_tapio/diurnal_research/diurnal_utils.py:215: RuntimeWarning: Mean of empty slice\n",
      "  f_bar_k = np.nanmean(masked_field, axis = 0)\n",
      "/home/cchristo/proj_tapio/diurnal_research/diurnal_utils.py:233: RuntimeWarning: Mean of empty slice\n",
      "  f_bar_k = np.nanmean(masked_field, axis = 0)\n",
      "100%|██████████| 4416/4416 [00:07<00:00, 553.94it/s]\n",
      "/home/cchristo/proj_tapio/diurnal_research/diurnal_utils.py:262: RuntimeWarning: Mean of empty slice\n",
      "  f_bar_k = np.nanmean(masked_field, axis = 0)\n",
      "  0%|          | 0/120 [00:00<?, ?it/s]"
     ]
    },
    {
     "name": "stdout",
     "output_type": "stream",
     "text": [
      "Performing Cos Fit\n"
     ]
    },
    {
     "name": "stderr",
     "output_type": "stream",
     "text": [
      "100%|██████████| 120/120 [02:18<00:00,  1.16s/it]\n"
     ]
    },
    {
     "name": "stdout",
     "output_type": "stream",
     "text": [
      "Finished Cos Fit\n"
     ]
    },
    {
     "name": "stderr",
     "output_type": "stream",
     "text": [
      "  1%|          | 54/4368 [00:00<00:08, 535.35it/s]"
     ]
    },
    {
     "name": "stdout",
     "output_type": "stream",
     "text": [
      "SON\n"
     ]
    },
    {
     "name": "stderr",
     "output_type": "stream",
     "text": [
      "100%|██████████| 4368/4368 [00:08<00:00, 530.54it/s]\n",
      "/home/cchristo/proj_tapio/diurnal_research/diurnal_utils.py:215: RuntimeWarning: Mean of empty slice\n",
      "  f_bar_k = np.nanmean(masked_field, axis = 0)\n",
      "/home/cchristo/proj_tapio/diurnal_research/diurnal_utils.py:233: RuntimeWarning: Mean of empty slice\n",
      "  f_bar_k = np.nanmean(masked_field, axis = 0)\n",
      "100%|██████████| 4368/4368 [00:08<00:00, 528.85it/s]\n",
      "/home/cchristo/proj_tapio/diurnal_research/diurnal_utils.py:262: RuntimeWarning: Mean of empty slice\n",
      "  f_bar_k = np.nanmean(masked_field, axis = 0)\n",
      "  0%|          | 0/120 [00:00<?, ?it/s]"
     ]
    },
    {
     "name": "stdout",
     "output_type": "stream",
     "text": [
      "Performing Cos Fit\n"
     ]
    },
    {
     "name": "stderr",
     "output_type": "stream",
     "text": [
      "100%|██████████| 120/120 [02:18<00:00,  1.15s/it]\n"
     ]
    },
    {
     "name": "stdout",
     "output_type": "stream",
     "text": [
      "Finished Cos Fit\n"
     ]
    }
   ],
   "source": [
    "\n",
    "out_ds, out_ds_means = diurnal_analysis(ds, \n",
    "                                        field_id = 'precipitationCal', \n",
    "                                        grid_time_resolution_hours = 0.5,\n",
    "                                        time_resolution_hours = 0.5)"
   ]
  },
  {
   "cell_type": "code",
   "execution_count": 9,
   "metadata": {},
   "outputs": [],
   "source": [
    "out_ds.to_netcdf(save_output_dir + start_date + '_' + end_date + '_precip.nc')\n",
    "out_ds_means.to_netcdf(save_output_dir + start_date + '_' + end_date + '_precip_diurnal_means.nc')"
   ]
  },
  {
   "cell_type": "code",
   "execution_count": null,
   "metadata": {},
   "outputs": [],
   "source": []
  },
  {
   "cell_type": "code",
   "execution_count": null,
   "metadata": {},
   "outputs": [],
   "source": [
    "# make_four_panel(mu_season , \n",
    "# #                 cmap = plt.get_cmap('bwr'),\n",
    "#                 cmap = plt.get_cmap('gist_ncar'),\n",
    "#                 lats = ds['lat'].values, \n",
    "#                 lons = ds['lon'].values,\n",
    "#                 vmin = 0,\n",
    "#                 vmax = 0.8,\n",
    "#                 title = r'$\\mu$',\n",
    "# #                 axis = plt.axis([220, 300, 10, 50]), \n",
    "#                 save_fig_path= save_figs_dir + 'GFDL_CM4_means_pr.png')"
   ]
  },
  {
   "cell_type": "code",
   "execution_count": null,
   "metadata": {},
   "outputs": [],
   "source": []
  },
  {
   "cell_type": "code",
   "execution_count": null,
   "metadata": {},
   "outputs": [],
   "source": [
    "# make_four_panel(sigma_season , \n",
    "#                 lats = ds['lat'].values, \n",
    "#                 lons = ds['lon'].values,\n",
    "#                 vmin = 0, vmax = 0.2, \n",
    "# #                 cmap = plt.get_cmap('bwr'),\n",
    "#                 cmap = plt.get_cmap('gist_ncar'),\n",
    "#                 title = r'$\\sigma$',\n",
    "# #                 axis = plt.axis([220, 300, 10, 50]), \n",
    "#                 save_fig_path= save_figs_dir + 'GFDL_CM4_stds_pr.png')"
   ]
  },
  {
   "cell_type": "code",
   "execution_count": null,
   "metadata": {},
   "outputs": [],
   "source": [
    "# make_four_panel(ampl_season , \n",
    "#                 lats = ds['lat'].values, \n",
    "#                 lons = ds['lon'].values,\n",
    "# #                 vmax = 0.00003, \n",
    "# #                 cmap = plt.get_cmap('bwr'),\n",
    "#                 cmap = plt.get_cmap('gist_ncar'),\n",
    "#                 title = r'$A$',\n",
    "#                 vmin = 0, vmax = 0.2,\n",
    "# #                 axis = plt.axis([220, 300, 10, 50]), \n",
    "#                 save_fig_path= save_figs_dir + 'GFDL_CM4_ampl_pr.png')"
   ]
  },
  {
   "cell_type": "code",
   "execution_count": null,
   "metadata": {},
   "outputs": [],
   "source": [
    "# make_four_panel(phase_season , \n",
    "#                 lats = ds['lat'].values, \n",
    "#                 lons = ds['lon'].values,\n",
    "# #                 vmin = 0, vmax = 24, \n",
    "#                 cmap = plt.get_cmap('twilight'),\n",
    "#                 title = r'$\\Phi$',\n",
    "# #                 axis = plt.axis([220, 300, 10, 50]), \n",
    "#                 save_fig_path= save_figs_dir + 'GFDL_CM4_phase_pr.png')"
   ]
  },
  {
   "cell_type": "code",
   "execution_count": 18,
   "metadata": {},
   "outputs": [],
   "source": [
    "# out_ds = xr.Dataset()\n",
    "# out_ds['mu_season'] = make_da_from_dict(mu_season, ds)\n",
    "# out_ds['sigma_season'] = make_da_from_dict(sigma_season, ds)\n",
    "# out_ds['ampl_season'] = make_da_from_dict(ampl_season, ds)\n",
    "# out_ds['phase_season'] = make_da_from_dict(phase_season, ds)"
   ]
  },
  {
   "cell_type": "code",
   "execution_count": 22,
   "metadata": {},
   "outputs": [],
   "source": [
    "# out_ds.to_netcdf(save_output_dir + 'gpm_2000_2010_precip.nc')"
   ]
  }
 ],
 "metadata": {
  "kernelspec": {
   "display_name": "Python 3",
   "language": "python",
   "name": "python3"
  },
  "language_info": {
   "codemirror_mode": {
    "name": "ipython",
    "version": 3
   },
   "file_extension": ".py",
   "mimetype": "text/x-python",
   "name": "python",
   "nbconvert_exporter": "python",
   "pygments_lexer": "ipython3",
   "version": "3.6.10"
  }
 },
 "nbformat": 4,
 "nbformat_minor": 4
}
