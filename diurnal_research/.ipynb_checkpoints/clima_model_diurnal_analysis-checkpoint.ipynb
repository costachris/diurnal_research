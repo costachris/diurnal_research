{
 "cells": [
  {
   "cell_type": "code",
   "execution_count": 29,
   "metadata": {},
   "outputs": [],
   "source": [
    "import os\n",
    "import xarray as xr\n",
    "import numpy as np\n",
    "import matplotlib.pyplot as plt\n",
    "from tqdm import tqdm\n",
    "import pickle\n",
    "\n",
    "import ephem\n",
    "from datetime import datetime, time, timedelta\n",
    "from scipy import optimize\n",
    "from mpl_toolkits.basemap import Basemap\n",
    "\n",
    "import diurnal_config\n",
    "\n",
    "from diurnal_utils import *\n",
    "from fetch_model_helper import *\n",
    "\n",
    "%run diurnal_utils.py"
   ]
  },
  {
   "cell_type": "code",
   "execution_count": 4,
   "metadata": {},
   "outputs": [],
   "source": [
    "path_to_model_files = '/export/data1/zhaoyi/GCM_runs/AM4/c96L33_am4p0_cm4amip_nudgeuv2000/atmos/ts/3hr/'"
   ]
  },
  {
   "cell_type": "code",
   "execution_count": 5,
   "metadata": {},
   "outputs": [
    {
     "data": {
      "text/plain": [
       "['atmos.2000010100-2000123123.precip.nc',\n",
       " 'atmos.2001010100-2001123123.precip.nc',\n",
       " 'atmos.2002010100-2002123123.precip.nc',\n",
       " 'atmos.2003010100-2003123123.precip.nc',\n",
       " 'atmos.2004010100-2004123123.precip.nc',\n",
       " 'atmos.2005010100-2005123123.precip.nc',\n",
       " 'atmos.2006010100-2006123123.precip.nc',\n",
       " 'atmos.2007010100-2007123123.precip.nc',\n",
       " 'atmos.2008010100-2008123123.precip.nc',\n",
       " 'atmos.2009010100-2009123123.precip.nc',\n",
       " 'atmos.2010010100-2010123123.precip.nc',\n",
       " 'atmos.2011010100-2011123123.precip.nc',\n",
       " 'atmos.2012010100-2012123123.precip.nc',\n",
       " 'atmos.2013010100-2013123123.precip.nc',\n",
       " 'atmos.2014010100-2014123123.precip.nc',\n",
       " 'atmos.2015010100-2015123123.precip.nc',\n",
       " 'atmos.2016010100-2016123123.precip.nc',\n",
       " 'atmos.2017010100-2017123123.precip.nc',\n",
       " 'atmos.2018010100-2018123123.precip.nc',\n",
       " 'atmos.2019010100-2019123123.precip.nc']"
      ]
     },
     "execution_count": 5,
     "metadata": {},
     "output_type": "execute_result"
    }
   ],
   "source": [
    "os.listdir(path_to_model_files)"
   ]
  },
  {
   "cell_type": "code",
   "execution_count": null,
   "metadata": {},
   "outputs": [
    {
     "name": "stdout",
     "output_type": "stream",
     "text": [
      "DJF\n"
     ]
    },
    {
     "name": "stderr",
     "output_type": "stream",
     "text": [
      "100%|██████████| 14440/14440 [00:48<00:00, 295.30it/s]\n"
     ]
    },
    {
     "name": "stdout",
     "output_type": "stream",
     "text": [
      "float32\n"
     ]
    },
    {
     "name": "stderr",
     "output_type": "stream",
     "text": [
      "100%|██████████| 14440/14440 [00:53<00:00, 271.66it/s]\n",
      "/home/cchristo/proj_tapio/diurnal_research/diurnal_utils.py:875: RuntimeWarning: Mean of empty slice\n",
      "  f_bar_ks[hour_i] = f_bar_k\n"
     ]
    }
   ],
   "source": [
    "ds = xr.open_mfdataset(path_to_model_files + '*.nc', combine='by_coords')\n",
    "# ds = ds.sel(time = slice(start_date, end_date))\n",
    "ds = ds.sel(lat= slice(-60, 60))\n",
    "\n",
    "# # perform diurnal analysis \n",
    "# print('Performing diurnal analysis... ')\n",
    "ds_sub = ds['precip'].to_dataset()\n",
    "\n",
    "out_ds, out_ds_means = diurnal_analysis_2_mode_seasonal(ds_sub, \n",
    "                                        field_id = 'precip', \n",
    "                                        grid_time_resolution_hours = 3,\n",
    "                                        time_resolution_hours = 0.1)\n",
    "# #             # add some metadata \n",
    "# out_ds.attrs['input_dataset_paths'] = path_to_model_files\n",
    "# out_ds_means.attrs['input_dataset_paths'] = path_to_model_files"
   ]
  },
  {
   "cell_type": "markdown",
   "metadata": {},
   "source": [
    "### save results"
   ]
  },
  {
   "cell_type": "code",
   "execution_count": null,
   "metadata": {},
   "outputs": [],
   "source": [
    "output_rel_dir = '/export/data1/cchristo/diurnal_analysis_results/clima_2_mode/20_yr/'"
   ]
  },
  {
   "cell_type": "code",
   "execution_count": null,
   "metadata": {},
   "outputs": [],
   "source": [
    "out_ds.to_netcdf(out_rel_dir)"
   ]
  },
  {
   "cell_type": "code",
   "execution_count": 10,
   "metadata": {},
   "outputs": [],
   "source": [
    "precip_mean = ds['precip'].mean(dim = 'time')"
   ]
  },
  {
   "cell_type": "code",
   "execution_count": 27,
   "metadata": {},
   "outputs": [
    {
     "data": {
      "text/plain": [
       "cftime._cftime.DatetimeJulian"
      ]
     },
     "execution_count": 27,
     "metadata": {},
     "output_type": "execute_result"
    }
   ],
   "source": [
    "# ds_sub.isel(time = 0)['precip'].plot.imshow()\n",
    "type(ds_sub.time[0].item())"
   ]
  }
 ],
 "metadata": {
  "kernelspec": {
   "display_name": "Python 3",
   "language": "python",
   "name": "python3"
  },
  "language_info": {
   "codemirror_mode": {
    "name": "ipython",
    "version": 3
   },
   "file_extension": ".py",
   "mimetype": "text/x-python",
   "name": "python",
   "nbconvert_exporter": "python",
   "pygments_lexer": "ipython3",
   "version": "3.6.10"
  }
 },
 "nbformat": 4,
 "nbformat_minor": 4
}
