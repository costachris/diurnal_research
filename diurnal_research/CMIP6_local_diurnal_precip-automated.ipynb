{
 "cells": [
  {
   "cell_type": "code",
   "execution_count": null,
   "metadata": {},
   "outputs": [],
   "source": [
    "import os\n",
    "import xarray as xr\n",
    "import numpy as np\n",
    "import matplotlib.pyplot as plt\n",
    "from tqdm import tqdm\n",
    "\n",
    "import ephem\n",
    "from datetime import datetime, time, timedelta\n",
    "from scipy import optimize\n",
    "from mpl_toolkits.basemap import Basemap\n",
    "\n",
    "import diurnal_config\n",
    "\n",
    "from diurnal_utils import *\n",
    "from fetch_model_helper import *\n",
    "# %run fetch_model_helper.py"
   ]
  },
  {
   "cell_type": "markdown",
   "metadata": {},
   "source": [
    "# Notebook for exploring local CMIP6 data downloaded with `cmip6_downloader.py`"
   ]
  },
  {
   "cell_type": "code",
   "execution_count": 23,
   "metadata": {},
   "outputs": [],
   "source": [
    "out_folder_identifier = 'bin_pt2_hr' #label to append to output path\n",
    "skip_if_folder_exists =  False # used for processing models in parallel\n",
    "\n",
    "\n",
    "\n",
    "# cmip_identifier = 'CMIP6'\n",
    "# start_date = '1985-01'\n",
    "# end_date = '2006-01'\n",
    "\n",
    "cmip_identifier = 'CMIP5'\n",
    "start_date = '1985-01'\n",
    "end_date = '2006-01'\n",
    "\n",
    "#TODO overwrite_existing_files = False"
   ]
  },
  {
   "cell_type": "code",
   "execution_count": 24,
   "metadata": {},
   "outputs": [],
   "source": [
    "# get all available model names\n",
    "rel_cmip6_path= '/export/data1/cchristo/CMIP6_precip/pr_3hr_historical/'\n",
    "rel_cmip5_path = '/export/data1/cchristo/CMIP5_precip/pr_3hr_historical/'\n",
    "unique_cmip6_models = get_unique_models(rel_cmip6_path)\n",
    "unique_cmip5_models = get_unique_models(rel_cmip5_path)"
   ]
  },
  {
   "cell_type": "code",
   "execution_count": 35,
   "metadata": {},
   "outputs": [],
   "source": [
    "# unique_cmip6_models\n",
    "# unique_cmip6_models\n",
    "# len(unique_cmip6_models)"
   ]
  },
  {
   "cell_type": "code",
   "execution_count": 26,
   "metadata": {},
   "outputs": [],
   "source": [
    "\n",
    "\n",
    "if cmip_identifier == 'CMIP6':\n",
    "    all_model_names = unique_cmip6_models\n",
    "    cmip_rel_dir = rel_cmip6_path\n",
    "\n",
    "elif cmip_identifier == 'CMIP5':\n",
    "    all_model_names = unique_cmip5_models\n",
    "    cmip_rel_dir = rel_cmip5_path\n",
    "    \n"
   ]
  },
  {
   "cell_type": "code",
   "execution_count": 30,
   "metadata": {},
   "outputs": [
    {
     "data": {
      "text/plain": [
       "['UKESM1-0-LL',\n",
       " 'AWI-CM-1-1-MR',\n",
       " 'BCC-CSM2-MR',\n",
       " 'MIROC-ES2L',\n",
       " 'EC-Earth3-Veg-LR',\n",
       " 'GISS-E2-1-G',\n",
       " 'CanESM5',\n",
       " 'CNRM-CM6-1-HR',\n",
       " 'NESM3',\n",
       " 'CMCC-CM2-SR5',\n",
       " 'CNRM-CM6-1',\n",
       " 'ACCESS-CM2',\n",
       " 'SAM0-UNICON',\n",
       " 'EC-Earth3-Veg',\n",
       " 'EC-Earth3',\n",
       " 'GFDL-ESM4',\n",
       " 'AWI-ESM-1-1-LR',\n",
       " 'IPSL-CM6A-LR',\n",
       " 'MIROC6',\n",
       " 'KACE-1-0-G',\n",
       " 'MPI-ESM-1-2-HAM',\n",
       " 'MPI-ESM1-2-HR',\n",
       " 'MRI-ESM2-0',\n",
       " 'FGOALS-g3',\n",
       " 'GFDL-CM4',\n",
       " 'MPI-ESM1-2-LR',\n",
       " 'CNRM-ESM2-1',\n",
       " 'ACCESS-ESM1-5']"
      ]
     },
     "execution_count": 30,
     "metadata": {},
     "output_type": "execute_result"
    }
   ],
   "source": [
    "# get_path_to_desired_model_cmip6(cmip_rel_dir, \n",
    "#                                   desired_model= 'CanESM5',\n",
    "#                                   desired_grid_types = ('gn', 'gr', 'gr1'))\n",
    "list(all_model_names)"
   ]
  },
  {
   "cell_type": "code",
   "execution_count": 13,
   "metadata": {},
   "outputs": [
    {
     "name": "stdout",
     "output_type": "stream",
     "text": [
      "Started...  HadGEM2-ES\n",
      "Opening data...\n",
      "Performing diurnal analysis... \n",
      "DJF\n"
     ]
    },
    {
     "name": "stderr",
     "output_type": "stream",
     "text": [
      "100%|██████████| 15120/15120 [00:33<00:00, 453.84it/s]\n",
      "100%|██████████| 15120/15120 [00:33<00:00, 456.15it/s]\n",
      "/home/cchristo/proj_tapio/diurnal_research/diurnal_utils.py:329: RuntimeWarning: Mean of empty slice\n",
      "  f_bar_k = np.nanmean(masked_field, axis = 0)\n",
      "  0%|          | 0/97 [00:00<?, ?it/s]"
     ]
    },
    {
     "name": "stdout",
     "output_type": "stream",
     "text": [
      "Performing Cos Fit\n"
     ]
    },
    {
     "name": "stderr",
     "output_type": "stream",
     "text": [
      "100%|██████████| 97/97 [00:44<00:00,  2.17it/s]\n"
     ]
    },
    {
     "name": "stdout",
     "output_type": "stream",
     "text": [
      "Finished Cos Fit\n",
      "JJA\n"
     ]
    },
    {
     "name": "stderr",
     "output_type": "stream",
     "text": [
      "100%|██████████| 15120/15120 [00:32<00:00, 462.35it/s]\n",
      "100%|██████████| 15120/15120 [00:32<00:00, 467.17it/s]\n",
      "/home/cchristo/proj_tapio/diurnal_research/diurnal_utils.py:329: RuntimeWarning: Mean of empty slice\n",
      "  f_bar_k = np.nanmean(masked_field, axis = 0)\n",
      "  0%|          | 0/97 [00:00<?, ?it/s]"
     ]
    },
    {
     "name": "stdout",
     "output_type": "stream",
     "text": [
      "Performing Cos Fit\n"
     ]
    },
    {
     "name": "stderr",
     "output_type": "stream",
     "text": [
      "100%|██████████| 97/97 [00:44<00:00,  2.18it/s]\n"
     ]
    },
    {
     "name": "stdout",
     "output_type": "stream",
     "text": [
      "Finished Cos Fit\n",
      "MAM\n"
     ]
    },
    {
     "name": "stderr",
     "output_type": "stream",
     "text": [
      "100%|██████████| 15120/15120 [00:32<00:00, 470.10it/s]\n",
      "100%|██████████| 15120/15120 [00:32<00:00, 469.13it/s]\n",
      "/home/cchristo/proj_tapio/diurnal_research/diurnal_utils.py:329: RuntimeWarning: Mean of empty slice\n",
      "  f_bar_k = np.nanmean(masked_field, axis = 0)\n",
      "  0%|          | 0/97 [00:00<?, ?it/s]"
     ]
    },
    {
     "name": "stdout",
     "output_type": "stream",
     "text": [
      "Performing Cos Fit\n"
     ]
    },
    {
     "name": "stderr",
     "output_type": "stream",
     "text": [
      "100%|██████████| 97/97 [00:43<00:00,  2.21it/s]\n"
     ]
    },
    {
     "name": "stdout",
     "output_type": "stream",
     "text": [
      "Finished Cos Fit\n",
      "SON\n"
     ]
    },
    {
     "name": "stderr",
     "output_type": "stream",
     "text": [
      "100%|██████████| 15120/15120 [00:32<00:00, 465.90it/s]\n",
      "100%|██████████| 15120/15120 [00:33<00:00, 456.29it/s]\n",
      "/home/cchristo/proj_tapio/diurnal_research/diurnal_utils.py:329: RuntimeWarning: Mean of empty slice\n",
      "  f_bar_k = np.nanmean(masked_field, axis = 0)\n",
      "  0%|          | 0/97 [00:00<?, ?it/s]"
     ]
    },
    {
     "name": "stdout",
     "output_type": "stream",
     "text": [
      "Performing Cos Fit\n"
     ]
    },
    {
     "name": "stderr",
     "output_type": "stream",
     "text": [
      "100%|██████████| 97/97 [00:48<00:00,  2.00it/s]\n"
     ]
    },
    {
     "name": "stdout",
     "output_type": "stream",
     "text": [
      "Finished Cos Fit\n",
      "Saving results... \n",
      "DONE!\n"
     ]
    }
   ],
   "source": [
    "\n",
    "for model_name in list(all_model_names):\n",
    "    print('Started... ', model_name)\n",
    "\n",
    "    save_output_dir = '/export/data1/cchristo/diurnal_analysis_results/' + \\\n",
    "        cmip_identifier + '_'+ out_folder_identifier + '/' + model_name + '/'\n",
    "    \n",
    "    save_output_path = save_output_dir + start_date + '_' + end_date + '_precip.nc'\n",
    "    save_output_path_means = save_output_dir + start_date + '_' + end_date + '_precip_diurnal_means.nc'\n",
    "    \n",
    "    # skip folder if it's already been created (another script may be processing it)\n",
    "    skip_model_iteration = False\n",
    "    if skip_if_folder_exists & os.path.exists(save_output_dir):\n",
    "        skip_model_iteration = True\n",
    "\n",
    "    else:\n",
    "         # make dirs if they don't already exist\n",
    "        if not os.path.exists(save_output_dir):\n",
    "            os.makedirs(save_output_dir)\n",
    "    \n",
    "    # if files already exist, skip\n",
    "    if (not os.path.exists(save_output_path)) & \\\n",
    "        (not os.path.exists(save_output_path_means)) & \\\n",
    "        (not skip_model_iteration):\n",
    "   \n",
    "        try:\n",
    "            #### Load data\n",
    "            if cmip_identifier == 'CMIP6':\n",
    "                path_to_cmip_files =  get_path_to_desired_model_cmip6(cmip_rel_dir, \n",
    "                                      desired_model= model_name,\n",
    "                                      desired_ensemble_member = ('r1i1p1f1', 'r1i1p2f1','r1i1p1f2'),\n",
    "                                      desired_grid_types = ('gn', 'gr', 'gr1', 'gr2'))\n",
    "            elif cmip_identifier == 'CMIP5':\n",
    "                path_to_cmip_files = get_path_to_desired_model_cmip5(cmip_rel_dir, \n",
    "                                  desired_model=model_name,\n",
    "                                  desired_ensemble_member = ('r1i1p1','r6i1p1','r2i1p1'))\n",
    "            # subset lat/lon and time\n",
    "            print('Opening data...')\n",
    "            ds = xr.open_mfdataset(path_to_cmip_files, combine='by_coords')\n",
    "            ds = ds.sel(time = slice(start_date, end_date))\n",
    "            ds = ds.sel(lat= slice(-60, 60))\n",
    "\n",
    "            # perform diurnal analysis \n",
    "            print('Performing diurnal analysis... ')\n",
    "            ds_sub = ds['pr'].to_dataset()\n",
    "\n",
    "            out_ds, out_ds_means = diurnal_analysis(ds_sub, \n",
    "                                                    field_id = 'pr', \n",
    "                                                    grid_time_resolution_hours = 3,\n",
    "                                                    time_resolution_hours = 0.2)\n",
    "#             # add some metadata \n",
    "            out_ds.attrs['input_dataset_paths'] = path_to_cmip_files\n",
    "            out_ds_means.attrs['input_dataset_paths'] = path_to_cmip_files\n",
    "            \n",
    "            # save results \n",
    "            print('Saving results... ')\n",
    "            out_ds.to_netcdf(save_output_path)\n",
    "            out_ds_means.to_netcdf(save_output_path_means)\n",
    "            \n",
    "        except Exception as e:\n",
    "            print('Could not process ' + model_name)\n",
    "            print(e)\n",
    "\n",
    "print('DONE!')"
   ]
  },
  {
   "cell_type": "code",
   "execution_count": 7,
   "metadata": {},
   "outputs": [
    {
     "data": {
      "text/plain": [
       "cftime.Datetime360Day(1985-01-01 01:30:00)"
      ]
     },
     "execution_count": 7,
     "metadata": {},
     "output_type": "execute_result"
    }
   ],
   "source": [
    "ds.isel(time = 0)['time'].values.item()"
   ]
  },
  {
   "cell_type": "code",
   "execution_count": 12,
   "metadata": {},
   "outputs": [],
   "source": [
    "dt_i = datetime.strptime(str(ds.isel(time = 0)['time'].values.item()), '%Y-%m-%d %H:%M:%S')"
   ]
  },
  {
   "cell_type": "code",
   "execution_count": 13,
   "metadata": {},
   "outputs": [
    {
     "data": {
      "text/plain": [
       "datetime.datetime(1985, 1, 1, 1, 30)"
      ]
     },
     "execution_count": 13,
     "metadata": {},
     "output_type": "execute_result"
    }
   ],
   "source": [
    "dt_i"
   ]
  },
  {
   "cell_type": "code",
   "execution_count": null,
   "metadata": {},
   "outputs": [],
   "source": []
  },
  {
   "cell_type": "code",
   "execution_count": 112,
   "metadata": {},
   "outputs": [],
   "source": [
    "# %run fetch_model_helper.py\n",
    "# path_to_cmip_files =  get_path_to_desired_model_cmip6(cmip_rel_dir, \n",
    "#                                       desired_model= 'EC-Earth3-Veg-LR', #model_name,\n",
    "#                                       desired_ensemble_member = ('r1i1p1f1', 'r1i1p2f1','r1i1p1f2'),\n",
    "#                                       desired_grid_types = ('gn', 'gr', 'gr1', 'gr2'))"
   ]
  },
  {
   "cell_type": "code",
   "execution_count": 101,
   "metadata": {},
   "outputs": [],
   "source": [
    "# path_to_cmip_files\n",
    "# stacked = np.stack(list(average_cycle_season.values()))\n",
    "# save_output_dir + start_date + '_' + end_date + '_precip.nc'"
   ]
  },
  {
   "cell_type": "code",
   "execution_count": 102,
   "metadata": {},
   "outputs": [],
   "source": [
    "# print(stacked.shape)\n",
    "# # plt.plot(stacked[0,:,100,100])\n",
    "# plt.plot(average_cycle_season['DJF'][:,50,50])"
   ]
  },
  {
   "cell_type": "code",
   "execution_count": 32,
   "metadata": {},
   "outputs": [],
   "source": [
    "# res.isel(season = 0, lat = 50, lon = 50).plot()"
   ]
  },
  {
   "cell_type": "code",
   "execution_count": null,
   "metadata": {},
   "outputs": [],
   "source": []
  },
  {
   "cell_type": "code",
   "execution_count": 35,
   "metadata": {},
   "outputs": [],
   "source": [
    "# FLUX_TO_MM_HR = 60*60"
   ]
  },
  {
   "cell_type": "code",
   "execution_count": 6,
   "metadata": {},
   "outputs": [],
   "source": [
    "# model_list = os.listdir(path_to_cmip_dirs)\n",
    "# print(model_list)\n",
    "# path_to_cmip_files = path_to_cmip_dirs + 'GFDL-CM4/'\n",
    "# file_list = os.listdir(path_to_cmip_files)\n",
    "# for file in file_list: print(file)\n"
   ]
  },
  {
   "cell_type": "code",
   "execution_count": 78,
   "metadata": {},
   "outputs": [],
   "source": [
    "\n",
    "# ds = xr.open_mfdataset(path_to_cmip_files, combine='by_coords')\n",
    "\n",
    "# # ds = ds.sel(time=slice('1986','2005'))\n",
    "# # ds = ds.sel(time = slice('2000-06', '2001-05'))\n",
    "# ds = ds.sel(time = slice('1999-01', '2015-01'))\n",
    "# ds = ds.sel(lat= slice(-60, 60))"
   ]
  },
  {
   "cell_type": "code",
   "execution_count": 77,
   "metadata": {},
   "outputs": [],
   "source": [
    "# ds_sub = ds['pr'].to_dataset()\n",
    "# mu_season, sigma_season, ampl_season, phase_season = diurnal_analysis(ds_sub, \n",
    "#                                                                       field_id = 'pr', \n",
    "#                                                                       grid_time_resolution_hours = 3,\n",
    "#                                                                       time_resolution_hours = 1)"
   ]
  },
  {
   "cell_type": "code",
   "execution_count": 76,
   "metadata": {},
   "outputs": [],
   "source": [
    "# mu_mm_hr = {key:FLUX_TO_MM_HR*val for key, val in mu_season.items()}\n",
    "# make_four_panel(mu_mm_hr, \n",
    "#                 lats = ds['lat'].values, \n",
    "#                 lons = ds['lon'].values,\n",
    "# #                 cmap = plt.get_cmap('bwr'),\n",
    "#                 cmap = plt.get_cmap('gist_ncar'),\n",
    "#                 vmin = 0,\n",
    "#                 vmax = 0.8,\n",
    "#                 title = r'$\\mu$',\n",
    "# #                 axis = plt.axis([220, 300, 10, 50]), \n",
    "#                 save_fig_path= save_figs_dir + 'GFDL_CM4_means_pr' + start_date + '_' + end_date +'.png')"
   ]
  },
  {
   "cell_type": "code",
   "execution_count": null,
   "metadata": {},
   "outputs": [],
   "source": []
  },
  {
   "cell_type": "code",
   "execution_count": 75,
   "metadata": {},
   "outputs": [],
   "source": [
    "# sigma_mm_hr = {key:FLUX_TO_MM_HR*val for key, val in sigma_season.items()}\n",
    "\n",
    "\n",
    "# make_four_panel(sigma_mm_hr , \n",
    "#                 lats = ds['lat'].values, \n",
    "#                 lons = ds['lon'].values,\n",
    "# #                 vmax = 0.1, \n",
    "#                 vmin = 0, vmax = 0.2, \n",
    "# #                 cmap = plt.get_cmap('bwr'),\n",
    "#                 cmap = plt.get_cmap('gist_ncar'),\n",
    "#                 title = r'$\\sigma$',\n",
    "# #                 axis = plt.axis([220, 300, 10, 50]), \n",
    "#                 save_fig_path= save_figs_dir + 'GFDL_CM4_stds_pr.png')"
   ]
  },
  {
   "cell_type": "code",
   "execution_count": 74,
   "metadata": {},
   "outputs": [],
   "source": [
    "# ampl_mm_hr = {key:FLUX_TO_MM_HR*val for key, val in ampl_season.items()}\n",
    "\n",
    "\n",
    "\n",
    "# make_four_panel(ampl_mm_hr, \n",
    "#                 lats = ds['lat'].values, \n",
    "#                 lons = ds['lon'].values,\n",
    "# #                 vmax = 0.000015, \n",
    "# #                 cmap = plt.get_cmap('bwr'),\n",
    "#                 vmin = 0, vmax = 0.2, \n",
    "#                 cmap = plt.get_cmap('gist_ncar'),\n",
    "#                 title = r'$A$',\n",
    "# #                 axis = plt.axis([220, 300, 10, 50]), \n",
    "#                 save_fig_path= save_figs_dir + 'GFDL_CM4_ampl_pr.png')"
   ]
  },
  {
   "cell_type": "code",
   "execution_count": 73,
   "metadata": {},
   "outputs": [],
   "source": [
    "# make_four_panel(phase_season , \n",
    "#                 lats = ds['lat'].values, \n",
    "#                 lons = ds['lon'].values,\n",
    "#                 vmin = 0, vmax = 24, \n",
    "#                 cmap = plt.get_cmap('twilight'),\n",
    "#                 title = r'$\\Phi$',\n",
    "# #                 axis = plt.axis([220, 300, 10, 50]), \n",
    "#                 save_fig_path= save_figs_dir + 'GFDL_CM4_phase_pr.png')"
   ]
  },
  {
   "cell_type": "code",
   "execution_count": 71,
   "metadata": {},
   "outputs": [],
   "source": [
    "# out_ds = xr.Dataset()\n",
    "# out_ds['mu_season'] = make_da_from_dict(mu_season, ds)\n",
    "# out_ds['sigma_season'] = make_da_from_dict(sigma_season,ds)\n",
    "# out_ds['ampl_season'] = make_da_from_dict(ampl_season, ds)\n",
    "# out_ds['phase_season'] = make_da_from_dict(phase_season,ds)\n",
    "# out_ds.to_netcdf(save_output_dir + 'gfdl_cm4_2000_2010_precip.nc')"
   ]
  },
  {
   "cell_type": "code",
   "execution_count": 72,
   "metadata": {},
   "outputs": [],
   "source": [
    "# out_ds.to_netcdf(save_output_dir + 'gfdl_cm4_2000_2010_precip.nc')"
   ]
  }
 ],
 "metadata": {
  "kernelspec": {
   "display_name": "Python 3",
   "language": "python",
   "name": "python3"
  },
  "language_info": {
   "codemirror_mode": {
    "name": "ipython",
    "version": 3
   },
   "file_extension": ".py",
   "mimetype": "text/x-python",
   "name": "python",
   "nbconvert_exporter": "python",
   "pygments_lexer": "ipython3",
   "version": "3.6.10"
  }
 },
 "nbformat": 4,
 "nbformat_minor": 4
}
