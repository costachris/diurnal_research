{
 "cells": [
  {
   "cell_type": "markdown",
   "metadata": {},
   "source": [
    "## Tools for calculating means of GPM fields"
   ]
  },
  {
   "cell_type": "code",
   "execution_count": 1,
   "metadata": {},
   "outputs": [],
   "source": [
    "import os\n",
    "from glob import glob\n",
    "import xarray as xr\n",
    "import numpy as np\n",
    "import matplotlib.pyplot as plt\n",
    "from tqdm import tqdm\n",
    "import h5py\n",
    "\n",
    "import math\n",
    "import ephem\n",
    "from datetime import datetime, time, timedelta\n",
    "from math import pi, cos, sin\n",
    "from scipy import optimize\n",
    "from joblib import Parallel, delayed\n",
    "from mpl_toolkits.basemap import Basemap\n",
    "# import xesmf as xr\n",
    "\n",
    "from diurnal_utils import *\n",
    "# %run diurnal_utils.py"
   ]
  },
  {
   "cell_type": "code",
   "execution_count": 16,
   "metadata": {},
   "outputs": [],
   "source": [
    "start_date = '2000-06'\n",
    "end_date =  '2011-06'\n",
    "\n",
    "\n",
    "input_dir =  '/export/data1/cchristo/gpm_data/gpmdata_regridded_gfdl_cm4/'\n",
    "# output_dir = "
   ]
  },
  {
   "cell_type": "code",
   "execution_count": 18,
   "metadata": {},
   "outputs": [],
   "source": [
    "# model_dir = '/export/data1/cchristo/gpm_data/gpmdata/'\n",
    "model_dir = '/export/data1/cchristo/gpm_data/gpmdata_regridded_gfdl_cm4/'\n",
    "\n",
    "years_to_include = range(2000, 2016)\n",
    "years_to_include = [str(year_ii) for year_ii in years_to_include]\n",
    "\n",
    "result = [y for x in os.walk(model_dir) for y in glob(os.path.join(x[0], '*.nc'))]\n",
    "\n",
    "\n",
    "# filter paths based on year\n",
    "result_filt =[]\n",
    "for path_i in result: \n",
    "    if (os.path.dirname(path_i).split('/')[-4] in years_to_include):\n",
    "        result_filt.append(path_i)\n",
    "\n",
    "# get only certain years\n",
    "# result = sorted(result)\n",
    "result = sorted(result_filt)"
   ]
  },
  {
   "cell_type": "code",
   "execution_count": 19,
   "metadata": {},
   "outputs": [
    {
     "name": "stdout",
     "output_type": "stream",
     "text": [
      "CPU times: user 25min 8s, sys: 1min 7s, total: 26min 16s\n",
      "Wall time: 49min 54s\n"
     ]
    }
   ],
   "source": [
    "%%time\n",
    "ds = xr.open_mfdataset(result, combine='nested', concat_dim = 'time')\n",
    "ds = ds.sel(time = slice(start_date, end_date))\n",
    "ds = ds.sel(lat= slice(-60, 60))\n"
   ]
  },
  {
   "cell_type": "code",
   "execution_count": 21,
   "metadata": {},
   "outputs": [],
   "source": [
    "ds_mean = ds.mean(dim = 'time')"
   ]
  },
  {
   "cell_type": "code",
   "execution_count": 24,
   "metadata": {},
   "outputs": [],
   "source": [
    "ds_mean.to_netcdf('/export/data1/cchristo/gpm_data/averages/average_10yr.nc')"
   ]
  },
  {
   "cell_type": "code",
   "execution_count": null,
   "metadata": {},
   "outputs": [],
   "source": []
  },
  {
   "cell_type": "code",
   "execution_count": null,
   "metadata": {},
   "outputs": [],
   "source": []
  }
 ],
 "metadata": {
  "kernelspec": {
   "display_name": "Python 3",
   "language": "python",
   "name": "python3"
  },
  "language_info": {
   "codemirror_mode": {
    "name": "ipython",
    "version": 3
   },
   "file_extension": ".py",
   "mimetype": "text/x-python",
   "name": "python",
   "nbconvert_exporter": "python",
   "pygments_lexer": "ipython3",
   "version": "3.6.10"
  }
 },
 "nbformat": 4,
 "nbformat_minor": 4
}
