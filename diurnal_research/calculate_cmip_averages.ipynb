{
 "cells": [
  {
   "cell_type": "markdown",
   "metadata": {},
   "source": [
    "# Utilities for calculating CMIP averages, first created to process TOA fluxes. \n",
    "# Computes both seasonal and total averages. \n",
    "\n"
   ]
  },
  {
   "cell_type": "code",
   "execution_count": 39,
   "metadata": {},
   "outputs": [],
   "source": [
    "import os\n",
    "import xarray as xr\n",
    "import numpy as np\n",
    "import matplotlib.pyplot as plt\n",
    "from tqdm import tqdm\n",
    "import shutil\n",
    "# from fetch_model_helper import *\n",
    "%run fetch_model_helper.py\n",
    "import diurnal_config\n",
    "%run cmip_metrics.py"
   ]
  },
  {
   "cell_type": "code",
   "execution_count": null,
   "metadata": {},
   "outputs": [],
   "source": []
  },
  {
   "cell_type": "code",
   "execution_count": 41,
   "metadata": {},
   "outputs": [],
   "source": [
    "# start_date = '1985-01'\n",
    "# end_date = '2006-01'\n",
    "\n",
    "# CMIP6\n",
    "# start_date = '2000-01'\n",
    "# end_date = '2015-01'\n",
    "\n",
    "# CMIP6 30 year\n",
    "start_date = '1985-01'\n",
    "end_date = '2015-01'\n",
    "\n",
    "# # CMIP5 15 year\n",
    "# cmip_identifier = 'CMIP5'\n",
    "# start_date = '1991-01'\n",
    "# end_date = '2006-01'\n",
    "\n",
    "# ## CMIP5 30 year\n",
    "# cmip_identifier = 'CMIP5'\n",
    "# start_date = '1976-01'\n",
    "# end_date = '2006-01'\n",
    "\n",
    "\n",
    "# cmip_identifier = 'CMIP5'\n",
    "cmip_identifier = 'CMIP6'\n",
    "# field_name = 'clt'\n",
    "field_name = 'pr'"
   ]
  },
  {
   "cell_type": "code",
   "execution_count": 45,
   "metadata": {},
   "outputs": [],
   "source": [
    "# rel_cmip6_path= '/export/data1/cchristo/CMIP6_clouds/clt_mon_historical/'\n",
    "# rel_cmip6_path= '/export/data1/cchristo/CMIP6_clouds/cl_mon_historical/'\n",
    "rel_cmip6_path= '/export/data1/cchristo/CMIP6_precip/pr_3hr_historical/'\n",
    "# rel_cmip6_path = '/export/data1/cchristo/CMIP6_rh/hur_mon_historical/'\n",
    "\n",
    "# rel_cmip5_path= '/export/data1/cchristo/CMIP5_clouds/clt_mon_historical/'\n",
    "# rel_cmip5_path= '/export/data1/cchristo/CMIP5_precip/pr_3hr_historical/'\n",
    "\n",
    "\n",
    "save_output_rel_dir = '/export/data1/cchristo/CMIP6_precip/averages/time_averages/period/pr_3hr_30yr/'\n",
    "# save_output_rel_dir = '/export/data1/cchristo/CMIP6_rh/averages/time_averages/period/rh_500/'\n",
    "# save_output_rel_dir = '/export/data1/cchristo/CMIP6_clouds/averages/clt_averages/period/clt/'\n",
    "# save_output_rel_dir = '/export/data1/cchristo/CMIP6_clouds/averages/time_averages/period/clt_30yr/'\n",
    "\n",
    "# save_output_rel_dir = '/export/data1/cchristo/CMIP6_clouds/averages/time_averages/period/clt/'\n",
    "# save_output_rel_dir = '/export/data1/cchristo/CMIP5_clouds/averages/time_averages/period/clt/'\n",
    "# save_output_rel_dir = '/export/data1/cchristo/CMIP5_clouds/averages/time_averages/period/clt_30yr/'\n",
    "# save_output_rel_dir = '/export/data1/cchristo/CMIP5_precip/averages/time_averages/period/pr_3hr_30yr/'\n",
    "\n",
    "unique_cmip6_models = get_unique_models(rel_cmip6_path)\n",
    "# unique_cmip5_models = get_unique_models(rel_cmip5_path)\n",
    "\n",
    "cmip_rel_dir = rel_cmip6_path"
   ]
  },
  {
   "cell_type": "code",
   "execution_count": 46,
   "metadata": {},
   "outputs": [
    {
     "name": "stdout",
     "output_type": "stream",
     "text": [
      "{'AWI-CM-1-1-MR', 'UKESM1-0-LL', 'MPI-ESM1-2-HR', 'MPI-ESM-1-2-HAM', 'CMCC-CM2-SR5', 'KACE-1-0-G', 'AWI-ESM-1-1-LR', 'GISS-E2-1-G', 'FGOALS-g3', 'ACCESS-CM2', 'EC-Earth3-Veg-LR', 'SAM0-UNICON', 'CanESM5', 'MIROC6', 'MRI-ESM2-0', 'EC-Earth3-Veg', 'MPI-ESM1-2-LR', 'CNRM-CM6-1-HR', 'CNRM-ESM2-1', 'ACCESS-ESM1-5', 'IPSL-CM6A-LR', 'NESM3', 'MIROC-ES2L', 'GFDL-CM4', 'CNRM-CM6-1', 'BCC-CSM2-MR', 'GFDL-ESM4', 'EC-Earth3'}\n"
     ]
    }
   ],
   "source": [
    "# print(unique_cmip5_models)\n",
    "print(unique_cmip6_models)"
   ]
  },
  {
   "cell_type": "code",
   "execution_count": 39,
   "metadata": {},
   "outputs": [],
   "source": [
    "\n",
    "# unique_cmip6_models.intersection(set(cmip6_ecs.keys()))"
   ]
  },
  {
   "cell_type": "code",
   "execution_count": 50,
   "metadata": {},
   "outputs": [],
   "source": [
    "ds = xr.open_dataset(rel_cmip6_path + 'cl_Amon_ACCESS-ESM1-5_historical_r1i1p1f1_gn_199001-200912.nc')\n",
    "ds2 = xr.open_dataset(rel_cmip6_path + 'cl_Amon_ACCESS-CM2_historical_r1i1p1f1_gn_199001-200912.nc')\n",
    "ds3 = xr.open_dataset(rel_cmip6_path + 'cl_Amon_MIROC6_historical_r1i1p1f1_gn_199001-199912.nc')"
   ]
  },
  {
   "cell_type": "code",
   "execution_count": 48,
   "metadata": {},
   "outputs": [],
   "source": []
  },
  {
   "cell_type": "code",
   "execution_count": 49,
   "metadata": {},
   "outputs": [],
   "source": [
    "# def ds_operation(ds):\n",
    "#     return ds.groupby('time.season').mean()\n",
    "\n",
    "def ds_operation(ds):\n",
    "    '''Take mean of field in time. '''\n",
    "    return ds.mean(dim = 'time', skipna = True)\n",
    "\n",
    "\n",
    "\n",
    "# def ds_operation(ds):\n",
    "#     '''Take find mean clouds cover in level. '''\n",
    "    \n",
    "# #     low_mean = ds.sel(lev = slice(1,0.68), time = slice(start_date, end_date)).max('lev').mean(['time'])\n",
    "# #     low_mean = low_mean.rename({'cl':'cltl'})\n",
    "#     high_mean = ds.sel(lev = slice(0.44,0), time = slice(start_date, end_date)).max('lev').mean(['time'])\n",
    "#     high_mean = high_mean.rename({'cl':'clth'})\n",
    "    \n",
    "#     return high_mean\n",
    "\n",
    "\n",
    "# def ds_operation(ds):\n",
    "#     '''Get mean 500mb RH.'''\n",
    "#     return ds.sel(plev = 50000).mean(['time'])"
   ]
  },
  {
   "cell_type": "code",
   "execution_count": 51,
   "metadata": {},
   "outputs": [
    {
     "name": "stdout",
     "output_type": "stream",
     "text": [
      "AWI-CM-1-1-MR\n",
      "Opening data...\n",
      "UKESM1-0-LL\n",
      "Opening data...\n",
      "MPI-ESM1-2-HR\n",
      "Opening data...\n",
      "MPI-ESM-1-2-HAM\n",
      "Opening data...\n",
      "CMCC-CM2-SR5\n",
      "Opening data...\n",
      "KACE-1-0-G\n",
      "Opening data...\n",
      "AWI-ESM-1-1-LR\n",
      "Opening data...\n",
      "GISS-E2-1-G\n",
      "Opening data...\n",
      "FGOALS-g3\n",
      "Opening data...\n",
      "ACCESS-CM2\n",
      "Opening data...\n",
      "EC-Earth3-Veg-LR\n",
      "Opening data...\n",
      "SAM0-UNICON\n",
      "Opening data...\n",
      "CanESM5\n",
      "Opening data...\n",
      "MIROC6\n",
      "Opening data...\n",
      "MRI-ESM2-0\n",
      "Opening data...\n",
      "EC-Earth3-Veg\n",
      "Opening data...\n",
      "MPI-ESM1-2-LR\n",
      "Opening data...\n",
      "CNRM-CM6-1-HR\n",
      "Opening data...\n",
      "CNRM-ESM2-1\n",
      "Opening data...\n",
      "ACCESS-ESM1-5\n",
      "Opening data...\n",
      "IPSL-CM6A-LR\n",
      "Opening data...\n",
      "NESM3\n",
      "Opening data...\n",
      "MIROC-ES2L\n",
      "Opening data...\n",
      "GFDL-CM4\n",
      "Opening data...\n",
      "CNRM-CM6-1\n",
      "Opening data...\n",
      "BCC-CSM2-MR\n",
      "Opening data...\n",
      "GFDL-ESM4\n",
      "Opening data...\n",
      "EC-Earth3\n",
      "Opening data...\n"
     ]
    }
   ],
   "source": [
    "# get \n",
    "failed_models = []\n",
    "for model_name in unique_cmip6_models:\n",
    "        print(model_name)\n",
    "        save_output_rel_dir_model = save_output_rel_dir + model_name + '/'\n",
    "        save_output_path = save_output_rel_dir_model + start_date + '_' + end_date + '_mean.nc'\n",
    "        try: \n",
    "            path_to_cmip_files =  get_path_to_desired_model_cmip6(cmip_rel_dir, \n",
    "                                                  desired_model= model_name,\n",
    "                                                  desired_ensemble_member = ('r1i1p1f1', 'r1i1p2f1','r1i1p1f2'),\n",
    "                                                  desired_grid_types = ('gn', 'gr', 'gr1', 'gr2'))\n",
    "#             path_to_cmip_files = get_path_to_desired_model_cmip5(cmip_rel_dir, \n",
    "#                                   desired_model=model_name,\n",
    "#                                   desired_ensemble_member = ('r1i1p1','r6i1p1','r2i1p1'))\n",
    "\n",
    "#             print(path_to_cmip_files)\n",
    "    #         print(path_to_cmip_files)\n",
    "            # subset lat/lon and time\n",
    "            print('Opening data...')\n",
    "            ds = xr.open_mfdataset(path_to_cmip_files, combine='by_coords')\n",
    "    #         ds.load()\n",
    "            ds = ds.sel(time = slice(start_date, end_date))\n",
    "            ds = ds.sel(lat= slice(-60, 60))\n",
    "\n",
    "            # compute seasonal/ total time means\n",
    "    #         seasonal_mean = ds.groupby('time.season').mean()\n",
    "    #         total_time_mean = ds.mean(dim = 'time')\n",
    "            ds_mean = ds_operation(ds)\n",
    "\n",
    "            # make dir for model if it doesn't already exist\n",
    "            if not os.path.exists(save_output_rel_dir_model):\n",
    "                os.makedirs(save_output_rel_dir_model)\n",
    "    #         print(path_to_cmip_files)\n",
    "            # save\n",
    "            ds_mean.to_netcdf(save_output_path)\n",
    "        except Exception as e:\n",
    "            print('Could not process ', model_name, ' Reason: ', str(e))\n",
    "            failed_models.append(model_name)\n",
    "            \n",
    "# delete model dirs if calculation was not performed.\n",
    "for model_name in failed_models:\n",
    "    save_output_rel_dir_model = save_output_rel_dir + model_name + '/'\n",
    "    try:\n",
    "        shutil.rmtree(save_output_rel_dir_model)\n",
    "    except FileNotFoundError as e:\n",
    "        print(model_name, \" doesn't exist.\") \n",
    "        "
   ]
  },
  {
   "cell_type": "code",
   "execution_count": 24,
   "metadata": {},
   "outputs": [
    {
     "data": {
      "text/plain": [
       "['HadGEM3-GC31-LL', 'HadGEM3-GC31-MM']"
      ]
     },
     "execution_count": 24,
     "metadata": {},
     "output_type": "execute_result"
    }
   ],
   "source": [
    "failed_models"
   ]
  },
  {
   "cell_type": "code",
   "execution_count": 32,
   "metadata": {},
   "outputs": [
    {
     "name": "stdout",
     "output_type": "stream",
     "text": [
      "MCM-UA-1-0  doesn't exist.\n",
      "HadGEM3-GC31-LL  doesn't exist.\n",
      "CESM2  doesn't exist.\n",
      "CESM2-WACCM  doesn't exist.\n",
      "CESM2-FV2  doesn't exist.\n",
      "ACCESS-CM2  doesn't exist.\n",
      "CESM2-WACCM-FV2  doesn't exist.\n",
      "CAS-ESM2-0  doesn't exist.\n",
      "ACCESS-ESM1-5  doesn't exist.\n",
      "UKESM1-0-LL  doesn't exist.\n",
      "HadGEM3-GC31-MM  doesn't exist.\n",
      "EC-Earth3  doesn't exist.\n",
      "IPSL-CM6A-LR  doesn't exist.\n"
     ]
    }
   ],
   "source": []
  },
  {
   "cell_type": "code",
   "execution_count": 29,
   "metadata": {},
   "outputs": [
    {
     "data": {
      "text/plain": [
       "FileNotFoundError"
      ]
     },
     "execution_count": 29,
     "metadata": {},
     "output_type": "execute_result"
    }
   ],
   "source": []
  },
  {
   "cell_type": "code",
   "execution_count": 27,
   "metadata": {},
   "outputs": [
    {
     "ename": "NameError",
     "evalue": "name 'total_time_mean' is not defined",
     "output_type": "error",
     "traceback": [
      "\u001b[0;31m--------------------------------------------------------------\u001b[0m",
      "\u001b[0;31mNameError\u001b[0m                    Traceback (most recent call last)",
      "\u001b[0;32m<ipython-input-27-05d3d8bf5eb0>\u001b[0m in \u001b[0;36m<module>\u001b[0;34m\u001b[0m\n\u001b[0;32m----> 1\u001b[0;31m \u001b[0mtotal_time_mean\u001b[0m\u001b[0;34m[\u001b[0m\u001b[0;34m'rlut'\u001b[0m\u001b[0;34m]\u001b[0m\u001b[0;34m.\u001b[0m\u001b[0mplot\u001b[0m\u001b[0;34m.\u001b[0m\u001b[0mimshow\u001b[0m\u001b[0;34m(\u001b[0m\u001b[0mcmap\u001b[0m \u001b[0;34m=\u001b[0m \u001b[0mplt\u001b[0m\u001b[0;34m.\u001b[0m\u001b[0mget_cmap\u001b[0m\u001b[0;34m(\u001b[0m\u001b[0;34m'gist_ncar'\u001b[0m\u001b[0;34m)\u001b[0m\u001b[0;34m)\u001b[0m\u001b[0;34m\u001b[0m\u001b[0;34m\u001b[0m\u001b[0m\n\u001b[0m",
      "\u001b[0;31mNameError\u001b[0m: name 'total_time_mean' is not defined"
     ]
    }
   ],
   "source": [
    "total_time_mean['rlut'].plot.imshow(cmap = plt.get_cmap('gist_ncar'))"
   ]
  },
  {
   "cell_type": "code",
   "execution_count": 37,
   "metadata": {},
   "outputs": [
    {
     "data": {
      "text/plain": [
       "<matplotlib.image.AxesImage at 0x7f3dc8345e10>"
      ]
     },
     "execution_count": 37,
     "metadata": {},
     "output_type": "execute_result"
    },
    {
     "data": {
      "image/png": "[encoded data removed]",
      "text/plain": [
       "<Figure size 432x288 with 2 Axes>"
      ]
     },
     "metadata": {
      "needs_background": "light"
     },
     "output_type": "display_data"
    }
   ],
   "source": [
    "# path_to_cmip_files\n",
    "seasonal_mean['rlut'].isel(season = 3).plot.imshow(cmap = plt.get_cmap('gist_ncar'))"
   ]
  }
 ],
 "metadata": {
  "kernelspec": {
   "display_name": "Python 3",
   "language": "python",
   "name": "python3"
  },
  "language_info": {
   "codemirror_mode": {
    "name": "ipython",
    "version": 3
   },
   "file_extension": ".py",
   "mimetype": "text/x-python",
   "name": "python",
   "nbconvert_exporter": "python",
   "pygments_lexer": "ipython3",
   "version": "3.6.10"
  }
 },
 "nbformat": 4,
 "nbformat_minor": 4
}
