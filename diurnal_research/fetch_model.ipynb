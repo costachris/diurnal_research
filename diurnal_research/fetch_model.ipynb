{
 "cells": [
  {
   "cell_type": "code",
   "execution_count": 6,
   "metadata": {},
   "outputs": [],
   "source": [
    "import os\n",
    "import xarray as xr\n",
    "import numpy as np\n",
    "import matplotlib.pyplot as plt\n",
    "from tqdm import tqdm\n",
    "\n",
    "import math\n",
    "import ephem\n",
    "from datetime import datetime, time, timedelta\n",
    "from math import pi, cos, sin\n",
    "%run fetch_model_helper.py"
   ]
  },
  {
   "cell_type": "code",
   "execution_count": 7,
   "metadata": {},
   "outputs": [],
   "source": [
    "rel_cmip6_path= '/export/data1/cchristo/CMIP6_precip/pr_3hr_historical/'\n",
    "rel_cmip5_path = '/export/data1/cchristo/CMIP5_precip/pr_3hr_historical/'"
   ]
  },
  {
   "cell_type": "code",
   "execution_count": null,
   "metadata": {},
   "outputs": [],
   "source": []
  },
  {
   "cell_type": "code",
   "execution_count": 8,
   "metadata": {},
   "outputs": [],
   "source": [
    "unique_cmip6_models = get_unique_models(rel_cmip6_path)\n",
    "unique_cmip5_models = get_unique_models(rel_cmip5_path)"
   ]
  },
  {
   "cell_type": "code",
   "execution_count": 9,
   "metadata": {},
   "outputs": [
    {
     "name": "stdout",
     "output_type": "stream",
     "text": [
      "{'CNRM-CM6-1', 'EC-Earth3-Veg', 'IPSL-CM6A-LR', 'BCC-CSM2-MR', 'NESM3', 'ACCESS-CM2', 'EC-Earth3-Veg-LR', 'CMCC-CM2-SR5', 'EC-Earth3', 'FGOALS-g3', 'GFDL-ESM4', 'MRI-ESM2-0', 'CNRM-CM6-1-HR', 'SAM0-UNICON', 'MIROC6', 'KACE-1-0-G', 'AWI-ESM-1-1-LR', 'AWI-CM-1-1-MR', 'MPI-ESM1-2-HR', 'CNRM-ESM2-1', 'MIROC-ES2L', 'MPI-ESM1-2-LR', 'ACCESS-ESM1-5', 'GFDL-CM4', 'CanESM5', 'GISS-E2-1-G', 'UKESM1-0-LL'}\n"
     ]
    }
   ],
   "source": [
    "print(unique_cmip6_models)"
   ]
  },
  {
   "cell_type": "code",
   "execution_count": 10,
   "metadata": {},
   "outputs": [
    {
     "name": "stdout",
     "output_type": "stream",
     "text": [
      "{'IPSL-CM5A-LR', 'GFDL-CM3', 'MIROC-ESM', 'MRI-ESM1', 'CMCC-CM', 'inmcm4', 'MRI-CGCM3', 'NorESM1-M', 'MIROC-ESM-CHEM', 'IPSL-CM5A-MR', 'CNRM-CM5', 'FGOALS-g2', 'GFDL-ESM2G', 'GFDL-ESM2M', 'FGOALS-s2', 'GISS-E2-R', 'GISS-E2-H', 'MIROC4h', 'MIROC5', 'HadGEM2-ES'}\n"
     ]
    }
   ],
   "source": [
    "print(unique_cmip5_models)"
   ]
  },
  {
   "cell_type": "code",
   "execution_count": 7,
   "metadata": {},
   "outputs": [
    {
     "data": {
      "text/plain": [
       "['/export/data1/cchristo/CMIP6_precip/pr_3hr_historical/pr_3hr_GFDL-CM4_historical_r1i1p1f1_gr1_196001010130-197912312230.nc',\n",
       " '/export/data1/cchristo/CMIP6_precip/pr_3hr_historical/pr_3hr_GFDL-CM4_historical_r1i1p1f1_gr1_198001010130-199912312230.nc',\n",
       " '/export/data1/cchristo/CMIP6_precip/pr_3hr_historical/pr_3hr_GFDL-CM4_historical_r1i1p1f1_gr1_200001010130-201412312230.nc']"
      ]
     },
     "execution_count": 7,
     "metadata": {},
     "output_type": "execute_result"
    }
   ],
   "source": [
    "get_path_to_desired_model_cmip6(rel_cmip6_path, \n",
    "                          desired_model='GFDL-CM4',\n",
    "                          desired_grid_types = ('gn', 'gr', 'gr1'))"
   ]
  },
  {
   "cell_type": "code",
   "execution_count": 9,
   "metadata": {},
   "outputs": [
    {
     "data": {
      "text/plain": [
       "['/export/data1/cchristo/CMIP5_precip/pr_3hr_historical/pr_3hr_FGOALS-g2_historical_r1i1p1_197001010130-197012312230.nc',\n",
       " '/export/data1/cchristo/CMIP5_precip/pr_3hr_historical/pr_3hr_FGOALS-g2_historical_r1i1p1_197101010130-197112312230.nc',\n",
       " '/export/data1/cchristo/CMIP5_precip/pr_3hr_historical/pr_3hr_FGOALS-g2_historical_r1i1p1_197201010130-197212312230.nc',\n",
       " '/export/data1/cchristo/CMIP5_precip/pr_3hr_historical/pr_3hr_FGOALS-g2_historical_r1i1p1_197301010130-197312312230.nc',\n",
       " '/export/data1/cchristo/CMIP5_precip/pr_3hr_historical/pr_3hr_FGOALS-g2_historical_r1i1p1_197401010130-197412312230.nc',\n",
       " '/export/data1/cchristo/CMIP5_precip/pr_3hr_historical/pr_3hr_FGOALS-g2_historical_r1i1p1_197501010130-197512312230.nc',\n",
       " '/export/data1/cchristo/CMIP5_precip/pr_3hr_historical/pr_3hr_FGOALS-g2_historical_r1i1p1_197601010130-197612312230.nc',\n",
       " '/export/data1/cchristo/CMIP5_precip/pr_3hr_historical/pr_3hr_FGOALS-g2_historical_r1i1p1_197701010130-197712312230.nc',\n",
       " '/export/data1/cchristo/CMIP5_precip/pr_3hr_historical/pr_3hr_FGOALS-g2_historical_r1i1p1_197801010130-197812312230.nc',\n",
       " '/export/data1/cchristo/CMIP5_precip/pr_3hr_historical/pr_3hr_FGOALS-g2_historical_r1i1p1_197901010130-197912312230.nc',\n",
       " '/export/data1/cchristo/CMIP5_precip/pr_3hr_historical/pr_3hr_FGOALS-g2_historical_r1i1p1_198001010130-198012312230.nc',\n",
       " '/export/data1/cchristo/CMIP5_precip/pr_3hr_historical/pr_3hr_FGOALS-g2_historical_r1i1p1_198101010130-198112312230.nc',\n",
       " '/export/data1/cchristo/CMIP5_precip/pr_3hr_historical/pr_3hr_FGOALS-g2_historical_r1i1p1_198201010130-198212312230.nc',\n",
       " '/export/data1/cchristo/CMIP5_precip/pr_3hr_historical/pr_3hr_FGOALS-g2_historical_r1i1p1_198301010130-198312312230.nc',\n",
       " '/export/data1/cchristo/CMIP5_precip/pr_3hr_historical/pr_3hr_FGOALS-g2_historical_r1i1p1_198401010130-198412312230.nc',\n",
       " '/export/data1/cchristo/CMIP5_precip/pr_3hr_historical/pr_3hr_FGOALS-g2_historical_r1i1p1_198501010130-198512312230.nc',\n",
       " '/export/data1/cchristo/CMIP5_precip/pr_3hr_historical/pr_3hr_FGOALS-g2_historical_r1i1p1_198601010130-198612312230.nc',\n",
       " '/export/data1/cchristo/CMIP5_precip/pr_3hr_historical/pr_3hr_FGOALS-g2_historical_r1i1p1_198701010130-198712312230.nc',\n",
       " '/export/data1/cchristo/CMIP5_precip/pr_3hr_historical/pr_3hr_FGOALS-g2_historical_r1i1p1_198801010130-198812312230.nc',\n",
       " '/export/data1/cchristo/CMIP5_precip/pr_3hr_historical/pr_3hr_FGOALS-g2_historical_r1i1p1_198901010130-198912312230.nc',\n",
       " '/export/data1/cchristo/CMIP5_precip/pr_3hr_historical/pr_3hr_FGOALS-g2_historical_r1i1p1_199001010130-199012312230.nc',\n",
       " '/export/data1/cchristo/CMIP5_precip/pr_3hr_historical/pr_3hr_FGOALS-g2_historical_r1i1p1_199101010130-199112312230.nc',\n",
       " '/export/data1/cchristo/CMIP5_precip/pr_3hr_historical/pr_3hr_FGOALS-g2_historical_r1i1p1_199201010130-199212312230.nc',\n",
       " '/export/data1/cchristo/CMIP5_precip/pr_3hr_historical/pr_3hr_FGOALS-g2_historical_r1i1p1_199301010130-199312312230.nc',\n",
       " '/export/data1/cchristo/CMIP5_precip/pr_3hr_historical/pr_3hr_FGOALS-g2_historical_r1i1p1_199401010130-199412312230.nc',\n",
       " '/export/data1/cchristo/CMIP5_precip/pr_3hr_historical/pr_3hr_FGOALS-g2_historical_r1i1p1_199501010130-199512312230.nc',\n",
       " '/export/data1/cchristo/CMIP5_precip/pr_3hr_historical/pr_3hr_FGOALS-g2_historical_r1i1p1_199601010130-199612312230.nc',\n",
       " '/export/data1/cchristo/CMIP5_precip/pr_3hr_historical/pr_3hr_FGOALS-g2_historical_r1i1p1_199701010130-199712312230.nc',\n",
       " '/export/data1/cchristo/CMIP5_precip/pr_3hr_historical/pr_3hr_FGOALS-g2_historical_r1i1p1_199801010130-199812312230.nc',\n",
       " '/export/data1/cchristo/CMIP5_precip/pr_3hr_historical/pr_3hr_FGOALS-g2_historical_r1i1p1_199901010130-199912312230.nc',\n",
       " '/export/data1/cchristo/CMIP5_precip/pr_3hr_historical/pr_3hr_FGOALS-g2_historical_r1i1p1_200001010130-200012312230.nc',\n",
       " '/export/data1/cchristo/CMIP5_precip/pr_3hr_historical/pr_3hr_FGOALS-g2_historical_r1i1p1_200101010130-200112312230.nc',\n",
       " '/export/data1/cchristo/CMIP5_precip/pr_3hr_historical/pr_3hr_FGOALS-g2_historical_r1i1p1_200201010130-200212312230.nc',\n",
       " '/export/data1/cchristo/CMIP5_precip/pr_3hr_historical/pr_3hr_FGOALS-g2_historical_r1i1p1_200301010130-200312312230.nc',\n",
       " '/export/data1/cchristo/CMIP5_precip/pr_3hr_historical/pr_3hr_FGOALS-g2_historical_r1i1p1_200401010130-200412312230.nc',\n",
       " '/export/data1/cchristo/CMIP5_precip/pr_3hr_historical/pr_3hr_FGOALS-g2_historical_r1i1p1_200501010130-200512312230.nc']"
      ]
     },
     "execution_count": 9,
     "metadata": {},
     "output_type": "execute_result"
    }
   ],
   "source": [
    "get_path_to_desired_model_cmip5(rel_cmip5_path, \n",
    "                          desired_model='FGOALS-g2')"
   ]
  },
  {
   "cell_type": "code",
   "execution_count": null,
   "metadata": {},
   "outputs": [],
   "source": []
  },
  {
   "cell_type": "code",
   "execution_count": 31,
   "metadata": {},
   "outputs": [
    {
     "data": {
      "text/plain": [
       "'r1i1p1'"
      ]
     },
     "execution_count": 31,
     "metadata": {},
     "output_type": "execute_result"
    }
   ],
   "source": [
    "model_list = os.listdir(rel_cmip5_path)\n",
    "# model_list\n",
    "model_list[2].split('_')[-2]"
   ]
  }
 ],
 "metadata": {
  "kernelspec": {
   "display_name": "Python 3",
   "language": "python",
   "name": "python3"
  },
  "language_info": {
   "codemirror_mode": {
    "name": "ipython",
    "version": 3
   },
   "file_extension": ".py",
   "mimetype": "text/x-python",
   "name": "python",
   "nbconvert_exporter": "python",
   "pygments_lexer": "ipython3",
   "version": "3.6.10"
  }
 },
 "nbformat": 4,
 "nbformat_minor": 4
}
