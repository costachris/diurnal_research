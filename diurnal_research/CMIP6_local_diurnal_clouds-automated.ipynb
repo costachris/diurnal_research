{
 "cells": [
  {
   "cell_type": "code",
   "execution_count": 3,
   "metadata": {},
   "outputs": [],
   "source": [
    "import os\n",
    "import xarray as xr\n",
    "import numpy as np\n",
    "import matplotlib.pyplot as plt\n",
    "from tqdm import tqdm\n",
    "\n",
    "import ephem\n",
    "from datetime import datetime, time, timedelta\n",
    "from scipy import optimize\n",
    "from mpl_toolkits.basemap import Basemap\n",
    "\n",
    "import diurnal_config\n",
    "\n",
    "from diurnal_utils import *\n",
    "from fetch_model_helper import *\n",
    "# %run fetch_model_helper.py"
   ]
  },
  {
   "cell_type": "markdown",
   "metadata": {},
   "source": [
    "# Notebook for exploring local CMIP6 data downloaded with `cmip6_downloader.py`"
   ]
  },
  {
   "cell_type": "code",
   "execution_count": 10,
   "metadata": {},
   "outputs": [],
   "source": [
    "field_name = 'clt'\n",
    "\n",
    "cmip_identifier = 'CMIP6'\n",
    "start_date = '1985-01'\n",
    "end_date = '2006-01'\n",
    "\n",
    "# cmip_identifier = 'CMIP5'\n",
    "# start_date = '1985-01'\n",
    "# end_date = '2006-01'\n",
    "\n",
    "\n",
    "\n",
    "#TODO overwrite_existing_files = False"
   ]
  },
  {
   "cell_type": "code",
   "execution_count": 7,
   "metadata": {},
   "outputs": [],
   "source": [
    "# get all available model names\n",
    "rel_cmip6_path= '/export/data1/cchristo/CMIP6_clouds/clt_3hr_historical/'\n",
    "rel_cmip5_path = '/export/data1/cchristo/CMIP5_clouds/clt_3hr_historical/'\n",
    "unique_cmip6_models = get_unique_models(rel_cmip6_path)\n",
    "# unique_cmip5_models = get_unique_models(rel_cmip5_path)"
   ]
  },
  {
   "cell_type": "code",
   "execution_count": 8,
   "metadata": {},
   "outputs": [],
   "source": [
    "\n",
    "\n",
    "if cmip_identifier == 'CMIP6':\n",
    "    all_model_names = unique_cmip6_models\n",
    "    cmip_rel_dir = rel_cmip6_path\n",
    "\n",
    "# elif cmip_identifier == 'CMIP5':\n",
    "#     all_model_names = unique_cmip5_models\n",
    "#     cmip_rel_dir = rel_cmip5_path\n",
    "    \n",
    "\n"
   ]
  },
  {
   "cell_type": "code",
   "execution_count": null,
   "metadata": {},
   "outputs": [],
   "source": [
    "\n",
    "for model_name in list(all_model_names):\n",
    "    print('Started... ', model_name)\n",
    "    save_output_dir = '/export/data1/cchristo/diurnal_analysis_results/' + cmip_identifier + '_clouds/clt/' + '/'+ model_name + '/'\n",
    "    \n",
    "    save_output_path = save_output_dir + start_date + '_' + end_date + '_' + field_name + '.nc'\n",
    "    save_output_path_means = save_output_dir + start_date + '_' + end_date + '_' + field_name + '_diurnal_means.nc'\n",
    "     # make dirs if they don't already exist\n",
    "\n",
    "    if not os.path.exists(save_output_dir):\n",
    "        os.makedirs(save_output_dir)\n",
    "    \n",
    "    # if files already exist, skip\n",
    "    if (not os.path.exists(save_output_path)) & \\\n",
    "        (not os.path.exists(save_output_path_means)):\n",
    "   \n",
    "        try:\n",
    "            #### Load data\n",
    "            if cmip_identifier == 'CMIP6':\n",
    "                path_to_cmip_files =  get_path_to_desired_model_cmip6(cmip_rel_dir, \n",
    "                                      desired_model= model_name,\n",
    "                                      desired_ensemble_member = ('r1i1p1f1', 'r1i1p2f1','r1i1p1f2'),\n",
    "                                      desired_grid_types = ('gn', 'gr', 'gr1', 'gr2'))\n",
    "            elif cmip_identifier == 'CMIP5':\n",
    "                path_to_cmip_files = get_path_to_desired_model_cmip5(cmip_rel_dir, \n",
    "                                  desired_model=model_name,\n",
    "                                  desired_ensemble_member = ('r1i1p1','r6i1p1','r2i1p1'))\n",
    "            # subset lat/lon and time\n",
    "            print('Opening data...')\n",
    "            ds = xr.open_mfdataset(path_to_cmip_files, combine='by_coords')\n",
    "            ds = ds.sel(time = slice(start_date, end_date))\n",
    "            ds = ds.sel(lat= slice(-60, 60))\n",
    "\n",
    "            # perform diurnal analysis \n",
    "            print('Performing diurnal analysis... ')\n",
    "            ds_sub = ds[field_name].to_dataset()\n",
    "\n",
    "            out_ds, out_ds_means = diurnal_analysis(ds_sub, \n",
    "                                                    field_id = field_name, \n",
    "                                                    grid_time_resolution_hours = 3,\n",
    "                                                    time_resolution_hours = 1)\n",
    "#             # add some metadata \n",
    "            out_ds.attrs['input_dataset_paths'] = path_to_cmip_files\n",
    "            out_ds_means.attrs['input_dataset_paths'] = path_to_cmip_files\n",
    "            \n",
    "            # save results \n",
    "            print('Saving results... ')\n",
    "            out_ds.to_netcdf(save_output_path)\n",
    "            out_ds_means.to_netcdf(save_output_path_means)\n",
    "            \n",
    "        except Exception as e:\n",
    "            print('Could not process ' + model_name)\n",
    "            print(e)\n",
    "\n",
    "print('DONE!')"
   ]
  },
  {
   "cell_type": "markdown",
   "metadata": {},
   "source": [
    "# Fit diurnal cloud cycle with sin fit"
   ]
  },
  {
   "cell_type": "code",
   "execution_count": 14,
   "metadata": {},
   "outputs": [
    {
     "name": "stderr",
     "output_type": "stream",
     "text": [
      "  0%|          | 27/7208 [00:00<00:26, 269.35it/s]"
     ]
    },
    {
     "name": "stdout",
     "output_type": "stream",
     "text": [
      "DJF\n"
     ]
    },
    {
     "name": "stderr",
     "output_type": "stream",
     "text": [
      "100%|██████████| 7208/7208 [00:26<00:00, 273.08it/s]\n",
      "100%|██████████| 7208/7208 [00:26<00:00, 268.65it/s]\n",
      "/home/cchristo/proj_tapio/diurnal_utils.py:269: RuntimeWarning: Mean of empty slice\n",
      "  f_bar_k = np.nanmean(masked_field, axis = 0)\n",
      "  0%|          | 0/120 [00:00<?, ?it/s]"
     ]
    },
    {
     "name": "stdout",
     "output_type": "stream",
     "text": [
      "Performing Cos Fit\n"
     ]
    },
    {
     "name": "stderr",
     "output_type": "stream",
     "text": [
      "100%|██████████| 120/120 [08:12<00:00,  4.11s/it]\n",
      "  0%|          | 28/7360 [00:00<00:26, 276.04it/s]"
     ]
    },
    {
     "name": "stdout",
     "output_type": "stream",
     "text": [
      "Finished Cos Fit\n",
      "JJA\n"
     ]
    },
    {
     "name": "stderr",
     "output_type": "stream",
     "text": [
      "100%|██████████| 7360/7360 [00:26<00:00, 275.01it/s]\n",
      "100%|██████████| 7360/7360 [00:27<00:00, 270.21it/s]\n",
      "/home/cchristo/proj_tapio/diurnal_utils.py:269: RuntimeWarning: Mean of empty slice\n",
      "  f_bar_k = np.nanmean(masked_field, axis = 0)\n",
      "  0%|          | 0/120 [00:00<?, ?it/s]"
     ]
    },
    {
     "name": "stdout",
     "output_type": "stream",
     "text": [
      "Performing Cos Fit\n"
     ]
    },
    {
     "name": "stderr",
     "output_type": "stream",
     "text": [
      "100%|██████████| 120/120 [08:36<00:00,  4.30s/it]\n",
      "  0%|          | 26/7360 [00:00<00:28, 255.96it/s]"
     ]
    },
    {
     "name": "stdout",
     "output_type": "stream",
     "text": [
      "Finished Cos Fit\n",
      "MAM\n"
     ]
    },
    {
     "name": "stderr",
     "output_type": "stream",
     "text": [
      "100%|██████████| 7360/7360 [00:27<00:00, 272.25it/s]\n",
      "100%|██████████| 7360/7360 [00:27<00:00, 264.11it/s]\n",
      "/home/cchristo/proj_tapio/diurnal_utils.py:269: RuntimeWarning: Mean of empty slice\n",
      "  f_bar_k = np.nanmean(masked_field, axis = 0)\n",
      "  0%|          | 0/120 [00:00<?, ?it/s]"
     ]
    },
    {
     "name": "stdout",
     "output_type": "stream",
     "text": [
      "Performing Cos Fit\n"
     ]
    },
    {
     "name": "stderr",
     "output_type": "stream",
     "text": [
      "100%|██████████| 120/120 [08:22<00:00,  4.19s/it]\n",
      "  0%|          | 26/7280 [00:00<00:28, 257.02it/s]"
     ]
    },
    {
     "name": "stdout",
     "output_type": "stream",
     "text": [
      "Finished Cos Fit\n",
      "SON\n"
     ]
    },
    {
     "name": "stderr",
     "output_type": "stream",
     "text": [
      "100%|██████████| 7280/7280 [00:26<00:00, 272.50it/s]\n",
      "100%|██████████| 7280/7280 [00:27<00:00, 261.30it/s]\n",
      "/home/cchristo/proj_tapio/diurnal_utils.py:269: RuntimeWarning: Mean of empty slice\n",
      "  f_bar_k = np.nanmean(masked_field, axis = 0)\n",
      "  0%|          | 0/120 [00:00<?, ?it/s]"
     ]
    },
    {
     "name": "stdout",
     "output_type": "stream",
     "text": [
      "Performing Cos Fit\n"
     ]
    },
    {
     "name": "stderr",
     "output_type": "stream",
     "text": [
      "100%|██████████| 120/120 [08:09<00:00,  4.08s/it]"
     ]
    },
    {
     "name": "stdout",
     "output_type": "stream",
     "text": [
      "Finished Cos Fit\n"
     ]
    },
    {
     "name": "stderr",
     "output_type": "stream",
     "text": [
      "\n"
     ]
    }
   ],
   "source": [
    "mu_season, sigma_season, ampl_season, phase_season = diurnal_analysis(ds, \n",
    "                                                                      field_id = 'clt', \n",
    "                                                                      grid_time_resolution_hours=3,\n",
    "                                                                      time_resolution_hours = 1)"
   ]
  },
  {
   "cell_type": "code",
   "execution_count": 30,
   "metadata": {},
   "outputs": [],
   "source": []
  }
 ],
 "metadata": {
  "kernelspec": {
   "display_name": "Python 3",
   "language": "python",
   "name": "python3"
  },
  "language_info": {
   "codemirror_mode": {
    "name": "ipython",
    "version": 3
   },
   "file_extension": ".py",
   "mimetype": "text/x-python",
   "name": "python",
   "nbconvert_exporter": "python",
   "pygments_lexer": "ipython3",
   "version": "3.6.10"
  }
 },
 "nbformat": 4,
 "nbformat_minor": 4
}
