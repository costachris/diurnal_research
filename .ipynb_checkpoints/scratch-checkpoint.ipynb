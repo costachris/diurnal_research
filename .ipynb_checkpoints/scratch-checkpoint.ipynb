{
 "cells": [
  {
   "cell_type": "code",
   "execution_count": 1,
   "metadata": {},
   "outputs": [],
   "source": [
    "import os\n",
    "import xarray as xr\n",
    "import numpy as np\n",
    "import matplotlib.pyplot as plt\n",
    "from tqdm import tqdm\n",
    "\n",
    "import math\n",
    "import ephem\n",
    "from datetime import datetime, time, timedelta\n",
    "from math import pi, cos, sin"
   ]
  },
  {
   "cell_type": "code",
   "execution_count": 9,
   "metadata": {},
   "outputs": [],
   "source": [
    "model_dirs = ['hfss_mon_historical','hfls_mon_historical','lwp_mon_historical']\n",
    "path_to_cmip_dirs = '/export/data1/cchristo/cmip6_clouds/'"
   ]
  },
  {
   "cell_type": "code",
   "execution_count": 10,
   "metadata": {},
   "outputs": [],
   "source": [
    "model_list = os.listdir(path_to_cmip_dirs)\n",
    "# print(model_list)\n",
    "file_list = os.listdir(path_to_cmip_files)\n",
    "# for file in file_list: print(file)"
   ]
  },
  {
   "cell_type": "code",
   "execution_count": 11,
   "metadata": {},
   "outputs": [
    {
     "data": {
      "text/plain": [
       "{'CESM2',\n",
       " 'CESM2-FV2',\n",
       " 'CESM2-WACCM',\n",
       " 'CESM2-WACCM-FV2',\n",
       " 'CanESM5',\n",
       " 'CanESM5-CanOE',\n",
       " 'MIROC-ES2L'}"
      ]
     },
     "execution_count": 11,
     "metadata": {},
     "output_type": "execute_result"
    }
   ],
   "source": [
    "# file_list\n",
    "file_names_ = os.listdir( path_to_cmip_dirs + model_dirs[0])\n",
    "hfss_models = set([ii.split('_')[2] for ii in file_names_])\n",
    "\n",
    "file_names_ = os.listdir( path_to_cmip_dirs + model_dirs[1])\n",
    "hfls_models = set([ii.split('_')[2] for ii in file_names_])\n",
    "\n",
    "file_names_ = os.listdir( path_to_cmip_dirs + model_dirs[2])\n",
    "lwp_models = set([ii.split('_')[2] for ii in file_names_])\n",
    "# file_names\n",
    "set.intersection(hfss_models, hfls_models, lwp_models)"
   ]
  }
 ],
 "metadata": {
  "kernelspec": {
   "display_name": "Python 3",
   "language": "python",
   "name": "python3"
  },
  "language_info": {
   "codemirror_mode": {
    "name": "ipython",
    "version": 3
   },
   "file_extension": ".py",
   "mimetype": "text/x-python",
   "name": "python",
   "nbconvert_exporter": "python",
   "pygments_lexer": "ipython3",
   "version": "3.6.10"
  }
 },
 "nbformat": 4,
 "nbformat_minor": 4
}
