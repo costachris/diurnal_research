{
 "cells": [
  {
   "cell_type": "code",
   "execution_count": 16,
   "metadata": {},
   "outputs": [],
   "source": [
    "import os\n"
   ]
  },
  {
   "cell_type": "code",
   "execution_count": null,
   "metadata": {},
   "outputs": [],
   "source": []
  },
  {
   "cell_type": "code",
   "execution_count": 17,
   "metadata": {},
   "outputs": [],
   "source": [
    "# where to download files to \n",
    "# output_data_dir = '/export/data1/cchristo/cmip6_clouds/download_from_source/'\n",
    "output_data_dir = '/export/data1/cchristo/cmip6_clouds/download_from_source/'"
   ]
  },
  {
   "cell_type": "code",
   "execution_count": 19,
   "metadata": {},
   "outputs": [],
   "source": [
    "\n",
    "# for cloud cover\n",
    "# model_name_to_http_filename_map = {\n",
    "#     'CNRM-CM5': ['http://esg1.umr-cnrm.fr/thredds/fileServer/CMIP6_CNRM/CMIP/CNRM-CERFACS/CNRM-CM6-1/historical/r1i1p1f2/3hr/clt/gr/v20180917/clt_3hr_CNRM-CM6-1_historical_r1i1p1f2_gr_195001010130-197412312230.nc',\n",
    "#                 'http://esg1.umr-cnrm.fr/thredds/fileServer/CMIP6_CNRM/CMIP/CNRM-CERFACS/CNRM-CM6-1/historical/r1i1p1f2/3hr/clt/gr/v20180917/clt_3hr_CNRM-CM6-1_historical_r1i1p1f2_gr_197501010130-199912312230.nc',\n",
    "#                 'http://esg1.umr-cnrm.fr/thredds/fileServer/CMIP6_CNRM/CMIP/CNRM-CERFACS/CNRM-CM6-1/historical/r1i1p1f2/3hr/clt/gr/v20180917/clt_3hr_CNRM-CM6-1_historical_r1i1p1f2_gr_200001010130-201412312230.nc'],\n",
    "    \n",
    "#     'GFDL-CM4': ['http://esgdata.gfdl.noaa.gov/thredds/fileServer/gfdl_dataroot4/CMIP/NOAA-GFDL/GFDL-CM4/historical/r1i1p1f1/3hr/clt/gr1/v20180701/clt_3hr_GFDL-CM4_historical_r1i1p1f1_gr1_196001010130-197912312230.nc',\n",
    "#                 'http://esgdata.gfdl.noaa.gov/thredds/fileServer/gfdl_dataroot4/CMIP/NOAA-GFDL/GFDL-CM4/historical/r1i1p1f1/3hr/clt/gr1/v20180701/clt_3hr_GFDL-CM4_historical_r1i1p1f1_gr1_198001010130-199912312230.nc',\n",
    "#                 'http://esgdata.gfdl.noaa.gov/thredds/fileServer/gfdl_dataroot4/CMIP/NOAA-GFDL/GFDL-CM4/historical/r1i1p1f1/3hr/clt/gr1/v20180701/clt_3hr_GFDL-CM4_historical_r1i1p1f1_gr1_200001010130-201412312230.nc'],\n",
    "#     # There's another file from (185001-194912), but that's not included\n",
    "#     'GFDL-ESM4': ['http://esgdata.gfdl.noaa.gov/thredds/fileServer/gfdl_dataroot4/CMIP/NOAA-GFDL/GFDL-ESM4/historical/r1i1p1f1/Amon/clt/gr1/v20190726/clt_Amon_GFDL-ESM4_historical_r1i1p1f1_gr1_185001-194912.nc',\n",
    "#                  'http://esgdata.gfdl.noaa.gov/thredds/fileServer/gfdl_dataroot4/CMIP/NOAA-GFDL/GFDL-ESM4/historical/r1i1p1f1/Amon/clt/gr1/v20190726/clt_Amon_GFDL-ESM4_historical_r1i1p1f1_gr1_195001-201412.nc'],\n",
    "    \n",
    "#     'IPSL-CM6A': ['http://vesg.ipsl.upmc.fr/thredds/fileServer/cmip6/CMIP/IPSL/IPSL-CM6A-LR/historical/r1i1p1f1/3hr/clt/gr/v20180803/clt_3hr_IPSL-CM6A-LR_historical_r1i1p1f1_gr_195001010130-201412312230.nc',]\n",
    "# }\n",
    "\n",
    "# for precip\n",
    "model_name_to_http_filename_map = {'GFDL-CM4': ['http://esgdata.gfdl.noaa.gov/thredds/fileServer/gfdl_dataroot4/CMIP/NOAA-GFDL/GFDL-CM4/historical/r1i1p1f1/3hr/pr/gr1/v20180701/pr_3hr_GFDL-CM4_historical_r1i1p1f1_gr1_196001010130-197912312230.nc',\n",
    "                                                 'http://esgdata.gfdl.noaa.gov/thredds/fileServer/gfdl_dataroot4/CMIP/NOAA-GFDL/GFDL-CM4/historical/r1i1p1f1/3hr/pr/gr1/v20180701/pr_3hr_GFDL-CM4_historical_r1i1p1f1_gr1_198001010130-199912312230.nc',\n",
    "                                                 'http://esgdata.gfdl.noaa.gov/thredds/fileServer/gfdl_dataroot4/CMIP/NOAA-GFDL/GFDL-CM4/historical/r1i1p1f1/3hr/pr/gr1/v20180701/pr_3hr_GFDL-CM4_historical_r1i1p1f1_gr1_200001010130-201412312230.nc']}\n",
    "\n",
    "\n"
   ]
  },
  {
   "cell_type": "code",
   "execution_count": 20,
   "metadata": {},
   "outputs": [
    {
     "name": "stdout",
     "output_type": "stream",
     "text": [
      "GFDL-CM4\n",
      "/export/data1/cchristo/cmip6_clouds/download_from_source/GFDL-CM4/pr_3hr_GFDL-CM4_historical_r1i1p1f1_gr1_196001010130-197912312230.nc\n",
      "Does not exist /export/data1/cchristo/cmip6_clouds/download_from_source/GFDL-CM4/pr_3hr_GFDL-CM4_historical_r1i1p1f1_gr1_196001010130-197912312230.nc\n",
      "/export/data1/cchristo/cmip6_clouds/download_from_source/GFDL-CM4/pr_3hr_GFDL-CM4_historical_r1i1p1f1_gr1_198001010130-199912312230.nc\n",
      "Does not exist /export/data1/cchristo/cmip6_clouds/download_from_source/GFDL-CM4/pr_3hr_GFDL-CM4_historical_r1i1p1f1_gr1_198001010130-199912312230.nc\n",
      "/export/data1/cchristo/cmip6_clouds/download_from_source/GFDL-CM4/pr_3hr_GFDL-CM4_historical_r1i1p1f1_gr1_200001010130-201412312230.nc\n",
      "Does not exist /export/data1/cchristo/cmip6_clouds/download_from_source/GFDL-CM4/pr_3hr_GFDL-CM4_historical_r1i1p1f1_gr1_200001010130-201412312230.nc\n",
      "Done!\n"
     ]
    }
   ],
   "source": [
    "for model_name in model_name_to_http_filename_map:\n",
    "    print(model_name)\n",
    "    all_urls_to_download = model_name_to_http_filename_map[model_name]\n",
    "    for url_to_download in all_urls_to_download:\n",
    "        local_filepath = output_data_dir + model_name + '/' + url_to_download.split('/')[-1]\n",
    "        print(local_filepath)\n",
    "        if not os.path.exists(local_filepath):\n",
    "            print(\"Does not exist\", local_filepath)\n",
    "            result_code = os.system('wget -nc -c --retry-connrefused --waitretry=10 --quiet -P ' + output_data_dir + model_name + '/' + ' ' + url_to_download)\n",
    "    print('Done!')"
   ]
  },
  {
   "cell_type": "code",
   "execution_count": 13,
   "metadata": {},
   "outputs": [
    {
     "data": {
      "text/plain": [
       "'clt_Amon_GFDL-ESM4_historical_r1i1p1f1_gr1_185001-194912.nc'"
      ]
     },
     "execution_count": 13,
     "metadata": {},
     "output_type": "execute_result"
    }
   ],
   "source": [
    "url_to_download.split('/')[-1]"
   ]
  },
  {
   "cell_type": "code",
   "execution_count": 18,
   "metadata": {},
   "outputs": [
    {
     "data": {
      "text/plain": [
       "True"
      ]
     },
     "execution_count": 18,
     "metadata": {},
     "output_type": "execute_result"
    }
   ],
   "source": [
    "os.path.exists(output_data_dir + 'GFDL-CM4')"
   ]
  }
 ],
 "metadata": {
  "kernelspec": {
   "display_name": "Python 3",
   "language": "python",
   "name": "python3"
  },
  "language_info": {
   "codemirror_mode": {
    "name": "ipython",
    "version": 3
   },
   "file_extension": ".py",
   "mimetype": "text/x-python",
   "name": "python",
   "nbconvert_exporter": "python",
   "pygments_lexer": "ipython3",
   "version": "3.6.10"
  }
 },
 "nbformat": 4,
 "nbformat_minor": 4
}
