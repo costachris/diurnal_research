{
 "cells": [
  {
   "cell_type": "code",
   "execution_count": null,
   "metadata": {},
   "outputs": [],
   "source": [
    "%run regridding_utils.py # contains regridding functions\n",
    "%run  ../diurnal_research/diurnal_config.py\n",
    "%run  ../diurnal_research/fetch_model_helper.py\n",
    "import grid_definitions\n"
   ]
  },
  {
   "cell_type": "code",
   "execution_count": null,
   "metadata": {},
   "outputs": [],
   "source": [
    "out_grid_name = 'grid1'\n",
    "\n",
    "# out_grid_name = 'ryan_1deg'\n"
   ]
  },
  {
   "cell_type": "code",
   "execution_count": null,
   "metadata": {},
   "outputs": [],
   "source": [
    "rel_data_dir = '/export/data1/cchristo/'\n",
    "# get all available model names\n",
    "# rel_cmip6_path= rel_data_dir + 'CMIP6_clouds/clt_3hr_historical/'\n",
    "rel_cmip6_path= rel_data_dir + 'CMIP6_precip/pr_3hr_historical/'\n",
    "rel_cmip5_path = rel_data_dir + 'CMIP5_precip/pr_3hr_historical/'\n",
    "unique_cmip6_models = get_unique_models(rel_cmip6_path)\n",
    "unique_cmip5_models = get_unique_models(rel_cmip5_path)\n"
   ]
  },
  {
   "cell_type": "code",
   "execution_count": null,
   "metadata": {},
   "outputs": [],
   "source": [
    "###### CMIP5\n",
    "regrid_weights_dir_cm5 = '/export/data1/cchristo/regridding_weights/CMIP5_to_grid1/'\n",
    "\n",
    "\n",
    "# input_data_dir_cm5 = rel_data_dir  + 'diurnal_analysis_results/CMIP5_bin_pt2_hr_round_closest_gpm_overlap/' \n",
    "# output_data_dir_cm5 = rel_data_dir  + 'diurnal_analysis_results/CMIP5_bin_pt2_hr_round_closest_gpm_overlap_regridded/' \n",
    "\n",
    "input_data_dir_cm5 = rel_data_dir  + 'diurnal_analysis_results/CMIP5_bin_pt2_hr_round_30yr/' \n",
    "output_data_dir_cm5 = rel_data_dir  + 'diurnal_analysis_results/CMIP5_bin_pt2_hr_round_30yr_regridded/' \n",
    "\n",
    "\n",
    "\n",
    "####### CMIP6\n",
    "regrid_weights_dir_cm6 = '/export/data1/cchristo/regridding_weights/CMIP6_to_grid1/'\n",
    "\n",
    "# input_data_dir_cm6 = rel_data_dir  + 'diurnal_analysis_results/CMIP6_clouds/clt/'\n",
    "# output_data_dir_cm6 = rel_data_dir  + 'diurnal_analysis_results/CMIP6_clt_regridded/' \n",
    "\n",
    "# input_data_dir_cm6 = rel_data_dir  + 'diurnal_analysis_results/CMIP6_bin_pt2_hr_round_gpm_overlap/'\n",
    "# output_data_dir_cm6 = rel_data_dir  + 'diurnal_analysis_results/CMIP6_bin_pt2_hr_round_gpm_overlap_regridded/' \n",
    "\n",
    "input_data_dir_cm6 = rel_data_dir  + 'diurnal_analysis_results/CMIP6_bin_pt2_hr_round_30yr/'\n",
    "output_data_dir_cm6 = rel_data_dir  + 'diurnal_analysis_results/CMIP6_bin_pt2_hr_round_30yr_regridded/' \n",
    "\n",
    "######## GPM \n",
    "\n",
    "regrid_weights_dir_gpm = rel_data_dir  + 'regridding_weights/GPM_to_grid1/'\n",
    "input_data_dir_gpm = rel_data_dir  + 'diurnal_analysis_results/'\n",
    "output_data_dir_gpm = rel_data_dir  + 'diurnal_analysis_results/GPM_bin_pt2_hr_15_yr_round_final_regridded/' \n",
    "\n",
    "regrid_weights_dir_gpm_mean = rel_data_dir  + 'regridding_weights/GPM_mean_to_grid1/'\n",
    "input_data_dir_gpm_mean = rel_data_dir  + 'gpm_data/averages/'\n",
    "output_data_dir_gpm_mean = rel_data_dir  + 'gpm_data/averages/10yr_regridded/'\n",
    "# output_data_dir_gpm_mean = rel_data_dir  + 'diurnal_analysis_results/GPM_mean_bin_pt2_hr_15_yr_round_regridded/' \n",
    "\n",
    "######### land sea mask\n",
    "regrid_weights_dir_ls_mask =  rel_data_dir  + 'regridding_weights/GLDASp4_ls_mask_to_grid1/'\n",
    "input_data_dir_ls_mask = rel_data_dir  + 'land_sea_masks/land_sea_masks_raw/'\n",
    "output_data_dir_ls_mask = rel_data_dir  + 'land_sea_masks/land_sea_masks_regridded/'\n",
    "\n",
    "######## average climate field regridding\n",
    "### CMIP6\n",
    "regrid_weights_dir_rlut = rel_data_dir  + 'regridding_weights/CMIP6_ave_to_grid1/rlut/'\n",
    "input_data_dir_rlut = rel_data_dir + 'CMIP6_radiation/averages/time_averages/period/rlut/'\n",
    "output_data_dir_rlut = rel_data_dir + 'CMIP6_radiation/averages/time_averages/period/rlut_regridded/'\n",
    "\n",
    "regrid_weights_dir_rsut = rel_data_dir  + 'regridding_weights/CMIP6_ave_to_grid1/rsut/'\n",
    "input_data_dir_rsut = rel_data_dir + 'CMIP6_radiation/averages/time_averages/period/rsut/'\n",
    "output_data_dir_rsut = rel_data_dir + 'CMIP6_radiation/averages/time_averages/period/rsut_regridded/'\n",
    "\n",
    "\n",
    "regrid_weights_dir_pr = rel_data_dir  + 'regridding_weights/CMIP6_ave_to_grid1/pr/'\n",
    "input_data_dir_pr = rel_data_dir + 'CMIP6_precip/averages/time_averages/period/pr/'\n",
    "output_data_dir_pr = rel_data_dir + 'CMIP6_precip/averages/time_averages/period/pr_regridded/'\n",
    "\n",
    "regrid_weights_dir_clt = rel_data_dir  + 'regridding_weights/CMIP6_ave_to_grid1/clt/'\n",
    "input_data_dir_clt = rel_data_dir + 'CMIP6_clouds/averages/time_averages/period/clt_30yr/'\n",
    "output_data_dir_clt = rel_data_dir + 'CMIP6_clouds/averages/time_averages/period/clt_30yr_regridded/'\n",
    "\n",
    "regrid_weights_dir_cltl = rel_data_dir  + 'regridding_weights/CMIP6_ave_to_grid1/cltl/'\n",
    "input_data_dir_cltl = rel_data_dir + 'CMIP6_clouds/averages/time_averages/period/cltl/'\n",
    "output_data_dir_cltl = rel_data_dir + 'CMIP6_clouds/averages/time_averages/period/cltl_regridded/'\n",
    "\n",
    "regrid_weights_dir_clth = rel_data_dir  + 'regridding_weights/CMIP6_ave_to_grid1/clth/'\n",
    "input_data_dir_clth = rel_data_dir + 'CMIP6_clouds/averages/time_averages/period/clth/'\n",
    "output_data_dir_clth = rel_data_dir + 'CMIP6_clouds/averages/time_averages/period/clth_regridded/'\n",
    "\n",
    "\n",
    "\n",
    "regrid_weights_dir_pr_3hr = rel_data_dir  + 'regridding_weights/CMIP6_ave_to_grid1/pr_3hr/'\n",
    "input_data_dir_pr_3hr = rel_data_dir + 'CMIP6_precip/averages/time_averages/period/pr_3hr/'\n",
    "output_data_dir_pr_3hr = rel_data_dir + 'CMIP6_precip/averages/time_averages/period/pr_3hr_regridded/'\n",
    "\n",
    "\n",
    "regrid_weights_dir_clt_cmip5 = rel_data_dir  + 'regridding_weights/CMIP5_ave_to_grid1/clt/'\n",
    "input_data_dir_clt_cmip5 = rel_data_dir + 'CMIP5_clouds/averages/time_averages/period/clt_30yr/'\n",
    "output_data_dir_clt_cmip5 = rel_data_dir + 'CMIP5_clouds/averages/time_averages/period/clt_30yr_regridded/'\n",
    "\n",
    "regrid_weights_dir_pr_3hr_cmip5 = rel_data_dir  + 'regridding_weights/CMIP5_ave_to_grid1/pr_3hr/'\n",
    "input_data_dir_pr_3hr_cmip5 = rel_data_dir + 'CMIP5_precip/averages/time_averages/period/pr_3hr/'\n",
    "output_data_dir_pr_3hr_cmip5 = rel_data_dir + 'CMIP5_precip/averages/time_averages/period/pr_3hr_regridded/'\n",
    "\n"
   ]
  },
  {
   "cell_type": "code",
   "execution_count": 39,
   "metadata": {},
   "outputs": [
    {
     "data": {
      "text/plain": [
       "'/export/data1/cchristo/CMIP6_precip/averages/time_averages/period/pr_3hr/pr_3hr/'"
      ]
     },
     "execution_count": 39,
     "metadata": {},
     "output_type": "execute_result"
    }
   ],
   "source": [
    "input_data_dir_pr_3hr"
   ]
  },
  {
   "cell_type": "code",
   "execution_count": 19,
   "metadata": {},
   "outputs": [],
   "source": [
    " \n",
    "ds_out = grid_definitions.grids[out_grid_name]\n"
   ]
  },
  {
   "cell_type": "code",
   "execution_count": 109,
   "metadata": {},
   "outputs": [
    {
     "name": "stdout",
     "output_type": "stream",
     "text": [
      "/export/data1/cchristo/regridding_weights/CIMP5_to_grid1/res_2.0x2.5_to_0.5x0.5_size_60x144_to_240x720_nearest_s2d_GFDL-CM3_to_grid1.nc\n",
      "Weight file does not exist. Computing...\n",
      "Create weight file: /export/data1/cchristo/regridding_weights/CIMP5_to_grid1/res_2.0x2.5_to_0.5x0.5_size_60x144_to_240x720_nearest_s2d_GFDL-CM3_to_grid1.nc\n",
      "using dimensions ('lat', 'lon') from data variable mu_season as the horizontal dimensions for this dataset.\n"
     ]
    }
   ],
   "source": [
    "model_name = 'GFDL-CM3'\n",
    "\n",
    "ds_in = xr.open_dataset(input_data_dir_cm5 + 'GFDL-CM3' + '/' + '1985-01_2006-01_precip.nc')\n",
    "\n",
    "\n",
    "res = regrid(ds_in, \n",
    "       ds_out,\n",
    "       method = 'nearest_s2d',\n",
    "       label = model_name + '_to_' + 'grid1',\n",
    "       regrid_weights_dir = regrid_weights_dir)"
   ]
  },
  {
   "cell_type": "code",
   "execution_count": 10,
   "metadata": {},
   "outputs": [],
   "source": []
  },
  {
   "cell_type": "markdown",
   "metadata": {},
   "source": [
    "# Regrid Diurnal Analysis Results"
   ]
  },
  {
   "cell_type": "markdown",
   "metadata": {},
   "source": [
    "### Regrid CMIP5 models"
   ]
  },
  {
   "cell_type": "code",
   "execution_count": 21,
   "metadata": {},
   "outputs": [
    {
     "name": "stdout",
     "output_type": "stream",
     "text": [
      "Reuse existing file: /export/data1/cchristo/regridding_weights/CMIP5_to_grid1/res_2.0x2.5_to_0.5x0.5_size_60x144_to_240x720_nearest_s2d_GFDL-ESM2G_to_grid1.nc\n",
      "using dimensions ('lat', 'lon') from data variable mu_season as the horizontal dimensions for this dataset.\n",
      "Reuse existing file: /export/data1/cchristo/regridding_weights/CMIP5_to_grid1/res_1.5x2.0_to_0.5x0.5_size_80x180_to_240x720_nearest_s2d_inmcm4_to_grid1.nc\n",
      "using dimensions ('lat', 'lon') from data variable mu_season as the horizontal dimensions for this dataset.\n",
      "Reuse existing file: /export/data1/cchristo/regridding_weights/CMIP5_to_grid1/res_1.2x1.9_to_0.5x0.5_size_97x192_to_240x720_nearest_s2d_HadGEM2-ES_to_grid1.nc\n",
      "using dimensions ('lat', 'lon') from data variable mu_season as the horizontal dimensions for this dataset.\n",
      "Reuse existing file: /export/data1/cchristo/regridding_weights/CMIP5_to_grid1/res_1.9x3.8_to_0.5x0.5_size_64x96_to_240x720_nearest_s2d_IPSL-CM5A-LR_to_grid1.nc\n",
      "using dimensions ('lat', 'lon') from data variable mu_season as the horizontal dimensions for this dataset.\n",
      "Reuse existing file: /export/data1/cchristo/regridding_weights/CMIP5_to_grid1/res_1.9x2.5_to_0.5x0.5_size_64x144_to_240x720_nearest_s2d_NorESM1-M_to_grid1.nc\n",
      "using dimensions ('lat', 'lon') from data variable mu_season as the horizontal dimensions for this dataset.\n",
      "Reuse existing file: /export/data1/cchristo/regridding_weights/CMIP5_to_grid1/res_1.3x2.5_to_0.5x0.5_size_95x144_to_240x720_nearest_s2d_IPSL-CM5A-MR_to_grid1.nc\n",
      "using dimensions ('lat', 'lon') from data variable mu_season as the horizontal dimensions for this dataset.\n",
      "Reuse existing file: /export/data1/cchristo/regridding_weights/CMIP5_to_grid1/res_2.8x2.8_to_0.5x0.5_size_44x128_to_240x720_nearest_s2d_MIROC-ESM-CHEM_to_grid1.nc\n",
      "using dimensions ('lat', 'lon') from data variable mu_season as the horizontal dimensions for this dataset.\n",
      "Reuse existing file: /export/data1/cchristo/regridding_weights/CMIP5_to_grid1/res_2.0x2.5_to_0.5x0.5_size_60x144_to_240x720_nearest_s2d_GFDL-CM3_to_grid1.nc\n",
      "using dimensions ('lat', 'lon') from data variable mu_season as the horizontal dimensions for this dataset.\n",
      "Reuse existing file: /export/data1/cchristo/regridding_weights/CMIP5_to_grid1/res_2.8x2.8_to_0.5x0.5_size_44x128_to_240x720_nearest_s2d_FGOALS-g2_to_grid1.nc\n",
      "using dimensions ('lat', 'lon') from data variable mu_season as the horizontal dimensions for this dataset.\n",
      "Reuse existing file: /export/data1/cchristo/regridding_weights/CMIP5_to_grid1/res_1.7x2.8_to_0.5x0.5_size_72x128_to_240x720_nearest_s2d_FGOALS-s2_to_grid1.nc\n",
      "using dimensions ('lat', 'lon') from data variable mu_season as the horizontal dimensions for this dataset.\n",
      "Reuse existing file: /export/data1/cchristo/regridding_weights/CMIP5_to_grid1/res_1.2x1.9_to_0.5x0.5_size_97x192_to_240x720_nearest_s2d_ACCESS1-0_to_grid1.nc\n",
      "using dimensions ('lat', 'lon') from data variable mu_season as the horizontal dimensions for this dataset.\n",
      "Reuse existing file: /export/data1/cchristo/regridding_weights/CMIP5_to_grid1/res_2.8x2.8_to_0.5x0.5_size_44x128_to_240x720_nearest_s2d_MIROC-ESM_to_grid1.nc\n",
      "using dimensions ('lat', 'lon') from data variable mu_season as the horizontal dimensions for this dataset.\n",
      "Reuse existing file: /export/data1/cchristo/regridding_weights/CMIP5_to_grid1/res_2.0x2.5_to_0.5x0.5_size_60x144_to_240x720_nearest_s2d_GISS-E2-H_to_grid1.nc\n",
      "using dimensions ('lat', 'lon') from data variable mu_season as the horizontal dimensions for this dataset.\n",
      "Reuse existing file: /export/data1/cchristo/regridding_weights/CMIP5_to_grid1/res_1.4x1.4_to_0.5x0.5_size_86x256_to_240x720_nearest_s2d_CNRM-CM5_to_grid1.nc\n",
      "using dimensions ('lat', 'lon') from data variable mu_season as the horizontal dimensions for this dataset.\n",
      "Reuse existing file: /export/data1/cchristo/regridding_weights/CMIP5_to_grid1/res_0.7x0.8_to_0.5x0.5_size_160x480_to_240x720_nearest_s2d_CMCC-CM_to_grid1.nc\n",
      "using dimensions ('lat', 'lon') from data variable mu_season as the horizontal dimensions for this dataset.\n",
      "Reuse existing file: /export/data1/cchristo/regridding_weights/CMIP5_to_grid1/res_1.4x1.4_to_0.5x0.5_size_86x256_to_240x720_nearest_s2d_MIROC5_to_grid1.nc\n",
      "using dimensions ('lat', 'lon') from data variable mu_season as the horizontal dimensions for this dataset.\n",
      "Reuse existing file: /export/data1/cchristo/regridding_weights/CMIP5_to_grid1/res_1.2x1.9_to_0.5x0.5_size_97x192_to_240x720_nearest_s2d_ACCESS1-3_to_grid1.nc\n",
      "using dimensions ('lat', 'lon') from data variable mu_season as the horizontal dimensions for this dataset.\n",
      "Reuse existing file: /export/data1/cchristo/regridding_weights/CMIP5_to_grid1/res_2.0x2.5_to_0.5x0.5_size_60x144_to_240x720_nearest_s2d_GFDL-ESM2M_to_grid1.nc\n",
      "using dimensions ('lat', 'lon') from data variable mu_season as the horizontal dimensions for this dataset.\n",
      "Reuse existing file: /export/data1/cchristo/regridding_weights/CMIP5_to_grid1/res_2.0x2.5_to_0.5x0.5_size_60x144_to_240x720_nearest_s2d_GISS-E2-R_to_grid1.nc\n",
      "using dimensions ('lat', 'lon') from data variable mu_season as the horizontal dimensions for this dataset.\n",
      "Reuse existing file: /export/data1/cchristo/regridding_weights/CMIP5_to_grid1/res_1.1x1.1_to_0.5x0.5_size_108x320_to_240x720_nearest_s2d_MRI-CGCM3_to_grid1.nc\n",
      "using dimensions ('lat', 'lon') from data variable mu_season as the horizontal dimensions for this dataset.\n",
      "Reuse existing file: /export/data1/cchristo/regridding_weights/CMIP5_to_grid1/res_1.1x1.1_to_0.5x0.5_size_108x320_to_240x720_nearest_s2d_MRI-ESM1_to_grid1.nc\n",
      "using dimensions ('lat', 'lon') from data variable mu_season as the horizontal dimensions for this dataset.\n",
      "Could not regrid MIROC4h : [Errno 2] No such file or directory: b'/export/data1/cchristo/diurnal_analysis_results/CMIP5_bin_pt2_hr_round_30yr/MIROC4h/1976-01_2006-01_precip.nc'\n"
     ]
    }
   ],
   "source": [
    "regrid_cmip_models_in_dir(model_list = unique_cmip5_models,\n",
    "                          ds_out = ds_out,\n",
    "                          method = 'nearest_s2d',\n",
    "#                           fname = '1985-01_2006-01_precip.nc',\n",
    "#                           fname = '1991-01_2006-01_precip.nc',\n",
    "                          fname = '1976-01_2006-01_precip.nc',\n",
    "                          regrid_weights_dir = regrid_weights_dir_cm5,\n",
    "                          input_data_dir_rel_path = input_data_dir_cm5, \n",
    "                          output_data_dir_rel_path = output_data_dir_cm5,\n",
    "                          out_grid_name = out_grid_name)"
   ]
  },
  {
   "cell_type": "markdown",
   "metadata": {},
   "source": [
    "### Regrid CMIP6 Models"
   ]
  },
  {
   "cell_type": "code",
   "execution_count": 22,
   "metadata": {},
   "outputs": [
    {
     "name": "stdout",
     "output_type": "stream",
     "text": [
      "Reuse existing file: /export/data1/cchristo/regridding_weights/CMIP6_to_grid1/res_1.3x2.5_to_0.5x0.5_size_95x144_to_240x720_nearest_s2d_IPSL-CM6A-LR_to_grid1.nc\n",
      "using dimensions ('lat', 'lon') from data variable mu_season as the horizontal dimensions for this dataset.\n",
      "Reuse existing file: /export/data1/cchristo/regridding_weights/CMIP6_to_grid1/res_1.9x1.9_to_0.5x0.5_size_64x192_to_240x720_nearest_s2d_MPI-ESM-1-2-HAM_to_grid1.nc\n",
      "using dimensions ('lat', 'lon') from data variable mu_season as the horizontal dimensions for this dataset.\n",
      "Reuse existing file: /export/data1/cchristo/regridding_weights/CMIP6_to_grid1/res_0.9x1.2_to_0.5x0.5_size_128x288_to_240x720_nearest_s2d_SAM0-UNICON_to_grid1.nc\n",
      "using dimensions ('lat', 'lon') from data variable mu_season as the horizontal dimensions for this dataset.\n",
      "Reuse existing file: /export/data1/cchristo/regridding_weights/CMIP6_to_grid1/res_1.2x1.9_to_0.5x0.5_size_96x192_to_240x720_nearest_s2d_ACCESS-CM2_to_grid1.nc\n",
      "using dimensions ('lat', 'lon') from data variable mu_season as the horizontal dimensions for this dataset.\n",
      "Reuse existing file: /export/data1/cchristo/regridding_weights/CMIP6_to_grid1/res_0.7x0.7_to_0.5x0.5_size_172x512_to_240x720_nearest_s2d_EC-Earth3-Veg_to_grid1.nc\n",
      "using dimensions ('lat', 'lon') from data variable mu_season as the horizontal dimensions for this dataset.\n",
      "Reuse existing file: /export/data1/cchristo/regridding_weights/CMIP6_to_grid1/res_1.4x1.4_to_0.5x0.5_size_86x256_to_240x720_nearest_s2d_CNRM-ESM2-1_to_grid1.nc\n",
      "using dimensions ('lat', 'lon') from data variable mu_season as the horizontal dimensions for this dataset.\n",
      "Reuse existing file: /export/data1/cchristo/regridding_weights/CMIP6_to_grid1/res_1.1x1.1_to_0.5x0.5_size_108x320_to_240x720_nearest_s2d_MRI-ESM2-0_to_grid1.nc\n",
      "using dimensions ('lat', 'lon') from data variable mu_season as the horizontal dimensions for this dataset.\n",
      "Reuse existing file: /export/data1/cchristo/regridding_weights/CMIP6_to_grid1/res_0.9x1.2_to_0.5x0.5_size_128x288_to_240x720_nearest_s2d_CMCC-CM2-SR5_to_grid1.nc\n",
      "using dimensions ('lat', 'lon') from data variable mu_season as the horizontal dimensions for this dataset.\n",
      "Reuse existing file: /export/data1/cchristo/regridding_weights/CMIP6_to_grid1/res_0.9x0.9_to_0.5x0.5_size_128x384_to_240x720_nearest_s2d_MPI-ESM1-2-HR_to_grid1.nc\n",
      "using dimensions ('lat', 'lon') from data variable mu_season as the horizontal dimensions for this dataset.\n",
      "Reuse existing file: /export/data1/cchristo/regridding_weights/CMIP6_to_grid1/res_2.8x2.8_to_0.5x0.5_size_44x128_to_240x720_nearest_s2d_MIROC-ES2L_to_grid1.nc\n",
      "using dimensions ('lat', 'lon') from data variable mu_season as the horizontal dimensions for this dataset.\n",
      "Reuse existing file: /export/data1/cchristo/regridding_weights/CMIP6_to_grid1/res_2.0x2.5_to_0.5x0.5_size_60x144_to_240x720_nearest_s2d_GISS-E2-1-G_to_grid1.nc\n",
      "using dimensions ('lat', 'lon') from data variable mu_season as the horizontal dimensions for this dataset.\n",
      "Reuse existing file: /export/data1/cchristo/regridding_weights/CMIP6_to_grid1/res_1.1x1.1_to_0.5x0.5_size_108x320_to_240x720_nearest_s2d_EC-Earth3-Veg-LR_to_grid1.nc\n",
      "using dimensions ('lat', 'lon') from data variable mu_season as the horizontal dimensions for this dataset.\n",
      "Reuse existing file: /export/data1/cchristo/regridding_weights/CMIP6_to_grid1/res_1.9x1.9_to_0.5x0.5_size_64x192_to_240x720_nearest_s2d_NESM3_to_grid1.nc\n",
      "using dimensions ('lat', 'lon') from data variable mu_season as the horizontal dimensions for this dataset.\n",
      "Reuse existing file: /export/data1/cchristo/regridding_weights/CMIP6_to_grid1/res_1.2x1.9_to_0.5x0.5_size_96x192_to_240x720_nearest_s2d_KACE-1-0-G_to_grid1.nc\n",
      "using dimensions ('lat', 'lon') from data variable mu_season as the horizontal dimensions for this dataset.\n",
      "Reuse existing file: /export/data1/cchristo/regridding_weights/CMIP6_to_grid1/res_1.0x1.2_to_0.5x0.5_size_120x288_to_240x720_nearest_s2d_GFDL-CM4_to_grid1.nc\n",
      "using dimensions ('lat', 'lon') from data variable mu_season as the horizontal dimensions for this dataset.\n",
      "Reuse existing file: /export/data1/cchristo/regridding_weights/CMIP6_to_grid1/res_1.4x1.4_to_0.5x0.5_size_86x256_to_240x720_nearest_s2d_CNRM-CM6-1_to_grid1.nc\n",
      "using dimensions ('lat', 'lon') from data variable mu_season as the horizontal dimensions for this dataset.\n",
      "Reuse existing file: /export/data1/cchristo/regridding_weights/CMIP6_to_grid1/res_1.2x1.9_to_0.5x0.5_size_97x192_to_240x720_nearest_s2d_ACCESS-ESM1-5_to_grid1.nc\n",
      "using dimensions ('lat', 'lon') from data variable mu_season as the horizontal dimensions for this dataset.\n",
      "Reuse existing file: /export/data1/cchristo/regridding_weights/CMIP6_to_grid1/res_2.8x2.8_to_0.5x0.5_size_44x128_to_240x720_nearest_s2d_CanESM5_to_grid1.nc\n",
      "using dimensions ('lat', 'lon') from data variable mu_season as the horizontal dimensions for this dataset.\n",
      "Reuse existing file: /export/data1/cchristo/regridding_weights/CMIP6_to_grid1/res_1.1x1.1_to_0.5x0.5_size_108x320_to_240x720_nearest_s2d_BCC-CSM2-MR_to_grid1.nc\n",
      "using dimensions ('lat', 'lon') from data variable mu_season as the horizontal dimensions for this dataset.\n",
      "Reuse existing file: /export/data1/cchristo/regridding_weights/CMIP6_to_grid1/res_1.2x1.9_to_0.5x0.5_size_96x192_to_240x720_nearest_s2d_UKESM1-0-LL_to_grid1.nc\n",
      "using dimensions ('lat', 'lon') from data variable mu_season as the horizontal dimensions for this dataset.\n",
      "Reuse existing file: /export/data1/cchristo/regridding_weights/CMIP6_to_grid1/res_0.7x0.7_to_0.5x0.5_size_172x512_to_240x720_nearest_s2d_EC-Earth3_to_grid1.nc\n",
      "using dimensions ('lat', 'lon') from data variable mu_season as the horizontal dimensions for this dataset.\n",
      "Reuse existing file: /export/data1/cchristo/regridding_weights/CMIP6_to_grid1/res_1.9x1.9_to_0.5x0.5_size_64x192_to_240x720_nearest_s2d_AWI-ESM-1-1-LR_to_grid1.nc\n",
      "using dimensions ('lat', 'lon') from data variable mu_season as the horizontal dimensions for this dataset.\n",
      "Reuse existing file: /export/data1/cchristo/regridding_weights/CMIP6_to_grid1/res_0.9x0.9_to_0.5x0.5_size_128x384_to_240x720_nearest_s2d_AWI-CM-1-1-MR_to_grid1.nc\n",
      "using dimensions ('lat', 'lon') from data variable mu_season as the horizontal dimensions for this dataset.\n",
      "Reuse existing file: /export/data1/cchristo/regridding_weights/CMIP6_to_grid1/res_2.0x2.0_to_0.5x0.5_size_60x180_to_240x720_nearest_s2d_FGOALS-g3_to_grid1.nc\n",
      "using dimensions ('lat', 'lon') from data variable mu_season as the horizontal dimensions for this dataset.\n",
      "Reuse existing file: /export/data1/cchristo/regridding_weights/CMIP6_to_grid1/res_1.9x1.9_to_0.5x0.5_size_64x192_to_240x720_nearest_s2d_MPI-ESM1-2-LR_to_grid1.nc\n",
      "using dimensions ('lat', 'lon') from data variable mu_season as the horizontal dimensions for this dataset.\n",
      "Weight file does not exist. Computing...\n",
      "Create weight file: /export/data1/cchristo/regridding_weights/CMIP6_to_grid1/res_0.5x0.5_to_0.5x0.5_size_240x720_to_240x720_nearest_s2d_CNRM-CM6-1-HR_to_grid1.nc\n",
      "using dimensions ('lat', 'lon') from data variable mu_season as the horizontal dimensions for this dataset.\n",
      "Reuse existing file: /export/data1/cchristo/regridding_weights/CMIP6_to_grid1/res_1.4x1.4_to_0.5x0.5_size_86x256_to_240x720_nearest_s2d_MIROC6_to_grid1.nc\n",
      "using dimensions ('lat', 'lon') from data variable mu_season as the horizontal dimensions for this dataset.\n",
      "Weight file does not exist. Computing...\n",
      "Create weight file: /export/data1/cchristo/regridding_weights/CMIP6_to_grid1/res_1.0x1.2_to_0.5x0.5_size_120x288_to_240x720_nearest_s2d_GFDL-ESM4_to_grid1.nc\n",
      "using dimensions ('lat', 'lon') from data variable mu_season as the horizontal dimensions for this dataset.\n"
     ]
    }
   ],
   "source": [
    "regrid_cmip_models_in_dir(model_list = unique_cmip6_models,\n",
    "                          ds_out = ds_out,\n",
    "                          method = 'nearest_s2d',\n",
    "#                           fname = '1985-01_2006-01_precip.nc',\n",
    "#                           fname = '2000-01_2015-01_precip.nc',\n",
    "                          fname = '1985-01_2015-01_precip.nc',\n",
    "                          regrid_weights_dir = regrid_weights_dir_cm6,\n",
    "                          input_data_dir_rel_path = input_data_dir_cm6, \n",
    "                          output_data_dir_rel_path = output_data_dir_cm6,\n",
    "                          out_grid_name = out_grid_name)\n"
   ]
  },
  {
   "cell_type": "code",
   "execution_count": 8,
   "metadata": {},
   "outputs": [
    {
     "data": {
      "text/plain": [
       "'/export/data1/cchristo/diurnal_analysis_results/GPM_bin_pt2_hr_15_yr_round_regridded/'"
      ]
     },
     "execution_count": 8,
     "metadata": {},
     "output_type": "execute_result"
    }
   ],
   "source": [
    "output_data_dir_gpm"
   ]
  },
  {
   "cell_type": "code",
   "execution_count": null,
   "metadata": {},
   "outputs": [],
   "source": [
    "# print(output_data_dir_gpm)"
   ]
  },
  {
   "cell_type": "markdown",
   "metadata": {},
   "source": [
    "### Regrid GPM"
   ]
  },
  {
   "cell_type": "code",
   "execution_count": 19,
   "metadata": {},
   "outputs": [
    {
     "name": "stdout",
     "output_type": "stream",
     "text": [
      "Weight file does not exist. Computing...\n",
      "Create weight file: /export/data1/cchristo/regridding_weights/GPM_to_grid1/res_1.0x1.2_to_0.5x0.5_size_120x288_to_240x720_nearest_s2d_GPM_bin_pt2_hr_15_yr_round_final_to_grid1.nc\n",
      "using dimensions ('lat', 'lon') from data variable mu_season as the horizontal dimensions for this dataset.\n"
     ]
    }
   ],
   "source": [
    "regrid_cmip_models_in_dir(model_list = ['GPM_bin_pt2_hr_15_yr_round_final',],\n",
    "                          ds_out = ds_out,\n",
    "                          method = 'nearest_s2d',\n",
    "                          fname = '2000-06_2016-06_precip.nc',\n",
    "                          regrid_weights_dir = regrid_weights_dir_gpm,\n",
    "                          input_data_dir_rel_path = input_data_dir_gpm, \n",
    "                          output_data_dir_rel_path = output_data_dir_gpm,\n",
    "                          out_grid_name = out_grid_name)"
   ]
  },
  {
   "cell_type": "markdown",
   "metadata": {},
   "source": [
    "# Regrid GPM Means"
   ]
  },
  {
   "cell_type": "code",
   "execution_count": 13,
   "metadata": {},
   "outputs": [
    {
     "name": "stdout",
     "output_type": "stream",
     "text": [
      "Weight file does not exist. Computing...\n",
      "Create weight file: /export/data1/cchristo/regridding_weights/GPM_mean_to_grid1/res_1.0x1.2_to_0.5x0.5_size_120x288_to_240x720_nearest_s2d_10_yr_to_grid1.nc\n",
      "using dimensions ('lat', 'lon') from data variable precipitationCal as the horizontal dimensions for this dataset.\n"
     ]
    }
   ],
   "source": [
    "regrid_cmip_models_in_dir(model_list = ['10_yr',],\n",
    "                          ds_out = ds_out,\n",
    "                          method = 'nearest_s2d',\n",
    "                          fname = 'average_10yr.nc',\n",
    "                          regrid_weights_dir = regrid_weights_dir_gpm_mean,\n",
    "                          input_data_dir_rel_path = input_data_dir_gpm_mean, \n",
    "                          output_data_dir_rel_path = output_data_dir_gpm_mean,\n",
    "                          out_grid_name = out_grid_name)"
   ]
  },
  {
   "cell_type": "code",
   "execution_count": 15,
   "metadata": {},
   "outputs": [
    {
     "data": {
      "text/plain": [
       "'/export/data1/cchristo/gpm_data/averages/10yr_regridded/'"
      ]
     },
     "execution_count": 15,
     "metadata": {},
     "output_type": "execute_result"
    }
   ],
   "source": [
    "output_data_dir_gpm_mean"
   ]
  },
  {
   "cell_type": "markdown",
   "metadata": {},
   "source": [
    "### Regrid Land/Sea Mask"
   ]
  },
  {
   "cell_type": "code",
   "execution_count": 29,
   "metadata": {},
   "outputs": [
    {
     "name": "stdout",
     "output_type": "stream",
     "text": [
      "Reuse existing file: /export/data1/cchristo/regridding_weights/GLDASp4_ls_mask_to_grid1/res_1.0x1.0_to_1.0x1.0_size_150x360_to_180x360_nearest_s2d_GLDASp4_to_grid1.nc\n",
      "using dimensions ('lat', 'lon') from data variable GLDAS_mask as the horizontal dimensions for this dataset.\n"
     ]
    }
   ],
   "source": [
    "\n",
    "ds_land_sea = xr.open_dataset(input_data_dir_ls_mask + 'GLDASp4_landmask_1d.nc4')\n",
    "ds_in = ds_land_sea.copy().transpose('time','lat','lon', 'bnds')\n",
    "ds_in = ds_in.drop(['time','time_bnds'])\n",
    "#  regridder(ds_in['GLDAS_mask'].transpose('time','lat','lon'))\n",
    "land_sea_regridded = regrid(ds_in, \n",
    "                            ds_out,\n",
    "                            method = 'nearest_s2d',\n",
    "                            label = 'GLDASp4' + '_to_' + 'grid1',\n",
    "                            regrid_weights_dir = regrid_weights_dir_ls_mask)\n",
    "\n",
    "if not os.path.exists(output_data_dir_ls_mask + out_grid_name + '/'):\n",
    "    os.makedirs(output_data_dir_ls_mask + out_grid_name + '/')\n",
    "# get rid of time dim for consistency before saving\n",
    "land_sea_regridded = land_sea_regridded['GLDAS_mask'].isel(time = 0) #.transpose()\n",
    "\n",
    "# land_sea_regridded.to_netcdf(output_data_dir_ls_mask + out_grid_name + '/' + out_grid_name + '_GLDASp4_landmask_1d.nc')"
   ]
  },
  {
   "cell_type": "code",
   "execution_count": 18,
   "metadata": {},
   "outputs": [
    {
     "data": {
      "text/plain": [
       "'/export/data1/cchristo/CMIP6_clouds/averages/time_averages/period/clt_regridded/'"
      ]
     },
     "execution_count": 18,
     "metadata": {},
     "output_type": "execute_result"
    }
   ],
   "source": [
    "output_data_dir_clt"
   ]
  },
  {
   "cell_type": "markdown",
   "metadata": {},
   "source": [
    "### Regrid Mean Climate Fields"
   ]
  },
  {
   "cell_type": "code",
   "execution_count": 9,
   "metadata": {},
   "outputs": [
    {
     "name": "stdout",
     "output_type": "stream",
     "text": [
      "Reuse existing file: /export/data1/cchristo/regridding_weights/CMIP6_ave_to_grid1/clt/res_1.3x2.5_to_0.5x0.5_size_95x144_to_240x720_nearest_s2d_IPSL-CM6A-LR_to_grid1.nc\n",
      "using dimensions ('lat', 'lon') from data variable clt as the horizontal dimensions for this dataset.\n",
      "Reuse existing file: /export/data1/cchristo/regridding_weights/CMIP6_ave_to_grid1/clt/res_1.9x1.9_to_0.5x0.5_size_64x192_to_240x720_nearest_s2d_MPI-ESM-1-2-HAM_to_grid1.nc\n",
      "using dimensions ('lat', 'lon') from data variable clt as the horizontal dimensions for this dataset.\n",
      "Reuse existing file: /export/data1/cchristo/regridding_weights/CMIP6_ave_to_grid1/clt/res_0.9x1.2_to_0.5x0.5_size_128x288_to_240x720_nearest_s2d_SAM0-UNICON_to_grid1.nc\n",
      "using dimensions ('lat', 'lon') from data variable clt as the horizontal dimensions for this dataset.\n",
      "Reuse existing file: /export/data1/cchristo/regridding_weights/CMIP6_ave_to_grid1/clt/res_1.2x1.9_to_0.5x0.5_size_96x192_to_240x720_nearest_s2d_ACCESS-CM2_to_grid1.nc\n",
      "using dimensions ('lat', 'lon') from data variable clt as the horizontal dimensions for this dataset.\n",
      "Reuse existing file: /export/data1/cchristo/regridding_weights/CMIP6_ave_to_grid1/clt/res_0.7x0.7_to_0.5x0.5_size_172x512_to_240x720_nearest_s2d_EC-Earth3-Veg_to_grid1.nc\n",
      "using dimensions ('lat', 'lon') from data variable clt as the horizontal dimensions for this dataset.\n",
      "Reuse existing file: /export/data1/cchristo/regridding_weights/CMIP6_ave_to_grid1/clt/res_1.4x1.4_to_0.5x0.5_size_86x256_to_240x720_nearest_s2d_CNRM-ESM2-1_to_grid1.nc\n",
      "using dimensions ('lat', 'lon') from data variable clt as the horizontal dimensions for this dataset.\n",
      "Reuse existing file: /export/data1/cchristo/regridding_weights/CMIP6_ave_to_grid1/clt/res_1.1x1.1_to_0.5x0.5_size_108x320_to_240x720_nearest_s2d_MRI-ESM2-0_to_grid1.nc\n",
      "using dimensions ('lat', 'lon') from data variable clt as the horizontal dimensions for this dataset.\n",
      "Reuse existing file: /export/data1/cchristo/regridding_weights/CMIP6_ave_to_grid1/clt/res_0.9x1.2_to_0.5x0.5_size_128x288_to_240x720_nearest_s2d_CMCC-CM2-SR5_to_grid1.nc\n",
      "using dimensions ('lat', 'lon') from data variable clt as the horizontal dimensions for this dataset.\n",
      "Reuse existing file: /export/data1/cchristo/regridding_weights/CMIP6_ave_to_grid1/clt/res_0.9x0.9_to_0.5x0.5_size_128x384_to_240x720_nearest_s2d_MPI-ESM1-2-HR_to_grid1.nc\n",
      "using dimensions ('lat', 'lon') from data variable clt as the horizontal dimensions for this dataset.\n",
      "Reuse existing file: /export/data1/cchristo/regridding_weights/CMIP6_ave_to_grid1/clt/res_2.8x2.8_to_0.5x0.5_size_44x128_to_240x720_nearest_s2d_MIROC-ES2L_to_grid1.nc\n",
      "using dimensions ('lat', 'lon') from data variable clt as the horizontal dimensions for this dataset.\n",
      "Reuse existing file: /export/data1/cchristo/regridding_weights/CMIP6_ave_to_grid1/clt/res_2.0x2.5_to_0.5x0.5_size_60x144_to_240x720_nearest_s2d_GISS-E2-1-G_to_grid1.nc\n",
      "using dimensions ('lat', 'lon') from data variable clt as the horizontal dimensions for this dataset.\n",
      "Reuse existing file: /export/data1/cchristo/regridding_weights/CMIP6_ave_to_grid1/clt/res_1.1x1.1_to_0.5x0.5_size_108x320_to_240x720_nearest_s2d_EC-Earth3-Veg-LR_to_grid1.nc\n",
      "using dimensions ('lat', 'lon') from data variable clt as the horizontal dimensions for this dataset.\n",
      "Reuse existing file: /export/data1/cchristo/regridding_weights/CMIP6_ave_to_grid1/clt/res_1.9x1.9_to_0.5x0.5_size_64x192_to_240x720_nearest_s2d_NESM3_to_grid1.nc\n",
      "using dimensions ('lat', 'lon') from data variable clt as the horizontal dimensions for this dataset.\n",
      "Reuse existing file: /export/data1/cchristo/regridding_weights/CMIP6_ave_to_grid1/clt/res_1.2x1.9_to_0.5x0.5_size_96x192_to_240x720_nearest_s2d_KACE-1-0-G_to_grid1.nc\n",
      "using dimensions ('lat', 'lon') from data variable clt as the horizontal dimensions for this dataset.\n",
      "Could not regrid GFDL-CM4 : [Errno 2] No such file or directory: b'/export/data1/cchristo/CMIP6_clouds/averages/time_averages/period/clt_30yr/GFDL-CM4/1985-01_2015-01_mean.nc'\n",
      "Reuse existing file: /export/data1/cchristo/regridding_weights/CMIP6_ave_to_grid1/clt/res_1.4x1.4_to_0.5x0.5_size_86x256_to_240x720_nearest_s2d_CNRM-CM6-1_to_grid1.nc\n",
      "using dimensions ('lat', 'lon') from data variable clt as the horizontal dimensions for this dataset.\n",
      "Reuse existing file: /export/data1/cchristo/regridding_weights/CMIP6_ave_to_grid1/clt/res_1.2x1.9_to_0.5x0.5_size_97x192_to_240x720_nearest_s2d_ACCESS-ESM1-5_to_grid1.nc\n",
      "using dimensions ('lat', 'lon') from data variable clt as the horizontal dimensions for this dataset.\n",
      "Reuse existing file: /export/data1/cchristo/regridding_weights/CMIP6_ave_to_grid1/clt/res_2.8x2.8_to_0.5x0.5_size_44x128_to_240x720_nearest_s2d_CanESM5_to_grid1.nc\n",
      "using dimensions ('lat', 'lon') from data variable clt as the horizontal dimensions for this dataset.\n",
      "Reuse existing file: /export/data1/cchristo/regridding_weights/CMIP6_ave_to_grid1/clt/res_1.1x1.1_to_0.5x0.5_size_108x320_to_240x720_nearest_s2d_BCC-CSM2-MR_to_grid1.nc\n",
      "using dimensions ('lat', 'lon') from data variable clt as the horizontal dimensions for this dataset.\n",
      "Reuse existing file: /export/data1/cchristo/regridding_weights/CMIP6_ave_to_grid1/clt/res_1.2x1.9_to_0.5x0.5_size_96x192_to_240x720_nearest_s2d_UKESM1-0-LL_to_grid1.nc\n",
      "using dimensions ('lat', 'lon') from data variable clt as the horizontal dimensions for this dataset.\n",
      "Reuse existing file: /export/data1/cchristo/regridding_weights/CMIP6_ave_to_grid1/clt/res_0.7x0.7_to_0.5x0.5_size_172x512_to_240x720_nearest_s2d_EC-Earth3_to_grid1.nc\n",
      "using dimensions ('lat', 'lon') from data variable clt as the horizontal dimensions for this dataset.\n",
      "Reuse existing file: /export/data1/cchristo/regridding_weights/CMIP6_ave_to_grid1/clt/res_1.9x1.9_to_0.5x0.5_size_64x192_to_240x720_nearest_s2d_AWI-ESM-1-1-LR_to_grid1.nc\n",
      "using dimensions ('lat', 'lon') from data variable clt as the horizontal dimensions for this dataset.\n",
      "Reuse existing file: /export/data1/cchristo/regridding_weights/CMIP6_ave_to_grid1/clt/res_0.9x0.9_to_0.5x0.5_size_128x384_to_240x720_nearest_s2d_AWI-CM-1-1-MR_to_grid1.nc\n",
      "using dimensions ('lat', 'lon') from data variable clt as the horizontal dimensions for this dataset.\n",
      "Reuse existing file: /export/data1/cchristo/regridding_weights/CMIP6_ave_to_grid1/clt/res_2.0x2.0_to_0.5x0.5_size_60x180_to_240x720_nearest_s2d_FGOALS-g3_to_grid1.nc\n",
      "using dimensions ('lat', 'lon') from data variable clt as the horizontal dimensions for this dataset.\n",
      "Reuse existing file: /export/data1/cchristo/regridding_weights/CMIP6_ave_to_grid1/clt/res_1.9x1.9_to_0.5x0.5_size_64x192_to_240x720_nearest_s2d_MPI-ESM1-2-LR_to_grid1.nc\n",
      "using dimensions ('lat', 'lon') from data variable clt as the horizontal dimensions for this dataset.\n",
      "Reuse existing file: /export/data1/cchristo/regridding_weights/CMIP6_ave_to_grid1/clt/res_0.5x0.5_to_0.5x0.5_size_240x720_to_240x720_nearest_s2d_CNRM-CM6-1-HR_to_grid1.nc\n",
      "using dimensions ('lat', 'lon') from data variable clt as the horizontal dimensions for this dataset.\n",
      "Reuse existing file: /export/data1/cchristo/regridding_weights/CMIP6_ave_to_grid1/clt/res_1.4x1.4_to_0.5x0.5_size_86x256_to_240x720_nearest_s2d_MIROC6_to_grid1.nc\n",
      "using dimensions ('lat', 'lon') from data variable clt as the horizontal dimensions for this dataset.\n",
      "Reuse existing file: /export/data1/cchristo/regridding_weights/CMIP6_ave_to_grid1/clt/res_1.0x1.2_to_0.5x0.5_size_120x288_to_240x720_nearest_s2d_GFDL-ESM4_to_grid1.nc\n",
      "using dimensions ('lat', 'lon') from data variable clt as the horizontal dimensions for this dataset.\n"
     ]
    }
   ],
   "source": [
    "######## rlut\n",
    "# regrid_cmip_models_in_dir(model_list = unique_cmip6_models,\n",
    "#                           ds_out = ds_out,\n",
    "#                           method = 'nearest_s2d',\n",
    "#                           fname = '1985-01_2006-01_mean.nc',\n",
    "#                           field_name = 'rlut',\n",
    "#                           regrid_weights_dir = regrid_weights_dir_rlut,\n",
    "#                           input_data_dir_rel_path = input_data_dir_rlut, \n",
    "#                           output_data_dir_rel_path = output_data_dir_rlut,\n",
    "#                           out_grid_name = out_grid_name)\n",
    "# ####### rsut\n",
    "# regrid_cmip_models_in_dir(model_list = unique_cmip6_models,\n",
    "#                           ds_out = ds_out,\n",
    "#                           method = 'nearest_s2d',\n",
    "#                           fname = '1985-01_2006-01_mean.nc',\n",
    "#                           field_name = 'rsut',\n",
    "#                           regrid_weights_dir = regrid_weights_dir_rsut,\n",
    "#                           input_data_dir_rel_path = input_data_dir_rsut, \n",
    "#                           output_data_dir_rel_path = output_data_dir_rsut,\n",
    "#                           out_grid_name = out_grid_name)\n",
    "\n",
    "\n",
    "# ######## pr\n",
    "# regrid_cmip_models_in_dir(model_list = unique_cmip6_models,\n",
    "#                           ds_out = ds_out,\n",
    "#                           method = 'nearest_s2d',\n",
    "#                           fname = '1985-01_2006-01_mean.nc',\n",
    "#                           field_name = 'pr',\n",
    "#                           regrid_weights_dir = regrid_weights_dir_pr,\n",
    "#                           input_data_dir_rel_path = input_data_dir_pr, \n",
    "#                           output_data_dir_rel_path = output_data_dir_pr,\n",
    "#                           out_grid_name = out_grid_name)\n",
    "\n",
    "###### clt\n",
    "regrid_cmip_models_in_dir(model_list = unique_cmip6_models,\n",
    "                          ds_out = ds_out,\n",
    "                          method = 'nearest_s2d',\n",
    "#                           fname = '1985-01_2006-01_mean.nc',\n",
    "#                           fname = '2000-01_2015-01_mean.nc',\n",
    "                          fname = '1985-01_2015-01_mean.nc',\n",
    "                          field_name = 'clt',\n",
    "                          regrid_weights_dir = regrid_weights_dir_clt,\n",
    "                          input_data_dir_rel_path = input_data_dir_clt, \n",
    "                          output_data_dir_rel_path = output_data_dir_clt,\n",
    "                          out_grid_name = out_grid_name)\n"
   ]
  },
  {
   "cell_type": "code",
   "execution_count": null,
   "metadata": {},
   "outputs": [],
   "source": []
  },
  {
   "cell_type": "code",
   "execution_count": 21,
   "metadata": {},
   "outputs": [],
   "source": [
    "######## cltl\n",
    "regrid_cmip_models_in_dir(model_list = unique_cmip6_models,\n",
    "                          ds_out = ds_out,\n",
    "                          method = 'nearest_s2d',\n",
    "                          fname = '1985-01_2006-01_mean.nc',\n",
    "                          field_name = 'cltl',\n",
    "                          regrid_weights_dir = regrid_weights_dir_cltl,\n",
    "                          input_data_dir_rel_path = input_data_dir_cltl, \n",
    "                          output_data_dir_rel_path = output_data_dir_cltl,\n",
    "                          out_grid_name = out_grid_name)\n",
    "####### clth\n",
    "regrid_cmip_models_in_dir(model_list = unique_cmip6_models,\n",
    "                          ds_out = ds_out,\n",
    "                          method = 'nearest_s2d',\n",
    "                          fname = '1985-01_2006-01_mean.nc',\n",
    "                          field_name = 'clth',\n",
    "                          regrid_weights_dir = regrid_weights_dir_clth,\n",
    "                          input_data_dir_rel_path = input_data_dir_clth, \n",
    "                          output_data_dir_rel_path = output_data_dir_clth,\n",
    "                          out_grid_name = out_grid_name)"
   ]
  },
  {
   "cell_type": "code",
   "execution_count": 41,
   "metadata": {},
   "outputs": [
    {
     "name": "stdout",
     "output_type": "stream",
     "text": [
      "Reuse existing file: /export/data1/cchristo/regridding_weights/CMIP6_ave_to_grid1/pr_3hr/res_1.3x2.5_to_0.5x0.5_size_95x144_to_240x720_nearest_s2d_IPSL-CM6A-LR_to_grid1.nc\n",
      "using dimensions ('lat', 'lon') from data variable pr as the horizontal dimensions for this dataset.\n",
      "Reuse existing file: /export/data1/cchristo/regridding_weights/CMIP6_ave_to_grid1/pr_3hr/res_1.9x1.9_to_0.5x0.5_size_64x192_to_240x720_nearest_s2d_MPI-ESM-1-2-HAM_to_grid1.nc\n",
      "using dimensions ('lat', 'lon') from data variable pr as the horizontal dimensions for this dataset.\n",
      "Reuse existing file: /export/data1/cchristo/regridding_weights/CMIP6_ave_to_grid1/pr_3hr/res_0.9x1.2_to_0.5x0.5_size_128x288_to_240x720_nearest_s2d_SAM0-UNICON_to_grid1.nc\n",
      "using dimensions ('lat', 'lon') from data variable pr as the horizontal dimensions for this dataset.\n",
      "Reuse existing file: /export/data1/cchristo/regridding_weights/CMIP6_ave_to_grid1/pr_3hr/res_1.2x1.9_to_0.5x0.5_size_96x192_to_240x720_nearest_s2d_ACCESS-CM2_to_grid1.nc\n",
      "using dimensions ('lat', 'lon') from data variable pr as the horizontal dimensions for this dataset.\n",
      "Reuse existing file: /export/data1/cchristo/regridding_weights/CMIP6_ave_to_grid1/pr_3hr/res_0.7x0.7_to_0.5x0.5_size_172x512_to_240x720_nearest_s2d_EC-Earth3-Veg_to_grid1.nc\n",
      "using dimensions ('lat', 'lon') from data variable pr as the horizontal dimensions for this dataset.\n",
      "Reuse existing file: /export/data1/cchristo/regridding_weights/CMIP6_ave_to_grid1/pr_3hr/res_1.4x1.4_to_0.5x0.5_size_86x256_to_240x720_nearest_s2d_CNRM-ESM2-1_to_grid1.nc\n",
      "using dimensions ('lat', 'lon') from data variable pr as the horizontal dimensions for this dataset.\n",
      "Reuse existing file: /export/data1/cchristo/regridding_weights/CMIP6_ave_to_grid1/pr_3hr/res_1.1x1.1_to_0.5x0.5_size_108x320_to_240x720_nearest_s2d_MRI-ESM2-0_to_grid1.nc\n",
      "using dimensions ('lat', 'lon') from data variable pr as the horizontal dimensions for this dataset.\n",
      "Reuse existing file: /export/data1/cchristo/regridding_weights/CMIP6_ave_to_grid1/pr_3hr/res_0.9x1.2_to_0.5x0.5_size_128x288_to_240x720_nearest_s2d_CMCC-CM2-SR5_to_grid1.nc\n",
      "using dimensions ('lat', 'lon') from data variable pr as the horizontal dimensions for this dataset.\n",
      "Reuse existing file: /export/data1/cchristo/regridding_weights/CMIP6_ave_to_grid1/pr_3hr/res_0.9x0.9_to_0.5x0.5_size_128x384_to_240x720_nearest_s2d_MPI-ESM1-2-HR_to_grid1.nc\n",
      "using dimensions ('lat', 'lon') from data variable pr as the horizontal dimensions for this dataset.\n",
      "Reuse existing file: /export/data1/cchristo/regridding_weights/CMIP6_ave_to_grid1/pr_3hr/res_2.8x2.8_to_0.5x0.5_size_44x128_to_240x720_nearest_s2d_MIROC-ES2L_to_grid1.nc\n",
      "using dimensions ('lat', 'lon') from data variable pr as the horizontal dimensions for this dataset.\n",
      "Reuse existing file: /export/data1/cchristo/regridding_weights/CMIP6_ave_to_grid1/pr_3hr/res_2.0x2.5_to_0.5x0.5_size_60x144_to_240x720_nearest_s2d_GISS-E2-1-G_to_grid1.nc\n",
      "using dimensions ('lat', 'lon') from data variable pr as the horizontal dimensions for this dataset.\n",
      "Reuse existing file: /export/data1/cchristo/regridding_weights/CMIP6_ave_to_grid1/pr_3hr/res_1.1x1.1_to_0.5x0.5_size_108x320_to_240x720_nearest_s2d_EC-Earth3-Veg-LR_to_grid1.nc\n",
      "using dimensions ('lat', 'lon') from data variable pr as the horizontal dimensions for this dataset.\n",
      "Reuse existing file: /export/data1/cchristo/regridding_weights/CMIP6_ave_to_grid1/pr_3hr/res_1.9x1.9_to_0.5x0.5_size_64x192_to_240x720_nearest_s2d_NESM3_to_grid1.nc\n",
      "using dimensions ('lat', 'lon') from data variable pr as the horizontal dimensions for this dataset.\n",
      "Reuse existing file: /export/data1/cchristo/regridding_weights/CMIP6_ave_to_grid1/pr_3hr/res_1.2x1.9_to_0.5x0.5_size_96x192_to_240x720_nearest_s2d_KACE-1-0-G_to_grid1.nc\n",
      "using dimensions ('lat', 'lon') from data variable pr as the horizontal dimensions for this dataset.\n",
      "Reuse existing file: /export/data1/cchristo/regridding_weights/CMIP6_ave_to_grid1/pr_3hr/res_1.0x1.2_to_0.5x0.5_size_120x288_to_240x720_nearest_s2d_GFDL-CM4_to_grid1.nc\n",
      "using dimensions ('lat', 'lon') from data variable pr as the horizontal dimensions for this dataset.\n",
      "Reuse existing file: /export/data1/cchristo/regridding_weights/CMIP6_ave_to_grid1/pr_3hr/res_1.4x1.4_to_0.5x0.5_size_86x256_to_240x720_nearest_s2d_CNRM-CM6-1_to_grid1.nc\n",
      "using dimensions ('lat', 'lon') from data variable pr as the horizontal dimensions for this dataset.\n",
      "Reuse existing file: /export/data1/cchristo/regridding_weights/CMIP6_ave_to_grid1/pr_3hr/res_1.2x1.9_to_0.5x0.5_size_97x192_to_240x720_nearest_s2d_ACCESS-ESM1-5_to_grid1.nc\n",
      "using dimensions ('lat', 'lon') from data variable pr as the horizontal dimensions for this dataset.\n",
      "Reuse existing file: /export/data1/cchristo/regridding_weights/CMIP6_ave_to_grid1/pr_3hr/res_2.8x2.8_to_0.5x0.5_size_44x128_to_240x720_nearest_s2d_CanESM5_to_grid1.nc\n",
      "using dimensions ('lat', 'lon') from data variable pr as the horizontal dimensions for this dataset.\n",
      "Reuse existing file: /export/data1/cchristo/regridding_weights/CMIP6_ave_to_grid1/pr_3hr/res_1.1x1.1_to_0.5x0.5_size_108x320_to_240x720_nearest_s2d_BCC-CSM2-MR_to_grid1.nc\n",
      "using dimensions ('lat', 'lon') from data variable pr as the horizontal dimensions for this dataset.\n",
      "Reuse existing file: /export/data1/cchristo/regridding_weights/CMIP6_ave_to_grid1/pr_3hr/res_1.2x1.9_to_0.5x0.5_size_96x192_to_240x720_nearest_s2d_UKESM1-0-LL_to_grid1.nc\n",
      "using dimensions ('lat', 'lon') from data variable pr as the horizontal dimensions for this dataset.\n",
      "Reuse existing file: /export/data1/cchristo/regridding_weights/CMIP6_ave_to_grid1/pr_3hr/res_0.7x0.7_to_0.5x0.5_size_172x512_to_240x720_nearest_s2d_EC-Earth3_to_grid1.nc\n",
      "using dimensions ('lat', 'lon') from data variable pr as the horizontal dimensions for this dataset.\n",
      "Reuse existing file: /export/data1/cchristo/regridding_weights/CMIP6_ave_to_grid1/pr_3hr/res_1.9x1.9_to_0.5x0.5_size_64x192_to_240x720_nearest_s2d_AWI-ESM-1-1-LR_to_grid1.nc\n",
      "using dimensions ('lat', 'lon') from data variable pr as the horizontal dimensions for this dataset.\n",
      "Reuse existing file: /export/data1/cchristo/regridding_weights/CMIP6_ave_to_grid1/pr_3hr/res_0.9x0.9_to_0.5x0.5_size_128x384_to_240x720_nearest_s2d_AWI-CM-1-1-MR_to_grid1.nc\n",
      "using dimensions ('lat', 'lon') from data variable pr as the horizontal dimensions for this dataset.\n",
      "Reuse existing file: /export/data1/cchristo/regridding_weights/CMIP6_ave_to_grid1/pr_3hr/res_2.0x2.0_to_0.5x0.5_size_60x180_to_240x720_nearest_s2d_FGOALS-g3_to_grid1.nc\n",
      "using dimensions ('lat', 'lon') from data variable pr as the horizontal dimensions for this dataset.\n",
      "Reuse existing file: /export/data1/cchristo/regridding_weights/CMIP6_ave_to_grid1/pr_3hr/res_1.9x1.9_to_0.5x0.5_size_64x192_to_240x720_nearest_s2d_MPI-ESM1-2-LR_to_grid1.nc\n",
      "using dimensions ('lat', 'lon') from data variable pr as the horizontal dimensions for this dataset.\n",
      "Weight file does not exist. Computing...\n",
      "Create weight file: /export/data1/cchristo/regridding_weights/CMIP6_ave_to_grid1/pr_3hr/res_0.5x0.5_to_0.5x0.5_size_240x720_to_240x720_nearest_s2d_CNRM-CM6-1-HR_to_grid1.nc\n",
      "using dimensions ('lat', 'lon') from data variable pr as the horizontal dimensions for this dataset.\n",
      "Reuse existing file: /export/data1/cchristo/regridding_weights/CMIP6_ave_to_grid1/pr_3hr/res_1.4x1.4_to_0.5x0.5_size_86x256_to_240x720_nearest_s2d_MIROC6_to_grid1.nc\n",
      "using dimensions ('lat', 'lon') from data variable pr as the horizontal dimensions for this dataset.\n",
      "Weight file does not exist. Computing...\n",
      "Create weight file: /export/data1/cchristo/regridding_weights/CMIP6_ave_to_grid1/pr_3hr/res_1.0x1.2_to_0.5x0.5_size_120x288_to_240x720_nearest_s2d_GFDL-ESM4_to_grid1.nc\n",
      "using dimensions ('lat', 'lon') from data variable pr as the horizontal dimensions for this dataset.\n"
     ]
    }
   ],
   "source": [
    "######## pr 3hr\n",
    "regrid_cmip_models_in_dir(model_list = unique_cmip6_models,\n",
    "                          ds_out = ds_out,\n",
    "                          method = 'nearest_s2d',\n",
    "#                           fname = '1985-01_2006-01_mean.nc',\n",
    "                          fname = '2000-01_2015-01_mean.nc',\n",
    "                          field_name = 'pr',\n",
    "                          regrid_weights_dir = regrid_weights_dir_pr_3hr,\n",
    "                          input_data_dir_rel_path = input_data_dir_pr_3hr, \n",
    "                          output_data_dir_rel_path = output_data_dir_pr_3hr,\n",
    "                          out_grid_name = out_grid_name)\n",
    "                      "
   ]
  },
  {
   "cell_type": "markdown",
   "metadata": {},
   "source": [
    "# regrid mean CMIP5 mean fields"
   ]
  },
  {
   "cell_type": "code",
   "execution_count": 15,
   "metadata": {},
   "outputs": [
    {
     "name": "stdout",
     "output_type": "stream",
     "text": [
      "Reuse existing file: /export/data1/cchristo/regridding_weights/CMIP5_ave_to_grid1/clt/res_2.0x2.5_to_0.5x0.5_size_60x144_to_240x720_nearest_s2d_GFDL-ESM2G_to_grid1.nc\n",
      "using dimensions ('lat', 'lon') from data variable clt as the horizontal dimensions for this dataset.\n",
      "Reuse existing file: /export/data1/cchristo/regridding_weights/CMIP5_ave_to_grid1/clt/res_1.5x2.0_to_0.5x0.5_size_80x180_to_240x720_nearest_s2d_inmcm4_to_grid1.nc\n",
      "using dimensions ('lat', 'lon') from data variable clt as the horizontal dimensions for this dataset.\n",
      "Reuse existing file: /export/data1/cchristo/regridding_weights/CMIP5_ave_to_grid1/clt/res_1.2x1.9_to_0.5x0.5_size_97x192_to_240x720_nearest_s2d_HadGEM2-ES_to_grid1.nc\n",
      "using dimensions ('lat', 'lon') from data variable clt as the horizontal dimensions for this dataset.\n",
      "Reuse existing file: /export/data1/cchristo/regridding_weights/CMIP5_ave_to_grid1/clt/res_1.9x3.8_to_0.5x0.5_size_64x96_to_240x720_nearest_s2d_IPSL-CM5A-LR_to_grid1.nc\n",
      "using dimensions ('lat', 'lon') from data variable clt as the horizontal dimensions for this dataset.\n",
      "Reuse existing file: /export/data1/cchristo/regridding_weights/CMIP5_ave_to_grid1/clt/res_1.9x2.5_to_0.5x0.5_size_64x144_to_240x720_nearest_s2d_NorESM1-M_to_grid1.nc\n",
      "using dimensions ('lat', 'lon') from data variable clt as the horizontal dimensions for this dataset.\n",
      "Reuse existing file: /export/data1/cchristo/regridding_weights/CMIP5_ave_to_grid1/clt/res_1.3x2.5_to_0.5x0.5_size_95x144_to_240x720_nearest_s2d_IPSL-CM5A-MR_to_grid1.nc\n",
      "using dimensions ('lat', 'lon') from data variable clt as the horizontal dimensions for this dataset.\n",
      "Reuse existing file: /export/data1/cchristo/regridding_weights/CMIP5_ave_to_grid1/clt/res_2.8x2.8_to_0.5x0.5_size_44x128_to_240x720_nearest_s2d_MIROC-ESM-CHEM_to_grid1.nc\n",
      "using dimensions ('lat', 'lon') from data variable clt as the horizontal dimensions for this dataset.\n",
      "Reuse existing file: /export/data1/cchristo/regridding_weights/CMIP5_ave_to_grid1/clt/res_2.0x2.5_to_0.5x0.5_size_60x144_to_240x720_nearest_s2d_GFDL-CM3_to_grid1.nc\n",
      "using dimensions ('lat', 'lon') from data variable clt as the horizontal dimensions for this dataset.\n",
      "Reuse existing file: /export/data1/cchristo/regridding_weights/CMIP5_ave_to_grid1/clt/res_2.8x2.8_to_0.5x0.5_size_44x128_to_240x720_nearest_s2d_FGOALS-g2_to_grid1.nc\n",
      "using dimensions ('lat', 'lon') from data variable clt as the horizontal dimensions for this dataset.\n",
      "Reuse existing file: /export/data1/cchristo/regridding_weights/CMIP5_ave_to_grid1/clt/res_1.7x2.8_to_0.5x0.5_size_72x128_to_240x720_nearest_s2d_FGOALS-s2_to_grid1.nc\n",
      "using dimensions ('lat', 'lon') from data variable clt as the horizontal dimensions for this dataset.\n",
      "Reuse existing file: /export/data1/cchristo/regridding_weights/CMIP5_ave_to_grid1/clt/res_1.2x1.9_to_0.5x0.5_size_97x192_to_240x720_nearest_s2d_ACCESS1-0_to_grid1.nc\n",
      "using dimensions ('lat', 'lon') from data variable clt as the horizontal dimensions for this dataset.\n",
      "Reuse existing file: /export/data1/cchristo/regridding_weights/CMIP5_ave_to_grid1/clt/res_2.8x2.8_to_0.5x0.5_size_44x128_to_240x720_nearest_s2d_MIROC-ESM_to_grid1.nc\n",
      "using dimensions ('lat', 'lon') from data variable clt as the horizontal dimensions for this dataset.\n",
      "Reuse existing file: /export/data1/cchristo/regridding_weights/CMIP5_ave_to_grid1/clt/res_2.0x2.5_to_0.5x0.5_size_60x144_to_240x720_nearest_s2d_GISS-E2-H_to_grid1.nc\n",
      "using dimensions ('lat', 'lon') from data variable clt as the horizontal dimensions for this dataset.\n",
      "Reuse existing file: /export/data1/cchristo/regridding_weights/CMIP5_ave_to_grid1/clt/res_1.4x1.4_to_0.5x0.5_size_86x256_to_240x720_nearest_s2d_CNRM-CM5_to_grid1.nc\n",
      "using dimensions ('lat', 'lon') from data variable clt as the horizontal dimensions for this dataset.\n",
      "Reuse existing file: /export/data1/cchristo/regridding_weights/CMIP5_ave_to_grid1/clt/res_0.7x0.8_to_0.5x0.5_size_160x480_to_240x720_nearest_s2d_CMCC-CM_to_grid1.nc\n",
      "using dimensions ('lat', 'lon') from data variable clt as the horizontal dimensions for this dataset.\n",
      "Reuse existing file: /export/data1/cchristo/regridding_weights/CMIP5_ave_to_grid1/clt/res_1.4x1.4_to_0.5x0.5_size_86x256_to_240x720_nearest_s2d_MIROC5_to_grid1.nc\n",
      "using dimensions ('lat', 'lon') from data variable clt as the horizontal dimensions for this dataset.\n",
      "Reuse existing file: /export/data1/cchristo/regridding_weights/CMIP5_ave_to_grid1/clt/res_1.2x1.9_to_0.5x0.5_size_97x192_to_240x720_nearest_s2d_ACCESS1-3_to_grid1.nc\n",
      "using dimensions ('lat', 'lon') from data variable clt as the horizontal dimensions for this dataset.\n",
      "Reuse existing file: /export/data1/cchristo/regridding_weights/CMIP5_ave_to_grid1/clt/res_2.0x2.5_to_0.5x0.5_size_60x144_to_240x720_nearest_s2d_GFDL-ESM2M_to_grid1.nc\n",
      "using dimensions ('lat', 'lon') from data variable clt as the horizontal dimensions for this dataset.\n",
      "Reuse existing file: /export/data1/cchristo/regridding_weights/CMIP5_ave_to_grid1/clt/res_2.0x2.5_to_0.5x0.5_size_60x144_to_240x720_nearest_s2d_GISS-E2-R_to_grid1.nc\n",
      "using dimensions ('lat', 'lon') from data variable clt as the horizontal dimensions for this dataset.\n",
      "Reuse existing file: /export/data1/cchristo/regridding_weights/CMIP5_ave_to_grid1/clt/res_1.1x1.1_to_0.5x0.5_size_108x320_to_240x720_nearest_s2d_MRI-CGCM3_to_grid1.nc\n",
      "using dimensions ('lat', 'lon') from data variable clt as the horizontal dimensions for this dataset.\n",
      "Reuse existing file: /export/data1/cchristo/regridding_weights/CMIP5_ave_to_grid1/clt/res_1.1x1.1_to_0.5x0.5_size_108x320_to_240x720_nearest_s2d_MRI-ESM1_to_grid1.nc\n",
      "using dimensions ('lat', 'lon') from data variable clt as the horizontal dimensions for this dataset.\n",
      "Reuse existing file: /export/data1/cchristo/regridding_weights/CMIP5_ave_to_grid1/clt/res_0.6x0.6_to_0.5x0.5_size_214x640_to_240x720_nearest_s2d_MIROC4h_to_grid1.nc\n",
      "using dimensions ('lat', 'lon') from data variable clt as the horizontal dimensions for this dataset.\n"
     ]
    }
   ],
   "source": [
    "regrid_cmip_models_in_dir(model_list = unique_cmip5_models,\n",
    "                          ds_out = ds_out,\n",
    "                          method = 'nearest_s2d',\n",
    "#                           fname = '1985-01_2006-01_mean.nc',\n",
    "#                           fname = '1991-01_2006-01_mean.nc',\n",
    "                          fname = '1976-01_2006-01_mean.nc',\n",
    "                          field_name = 'clt',\n",
    "                          regrid_weights_dir = regrid_weights_dir_clt_cmip5,\n",
    "                          input_data_dir_rel_path = input_data_dir_clt_cmip5, \n",
    "                          output_data_dir_rel_path = output_data_dir_clt_cmip5,\n",
    "                          out_grid_name = out_grid_name)"
   ]
  },
  {
   "cell_type": "code",
   "execution_count": 56,
   "metadata": {},
   "outputs": [
    {
     "name": "stdout",
     "output_type": "stream",
     "text": [
      "Weight file does not exist. Computing...\n",
      "Create weight file: /export/data1/cchristo/regridding_weights/CMIP5_ave_to_grid1/pr_3hr/res_2.0x2.5_to_0.5x0.5_size_60x144_to_240x720_nearest_s2d_GFDL-ESM2G_to_grid1.nc\n",
      "using dimensions ('lat', 'lon') from data variable pr as the horizontal dimensions for this dataset.\n",
      "Weight file does not exist. Computing...\n",
      "Create weight file: /export/data1/cchristo/regridding_weights/CMIP5_ave_to_grid1/pr_3hr/res_1.5x2.0_to_0.5x0.5_size_80x180_to_240x720_nearest_s2d_inmcm4_to_grid1.nc\n",
      "using dimensions ('lat', 'lon') from data variable pr as the horizontal dimensions for this dataset.\n",
      "Weight file does not exist. Computing...\n",
      "Create weight file: /export/data1/cchristo/regridding_weights/CMIP5_ave_to_grid1/pr_3hr/res_1.2x1.9_to_0.5x0.5_size_97x192_to_240x720_nearest_s2d_HadGEM2-ES_to_grid1.nc\n",
      "using dimensions ('lat', 'lon') from data variable pr as the horizontal dimensions for this dataset.\n",
      "Weight file does not exist. Computing...\n",
      "Create weight file: /export/data1/cchristo/regridding_weights/CMIP5_ave_to_grid1/pr_3hr/res_1.9x3.8_to_0.5x0.5_size_64x96_to_240x720_nearest_s2d_IPSL-CM5A-LR_to_grid1.nc\n",
      "using dimensions ('lat', 'lon') from data variable pr as the horizontal dimensions for this dataset.\n",
      "Weight file does not exist. Computing...\n",
      "Create weight file: /export/data1/cchristo/regridding_weights/CMIP5_ave_to_grid1/pr_3hr/res_1.9x2.5_to_0.5x0.5_size_64x144_to_240x720_nearest_s2d_NorESM1-M_to_grid1.nc\n",
      "using dimensions ('lat', 'lon') from data variable pr as the horizontal dimensions for this dataset.\n",
      "Weight file does not exist. Computing...\n",
      "Create weight file: /export/data1/cchristo/regridding_weights/CMIP5_ave_to_grid1/pr_3hr/res_1.3x2.5_to_0.5x0.5_size_95x144_to_240x720_nearest_s2d_IPSL-CM5A-MR_to_grid1.nc\n",
      "using dimensions ('lat', 'lon') from data variable pr as the horizontal dimensions for this dataset.\n",
      "Weight file does not exist. Computing...\n",
      "Create weight file: /export/data1/cchristo/regridding_weights/CMIP5_ave_to_grid1/pr_3hr/res_2.8x2.8_to_0.5x0.5_size_44x128_to_240x720_nearest_s2d_MIROC-ESM-CHEM_to_grid1.nc\n",
      "using dimensions ('lat', 'lon') from data variable pr as the horizontal dimensions for this dataset.\n",
      "Weight file does not exist. Computing...\n",
      "Create weight file: /export/data1/cchristo/regridding_weights/CMIP5_ave_to_grid1/pr_3hr/res_2.0x2.5_to_0.5x0.5_size_60x144_to_240x720_nearest_s2d_GFDL-CM3_to_grid1.nc\n",
      "using dimensions ('lat', 'lon') from data variable pr as the horizontal dimensions for this dataset.\n",
      "Weight file does not exist. Computing...\n",
      "Create weight file: /export/data1/cchristo/regridding_weights/CMIP5_ave_to_grid1/pr_3hr/res_2.8x2.8_to_0.5x0.5_size_44x128_to_240x720_nearest_s2d_FGOALS-g2_to_grid1.nc\n",
      "using dimensions ('lat', 'lon') from data variable pr as the horizontal dimensions for this dataset.\n",
      "Weight file does not exist. Computing...\n",
      "Create weight file: /export/data1/cchristo/regridding_weights/CMIP5_ave_to_grid1/pr_3hr/res_1.7x2.8_to_0.5x0.5_size_72x128_to_240x720_nearest_s2d_FGOALS-s2_to_grid1.nc\n",
      "using dimensions ('lat', 'lon') from data variable pr as the horizontal dimensions for this dataset.\n",
      "Weight file does not exist. Computing...\n",
      "Create weight file: /export/data1/cchristo/regridding_weights/CMIP5_ave_to_grid1/pr_3hr/res_1.2x1.9_to_0.5x0.5_size_97x192_to_240x720_nearest_s2d_ACCESS1-0_to_grid1.nc\n",
      "using dimensions ('lat', 'lon') from data variable pr as the horizontal dimensions for this dataset.\n",
      "Weight file does not exist. Computing...\n",
      "Create weight file: /export/data1/cchristo/regridding_weights/CMIP5_ave_to_grid1/pr_3hr/res_2.8x2.8_to_0.5x0.5_size_44x128_to_240x720_nearest_s2d_MIROC-ESM_to_grid1.nc\n",
      "using dimensions ('lat', 'lon') from data variable pr as the horizontal dimensions for this dataset.\n",
      "Weight file does not exist. Computing...\n",
      "Create weight file: /export/data1/cchristo/regridding_weights/CMIP5_ave_to_grid1/pr_3hr/res_2.0x2.5_to_0.5x0.5_size_60x144_to_240x720_nearest_s2d_GISS-E2-H_to_grid1.nc\n",
      "using dimensions ('lat', 'lon') from data variable pr as the horizontal dimensions for this dataset.\n",
      "Weight file does not exist. Computing...\n",
      "Create weight file: /export/data1/cchristo/regridding_weights/CMIP5_ave_to_grid1/pr_3hr/res_1.4x1.4_to_0.5x0.5_size_86x256_to_240x720_nearest_s2d_CNRM-CM5_to_grid1.nc\n",
      "using dimensions ('lat', 'lon') from data variable pr as the horizontal dimensions for this dataset.\n",
      "Weight file does not exist. Computing...\n",
      "Create weight file: /export/data1/cchristo/regridding_weights/CMIP5_ave_to_grid1/pr_3hr/res_0.7x0.8_to_0.5x0.5_size_160x480_to_240x720_nearest_s2d_CMCC-CM_to_grid1.nc\n",
      "using dimensions ('lat', 'lon') from data variable pr as the horizontal dimensions for this dataset.\n",
      "Weight file does not exist. Computing...\n",
      "Create weight file: /export/data1/cchristo/regridding_weights/CMIP5_ave_to_grid1/pr_3hr/res_1.4x1.4_to_0.5x0.5_size_86x256_to_240x720_nearest_s2d_MIROC5_to_grid1.nc\n",
      "using dimensions ('lat', 'lon') from data variable pr as the horizontal dimensions for this dataset.\n",
      "Weight file does not exist. Computing...\n",
      "Create weight file: /export/data1/cchristo/regridding_weights/CMIP5_ave_to_grid1/pr_3hr/res_1.2x1.9_to_0.5x0.5_size_97x192_to_240x720_nearest_s2d_ACCESS1-3_to_grid1.nc\n",
      "using dimensions ('lat', 'lon') from data variable pr as the horizontal dimensions for this dataset.\n",
      "Weight file does not exist. Computing...\n",
      "Create weight file: /export/data1/cchristo/regridding_weights/CMIP5_ave_to_grid1/pr_3hr/res_2.0x2.5_to_0.5x0.5_size_60x144_to_240x720_nearest_s2d_GFDL-ESM2M_to_grid1.nc\n",
      "using dimensions ('lat', 'lon') from data variable pr as the horizontal dimensions for this dataset.\n",
      "Weight file does not exist. Computing...\n",
      "Create weight file: /export/data1/cchristo/regridding_weights/CMIP5_ave_to_grid1/pr_3hr/res_2.0x2.5_to_0.5x0.5_size_60x144_to_240x720_nearest_s2d_GISS-E2-R_to_grid1.nc\n",
      "using dimensions ('lat', 'lon') from data variable pr as the horizontal dimensions for this dataset.\n",
      "Weight file does not exist. Computing...\n",
      "Create weight file: /export/data1/cchristo/regridding_weights/CMIP5_ave_to_grid1/pr_3hr/res_1.1x1.1_to_0.5x0.5_size_108x320_to_240x720_nearest_s2d_MRI-CGCM3_to_grid1.nc\n",
      "using dimensions ('lat', 'lon') from data variable pr as the horizontal dimensions for this dataset.\n",
      "Weight file does not exist. Computing...\n",
      "Create weight file: /export/data1/cchristo/regridding_weights/CMIP5_ave_to_grid1/pr_3hr/res_1.1x1.1_to_0.5x0.5_size_108x320_to_240x720_nearest_s2d_MRI-ESM1_to_grid1.nc\n",
      "using dimensions ('lat', 'lon') from data variable pr as the horizontal dimensions for this dataset.\n",
      "Weight file does not exist. Computing...\n",
      "Create weight file: /export/data1/cchristo/regridding_weights/CMIP5_ave_to_grid1/pr_3hr/res_0.6x0.6_to_0.5x0.5_size_214x640_to_240x720_nearest_s2d_MIROC4h_to_grid1.nc\n",
      "using dimensions ('lat', 'lon') from data variable pr as the horizontal dimensions for this dataset.\n"
     ]
    }
   ],
   "source": [
    "regrid_cmip_models_in_dir(model_list = unique_cmip5_models,\n",
    "                          ds_out = ds_out,\n",
    "                          method = 'nearest_s2d',\n",
    "                        fname = '1991-01_2006-01_mean.nc',\n",
    "#                           fname = '1976-01_2006-01_mean.nc',\n",
    "                          field_name = 'pr',\n",
    "                          regrid_weights_dir = regrid_weights_dir_pr_3hr_cmip5,\n",
    "                          input_data_dir_rel_path = input_data_dir_pr_3hr_cmip5, \n",
    "                          output_data_dir_rel_path = output_data_dir_pr_3hr_cmip5,\n",
    "                          out_grid_name = out_grid_name)"
   ]
  },
  {
   "cell_type": "code",
   "execution_count": null,
   "metadata": {},
   "outputs": [],
   "source": [
    "input_data_dir_pr_3hr_cmip5"
   ]
  },
  {
   "cell_type": "code",
   "execution_count": 30,
   "metadata": {},
   "outputs": [
    {
     "data": {
      "text/plain": [
       "<matplotlib.image.AxesImage at 0x7f500d5a2278>"
      ]
     },
     "execution_count": 30,
     "metadata": {},
     "output_type": "execute_result"
    },
    {
     "data": {
      "image/png": "[encoded data removed]",
      "text/plain": [
       "<Figure size 432x288 with 2 Axes>"
      ]
     },
     "metadata": {
      "needs_background": "light"
     },
     "output_type": "display_data"
    }
   ],
   "source": [
    "# ds_in['GLDAS_mask'].drop(['time'])\n",
    "land_sea_regridded.plot.imshow()"
   ]
  },
  {
   "cell_type": "code",
   "execution_count": 8,
   "metadata": {},
   "outputs": [],
   "source": [
    "\n",
    "# ds_in['GLDAS_mask'] = ds_in['GLDAS_mask'].drop(['time'])"
   ]
  },
  {
   "cell_type": "code",
   "execution_count": null,
   "metadata": {},
   "outputs": [],
   "source": [
    "# this can be useful later, but not now\n",
    "def regrid_netcdf_file_list(file_paths, ds_out, output_regridded_dir):\n",
    "    \n",
    "    for file_i in file_paths:\n",
    "        ds_regridded = regrid(ds_in, \n",
    "                              ds_out,\n",
    "                              method = 'nearest_s2d',\n",
    "                              label = model_name + '_to_' + 'grid1',\n",
    "                              regrid_weights_dir = regrid_weights_dir)\n",
    "        \n",
    "\n",
    "# def regrid_netcdfs_in_dir(input_dir, output_regridded_dir):\n",
    "#     '''Given path to directory with netcdfs (input_dir), regrid netcdfs (using saved weights if possible)\n",
    "#     and output regridded netcdfs to output_regridded_dir'''"
   ]
  }
 ],
 "metadata": {
  "kernelspec": {
   "display_name": "Python 3",
   "language": "python",
   "name": "python3"
  },
  "language_info": {
   "codemirror_mode": {
    "name": "ipython",
    "version": 3
   },
   "file_extension": ".py",
   "mimetype": "text/x-python",
   "name": "python",
   "nbconvert_exporter": "python",
   "pygments_lexer": "ipython3",
   "version": "3.6.10"
  }
 },
 "nbformat": 4,
 "nbformat_minor": 4
}
