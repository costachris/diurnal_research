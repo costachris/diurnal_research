{
 "cells": [
  {
   "cell_type": "code",
   "execution_count": 1,
   "metadata": {},
   "outputs": [],
   "source": [
    "%run regridding_utils.py\n",
    "%run  ../diurnal_research/diurnal_config.py\n",
    "%run  ../diurnal_research/fetch_model_helper.py\n",
    "import grid_definitions"
   ]
  },
  {
   "cell_type": "code",
   "execution_count": 2,
   "metadata": {},
   "outputs": [],
   "source": [
    "out_grid_name = 'grid1'"
   ]
  },
  {
   "cell_type": "code",
   "execution_count": 3,
   "metadata": {},
   "outputs": [],
   "source": [
    "rel_data_dir = '/export/data1/cchristo/'\n",
    "# get all available model names\n",
    "rel_cmip6_path= rel_data_dir + 'CMIP6_clouds/clt_3hr_historical/'\n",
    "rel_cmip5_path = rel_data_dir + 'CMIP5_precip/pr_3hr_historical/'\n",
    "unique_cmip6_models = get_unique_models(rel_cmip6_path)\n",
    "unique_cmip5_models = get_unique_models(rel_cmip5_path)"
   ]
  },
  {
   "cell_type": "code",
   "execution_count": 4,
   "metadata": {},
   "outputs": [],
   "source": [
    "#CMIP5\n",
    "regrid_weights_dir_cm5 = '/export/data1/cchristo/regridding_weights/CIMP5_to_grid1/'\n",
    "\n",
    "input_data_dir_cm5 = rel_data_dir  + 'diurnal_analysis_results/CMIP5/' \n",
    "output_data_dir_cm5 = rel_data_dir  + 'diurnal_analysis_results/CMIP5_regridded/' \n",
    "\n",
    "#CMIP6\n",
    "regrid_weights_dir_cm6 = '/export/data1/cchristo/regridding_weights/CIMP6_to_grid1/'\n",
    "\n",
    "input_data_dir_cm6 = rel_data_dir  + 'diurnal_analysis_results/CMIP6_clouds/clt/'\n",
    "output_data_dir_cm6 = rel_data_dir  + 'diurnal_analysis_results/CMIP6_clt_regridded/' \n",
    "\n",
    "#GPM \n",
    "\n",
    "regrid_weights_dir_gpm = rel_data_dir  + 'regridding_weights/GPM_to_grid1/'\n",
    "input_data_dir_gpm = rel_data_dir  + 'diurnal_analysis_results/'\n",
    "output_data_dir_gpm = rel_data_dir  + 'diurnal_analysis_results/GPM_regridded/' \n",
    "\n",
    "#land sea mask\n",
    "regrid_weights_dir_ls_mask =  rel_data_dir  + 'regridding_weights/GLDASp4_ls_mask_to_grid1/'\n",
    "input_data_dir_ls_mask = rel_data_dir  + 'land_sea_masks/land_sea_masks_raw/'\n",
    "output_data_dir_ls_mask = rel_data_dir  + 'land_sea_masks/land_sea_masks_regridded/'"
   ]
  },
  {
   "cell_type": "code",
   "execution_count": 5,
   "metadata": {},
   "outputs": [],
   "source": [
    " \n",
    "ds_out = grid_definitions.grids[out_grid_name]"
   ]
  },
  {
   "cell_type": "code",
   "execution_count": 121,
   "metadata": {},
   "outputs": [
    {
     "data": {
      "text/plain": [
       "'/export/data1/cchristo/land_sea_masks/land_sea_masks_regridded/'"
      ]
     },
     "execution_count": 121,
     "metadata": {},
     "output_type": "execute_result"
    }
   ],
   "source": []
  },
  {
   "cell_type": "code",
   "execution_count": null,
   "metadata": {},
   "outputs": [],
   "source": []
  },
  {
   "cell_type": "code",
   "execution_count": 6,
   "metadata": {},
   "outputs": [],
   "source": [
    "def _regrid_generate_fname(ds_in, ds_out,\n",
    "                          method, label= ''):\n",
    "    '''Given descriptions of input grid and output grid, generate filename.'''\n",
    "    res_in_lat = '{val:2.1f}'.format(val = np.median(np.diff(ds_in['lat'].values)))\n",
    "    res_in_lon = '{val:2.1f}'.format(val = np.median(np.diff(ds_in['lon'].values)))\n",
    "    res_out_lat = '{val:2.1f}'.format(val = np.median(np.diff(ds_out['lat'].values)))\n",
    "    res_out_lon = '{val:2.1f}'.format(val = np.median(np.diff(ds_out['lon'].values)))\n",
    "    \n",
    "    in_shape_str = str(ds_in['lat'].size) + 'x' + str(ds_in['lon'].size)\n",
    "    out_shape_str = str(ds_out['lat'].size) + 'x' + str(ds_out['lon'].size)\n",
    "    \n",
    "    \n",
    "    out_string = 'res_' + res_in_lat + 'x' + res_in_lon + '_to_' + res_out_lat + 'x' + res_out_lon + \\\n",
    "        '_size_' + in_shape_str + '_to_' + out_shape_str + '_' + method + '_' + label + '.nc'\n",
    "    return out_string\n",
    "    \n",
    "    \n",
    "def regrid(ds_in, \n",
    "           ds_out,\n",
    "           method = 'bilinear', \n",
    "           label = '',\n",
    "           reuse_weights = True,\n",
    "           regrid_weights_dir = None,\n",
    "           regridder = None):\n",
    "    '''Regrid input dataset to output dataset. \n",
    "    If regridding weights already exist in regrid_weights_dir, use them. \n",
    "    Otherwise create new ones.\n",
    "    Note: only works for rectilinear grids!  Input lat/lon coords should be 1D.\n",
    "    \n",
    "    Args\n",
    "    ---------\n",
    "        ds_in - ds.DataSet\n",
    "            xarray dataset that contains coordinates ('lon', 'lat')\n",
    "            Input lat/lon coords should be 1D\n",
    "        reuse_weights - bool \n",
    "            If weights already exist, use them to regrid. If not, create, save, then use.\n",
    "        regrid_weights_dir\n",
    "            path to search for weight. Don't forget trailing backslash!\n",
    "        \n",
    "    \n",
    "    '''\n",
    "    if (ds_in['lat'].ndim > 1) | (ds_in['lon'].ndim > 1):\n",
    "        raise(Exception('Input lat/lons are not 1d!'))\n",
    "    \n",
    "    if (ds_out['lat'].ndim > 1) | (ds_out['lon'].ndim > 1):\n",
    "        raise(Exception('Output lat/lons are not 1d!'))\n",
    "    \n",
    "    out_weights_filepath = regrid_weights_dir + \\\n",
    "                            _regrid_generate_fname(ds_in, ds_out, method = method, label = label)\n",
    "#     print(out_weights_filepath)\n",
    "    if reuse_weights:\n",
    "        if not regrid_weights_dir:\n",
    "            raise(Exception('regrid_weights_dir not specified!'))\n",
    "        # if weight file exists, use it\n",
    "        if os.path.exists(out_weights_filepath):\n",
    "            regridder = xe.Regridder(ds_in, ds_out, \n",
    "                         method = method, \n",
    "                         reuse_weights = True, \n",
    "                         filename = out_weights_filepath)\n",
    "            ds_regridded = regridder(ds_in)\n",
    "            return ds_regridded\n",
    "        # if weight file doesn't exist, create it\n",
    "        else:\n",
    "            print('Weight file does not exist. Computing...')\n",
    "#             rel_weight_path = os.path.dirname(out_weights_filepath)\n",
    "            if not os.path.exists(regrid_weights_dir):\n",
    "                os.makedirs(regrid_weights_dir)\n",
    "            \n",
    "            regridder = xe.Regridder(ds_in, ds_out, \n",
    "                         method = method, \n",
    "                         filename = out_weights_filepath)\n",
    "            \n",
    "            ds_regridded = regridder(ds_in)\n",
    "            return ds_regridded\n",
    "        \n",
    "#     if (not reuse_weights) & (not regridder):\n",
    "#         regridder = xe.Regridder(ds_in, ds_out, \n",
    "#                              method = method, \n",
    "#                              reuse_weights = False)"
   ]
  },
  {
   "cell_type": "code",
   "execution_count": 109,
   "metadata": {},
   "outputs": [
    {
     "name": "stdout",
     "output_type": "stream",
     "text": [
      "/export/data1/cchristo/regridding_weights/CIMP5_to_grid1/res_2.0x2.5_to_0.5x0.5_size_60x144_to_240x720_nearest_s2d_GFDL-CM3_to_grid1.nc\n",
      "Weight file does not exist. Computing...\n",
      "Create weight file: /export/data1/cchristo/regridding_weights/CIMP5_to_grid1/res_2.0x2.5_to_0.5x0.5_size_60x144_to_240x720_nearest_s2d_GFDL-CM3_to_grid1.nc\n",
      "using dimensions ('lat', 'lon') from data variable mu_season as the horizontal dimensions for this dataset.\n"
     ]
    }
   ],
   "source": [
    "model_name = 'GFDL-CM3'\n",
    "\n",
    "ds_in = xr.open_dataset(input_data_dir_cm5 + 'GFDL-CM3' + '/' + '1985-01_2006-01_precip.nc')\n",
    "\n",
    "\n",
    "res = regrid(ds_in, \n",
    "       ds_out,\n",
    "       method = 'nearest_s2d',\n",
    "       label = model_name + '_to_' + 'grid1',\n",
    "       regrid_weights_dir = regrid_weights_dir)"
   ]
  },
  {
   "cell_type": "code",
   "execution_count": 29,
   "metadata": {},
   "outputs": [
    {
     "ename": "NameError",
     "evalue": "name 'ds_in' is not defined",
     "output_type": "error",
     "traceback": [
      "\u001b[0;31m---------------------------------------------------------------------------\u001b[0m",
      "\u001b[0;31mNameError\u001b[0m                                 Traceback (most recent call last)",
      "\u001b[0;32m<ipython-input-29-2b66096cbda8>\u001b[0m in \u001b[0;36m<module>\u001b[0;34m\u001b[0m\n\u001b[0;32m----> 1\u001b[0;31m \u001b[0mds_in\u001b[0m\u001b[0;34m[\u001b[0m\u001b[0;34m'mu_season'\u001b[0m\u001b[0;34m]\u001b[0m\u001b[0;34m.\u001b[0m\u001b[0misel\u001b[0m\u001b[0;34m(\u001b[0m\u001b[0mseason\u001b[0m \u001b[0;34m=\u001b[0m \u001b[0;36m0\u001b[0m\u001b[0;34m)\u001b[0m\u001b[0;34m.\u001b[0m\u001b[0mplot\u001b[0m\u001b[0;34m.\u001b[0m\u001b[0mimshow\u001b[0m\u001b[0;34m(\u001b[0m\u001b[0mcmap\u001b[0m \u001b[0;34m=\u001b[0m  \u001b[0mplt\u001b[0m\u001b[0;34m.\u001b[0m\u001b[0mget_cmap\u001b[0m\u001b[0;34m(\u001b[0m\u001b[0;34m'gist_ncar'\u001b[0m\u001b[0;34m)\u001b[0m\u001b[0;34m)\u001b[0m\u001b[0;34m\u001b[0m\u001b[0;34m\u001b[0m\u001b[0m\n\u001b[0m",
      "\u001b[0;31mNameError\u001b[0m: name 'ds_in' is not defined"
     ]
    }
   ],
   "source": [
    "ds_in['mu_season'].isel(season = 0).plot.imshow(cmap =  plt.get_cmap('gist_ncar'))"
   ]
  },
  {
   "cell_type": "code",
   "execution_count": 113,
   "metadata": {},
   "outputs": [
    {
     "data": {
      "text/plain": [
       "<matplotlib.image.AxesImage at 0x7f69b052be10>"
      ]
     },
     "execution_count": 113,
     "metadata": {},
     "output_type": "execute_result"
    },
    {
     "data": {
      "image/png": "[encoded data removed]",
      "text/plain": [
       "<Figure size 432x288 with 2 Axes>"
      ]
     },
     "metadata": {
      "needs_background": "light"
     },
     "output_type": "display_data"
    }
   ],
   "source": [
    "res['phase_season'].isel(season = 0).plot.imshow(cmap = plt.get_cmap('twilight'))"
   ]
  },
  {
   "cell_type": "code",
   "execution_count": 130,
   "metadata": {},
   "outputs": [
    {
     "data": {
      "text/plain": [
       "'/export/data1/cchristo/diurnal_analysis_results/CMIP5_regridded/'"
      ]
     },
     "execution_count": 130,
     "metadata": {},
     "output_type": "execute_result"
    }
   ],
   "source": [
    "output_data_dir_cm5"
   ]
  },
  {
   "cell_type": "code",
   "execution_count": 7,
   "metadata": {},
   "outputs": [],
   "source": [
    "# fname = '1985-01_2006-01_precip_diurnal_means.nc'\n",
    "# out_grid_name = 'grid1'\n",
    "\n",
    "def regrid_cmip_models_in_dir(model_list, \n",
    "                              ds_out, \n",
    "                              input_data_dir_rel_path, \n",
    "                              output_data_dir_rel_path,\n",
    "                              regrid_weights_dir, \n",
    "                              fname = '1985-01_2006-01_precip.nc',\n",
    "                              method = 'nearest_s2d',\n",
    "                              out_grid_name = 'grid1',\n",
    "                              overwrite = True):\n",
    "    '''Regrids netCDFs with name fname in subdirectories (model names in model_list)\n",
    "    Args\n",
    "    -----\n",
    "    model_list - list of str\n",
    "        list containing cmip model names\n",
    "    out_grid_name - str\n",
    "        used to label subdirs, files in output\n",
    "    \n",
    "    '''\n",
    "    for model_ii in model_list:\n",
    "        in_ds_path = input_data_dir_rel_path + model_ii + '/' + fname \n",
    "        try:\n",
    "            ds_in = xr.open_dataset(in_ds_path)\n",
    "            ds_regridded = regrid(ds_in, \n",
    "                                  ds_out,\n",
    "                                  method = method,\n",
    "                                  label = model_ii + '_to_' + 'grid1',\n",
    "                                  regrid_weights_dir = regrid_weights_dir)\n",
    "            out_ds_rel_path = output_data_dir_rel_path + out_grid_name + '/' + model_ii + '/'\n",
    "            if not os.path.exists(out_ds_rel_path):\n",
    "                os.makedirs(out_ds_rel_path)\n",
    "            ds_regridded.to_netcdf(out_ds_rel_path + out_grid_name  + '_' + fname)\n",
    "\n",
    "        except Exception as e:\n",
    "            print('Could not regrid ' + model_ii + ' : ' + str(e))"
   ]
  },
  {
   "cell_type": "markdown",
   "metadata": {},
   "source": [
    "# Regrid Diurnal Analysis Results"
   ]
  },
  {
   "cell_type": "markdown",
   "metadata": {},
   "source": [
    "### Regrid CMIP5 models"
   ]
  },
  {
   "cell_type": "code",
   "execution_count": 8,
   "metadata": {},
   "outputs": [
    {
     "name": "stdout",
     "output_type": "stream",
     "text": [
      "Reuse existing file: /export/data1/cchristo/regridding_weights/CIMP5_to_grid1/res_2.8x2.8_to_0.5x0.5_size_44x128_to_240x720_nearest_s2d_FGOALS-g2_to_grid1.nc\n",
      "using dimensions ('lat', 'lon') from data variable mu_season as the horizontal dimensions for this dataset.\n",
      "Reuse existing file: /export/data1/cchristo/regridding_weights/CIMP5_to_grid1/res_2.0x2.5_to_0.5x0.5_size_60x144_to_240x720_nearest_s2d_GFDL-CM3_to_grid1.nc\n",
      "using dimensions ('lat', 'lon') from data variable mu_season as the horizontal dimensions for this dataset.\n",
      "Reuse existing file: /export/data1/cchristo/regridding_weights/CIMP5_to_grid1/res_1.7x2.8_to_0.5x0.5_size_72x128_to_240x720_nearest_s2d_FGOALS-s2_to_grid1.nc\n",
      "using dimensions ('lat', 'lon') from data variable mu_season as the horizontal dimensions for this dataset.\n",
      "Reuse existing file: /export/data1/cchristo/regridding_weights/CIMP5_to_grid1/res_1.1x1.1_to_0.5x0.5_size_108x320_to_240x720_nearest_s2d_MRI-CGCM3_to_grid1.nc\n",
      "using dimensions ('lat', 'lon') from data variable mu_season as the horizontal dimensions for this dataset.\n",
      "Reuse existing file: /export/data1/cchristo/regridding_weights/CIMP5_to_grid1/res_1.3x2.5_to_0.5x0.5_size_95x144_to_240x720_nearest_s2d_IPSL-CM5A-MR_to_grid1.nc\n",
      "using dimensions ('lat', 'lon') from data variable mu_season as the horizontal dimensions for this dataset.\n",
      "Reuse existing file: /export/data1/cchristo/regridding_weights/CIMP5_to_grid1/res_1.4x1.4_to_0.5x0.5_size_86x256_to_240x720_nearest_s2d_MIROC5_to_grid1.nc\n",
      "using dimensions ('lat', 'lon') from data variable mu_season as the horizontal dimensions for this dataset.\n",
      "Reuse existing file: /export/data1/cchristo/regridding_weights/CIMP5_to_grid1/res_1.2x1.9_to_0.5x0.5_size_97x192_to_240x720_nearest_s2d_ACCESS1-3_to_grid1.nc\n",
      "using dimensions ('lat', 'lon') from data variable mu_season as the horizontal dimensions for this dataset.\n",
      "Reuse existing file: /export/data1/cchristo/regridding_weights/CIMP5_to_grid1/res_2.0x2.5_to_0.5x0.5_size_60x144_to_240x720_nearest_s2d_GISS-E2-H_to_grid1.nc\n",
      "using dimensions ('lat', 'lon') from data variable mu_season as the horizontal dimensions for this dataset.\n",
      "Reuse existing file: /export/data1/cchristo/regridding_weights/CIMP5_to_grid1/res_2.0x2.5_to_0.5x0.5_size_60x144_to_240x720_nearest_s2d_GFDL-ESM2G_to_grid1.nc\n",
      "using dimensions ('lat', 'lon') from data variable mu_season as the horizontal dimensions for this dataset.\n",
      "Reuse existing file: /export/data1/cchristo/regridding_weights/CIMP5_to_grid1/res_2.8x2.8_to_0.5x0.5_size_44x128_to_240x720_nearest_s2d_MIROC-ESM_to_grid1.nc\n",
      "using dimensions ('lat', 'lon') from data variable mu_season as the horizontal dimensions for this dataset.\n",
      "Reuse existing file: /export/data1/cchristo/regridding_weights/CIMP5_to_grid1/res_1.5x2.0_to_0.5x0.5_size_80x180_to_240x720_nearest_s2d_inmcm4_to_grid1.nc\n",
      "using dimensions ('lat', 'lon') from data variable mu_season as the horizontal dimensions for this dataset.\n",
      "Reuse existing file: /export/data1/cchristo/regridding_weights/CIMP5_to_grid1/res_1.1x1.1_to_0.5x0.5_size_108x320_to_240x720_nearest_s2d_MRI-ESM1_to_grid1.nc\n",
      "using dimensions ('lat', 'lon') from data variable mu_season as the horizontal dimensions for this dataset.\n",
      "Reuse existing file: /export/data1/cchristo/regridding_weights/CIMP5_to_grid1/res_2.0x2.5_to_0.5x0.5_size_60x144_to_240x720_nearest_s2d_GFDL-ESM2M_to_grid1.nc\n",
      "using dimensions ('lat', 'lon') from data variable mu_season as the horizontal dimensions for this dataset.\n",
      "Reuse existing file: /export/data1/cchristo/regridding_weights/CIMP5_to_grid1/res_0.6x0.6_to_0.5x0.5_size_214x640_to_240x720_nearest_s2d_MIROC4h_to_grid1.nc\n",
      "using dimensions ('lat', 'lon') from data variable mu_season as the horizontal dimensions for this dataset.\n",
      "Reuse existing file: /export/data1/cchristo/regridding_weights/CIMP5_to_grid1/res_1.2x1.9_to_0.5x0.5_size_97x192_to_240x720_nearest_s2d_HadGEM2-ES_to_grid1.nc\n",
      "using dimensions ('lat', 'lon') from data variable mu_season as the horizontal dimensions for this dataset.\n",
      "Reuse existing file: /export/data1/cchristo/regridding_weights/CIMP5_to_grid1/res_2.0x2.5_to_0.5x0.5_size_60x144_to_240x720_nearest_s2d_GISS-E2-R_to_grid1.nc\n",
      "using dimensions ('lat', 'lon') from data variable mu_season as the horizontal dimensions for this dataset.\n",
      "Reuse existing file: /export/data1/cchristo/regridding_weights/CIMP5_to_grid1/res_2.8x2.8_to_0.5x0.5_size_44x128_to_240x720_nearest_s2d_MIROC-ESM-CHEM_to_grid1.nc\n",
      "using dimensions ('lat', 'lon') from data variable mu_season as the horizontal dimensions for this dataset.\n",
      "Reuse existing file: /export/data1/cchristo/regridding_weights/CIMP5_to_grid1/res_1.9x3.8_to_0.5x0.5_size_64x96_to_240x720_nearest_s2d_IPSL-CM5A-LR_to_grid1.nc\n",
      "using dimensions ('lat', 'lon') from data variable mu_season as the horizontal dimensions for this dataset.\n",
      "Reuse existing file: /export/data1/cchristo/regridding_weights/CIMP5_to_grid1/res_1.4x1.4_to_0.5x0.5_size_86x256_to_240x720_nearest_s2d_CNRM-CM5_to_grid1.nc\n",
      "using dimensions ('lat', 'lon') from data variable mu_season as the horizontal dimensions for this dataset.\n",
      "Reuse existing file: /export/data1/cchristo/regridding_weights/CIMP5_to_grid1/res_1.9x2.5_to_0.5x0.5_size_64x144_to_240x720_nearest_s2d_NorESM1-M_to_grid1.nc\n",
      "using dimensions ('lat', 'lon') from data variable mu_season as the horizontal dimensions for this dataset.\n",
      "Reuse existing file: /export/data1/cchristo/regridding_weights/CIMP5_to_grid1/res_1.2x1.9_to_0.5x0.5_size_97x192_to_240x720_nearest_s2d_ACCESS1-0_to_grid1.nc\n",
      "using dimensions ('lat', 'lon') from data variable mu_season as the horizontal dimensions for this dataset.\n",
      "Reuse existing file: /export/data1/cchristo/regridding_weights/CIMP5_to_grid1/res_0.7x0.8_to_0.5x0.5_size_160x480_to_240x720_nearest_s2d_CMCC-CM_to_grid1.nc\n",
      "using dimensions ('lat', 'lon') from data variable mu_season as the horizontal dimensions for this dataset.\n"
     ]
    }
   ],
   "source": [
    "regrid_cmip_models_in_dir(model_list = unique_cmip5_models,\n",
    "                          ds_out = ds_out,\n",
    "                          method = 'nearest_s2d',\n",
    "                          regrid_weights_dir = regrid_weights_dir_cm5,\n",
    "                          input_data_dir_rel_path = input_data_dir_cm5, \n",
    "                          output_data_dir_rel_path = output_data_dir_cm5,\n",
    "                          out_grid_name = out_grid_name)"
   ]
  },
  {
   "cell_type": "code",
   "execution_count": 21,
   "metadata": {},
   "outputs": [
    {
     "data": {
      "text/plain": [
       "'/export/data1/cchristo/diurnal_analysis_results/CMIP6_clt_regridded/'"
      ]
     },
     "execution_count": 21,
     "metadata": {},
     "output_type": "execute_result"
    }
   ],
   "source": [
    "output_data_dir_cm6"
   ]
  },
  {
   "cell_type": "markdown",
   "metadata": {},
   "source": [
    "### Regrid CMIP6 Models"
   ]
  },
  {
   "cell_type": "code",
   "execution_count": 27,
   "metadata": {},
   "outputs": [
    {
     "name": "stdout",
     "output_type": "stream",
     "text": [
      "Could not regrid CESM2 : [Errno 2] No such file or directory: b'/export/data1/cchristo/diurnal_analysis_results/CMIP6_clouds/clt/CESM2/1985-01_2006-01_clt.nc'\n",
      "Reuse existing file: /export/data1/cchristo/regridding_weights/CIMP6_to_grid1/res_0.9x1.2_to_0.5x0.5_size_128x288_to_240x720_nearest_s2d_SAM0-UNICON_to_grid1.nc\n",
      "using dimensions ('lat', 'lon') from data variable mu_season as the horizontal dimensions for this dataset.\n",
      "Weight file does not exist. Computing...\n",
      "Create weight file: /export/data1/cchristo/regridding_weights/CIMP6_to_grid1/res_1.0x1.2_to_0.5x0.5_size_120x288_to_240x720_nearest_s2d_FGOALS-f3-L_to_grid1.nc\n",
      "using dimensions ('lat', 'lon') from data variable mu_season as the horizontal dimensions for this dataset.\n",
      "Reuse existing file: /export/data1/cchristo/regridding_weights/CIMP6_to_grid1/res_1.1x1.1_to_0.5x0.5_size_108x320_to_240x720_nearest_s2d_BCC-CSM2-MR_to_grid1.nc\n",
      "using dimensions ('lat', 'lon') from data variable mu_season as the horizontal dimensions for this dataset.\n",
      "Reuse existing file: /export/data1/cchristo/regridding_weights/CIMP6_to_grid1/res_1.9x1.9_to_0.5x0.5_size_64x192_to_240x720_nearest_s2d_MPI-ESM-1-2-HAM_to_grid1.nc\n",
      "using dimensions ('lat', 'lon') from data variable mu_season as the horizontal dimensions for this dataset.\n",
      "Reuse existing file: /export/data1/cchristo/regridding_weights/CIMP6_to_grid1/res_0.9x0.9_to_0.5x0.5_size_128x384_to_240x720_nearest_s2d_AWI-CM-1-1-MR_to_grid1.nc\n",
      "using dimensions ('lat', 'lon') from data variable mu_season as the horizontal dimensions for this dataset.\n",
      "Reuse existing file: /export/data1/cchristo/regridding_weights/CIMP6_to_grid1/res_0.9x1.2_to_0.5x0.5_size_128x288_to_240x720_nearest_s2d_CMCC-CM2-SR5_to_grid1.nc\n",
      "using dimensions ('lat', 'lon') from data variable mu_season as the horizontal dimensions for this dataset.\n",
      "Reuse existing file: /export/data1/cchristo/regridding_weights/CIMP6_to_grid1/res_1.4x1.4_to_0.5x0.5_size_86x256_to_240x720_nearest_s2d_CNRM-CM6-1_to_grid1.nc\n",
      "using dimensions ('lat', 'lon') from data variable mu_season as the horizontal dimensions for this dataset.\n",
      "Reuse existing file: /export/data1/cchristo/regridding_weights/CIMP6_to_grid1/res_1.9x1.9_to_0.5x0.5_size_64x192_to_240x720_nearest_s2d_AWI-ESM-1-1-LR_to_grid1.nc\n",
      "using dimensions ('lat', 'lon') from data variable mu_season as the horizontal dimensions for this dataset.\n",
      "Reuse existing file: /export/data1/cchristo/regridding_weights/CIMP6_to_grid1/res_1.3x2.5_to_0.5x0.5_size_95x144_to_240x720_nearest_s2d_IPSL-CM6A-LR_to_grid1.nc\n",
      "using dimensions ('lat', 'lon') from data variable mu_season as the horizontal dimensions for this dataset.\n",
      "Reuse existing file: /export/data1/cchristo/regridding_weights/CIMP6_to_grid1/res_1.1x1.1_to_0.5x0.5_size_108x320_to_240x720_nearest_s2d_MRI-ESM2-0_to_grid1.nc\n",
      "using dimensions ('lat', 'lon') from data variable mu_season as the horizontal dimensions for this dataset.\n",
      "Reuse existing file: /export/data1/cchristo/regridding_weights/CIMP6_to_grid1/res_2.0x2.5_to_0.5x0.5_size_60x144_to_240x720_nearest_s2d_GISS-E2-1-G_to_grid1.nc\n",
      "using dimensions ('lat', 'lon') from data variable mu_season as the horizontal dimensions for this dataset.\n",
      "Reuse existing file: /export/data1/cchristo/regridding_weights/CIMP6_to_grid1/res_0.9x0.9_to_0.5x0.5_size_128x384_to_240x720_nearest_s2d_MPI-ESM1-2-HR_to_grid1.nc\n",
      "using dimensions ('lat', 'lon') from data variable mu_season as the horizontal dimensions for this dataset.\n",
      "Reuse existing file: /export/data1/cchristo/regridding_weights/CIMP6_to_grid1/res_1.2x1.9_to_0.5x0.5_size_96x192_to_240x720_nearest_s2d_ACCESS-CM2_to_grid1.nc\n",
      "using dimensions ('lat', 'lon') from data variable mu_season as the horizontal dimensions for this dataset.\n",
      "Reuse existing file: /export/data1/cchristo/regridding_weights/CIMP6_to_grid1/res_1.1x1.1_to_0.5x0.5_size_108x320_to_240x720_nearest_s2d_EC-Earth3-Veg-LR_to_grid1.nc\n",
      "using dimensions ('lat', 'lon') from data variable mu_season as the horizontal dimensions for this dataset.\n",
      "Reuse existing file: /export/data1/cchristo/regridding_weights/CIMP6_to_grid1/res_2.0x2.0_to_0.5x0.5_size_60x180_to_240x720_nearest_s2d_FGOALS-g3_to_grid1.nc\n",
      "using dimensions ('lat', 'lon') from data variable mu_season as the horizontal dimensions for this dataset.\n",
      "Reuse existing file: /export/data1/cchristo/regridding_weights/CIMP6_to_grid1/res_1.0x1.2_to_0.5x0.5_size_120x288_to_240x720_nearest_s2d_GFDL-CM4_to_grid1.nc\n",
      "using dimensions ('lat', 'lon') from data variable mu_season as the horizontal dimensions for this dataset.\n",
      "Reuse existing file: /export/data1/cchristo/regridding_weights/CIMP6_to_grid1/res_1.4x1.4_to_0.5x0.5_size_86x256_to_240x720_nearest_s2d_CNRM-ESM2-1_to_grid1.nc\n",
      "using dimensions ('lat', 'lon') from data variable mu_season as the horizontal dimensions for this dataset.\n",
      "Reuse existing file: /export/data1/cchristo/regridding_weights/CIMP6_to_grid1/res_2.8x2.8_to_0.5x0.5_size_44x128_to_240x720_nearest_s2d_MIROC-ES2L_to_grid1.nc\n",
      "using dimensions ('lat', 'lon') from data variable mu_season as the horizontal dimensions for this dataset.\n",
      "Reuse existing file: /export/data1/cchristo/regridding_weights/CIMP6_to_grid1/res_1.9x1.9_to_0.5x0.5_size_64x192_to_240x720_nearest_s2d_MPI-ESM1-2-LR_to_grid1.nc\n",
      "using dimensions ('lat', 'lon') from data variable mu_season as the horizontal dimensions for this dataset.\n",
      "Reuse existing file: /export/data1/cchristo/regridding_weights/CIMP6_to_grid1/res_1.2x1.9_to_0.5x0.5_size_96x192_to_240x720_nearest_s2d_KACE-1-0-G_to_grid1.nc\n",
      "using dimensions ('lat', 'lon') from data variable mu_season as the horizontal dimensions for this dataset.\n",
      "Reuse existing file: /export/data1/cchristo/regridding_weights/CIMP6_to_grid1/res_1.2x1.9_to_0.5x0.5_size_96x192_to_240x720_nearest_s2d_UKESM1-0-LL_to_grid1.nc\n",
      "using dimensions ('lat', 'lon') from data variable mu_season as the horizontal dimensions for this dataset.\n",
      "Reuse existing file: /export/data1/cchristo/regridding_weights/CIMP6_to_grid1/res_1.4x1.4_to_0.5x0.5_size_86x256_to_240x720_nearest_s2d_MIROC6_to_grid1.nc\n",
      "using dimensions ('lat', 'lon') from data variable mu_season as the horizontal dimensions for this dataset.\n",
      "Reuse existing file: /export/data1/cchristo/regridding_weights/CIMP6_to_grid1/res_0.7x0.7_to_0.5x0.5_size_172x512_to_240x720_nearest_s2d_EC-Earth3_to_grid1.nc\n",
      "using dimensions ('lat', 'lon') from data variable mu_season as the horizontal dimensions for this dataset.\n",
      "Reuse existing file: /export/data1/cchristo/regridding_weights/CIMP6_to_grid1/res_0.7x0.7_to_0.5x0.5_size_172x512_to_240x720_nearest_s2d_EC-Earth3-Veg_to_grid1.nc\n",
      "using dimensions ('lat', 'lon') from data variable mu_season as the horizontal dimensions for this dataset.\n",
      "Reuse existing file: /export/data1/cchristo/regridding_weights/CIMP6_to_grid1/res_1.9x1.9_to_0.5x0.5_size_64x192_to_240x720_nearest_s2d_NESM3_to_grid1.nc\n",
      "using dimensions ('lat', 'lon') from data variable mu_season as the horizontal dimensions for this dataset.\n",
      "Reuse existing file: /export/data1/cchristo/regridding_weights/CIMP6_to_grid1/res_2.8x2.8_to_0.5x0.5_size_44x128_to_240x720_nearest_s2d_CanESM5_to_grid1.nc\n",
      "using dimensions ('lat', 'lon') from data variable mu_season as the horizontal dimensions for this dataset.\n",
      "Reuse existing file: /export/data1/cchristo/regridding_weights/CIMP6_to_grid1/res_1.2x1.9_to_0.5x0.5_size_97x192_to_240x720_nearest_s2d_ACCESS-ESM1-5_to_grid1.nc\n",
      "using dimensions ('lat', 'lon') from data variable mu_season as the horizontal dimensions for this dataset.\n"
     ]
    }
   ],
   "source": [
    "regrid_cmip_models_in_dir(model_list = unique_cmip6_models,\n",
    "                          ds_out = ds_out,\n",
    "                          method = 'nearest_s2d',\n",
    "                          fname = '1985-01_2006-01_clt.nc',\n",
    "                          regrid_weights_dir = regrid_weights_dir_cm6,\n",
    "                          input_data_dir_rel_path = input_data_dir_cm6, \n",
    "                          output_data_dir_rel_path = output_data_dir_cm6,\n",
    "                          out_grid_name = out_grid_name)"
   ]
  },
  {
   "cell_type": "markdown",
   "metadata": {},
   "source": [
    "### Regrid GPM"
   ]
  },
  {
   "cell_type": "code",
   "execution_count": 10,
   "metadata": {},
   "outputs": [
    {
     "name": "stdout",
     "output_type": "stream",
     "text": [
      "Weight file does not exist. Computing...\n",
      "Create weight file: /export/data1/cchristo/regridding_weights/GPM_to_grid1/res_1.0x1.2_to_0.5x0.5_size_120x288_to_240x720_nearest_s2d_GPM_to_grid1.nc\n",
      "using dimensions ('lat', 'lon') from data variable mu_season as the horizontal dimensions for this dataset.\n"
     ]
    }
   ],
   "source": [
    "regrid_cmip_models_in_dir(model_list = ['GPM',],\n",
    "                          ds_out = ds_out,\n",
    "                          method = 'nearest_s2d',\n",
    "                          fname = '2000-06_2010-06_precip.nc',\n",
    "                          regrid_weights_dir = regrid_weights_dir_gpm,\n",
    "                          input_data_dir_rel_path = input_data_dir_gpm, \n",
    "                          output_data_dir_rel_path = output_data_dir_gpm,\n",
    "                          out_grid_name = out_grid_name)"
   ]
  },
  {
   "cell_type": "markdown",
   "metadata": {},
   "source": [
    "### Regrid Land/Sea Mask"
   ]
  },
  {
   "cell_type": "code",
   "execution_count": 126,
   "metadata": {},
   "outputs": [
    {
     "name": "stdout",
     "output_type": "stream",
     "text": [
      "Reuse existing file: /export/data1/cchristo/regridding_weights/GLDASp4_ls_mask_to_grid1/res_1.0x1.0_to_0.5x0.5_size_150x360_to_240x720_nearest_s2d_GLDASp4_to_grid1.nc\n",
      "using dimensions ('lat', 'lon') from data variable GLDAS_mask as the horizontal dimensions for this dataset.\n"
     ]
    }
   ],
   "source": [
    "\n",
    "ds_land_sea = xr.open_dataset(input_data_dir_land_sea_mask + 'GLDASp4_landmask_1d.nc4')\n",
    "ds_in = ds_land_sea.copy().transpose('time','lat','lon', 'bnds')\n",
    "ds_in = ds_in.drop(['time','time_bnds'])\n",
    "#  regridder(ds_in['GLDAS_mask'].transpose('time','lat','lon'))\n",
    "land_sea_regridded = regrid(ds_in, \n",
    "                            ds_out,\n",
    "                            method = 'nearest_s2d',\n",
    "                            label = 'GLDASp4' + '_to_' + 'grid1',\n",
    "                            regrid_weights_dir = regrid_weights_dir_ls_mask)\n",
    "# get rid of time dim for consistency before saving\n",
    "land_sea_regridded = land_sea_regridded['GLDAS_mask'].isel(time = 0)\n",
    "\n",
    "land_sea_regridded.to_netcdf(output_data_dir_ls_mask + out_grid_name + '/' + out_grid_name + '_GLDASp4_landmask_1d.nc')"
   ]
  },
  {
   "cell_type": "code",
   "execution_count": 123,
   "metadata": {},
   "outputs": [
    {
     "data": {
      "text/plain": [
       "'/export/data1/cchristo/land_sea_masks/land_sea_masks_regridded/'"
      ]
     },
     "execution_count": 123,
     "metadata": {},
     "output_type": "execute_result"
    }
   ],
   "source": [
    "# ds_in['GLDAS_mask'].drop(['time'])\n",
    "output_data_dir_ls_mask"
   ]
  },
  {
   "cell_type": "code",
   "execution_count": 108,
   "metadata": {},
   "outputs": [
    {
     "ename": "ValueError",
     "evalue": "One or more of the specified variables cannot be found in this dataset",
     "output_type": "error",
     "traceback": [
      "\u001b[0;31m---------------------------------------------------------------------------\u001b[0m",
      "\u001b[0;31mValueError\u001b[0m                                Traceback (most recent call last)",
      "\u001b[0;32m<ipython-input-108-0d4d0fad7be1>\u001b[0m in \u001b[0;36m<module>\u001b[0;34m\u001b[0m\n\u001b[0;32m----> 1\u001b[0;31m \u001b[0mds_in\u001b[0m\u001b[0;34m[\u001b[0m\u001b[0;34m'GLDAS_mask'\u001b[0m\u001b[0;34m]\u001b[0m \u001b[0;34m=\u001b[0m \u001b[0mds_in\u001b[0m\u001b[0;34m[\u001b[0m\u001b[0;34m'GLDAS_mask'\u001b[0m\u001b[0;34m]\u001b[0m\u001b[0;34m.\u001b[0m\u001b[0mdrop\u001b[0m\u001b[0;34m(\u001b[0m\u001b[0;34m[\u001b[0m\u001b[0;34m'time'\u001b[0m\u001b[0;34m]\u001b[0m\u001b[0;34m)\u001b[0m\u001b[0;34m\u001b[0m\u001b[0;34m\u001b[0m\u001b[0m\n\u001b[0m",
      "\u001b[0;32m~/.conda/envs/regridding/lib/python3.6/site-packages/xarray/core/dataarray.py\u001b[0m in \u001b[0;36mdrop\u001b[0;34m(self, labels, dim, errors, **labels_kwargs)\u001b[0m\n\u001b[1;32m   1963\u001b[0m         \u001b[0mDataArray\u001b[0m\u001b[0;34m.\u001b[0m\u001b[0mdrop_sel\u001b[0m\u001b[0;34m\u001b[0m\u001b[0;34m\u001b[0m\u001b[0m\n\u001b[1;32m   1964\u001b[0m         \"\"\"\n\u001b[0;32m-> 1965\u001b[0;31m         \u001b[0mds\u001b[0m \u001b[0;34m=\u001b[0m \u001b[0mself\u001b[0m\u001b[0;34m.\u001b[0m\u001b[0m_to_temp_dataset\u001b[0m\u001b[0;34m(\u001b[0m\u001b[0;34m)\u001b[0m\u001b[0;34m.\u001b[0m\u001b[0mdrop\u001b[0m\u001b[0;34m(\u001b[0m\u001b[0mlabels\u001b[0m\u001b[0;34m,\u001b[0m \u001b[0mdim\u001b[0m\u001b[0;34m,\u001b[0m \u001b[0merrors\u001b[0m\u001b[0;34m=\u001b[0m\u001b[0merrors\u001b[0m\u001b[0;34m)\u001b[0m\u001b[0;34m\u001b[0m\u001b[0;34m\u001b[0m\u001b[0m\n\u001b[0m\u001b[1;32m   1966\u001b[0m         \u001b[0;32mreturn\u001b[0m \u001b[0mself\u001b[0m\u001b[0;34m.\u001b[0m\u001b[0m_from_temp_dataset\u001b[0m\u001b[0;34m(\u001b[0m\u001b[0mds\u001b[0m\u001b[0;34m)\u001b[0m\u001b[0;34m\u001b[0m\u001b[0;34m\u001b[0m\u001b[0m\n\u001b[1;32m   1967\u001b[0m \u001b[0;34m\u001b[0m\u001b[0m\n",
      "\u001b[0;32m~/.conda/envs/regridding/lib/python3.6/site-packages/xarray/core/dataset.py\u001b[0m in \u001b[0;36mdrop\u001b[0;34m(self, labels, dim, errors, **labels_kwargs)\u001b[0m\n\u001b[1;32m   3724\u001b[0m                 \u001b[0mstacklevel\u001b[0m\u001b[0;34m=\u001b[0m\u001b[0;36m2\u001b[0m\u001b[0;34m,\u001b[0m\u001b[0;34m\u001b[0m\u001b[0;34m\u001b[0m\u001b[0m\n\u001b[1;32m   3725\u001b[0m             )\n\u001b[0;32m-> 3726\u001b[0;31m             \u001b[0;32mreturn\u001b[0m \u001b[0mself\u001b[0m\u001b[0;34m.\u001b[0m\u001b[0mdrop_vars\u001b[0m\u001b[0;34m(\u001b[0m\u001b[0mlabels\u001b[0m\u001b[0;34m,\u001b[0m \u001b[0merrors\u001b[0m\u001b[0;34m=\u001b[0m\u001b[0merrors\u001b[0m\u001b[0;34m)\u001b[0m\u001b[0;34m\u001b[0m\u001b[0;34m\u001b[0m\u001b[0m\n\u001b[0m\u001b[1;32m   3727\u001b[0m         \u001b[0;32mif\u001b[0m \u001b[0mdim\u001b[0m \u001b[0;32mis\u001b[0m \u001b[0;32mnot\u001b[0m \u001b[0;32mNone\u001b[0m\u001b[0;34m:\u001b[0m\u001b[0;34m\u001b[0m\u001b[0;34m\u001b[0m\u001b[0m\n\u001b[1;32m   3728\u001b[0m             warnings.warn(\n",
      "\u001b[0;32m~/.conda/envs/regridding/lib/python3.6/site-packages/xarray/core/dataset.py\u001b[0m in \u001b[0;36mdrop_vars\u001b[0;34m(self, names, errors)\u001b[0m\n\u001b[1;32m   3683\u001b[0m             \u001b[0mnames\u001b[0m \u001b[0;34m=\u001b[0m \u001b[0mset\u001b[0m\u001b[0;34m(\u001b[0m\u001b[0mnames\u001b[0m\u001b[0;34m)\u001b[0m\u001b[0;34m\u001b[0m\u001b[0;34m\u001b[0m\u001b[0m\n\u001b[1;32m   3684\u001b[0m         \u001b[0;32mif\u001b[0m \u001b[0merrors\u001b[0m \u001b[0;34m==\u001b[0m \u001b[0;34m\"raise\"\u001b[0m\u001b[0;34m:\u001b[0m\u001b[0;34m\u001b[0m\u001b[0;34m\u001b[0m\u001b[0m\n\u001b[0;32m-> 3685\u001b[0;31m             \u001b[0mself\u001b[0m\u001b[0;34m.\u001b[0m\u001b[0m_assert_all_in_dataset\u001b[0m\u001b[0;34m(\u001b[0m\u001b[0mnames\u001b[0m\u001b[0;34m)\u001b[0m\u001b[0;34m\u001b[0m\u001b[0;34m\u001b[0m\u001b[0m\n\u001b[0m\u001b[1;32m   3686\u001b[0m \u001b[0;34m\u001b[0m\u001b[0m\n\u001b[1;32m   3687\u001b[0m         \u001b[0mvariables\u001b[0m \u001b[0;34m=\u001b[0m \u001b[0;34m{\u001b[0m\u001b[0mk\u001b[0m\u001b[0;34m:\u001b[0m \u001b[0mv\u001b[0m \u001b[0;32mfor\u001b[0m \u001b[0mk\u001b[0m\u001b[0;34m,\u001b[0m \u001b[0mv\u001b[0m \u001b[0;32min\u001b[0m \u001b[0mself\u001b[0m\u001b[0;34m.\u001b[0m\u001b[0m_variables\u001b[0m\u001b[0;34m.\u001b[0m\u001b[0mitems\u001b[0m\u001b[0;34m(\u001b[0m\u001b[0;34m)\u001b[0m \u001b[0;32mif\u001b[0m \u001b[0mk\u001b[0m \u001b[0;32mnot\u001b[0m \u001b[0;32min\u001b[0m \u001b[0mnames\u001b[0m\u001b[0;34m}\u001b[0m\u001b[0;34m\u001b[0m\u001b[0;34m\u001b[0m\u001b[0m\n",
      "\u001b[0;32m~/.conda/envs/regridding/lib/python3.6/site-packages/xarray/core/dataset.py\u001b[0m in \u001b[0;36m_assert_all_in_dataset\u001b[0;34m(self, names, virtual_okay)\u001b[0m\n\u001b[1;32m   3654\u001b[0m         \u001b[0;32mif\u001b[0m \u001b[0mbad_names\u001b[0m\u001b[0;34m:\u001b[0m\u001b[0;34m\u001b[0m\u001b[0;34m\u001b[0m\u001b[0m\n\u001b[1;32m   3655\u001b[0m             raise ValueError(\n\u001b[0;32m-> 3656\u001b[0;31m                 \u001b[0;34m\"One or more of the specified variables \"\u001b[0m\u001b[0;34m\u001b[0m\u001b[0;34m\u001b[0m\u001b[0m\n\u001b[0m\u001b[1;32m   3657\u001b[0m                 \u001b[0;34m\"cannot be found in this dataset\"\u001b[0m\u001b[0;34m\u001b[0m\u001b[0;34m\u001b[0m\u001b[0m\n\u001b[1;32m   3658\u001b[0m             )\n",
      "\u001b[0;31mValueError\u001b[0m: One or more of the specified variables cannot be found in this dataset"
     ]
    }
   ],
   "source": [
    "\n",
    "ds_in['GLDAS_mask'] = ds_in['GLDAS_mask'].drop(['time'])"
   ]
  },
  {
   "cell_type": "code",
   "execution_count": null,
   "metadata": {},
   "outputs": [],
   "source": [
    "# this can be useful later, but not now\n",
    "def regrid_netcdf_file_list(file_paths, ds_out, output_regridded_dir):\n",
    "    \n",
    "    for file_i in file_paths:\n",
    "        ds_regridded = regrid(ds_in, \n",
    "                              ds_out,\n",
    "                              method = 'nearest_s2d',\n",
    "                              label = model_name + '_to_' + 'grid1',\n",
    "                              regrid_weights_dir = regrid_weights_dir)\n",
    "        \n",
    "\n",
    "# def regrid_netcdfs_in_dir(input_dir, output_regridded_dir):\n",
    "#     '''Given path to directory with netcdfs (input_dir), regrid netcdfs (using saved weights if possible)\n",
    "#     and output regridded netcdfs to output_regridded_dir'''"
   ]
  }
 ],
 "metadata": {
  "kernelspec": {
   "display_name": "Python 3",
   "language": "python",
   "name": "python3"
  },
  "language_info": {
   "codemirror_mode": {
    "name": "ipython",
    "version": 3
   },
   "file_extension": ".py",
   "mimetype": "text/x-python",
   "name": "python",
   "nbconvert_exporter": "python",
   "pygments_lexer": "ipython3",
   "version": "3.6.10"
  }
 },
 "nbformat": 4,
 "nbformat_minor": 4
}
