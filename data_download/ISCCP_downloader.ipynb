{
 "cells": [
  {
   "cell_type": "code",
   "execution_count": null,
   "metadata": {},
   "outputs": [],
   "source": [
    "import os\n",
    "from ftplib import FTP, FTP_TLS\n",
    "import xarray as xr\n",
    "import numpy as np\n",
    "import matplotlib.pyplot as plt\n",
    "from tqdm import tqdm\n",
    "import pandas as pd\n",
    "import h5py\n",
    "import logging\n",
    "logger = logging.getLogger()\n",
    "logger.setLevel(logging.DEBUG)\n",
    "\n",
    "from datetime import datetime, time, timedelta\n",
    "from joblib import Parallel, delayed\n",
    "from mpl_toolkits.basemap import Basemap"
   ]
  },
  {
   "cell_type": "code",
   "execution_count": null,
   "metadata": {},
   "outputs": [],
   "source": [
    "output_data_dir = '/export/data1/cchristo/isccp_data/'\n",
    "wget_url = 'https://www.ncei.noaa.gov/data/international-satellite-cloud-climate-project-isccp-h-series-data/access/isccp-basic/hgg/'"
   ]
  },
  {
   "cell_type": "code",
   "execution_count": null,
   "metadata": {},
   "outputs": [],
   "source": [
    "# date_range = pd.date_range(start = '2000-01',\n",
    "#                           end = '2010-01', freq = '3h')\n",
    "date_range = pd.date_range(start = '2010-01',\n",
    "                          end = '2020-06', freq = '3h')"
   ]
  },
  {
   "cell_type": "code",
   "execution_count": 7,
   "metadata": {},
   "outputs": [],
   "source": [
    "for date_i in date_range:\n",
    "    print(date_i)\n",
    "    local_rel_path = output_data_dir + '%04d'%date_i.year + '/' +  '%02d'%date_i.month + '/' '%02d'%date_i.day\n",
    "    if not os.path.exists(local_rel_path):\n",
    "        os.makedirs(local_rel_path)\n",
    "            \n",
    "    wget_prefix = wget_url + '%04d'%date_i.year + '%02d'%date_i.month\n",
    "    wget_filename = f'ISCCP-Basic.HGG.v01r00.GLOBAL.%04d.%02d.%02d.%02d00.GPC.10KM.CS00.EA1.00.nc'%(date_i.year,date_i.month, date_i.day, date_i.hour)\n",
    "    wget_filepath =  wget_prefix + '/' +  wget_filename\n",
    "    \n",
    "    local_filepath = local_rel_path + '/' + wget_filename\n",
    "    if not os.path.exists(local_filepath):\n",
    "        result_code = os.system('wget -nc -c --retry-connrefused --waitretry=10 --quiet -P ' + local_rel_path + '/' + ' ' + wget_filepath)\n",
    "#     wget_path = "
   ]
  },
  {
   "cell_type": "code",
   "execution_count": null,
   "metadata": {},
   "outputs": [],
   "source": [
    "# for model_name in model_name_to_http_filename_map:\n",
    "#     print(model_name)\n",
    "#     all_urls_to_download = model_name_to_http_filename_map[model_name]\n",
    "#     for url_to_download in all_urls_to_download:\n",
    "#         local_filepath = output_data_dir + model_name + '/' + url_to_download.split('/')[-1]\n",
    "#         print(local_filepath)\n",
    "#         if not os.path.exists(local_filepath):\n",
    "#             print(\"Does not exist\", local_filepath)\n",
    "#             result_code = os.system('wget -nc -c --retry-connrefused --waitretry=10 --quiet -P ' + output_data_dir + model_name + '/' + ' ' + url_to_download)\n",
    "#     print('Done!')"
   ]
  },
  {
   "cell_type": "code",
   "execution_count": 5,
   "metadata": {},
   "outputs": [
    {
     "data": {
      "text/plain": [
       "'/export/data1/cchristo/isccp_data/2000/01/01'"
      ]
     },
     "execution_count": 5,
     "metadata": {},
     "output_type": "execute_result"
    }
   ],
   "source": [
    "# date_range\n",
    "# wget_prefix\n",
    "# local_rel_path"
   ]
  },
  {
   "cell_type": "code",
   "execution_count": 6,
   "metadata": {},
   "outputs": [
    {
     "data": {
      "text/plain": [
       "'ISCCP-Basic.HGG.v01r00.GLOBAL.2000.01.01.1200.GPC.10KM.CS00.EA1.00.nc'"
      ]
     },
     "execution_count": 6,
     "metadata": {},
     "output_type": "execute_result"
    }
   ],
   "source": [
    "# wget_filename"
   ]
  },
  {
   "cell_type": "code",
   "execution_count": 37,
   "metadata": {},
   "outputs": [
    {
     "data": {
      "text/plain": [
       "'ISCCP-Basic.HGG.v01r00.GLOBAL.2010.01.01.0000.GPC.10KM.CS00.EA1.00.nc'"
      ]
     },
     "execution_count": 37,
     "metadata": {},
     "output_type": "execute_result"
    }
   ],
   "source": [
    "# wget_filename"
   ]
  },
  {
   "cell_type": "code",
   "execution_count": 44,
   "metadata": {},
   "outputs": [
    {
     "data": {
      "text/plain": [
       "'/export/data1/cchristo/isccp_data/2010/01/01'"
      ]
     },
     "execution_count": 44,
     "metadata": {},
     "output_type": "execute_result"
    }
   ],
   "source": [
    "# local_rel_path"
   ]
  }
 ],
 "metadata": {
  "kernelspec": {
   "display_name": "Python 3",
   "language": "python",
   "name": "python3"
  },
  "language_info": {
   "codemirror_mode": {
    "name": "ipython",
    "version": 3
   },
   "file_extension": ".py",
   "mimetype": "text/x-python",
   "name": "python",
   "nbconvert_exporter": "python",
   "pygments_lexer": "ipython3",
   "version": "3.6.10"
  }
 },
 "nbformat": 4,
 "nbformat_minor": 4
}
