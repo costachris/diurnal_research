{
 "cells": [
  {
   "cell_type": "code",
   "execution_count": 1,
   "metadata": {},
   "outputs": [],
   "source": [
    "import os\n",
    "from ftplib import FTP, FTP_TLS\n",
    "import xarray as xr\n",
    "import numpy as np\n",
    "import matplotlib.pyplot as plt\n",
    "from tqdm import tqdm\n",
    "import pandas as pd\n",
    "import h5py\n",
    "import logging\n",
    "logger = logging.getLogger()\n",
    "logger.setLevel(logging.DEBUG)\n",
    "\n",
    "from datetime import datetime, time, timedelta\n",
    "from joblib import Parallel, delayed\n",
    "from mpl_toolkits.basemap import Basemap"
   ]
  },
  {
   "cell_type": "code",
   "execution_count": 2,
   "metadata": {},
   "outputs": [],
   "source": [
    "output_data_dir = '/export/data1/cchristo/gpm_data' # no trailing backslash!"
   ]
  },
  {
   "cell_type": "code",
   "execution_count": 3,
   "metadata": {},
   "outputs": [
    {
     "data": {
      "text/plain": [
       "'230 User cchristo@caltech.edu logged in'"
      ]
     },
     "execution_count": 3,
     "metadata": {},
     "output_type": "execute_result"
    }
   ],
   "source": [
    "ftp = FTP('arthurhou.pps.eosdis.nasa.gov')\n",
    "# ftp = FTP_TLS('jsimpsonftps.pps.eosdis.nasa.gov')\n",
    "# ftp = FTP_TLS('arthurhou.pps.eosdis.nasa.gov')\n",
    "ftp.login('cchristo@caltech.edu','cchristo@caltech.edu')"
   ]
  },
  {
   "cell_type": "code",
   "execution_count": null,
   "metadata": {},
   "outputs": [],
   "source": [
    "# ftp = FTP('arthurhou.pps.eosdis.nasa.gov')\n",
    "# ftp.login('cchristo@caltech.edu','cchristo@caltech.edu')"
   ]
  },
  {
   "cell_type": "code",
   "execution_count": 4,
   "metadata": {},
   "outputs": [
    {
     "data": {
      "text/plain": [
       "['trmmdata',\n",
       " 'trmmopen',\n",
       " 'robots.txt',\n",
       " 'ftpdata',\n",
       " 'gpmdata',\n",
       " 'gpmuser',\n",
       " 'gpmallversions',\n",
       " 'sm',\n",
       " 'pub',\n",
       " 'itedata']"
      ]
     },
     "execution_count": 4,
     "metadata": {},
     "output_type": "execute_result"
    }
   ],
   "source": [
    "ftp.nlst()"
   ]
  },
  {
   "cell_type": "code",
   "execution_count": 5,
   "metadata": {},
   "outputs": [
    {
     "data": {
      "text/plain": [
       "['coincidence',\n",
       " 'geolocation',\n",
       " '2014',\n",
       " 'browse',\n",
       " '1999',\n",
       " 'manifest',\n",
       " '2007',\n",
       " '2006',\n",
       " '2008',\n",
       " '2016',\n",
       " '2017',\n",
       " '1997',\n",
       " '1998',\n",
       " 'zonals',\n",
       " '2011',\n",
       " '2012',\n",
       " '2013',\n",
       " '2000',\n",
       " '2015',\n",
       " 'trending',\n",
       " 'README.TXT',\n",
       " 'documents',\n",
       " '2001',\n",
       " '2002',\n",
       " '2003',\n",
       " '2004',\n",
       " '2005',\n",
       " '2009',\n",
       " '2010',\n",
       " '2018',\n",
       " '1991',\n",
       " '1995',\n",
       " '1987',\n",
       " '1990',\n",
       " '1992',\n",
       " '1988',\n",
       " '1996',\n",
       " '1993',\n",
       " '1989',\n",
       " '1994',\n",
       " '2019',\n",
       " '2020']"
      ]
     },
     "execution_count": 5,
     "metadata": {},
     "output_type": "execute_result"
    }
   ],
   "source": [
    "ftp.cwd('/gpmdata/')\n",
    "ftp.nlst()"
   ]
  },
  {
   "cell_type": "code",
   "execution_count": 55,
   "metadata": {},
   "outputs": [
    {
     "data": {
      "text/plain": [
       "['3B-HHR.MS.MRG.3IMERG.20010101-S213000-E215959.1290.V06B.HDF5',\n",
       " '3B-HHR.MS.MRG.3IMERG.20010101-S203000-E205959.1230.V06B.HDF5',\n",
       " '3B-HHR.MS.MRG.3IMERG.20010101-S183000-E185959.1110.V06B.HDF5',\n",
       " '3B-HHR.MS.MRG.3IMERG.20010101-S040000-E042959.0240.V06B.HDF5',\n",
       " '3B-HHR.MS.MRG.3IMERG.20010101-S033000-E035959.0210.V06B.HDF5',\n",
       " '3B-HHR.MS.MRG.3IMERG.20010101-S110000-E112959.0660.V06B.HDF5',\n",
       " '3B-HHR.MS.MRG.3IMERG.20010101-S023000-E025959.0150.V06B.HDF5',\n",
       " '3B-HHR.MS.MRG.3IMERG.20010101-S233000-E235959.1410.V06B.HDF5',\n",
       " '3B-HHR.MS.MRG.3IMERG.20010101-S200000-E202959.1200.V06B.HDF5',\n",
       " '3B-HHR.MS.MRG.3IMERG.20010101-S220000-E222959.1320.V06B.HDF5',\n",
       " '3B-HHR.MS.MRG.3IMERG.20010101-S090000-E092959.0540.V06B.HDF5',\n",
       " '3B-HHR.MS.MRG.3IMERG.20010101-S190000-E192959.1140.V06B.HDF5',\n",
       " '3B-HHR.MS.MRG.3IMERG.20010101-S020000-E022959.0120.V06B.HDF5',\n",
       " '3B-HHR.MS.MRG.3IMERG.20010101-S050000-E052959.0300.V06B.HDF5',\n",
       " '3B-HHR.MS.MRG.3IMERG.20010101-S153000-E155959.0930.V06B.HDF5',\n",
       " '3B-HHR.MS.MRG.3IMERG.20010101-S170000-E172959.1020.V06B.HDF5',\n",
       " '3B-HHR.MS.MRG.3IMERG.20010101-S010000-E012959.0060.V06B.HDF5',\n",
       " '3B-HHR.MS.MRG.3IMERG.20010101-S063000-E065959.0390.V06B.HDF5',\n",
       " '3B-HHR.MS.MRG.3IMERG.20010101-S080000-E082959.0480.V06B.HDF5',\n",
       " '3B-HHR.MS.MRG.3IMERG.20010101-S043000-E045959.0270.V06B.HDF5',\n",
       " '3B-HHR.MS.MRG.3IMERG.20010101-S073000-E075959.0450.V06B.HDF5',\n",
       " '3B-HHR.MS.MRG.3IMERG.20010101-S120000-E122959.0720.V06B.HDF5',\n",
       " '3B-HHR.MS.MRG.3IMERG.20010101-S163000-E165959.0990.V06B.HDF5',\n",
       " '3B-HHR.MS.MRG.3IMERG.20010101-S123000-E125959.0750.V06B.HDF5',\n",
       " '3B-HHR.MS.MRG.3IMERG.20010101-S003000-E005959.0030.V06B.HDF5',\n",
       " '3B-HHR.MS.MRG.3IMERG.20010101-S133000-E135959.0810.V06B.HDF5',\n",
       " '3B-HHR.MS.MRG.3IMERG.20010101-S030000-E032959.0180.V06B.HDF5',\n",
       " '3B-HHR.MS.MRG.3IMERG.20010101-S143000-E145959.0870.V06B.HDF5',\n",
       " '3B-HHR.MS.MRG.3IMERG.20010101-S070000-E072959.0420.V06B.HDF5',\n",
       " '3B-HHR.MS.MRG.3IMERG.20010101-S150000-E152959.0900.V06B.HDF5',\n",
       " '3B-HHR.MS.MRG.3IMERG.20010101-S000000-E002959.0000.V06B.HDF5',\n",
       " '3B-HHR.MS.MRG.3IMERG.20010101-S053000-E055959.0330.V06B.HDF5',\n",
       " '3B-HHR.MS.MRG.3IMERG.20010101-S013000-E015959.0090.V06B.HDF5',\n",
       " '3B-HHR.MS.MRG.3IMERG.20010101-S160000-E162959.0960.V06B.HDF5',\n",
       " '3B-HHR.MS.MRG.3IMERG.20010101-S223000-E225959.1350.V06B.HDF5',\n",
       " '3B-HHR.MS.MRG.3IMERG.20010101-S193000-E195959.1170.V06B.HDF5',\n",
       " '3B-HHR.MS.MRG.3IMERG.20010101-S180000-E182959.1080.V06B.HDF5',\n",
       " '3B-HHR.MS.MRG.3IMERG.20010101-S210000-E212959.1260.V06B.HDF5',\n",
       " '3B-HHR.MS.MRG.3IMERG.20010101-S100000-E102959.0600.V06B.HDF5',\n",
       " '3B-HHR.MS.MRG.3IMERG.20010101-S140000-E142959.0840.V06B.HDF5',\n",
       " '3B-HHR.MS.MRG.3IMERG.20010101-S230000-E232959.1380.V06B.HDF5',\n",
       " '3B-HHR.MS.MRG.3IMERG.20010101-S060000-E062959.0360.V06B.HDF5',\n",
       " '3B-HHR.MS.MRG.3IMERG.20010101-S083000-E085959.0510.V06B.HDF5',\n",
       " '3B-HHR.MS.MRG.3IMERG.20010101-S093000-E095959.0570.V06B.HDF5',\n",
       " '3B-HHR.MS.MRG.3IMERG.20010101-S130000-E132959.0780.V06B.HDF5',\n",
       " '3B-HHR.MS.MRG.3IMERG.20010101-S113000-E115959.0690.V06B.HDF5',\n",
       " '3B-HHR.MS.MRG.3IMERG.20010101-S173000-E175959.1050.V06B.HDF5',\n",
       " '3B-MO.MS.MRG.3IMERG.20010101-S000000-E235959.01.V06B.HDF5',\n",
       " '3B-HHR.MS.MRG.3IMERG.20010101-S103000-E105959.0630.V06B.HDF5']"
      ]
     },
     "execution_count": 55,
     "metadata": {},
     "output_type": "execute_result"
    }
   ],
   "source": [
    "ftp.cwd('/gpmdata/2001/01/01/imerg')\n",
    "ftp.nlst()\n",
    "# ftp.cwd('/gpmdata/2000/05/01')"
   ]
  },
  {
   "cell_type": "code",
   "execution_count": 24,
   "metadata": {},
   "outputs": [],
   "source": [
    "# sorted(ftp.nlst())\n",
    "# ['3B-HHR.MS.MRG.3IMERG.20010101-S000000-E002959.0000.V06B.HDF5',"
   ]
  },
  {
   "cell_type": "code",
   "execution_count": null,
   "metadata": {},
   "outputs": [],
   "source": [
    "# download all files in a daterange "
   ]
  },
  {
   "cell_type": "code",
   "execution_count": null,
   "metadata": {},
   "outputs": [],
   "source": [
    "# for model_name in model_name_to_http_filename_map:\n",
    "#     print(model_name)\n",
    "#     all_urls_to_download = model_name_to_http_filename_map[model_name]\n",
    "#     for url_to_download in all_urls_to_download:\n",
    "#         local_filepath = output_data_dir + model_name + '/' + url_to_download.split('/')[-1]\n",
    "#         print(local_filepath)\n",
    "#         if not os.path.exists(local_filepath):\n",
    "#             print(\"Does not exist\", local_filepath)\n",
    "#             result_code = os.system('wget -nc -c --retry-connrefused --waitretry=10 --quiet -P ' + output_data_dir + model_name + '/' + ' ' + url_to_download)\n",
    "#     print('Done!')"
   ]
  },
  {
   "cell_type": "code",
   "execution_count": null,
   "metadata": {},
   "outputs": [],
   "source": []
  },
  {
   "cell_type": "code",
   "execution_count": 31,
   "metadata": {},
   "outputs": [],
   "source": [
    "# dates = pd.date_range(start = '2000-06-01', end = '2011-06-01')\n",
    "# dates = pd.date_range(start = '2000-06-01', end = '2011-06-01')\n",
    "dates = pd.date_range(start = '2011-06-01', end = '2020-06-01')"
   ]
  },
  {
   "cell_type": "code",
   "execution_count": 42,
   "metadata": {},
   "outputs": [
    {
     "name": "stderr",
     "output_type": "stream",
     "text": [
      "INFO:root:Downloading: /gpmdata/2000/06/01/imerg\n",
      "INFO:root:Downloading: /gpmdata/2000/06/02/imerg\n",
      "  0%|          | 0/48 [00:00<?, ?it/s]"
     ]
    },
    {
     "name": "stdout",
     "output_type": "stream",
     "text": [
      "3B-HHR.MS.MRG.3IMERG.20000602-S000000-E002959.0000.V06B.HDF5\n"
     ]
    },
    {
     "name": "stderr",
     "output_type": "stream",
     "text": [
      "  2%|▏         | 1/48 [00:14<11:29, 14.68s/it]"
     ]
    },
    {
     "name": "stdout",
     "output_type": "stream",
     "text": [
      "3B-HHR.MS.MRG.3IMERG.20000602-S003000-E005959.0030.V06B.HDF5\n"
     ]
    },
    {
     "name": "stderr",
     "output_type": "stream",
     "text": [
      "  4%|▍         | 2/48 [00:18<08:47, 11.46s/it]"
     ]
    },
    {
     "name": "stdout",
     "output_type": "stream",
     "text": [
      "3B-HHR.MS.MRG.3IMERG.20000602-S010000-E012959.0060.V06B.HDF5\n"
     ]
    },
    {
     "name": "stderr",
     "output_type": "stream",
     "text": [
      "  6%|▋         | 3/48 [00:22<06:46,  9.04s/it]"
     ]
    },
    {
     "name": "stdout",
     "output_type": "stream",
     "text": [
      "3B-HHR.MS.MRG.3IMERG.20000602-S013000-E015959.0090.V06B.HDF5\n"
     ]
    },
    {
     "name": "stderr",
     "output_type": "stream",
     "text": [
      "  8%|▊         | 4/48 [00:25<05:20,  7.28s/it]"
     ]
    },
    {
     "name": "stdout",
     "output_type": "stream",
     "text": [
      "3B-HHR.MS.MRG.3IMERG.20000602-S020000-E022959.0120.V06B.HDF5\n"
     ]
    },
    {
     "name": "stderr",
     "output_type": "stream",
     "text": [
      " 10%|█         | 5/48 [00:28<04:21,  6.07s/it]"
     ]
    },
    {
     "name": "stdout",
     "output_type": "stream",
     "text": [
      "3B-HHR.MS.MRG.3IMERG.20000602-S023000-E025959.0150.V06B.HDF5\n"
     ]
    },
    {
     "name": "stderr",
     "output_type": "stream",
     "text": [
      " 12%|█▎        | 6/48 [00:31<03:41,  5.26s/it]"
     ]
    },
    {
     "name": "stdout",
     "output_type": "stream",
     "text": [
      "3B-HHR.MS.MRG.3IMERG.20000602-S030000-E032959.0180.V06B.HDF5\n"
     ]
    },
    {
     "name": "stderr",
     "output_type": "stream",
     "text": [
      " 15%|█▍        | 7/48 [00:35<03:13,  4.71s/it]"
     ]
    },
    {
     "name": "stdout",
     "output_type": "stream",
     "text": [
      "3B-HHR.MS.MRG.3IMERG.20000602-S033000-E035959.0210.V06B.HDF5\n"
     ]
    },
    {
     "name": "stderr",
     "output_type": "stream",
     "text": [
      " 17%|█▋        | 8/48 [00:38<02:52,  4.32s/it]"
     ]
    },
    {
     "name": "stdout",
     "output_type": "stream",
     "text": [
      "3B-HHR.MS.MRG.3IMERG.20000602-S040000-E042959.0240.V06B.HDF5\n"
     ]
    },
    {
     "name": "stderr",
     "output_type": "stream",
     "text": [
      " 19%|█▉        | 9/48 [00:42<02:39,  4.08s/it]"
     ]
    },
    {
     "name": "stdout",
     "output_type": "stream",
     "text": [
      "3B-HHR.MS.MRG.3IMERG.20000602-S043000-E045959.0270.V06B.HDF5\n"
     ]
    },
    {
     "name": "stderr",
     "output_type": "stream",
     "text": [
      " 21%|██        | 10/48 [00:45<02:27,  3.87s/it]"
     ]
    },
    {
     "name": "stdout",
     "output_type": "stream",
     "text": [
      "3B-HHR.MS.MRG.3IMERG.20000602-S050000-E052959.0300.V06B.HDF5\n"
     ]
    },
    {
     "name": "stderr",
     "output_type": "stream",
     "text": [
      " 23%|██▎       | 11/48 [00:49<02:18,  3.75s/it]"
     ]
    },
    {
     "name": "stdout",
     "output_type": "stream",
     "text": [
      "3B-HHR.MS.MRG.3IMERG.20000602-S053000-E055959.0330.V06B.HDF5\n"
     ]
    },
    {
     "name": "stderr",
     "output_type": "stream",
     "text": [
      " 25%|██▌       | 12/48 [00:52<02:11,  3.66s/it]"
     ]
    },
    {
     "name": "stdout",
     "output_type": "stream",
     "text": [
      "3B-HHR.MS.MRG.3IMERG.20000602-S060000-E062959.0360.V06B.HDF5\n"
     ]
    },
    {
     "name": "stderr",
     "output_type": "stream",
     "text": [
      " 27%|██▋       | 13/48 [00:55<02:04,  3.56s/it]"
     ]
    },
    {
     "name": "stdout",
     "output_type": "stream",
     "text": [
      "3B-HHR.MS.MRG.3IMERG.20000602-S063000-E065959.0390.V06B.HDF5\n"
     ]
    },
    {
     "name": "stderr",
     "output_type": "stream",
     "text": [
      " 29%|██▉       | 14/48 [00:59<01:58,  3.49s/it]"
     ]
    },
    {
     "name": "stdout",
     "output_type": "stream",
     "text": [
      "3B-HHR.MS.MRG.3IMERG.20000602-S070000-E072959.0420.V06B.HDF5\n"
     ]
    },
    {
     "name": "stderr",
     "output_type": "stream",
     "text": [
      " 31%|███▏      | 15/48 [01:02<01:53,  3.45s/it]"
     ]
    },
    {
     "name": "stdout",
     "output_type": "stream",
     "text": [
      "3B-HHR.MS.MRG.3IMERG.20000602-S073000-E075959.0450.V06B.HDF5\n"
     ]
    },
    {
     "name": "stderr",
     "output_type": "stream",
     "text": [
      " 33%|███▎      | 16/48 [01:05<01:48,  3.40s/it]"
     ]
    },
    {
     "name": "stdout",
     "output_type": "stream",
     "text": [
      "3B-HHR.MS.MRG.3IMERG.20000602-S080000-E082959.0480.V06B.HDF5\n"
     ]
    },
    {
     "name": "stderr",
     "output_type": "stream",
     "text": [
      " 35%|███▌      | 17/48 [01:09<01:43,  3.35s/it]"
     ]
    },
    {
     "name": "stdout",
     "output_type": "stream",
     "text": [
      "3B-HHR.MS.MRG.3IMERG.20000602-S083000-E085959.0510.V06B.HDF5\n"
     ]
    },
    {
     "name": "stderr",
     "output_type": "stream",
     "text": [
      " 38%|███▊      | 18/48 [01:12<01:39,  3.33s/it]"
     ]
    },
    {
     "name": "stdout",
     "output_type": "stream",
     "text": [
      "3B-HHR.MS.MRG.3IMERG.20000602-S090000-E092959.0540.V06B.HDF5\n"
     ]
    },
    {
     "name": "stderr",
     "output_type": "stream",
     "text": [
      " 40%|███▉      | 19/48 [01:15<01:37,  3.36s/it]"
     ]
    },
    {
     "name": "stdout",
     "output_type": "stream",
     "text": [
      "3B-HHR.MS.MRG.3IMERG.20000602-S093000-E095959.0570.V06B.HDF5\n"
     ]
    },
    {
     "name": "stderr",
     "output_type": "stream",
     "text": [
      " 42%|████▏     | 20/48 [01:19<01:34,  3.37s/it]"
     ]
    },
    {
     "name": "stdout",
     "output_type": "stream",
     "text": [
      "3B-HHR.MS.MRG.3IMERG.20000602-S100000-E102959.0600.V06B.HDF5\n"
     ]
    },
    {
     "name": "stderr",
     "output_type": "stream",
     "text": [
      " 44%|████▍     | 21/48 [01:22<01:29,  3.30s/it]"
     ]
    },
    {
     "name": "stdout",
     "output_type": "stream",
     "text": [
      "3B-HHR.MS.MRG.3IMERG.20000602-S103000-E105959.0630.V06B.HDF5\n"
     ]
    },
    {
     "name": "stderr",
     "output_type": "stream",
     "text": [
      " 46%|████▌     | 22/48 [01:25<01:27,  3.38s/it]"
     ]
    },
    {
     "name": "stdout",
     "output_type": "stream",
     "text": [
      "3B-HHR.MS.MRG.3IMERG.20000602-S110000-E112959.0660.V06B.HDF5\n"
     ]
    },
    {
     "name": "stderr",
     "output_type": "stream",
     "text": [
      " 48%|████▊     | 23/48 [01:29<01:26,  3.47s/it]"
     ]
    },
    {
     "name": "stdout",
     "output_type": "stream",
     "text": [
      "3B-HHR.MS.MRG.3IMERG.20000602-S113000-E115959.0690.V06B.HDF5\n"
     ]
    },
    {
     "name": "stderr",
     "output_type": "stream",
     "text": [
      " 50%|█████     | 24/48 [01:32<01:22,  3.45s/it]"
     ]
    },
    {
     "name": "stdout",
     "output_type": "stream",
     "text": [
      "3B-HHR.MS.MRG.3IMERG.20000602-S120000-E122959.0720.V06B.HDF5\n"
     ]
    },
    {
     "name": "stderr",
     "output_type": "stream",
     "text": [
      " 52%|█████▏    | 25/48 [01:36<01:17,  3.36s/it]"
     ]
    },
    {
     "name": "stdout",
     "output_type": "stream",
     "text": [
      "3B-HHR.MS.MRG.3IMERG.20000602-S123000-E125959.0750.V06B.HDF5\n"
     ]
    },
    {
     "name": "stderr",
     "output_type": "stream",
     "text": [
      " 54%|█████▍    | 26/48 [01:39<01:13,  3.35s/it]"
     ]
    },
    {
     "name": "stdout",
     "output_type": "stream",
     "text": [
      "3B-HHR.MS.MRG.3IMERG.20000602-S130000-E132959.0780.V06B.HDF5\n"
     ]
    },
    {
     "name": "stderr",
     "output_type": "stream",
     "text": [
      " 56%|█████▋    | 27/48 [01:42<01:10,  3.36s/it]"
     ]
    },
    {
     "name": "stdout",
     "output_type": "stream",
     "text": [
      "3B-HHR.MS.MRG.3IMERG.20000602-S133000-E135959.0810.V06B.HDF5\n"
     ]
    },
    {
     "name": "stderr",
     "output_type": "stream",
     "text": [
      " 58%|█████▊    | 28/48 [01:46<01:07,  3.37s/it]"
     ]
    },
    {
     "name": "stdout",
     "output_type": "stream",
     "text": [
      "3B-HHR.MS.MRG.3IMERG.20000602-S140000-E142959.0840.V06B.HDF5\n"
     ]
    },
    {
     "name": "stderr",
     "output_type": "stream",
     "text": [
      " 60%|██████    | 29/48 [01:49<01:03,  3.34s/it]"
     ]
    },
    {
     "name": "stdout",
     "output_type": "stream",
     "text": [
      "3B-HHR.MS.MRG.3IMERG.20000602-S143000-E145959.0870.V06B.HDF5\n"
     ]
    },
    {
     "name": "stderr",
     "output_type": "stream",
     "text": [
      " 62%|██████▎   | 30/48 [01:52<00:59,  3.33s/it]"
     ]
    },
    {
     "name": "stdout",
     "output_type": "stream",
     "text": [
      "3B-HHR.MS.MRG.3IMERG.20000602-S150000-E152959.0900.V06B.HDF5\n"
     ]
    },
    {
     "name": "stderr",
     "output_type": "stream",
     "text": [
      " 65%|██████▍   | 31/48 [01:56<00:56,  3.34s/it]"
     ]
    },
    {
     "name": "stdout",
     "output_type": "stream",
     "text": [
      "3B-HHR.MS.MRG.3IMERG.20000602-S153000-E155959.0930.V06B.HDF5\n"
     ]
    },
    {
     "name": "stderr",
     "output_type": "stream",
     "text": [
      " 67%|██████▋   | 32/48 [01:59<00:53,  3.33s/it]"
     ]
    },
    {
     "name": "stdout",
     "output_type": "stream",
     "text": [
      "3B-HHR.MS.MRG.3IMERG.20000602-S160000-E162959.0960.V06B.HDF5\n"
     ]
    },
    {
     "name": "stderr",
     "output_type": "stream",
     "text": [
      " 69%|██████▉   | 33/48 [02:02<00:49,  3.29s/it]"
     ]
    },
    {
     "name": "stdout",
     "output_type": "stream",
     "text": [
      "3B-HHR.MS.MRG.3IMERG.20000602-S163000-E165959.0990.V06B.HDF5\n"
     ]
    },
    {
     "name": "stderr",
     "output_type": "stream",
     "text": [
      " 71%|███████   | 34/48 [02:05<00:46,  3.31s/it]"
     ]
    },
    {
     "name": "stdout",
     "output_type": "stream",
     "text": [
      "3B-HHR.MS.MRG.3IMERG.20000602-S170000-E172959.1020.V06B.HDF5\n"
     ]
    },
    {
     "name": "stderr",
     "output_type": "stream",
     "text": [
      " 73%|███████▎  | 35/48 [02:09<00:42,  3.31s/it]"
     ]
    },
    {
     "name": "stdout",
     "output_type": "stream",
     "text": [
      "3B-HHR.MS.MRG.3IMERG.20000602-S173000-E175959.1050.V06B.HDF5\n"
     ]
    },
    {
     "name": "stderr",
     "output_type": "stream",
     "text": [
      " 75%|███████▌  | 36/48 [02:12<00:39,  3.30s/it]"
     ]
    },
    {
     "name": "stdout",
     "output_type": "stream",
     "text": [
      "3B-HHR.MS.MRG.3IMERG.20000602-S180000-E182959.1080.V06B.HDF5\n"
     ]
    },
    {
     "name": "stderr",
     "output_type": "stream",
     "text": [
      " 77%|███████▋  | 37/48 [02:15<00:36,  3.34s/it]"
     ]
    },
    {
     "name": "stdout",
     "output_type": "stream",
     "text": [
      "3B-HHR.MS.MRG.3IMERG.20000602-S183000-E185959.1110.V06B.HDF5\n"
     ]
    },
    {
     "name": "stderr",
     "output_type": "stream",
     "text": [
      " 79%|███████▉  | 38/48 [02:19<00:33,  3.33s/it]"
     ]
    },
    {
     "name": "stdout",
     "output_type": "stream",
     "text": [
      "3B-HHR.MS.MRG.3IMERG.20000602-S190000-E192959.1140.V06B.HDF5\n"
     ]
    },
    {
     "name": "stderr",
     "output_type": "stream",
     "text": [
      " 81%|████████▏ | 39/48 [02:22<00:29,  3.30s/it]"
     ]
    },
    {
     "name": "stdout",
     "output_type": "stream",
     "text": [
      "3B-HHR.MS.MRG.3IMERG.20000602-S193000-E195959.1170.V06B.HDF5\n"
     ]
    },
    {
     "name": "stderr",
     "output_type": "stream",
     "text": [
      " 83%|████████▎ | 40/48 [02:25<00:26,  3.28s/it]"
     ]
    },
    {
     "name": "stdout",
     "output_type": "stream",
     "text": [
      "3B-HHR.MS.MRG.3IMERG.20000602-S200000-E202959.1200.V06B.HDF5\n"
     ]
    },
    {
     "name": "stderr",
     "output_type": "stream",
     "text": [
      " 85%|████████▌ | 41/48 [02:29<00:23,  3.30s/it]"
     ]
    },
    {
     "name": "stdout",
     "output_type": "stream",
     "text": [
      "3B-HHR.MS.MRG.3IMERG.20000602-S203000-E205959.1230.V06B.HDF5\n"
     ]
    },
    {
     "name": "stderr",
     "output_type": "stream",
     "text": [
      " 88%|████████▊ | 42/48 [02:32<00:19,  3.28s/it]"
     ]
    },
    {
     "name": "stdout",
     "output_type": "stream",
     "text": [
      "3B-HHR.MS.MRG.3IMERG.20000602-S210000-E212959.1260.V06B.HDF5\n"
     ]
    },
    {
     "name": "stderr",
     "output_type": "stream",
     "text": [
      " 90%|████████▉ | 43/48 [02:35<00:16,  3.25s/it]"
     ]
    },
    {
     "name": "stdout",
     "output_type": "stream",
     "text": [
      "3B-HHR.MS.MRG.3IMERG.20000602-S213000-E215959.1290.V06B.HDF5\n"
     ]
    },
    {
     "name": "stderr",
     "output_type": "stream",
     "text": [
      " 92%|█████████▏| 44/48 [02:38<00:13,  3.29s/it]"
     ]
    },
    {
     "name": "stdout",
     "output_type": "stream",
     "text": [
      "3B-HHR.MS.MRG.3IMERG.20000602-S220000-E222959.1320.V06B.HDF5\n"
     ]
    },
    {
     "name": "stderr",
     "output_type": "stream",
     "text": [
      " 94%|█████████▍| 45/48 [02:42<00:09,  3.27s/it]"
     ]
    },
    {
     "name": "stdout",
     "output_type": "stream",
     "text": [
      "3B-HHR.MS.MRG.3IMERG.20000602-S223000-E225959.1350.V06B.HDF5\n"
     ]
    },
    {
     "name": "stderr",
     "output_type": "stream",
     "text": [
      " 96%|█████████▌| 46/48 [02:45<00:06,  3.26s/it]"
     ]
    },
    {
     "name": "stdout",
     "output_type": "stream",
     "text": [
      "3B-HHR.MS.MRG.3IMERG.20000602-S230000-E232959.1380.V06B.HDF5\n"
     ]
    },
    {
     "name": "stderr",
     "output_type": "stream",
     "text": [
      " 98%|█████████▊| 47/48 [02:48<00:03,  3.27s/it]"
     ]
    },
    {
     "name": "stdout",
     "output_type": "stream",
     "text": [
      "3B-HHR.MS.MRG.3IMERG.20000602-S233000-E235959.1410.V06B.HDF5\n"
     ]
    },
    {
     "name": "stderr",
     "output_type": "stream",
     "text": [
      "100%|██████████| 48/48 [02:52<00:00,  3.58s/it]\n"
     ]
    }
   ],
   "source": [
    "# dates[0].strftime('%Y/%M/%d')\n",
    "retry_connection_counter = 0\n",
    "for date_i in dates:\n",
    "#     ftp.cwd('/gpmdata/2009/01/01/imerg')\n",
    "    try:\n",
    "        rel_dir_to_files = date_i.strftime('/gpmdata/%Y/%m/%d/imerg')\n",
    "        logging.info(f'Downloading: {rel_dir_to_files}')\n",
    "        try:\n",
    "            ftp.cwd(rel_dir_to_files)\n",
    "        except: \n",
    "            logging.info(f'Error with {rel_dir_to_files}!')\n",
    "\n",
    "\n",
    "        sorted_fnames = sorted(ftp.nlst())\n",
    "\n",
    "        out_file_rel_path = output_data_dir + rel_dir_to_files\n",
    "\n",
    "        # if dir for month/day doesn't exist, create it \n",
    "        if not os.path.exists(out_file_rel_path):\n",
    "            os.makedirs(out_file_rel_path)\n",
    "\n",
    "            for fname in sorted_fnames:\n",
    "                try:\n",
    "                    out_file_path = out_file_rel_path + '/' + fname\n",
    "                    if not os.path.exists(out_file_path):\n",
    "                        with open(out_file_path, 'wb') as out_file: # Open a local file to store the downloaded file\n",
    "                            print(fname)\n",
    "                            ftp.retrbinary('RETR ' + fname, out_file.write, 8*1024) # Enter the filename to download\n",
    "                        # open and convert to NETCDF, then save again\n",
    "                        hf = h5py.File(out_file_path, 'r')\n",
    "                        raw_data = hf['Grid']\n",
    "                        raw_data_np = raw_data.get('precipitationCal')[()]\n",
    "                        lat_np = raw_data.get('lat')[()]\n",
    "                        lon_np = raw_data.get('lon')[()]\n",
    "                        time_np = raw_data.get('time')[()]\n",
    "                        time_np = np.array(datetime.utcfromtimestamp(time_np.item())).reshape([1])\n",
    "\n",
    "                        # make numpy arrays into dataarray \n",
    "                        da = xr.DataArray(raw_data_np.T, dims = ('lat', 'lon', 'time'), \n",
    "                              coords = {'time': time_np,\n",
    "                                        'lon': lon_np,\n",
    "                                        'lat': lat_np})\n",
    "                        da.name = 'precipitationCal'\n",
    "\n",
    "                        # save as netcdf\n",
    "                        new_out_file_path = out_file_rel_path + '/'+ fname[:-5] + '.nc'\n",
    "                        da.to_netcdf(new_out_file_path)\n",
    "\n",
    "                        # delete hdf5 file if it exists \n",
    "                        if os.path.exists(out_file_path):\n",
    "                            os.remove(out_file_path)\n",
    "                except Exception as e: \n",
    "                    logging.info(f'Failed on : {out_file_path}')\n",
    "                    logging.info(f'Reason : {str(e)}')\n",
    "                \n",
    "            \n",
    "    except Exception as f:\n",
    "        logging.info(f'Failed on date : {str(date_i)}')\n",
    "        logging.info(f'Reason : {str(f)}')\n",
    "        \n",
    "        retry_connection_counter += 1\n",
    "        if retry_connection_counter < 10: \n",
    "            ftp = FTP('arthurhou.pps.eosdis.nasa.gov')\n",
    "            ftp.login('cchristo@caltech.edu','cchristo@caltech.edu')\n",
    "            \n",
    "\n",
    "    "
   ]
  },
  {
   "cell_type": "code",
   "execution_count": 37,
   "metadata": {},
   "outputs": [],
   "source": [
    "# ftp.pwd()\n",
    "# out_file_path.split('/')[:-1]\n"
   ]
  },
  {
   "cell_type": "code",
   "execution_count": 45,
   "metadata": {},
   "outputs": [
    {
     "data": {
      "text/plain": [
       "'/export/data1/cchristo/gpm_data/gpmdata/2000/06/02/imerg/3B-HHR.MS.MRG.3IMERG.20000602-S233000-E235959.1410.V06B.HDF5'"
      ]
     },
     "execution_count": 45,
     "metadata": {},
     "output_type": "execute_result"
    }
   ],
   "source": [
    "out_file_path"
   ]
  },
  {
   "cell_type": "code",
   "execution_count": null,
   "metadata": {},
   "outputs": [],
   "source": [
    "# ftp = FTP('arthurhou.pps.eosdis.nasa.gov')\n",
    "# ftp.login('cchristo@caltech.edu','cchristo@caltech.edu')"
   ]
  },
  {
   "cell_type": "code",
   "execution_count": 44,
   "metadata": {},
   "outputs": [
    {
     "data": {
      "text/plain": [
       "'/export/data1/cchristo/gpm_data/gpmdata/2000/06/02/imerg'"
      ]
     },
     "execution_count": 44,
     "metadata": {},
     "output_type": "execute_result"
    }
   ],
   "source": [
    "# !wget -r \"ftp://cchristo@caltech.edu:cchristo@caltech.edu@arthurhou.pps.eosdis.nasa.gov/sm/730/gpmdata/2000/06/01/imerg\"\n",
    "\n",
    "\n",
    "out_file_rel_path\n",
    "\n"
   ]
  },
  {
   "cell_type": "code",
   "execution_count": 56,
   "metadata": {},
   "outputs": [],
   "source": [
    "# listing = []\n",
    "# ftp.retrlines(\"LIST\", listing.append)\n",
    "# words = listing[0].split(None, 8)\n",
    "# filename = words[-1].lstrip()\n",
    "# filename = '/sm/730/gpmdata/2000/06/01/imerg/3B-HHR.MS.MRG.3IMERG.20000601-S000000-E002959.0000.V06B.HDF5'"
   ]
  },
  {
   "cell_type": "code",
   "execution_count": 60,
   "metadata": {},
   "outputs": [],
   "source": [
    "# filename\n",
    "# words\n",
    "# listing\n",
    "# words"
   ]
  },
  {
   "cell_type": "code",
   "execution_count": 39,
   "metadata": {},
   "outputs": [],
   "source": [
    "# listing[0]"
   ]
  },
  {
   "cell_type": "code",
   "execution_count": null,
   "metadata": {},
   "outputs": [],
   "source": []
  },
  {
   "cell_type": "code",
   "execution_count": null,
   "metadata": {},
   "outputs": [],
   "source": [
    "# wget --user=cchristo@caltech.edu --password=cchristo@caltech.edu ftp://arthurhou.pps.eosdis.nasa.gov/sm/730/gpmdata/2000/06/01/imerg/3B-HHR.MS.MRG.3IMERG.20000601-S000000-E002959.0000.V06B.HDF5"
   ]
  },
  {
   "cell_type": "code",
   "execution_count": 62,
   "metadata": {},
   "outputs": [],
   "source": [
    "# from nasadap import agg\n",
    "\n",
    "# ###############################\n",
    "# ### Parameters\n",
    "\n",
    "# cache_dir = 'nasa/cache/nz'\n",
    "# save_dir = 'nasa/precip'\n",
    "\n",
    "# username = 'cos14' # Need to change!\n",
    "# password = 'Clouds14' # Need to change!\n",
    "\n",
    "# mission = 'gpm'\n",
    "# freq = 'M'\n",
    "# product = '3IMERGHH'\n",
    "# version = 6\n",
    "# datasets = ['precipitationCal']\n",
    "\n",
    "# min_lat=-49\n",
    "# max_lat=-33\n",
    "# min_lon=165\n",
    "# max_lon=180\n",
    "# dl_sim_count = 50\n",
    "# tz_hour_gmt = 12\n",
    "\n",
    "# agg.time_combine(mission, product, version, datasets, save_dir, username, password,\n",
    "#                   cache_dir, tz_hour_gmt, freq, min_lat, max_lat, min_lon,\n",
    "#                   max_lon, dl_sim_count)"
   ]
  }
 ],
 "metadata": {
  "kernelspec": {
   "display_name": "Python 3",
   "language": "python",
   "name": "python3"
  },
  "language_info": {
   "codemirror_mode": {
    "name": "ipython",
    "version": 3
   },
   "file_extension": ".py",
   "mimetype": "text/x-python",
   "name": "python",
   "nbconvert_exporter": "python",
   "pygments_lexer": "ipython3",
   "version": "3.6.10"
  }
 },
 "nbformat": 4,
 "nbformat_minor": 4
}
