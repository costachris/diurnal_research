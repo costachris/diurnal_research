{
 "cells": [
  {
   "cell_type": "markdown",
   "metadata": {},
   "source": [
    "## CMIP5 Downloader (my version)\n",
    "#### The standard CMIP6 downloader(cmip6_downloader.py) apprears to have some problems\n",
    "#### ie. certain files are missing that are listed on the website.\n",
    "#### This also needs to be adapted for CMIP5"
   ]
  },
  {
   "cell_type": "code",
   "execution_count": 121,
   "metadata": {},
   "outputs": [],
   "source": [
    "import urllib.request\n",
    "import json\n",
    "import random\n",
    "import multiprocessing\n",
    "import os\n",
    "import re\n",
    "from datetime import datetime"
   ]
  },
  {
   "cell_type": "code",
   "execution_count": null,
   "metadata": {},
   "outputs": [],
   "source": [
    "## Summary of needed changes\n",
    "#   - maybe change limit? (probably not)\n",
    "#   - hardcoded 0 in file_urls_to_download"
   ]
  },
  {
   "cell_type": "code",
   "execution_count": 122,
   "metadata": {},
   "outputs": [],
   "source": [
    "number_of_processes = 50\n",
    "files_to_download = multiprocessing.Manager().list()\n",
    "# files_to_download = []\n",
    "failed_files = multiprocessing.Manager().list()"
   ]
  },
  {
   "cell_type": "code",
   "execution_count": 102,
   "metadata": {},
   "outputs": [],
   "source": [
    "# ['precipitation_flux'] == ['precipitation_flux',]"
   ]
  },
  {
   "cell_type": "code",
   "execution_count": 123,
   "metadata": {},
   "outputs": [],
   "source": [
    "def get_files_to_download(url_files_search, cf_standard_name = 'precipitation_flux'):\n",
    "    with urllib.request.urlopen(url_files_search) as result:\n",
    "        data = json.loads(result.read().decode())\n",
    "        data_docs = data['response']['docs']\n",
    "        file_urls_to_download = []\n",
    "        for doc_i in range(len(data_docs)):\n",
    "            if cf_standard_name in data_docs[doc_i]['cf_standard_name']:\n",
    "                file_urls_to_download.extend(data_docs[doc_i]['url'])\n",
    "        for file_url_to_download in file_urls_to_download:\n",
    "            if file_url_to_download.split('|')[2] == 'HTTPServer':\n",
    "                files_to_download.append(file_url_to_download.split('|')[0])"
   ]
  },
  {
   "cell_type": "code",
   "execution_count": 124,
   "metadata": {},
   "outputs": [],
   "source": [
    "variable = '&variable_id=' + 'pr' \n",
    "frequency = '&frequency=' + '3hr'\n",
    "# experiment = '&experiment_id=' + 'historical'\n",
    "\n",
    "experiment = 'historical'\n",
    "    \n",
    "# url = 'https://esgf-node.llnl.gov/esg-search/search/?offset=0&limit=10000&type=Dataset&replica=false&latest=true&project=CMIP6&' + variable + frequency + experiment + '&facets=mip_era%2Cactivity_id%2Cmodel_cohort%2Cproduct%2Csource_id%2Cinstitution_id%2Csource_type%2Cnominal_resolution%2Cexperiment_id%2Csub_experiment_id%2Cvariant_label%2Cgrid_label%2Ctable_id%2Cfrequency%2Crealm%2Cvariable_id%2Ccf_standard_name%2Cdata_node&format=application%2Fsolr%2Bjson'\n",
    "\n",
    "\n",
    "variable = '&variable=' + 'pr' \n",
    "frequency = '&time_frequency=' + '3hr'\n",
    "experiment = '&experiment=' + 'historical'\n",
    "url = 'https://esgf-node.llnl.gov/esg-search/search/?offset=0&limit=1000&type=Dataset&replica=false&latest=true' + experiment + frequency + variable +'&project=CMIP5&project=TAMIP&project=EUCLIPSE&project=LUCID&project=GeoMIP&project=PMIP3&facets=project%2Cproduct%2Cinstitute%2Cmodel%2Cexperiment%2Cexperiment_family%2Ctime_frequency%2Crealm%2Ccmor_table%2Censemble%2Cvariable%2Cvariable_long_name%2Ccf_standard_name%2Cdata_node&format=application%2Fsolr%2Bjson'\n",
    "\n",
    "\n",
    "\n",
    "# url = 'https://esgf-node.llnl.gov/esg-search/search/?offset=0&limit=10000&type=Dataset&replica=false&latest=true&project=CMIP5&' + variable + frequency + experiment + '&facets=mip_era%2Cactivity_id%2Cmodel_cohort%2Cproduct%2Csource_id%2Cinstitution_id%2Csource_type%2Cnominal_resolution%2Cexperiment_id%2Csub_experiment_id%2Cvariant_label%2Cgrid_label%2Ctable_id%2Cfrequency%2Crealm%2Cvariable_id%2Ccf_standard_name%2Cdata_node&format=application%2Fsolr%2Bjson'\n",
    "\n",
    "\n"
   ]
  },
  {
   "cell_type": "code",
   "execution_count": 116,
   "metadata": {},
   "outputs": [],
   "source": [
    "# print(url)"
   ]
  },
  {
   "cell_type": "code",
   "execution_count": 125,
   "metadata": {},
   "outputs": [
    {
     "name": "stdout",
     "output_type": "stream",
     "text": [
      "2- 91 records found. Searching     for files to download inside each record...\n"
     ]
    }
   ],
   "source": [
    "pool_search = multiprocessing.Pool(number_of_processes)\n",
    "with urllib.request.urlopen(url) as result_search:\n",
    "    data = json.loads(result_search.read().decode())\n",
    "    print('2- ' + str(len(data['response']['docs'])) + ' records found. Searching     for files to download inside each record...')\n",
    "    for doc in data['response']['docs']:\n",
    "        url_files_search = 'https://esgf-node.llnl.gov/search_files/' + doc['id'] + '/' + doc['index_node'] + '/?limit=10000&rnd=' + str(random.randint(100000, 999999))\n",
    "        \n",
    "#         if 'GFDL' in doc['id']:\n",
    "#             print(url_files_search)\n",
    "#             print('done')\n",
    "        pool_search.apply_async(get_files_to_download, args=[url_files_search])\n",
    "    pool_search.close()\n",
    "    pool_search.join()"
   ]
  },
  {
   "cell_type": "code",
   "execution_count": 133,
   "metadata": {},
   "outputs": [
    {
     "data": {
      "text/plain": [
       "2156"
      ]
     },
     "execution_count": 133,
     "metadata": {},
     "output_type": "execute_result"
    }
   ],
   "source": [
    "# url_files_search\n",
    "len(list(files_to_download))"
   ]
  },
  {
   "cell_type": "code",
   "execution_count": 51,
   "metadata": {},
   "outputs": [],
   "source": [
    "# data\n",
    "# data['response']['docs']"
   ]
  },
  {
   "cell_type": "code",
   "execution_count": 88,
   "metadata": {},
   "outputs": [
    {
     "data": {
      "text/plain": [
       "'https://esgf-node.llnl.gov/search_files/cmip5.output2.NASA-GISS.GISS-E2-H.historical.3hr.atmos.3hr.r6i1p2.v20160426|dataserver.nccs.nasa.gov/esgf-node.llnl.gov/?limit=10000&rnd=878567'"
      ]
     },
     "execution_count": 88,
     "metadata": {},
     "output_type": "execute_result"
    }
   ],
   "source": [
    "url_files_search"
   ]
  },
  {
   "cell_type": "code",
   "execution_count": 89,
   "metadata": {},
   "outputs": [],
   "source": [
    "with urllib.request.urlopen(url_files_search) as result:\n",
    "        data = json.loads(result.read().decode())\n",
    "        data_docs = data['response']['docs']\n",
    "        file_urls_to_download = []\n",
    "        for doc_i in range(len(data_docs)):\n",
    "            file_urls_to_download.extend(data_docs[doc_i]['url'])"
   ]
  },
  {
   "cell_type": "code",
   "execution_count": 95,
   "metadata": {},
   "outputs": [
    {
     "data": {
      "text/plain": [
       "['precipitation_flux']"
      ]
     },
     "execution_count": 95,
     "metadata": {},
     "output_type": "execute_result"
    }
   ],
   "source": [
    "data_docs[3]['cf_standard_name']"
   ]
  },
  {
   "cell_type": "code",
   "execution_count": 128,
   "metadata": {},
   "outputs": [],
   "source": [
    "# list(files_to_download)\n",
    "rr = list(files_to_download)"
   ]
  },
  {
   "cell_type": "code",
   "execution_count": 131,
   "metadata": {},
   "outputs": [],
   "source": [
    "# rr[0].split\n",
    "\n",
    "rr_sub = [rr_i for rr_i in rr if 'GFDL' in rr_i]"
   ]
  },
  {
   "cell_type": "code",
   "execution_count": 142,
   "metadata": {},
   "outputs": [
    {
     "data": {
      "text/plain": [
       "datetime.datetime(1974, 12, 31, 23, 0)"
      ]
     },
     "execution_count": 142,
     "metadata": {},
     "output_type": "execute_result"
    }
   ],
   "source": [
    "datetime.strptime(re.split('[. -]', rr_sub[4])[-2], '%Y%m%d%H')"
   ]
  },
  {
   "cell_type": "code",
   "execution_count": 141,
   "metadata": {},
   "outputs": [
    {
     "data": {
      "text/plain": [
       "10"
      ]
     },
     "execution_count": 141,
     "metadata": {},
     "output_type": "execute_result"
    }
   ],
   "source": [
    "len(re.split('[. -]', rr_sub[4])[-2])"
   ]
  },
  {
   "cell_type": "code",
   "execution_count": null,
   "metadata": {},
   "outputs": [],
   "source": []
  },
  {
   "cell_type": "code",
   "execution_count": 143,
   "metadata": {},
   "outputs": [],
   "source": [
    "# rr_sub"
   ]
  },
  {
   "cell_type": "code",
   "execution_count": 85,
   "metadata": {},
   "outputs": [],
   "source": [
    "\n",
    "for doc in data['response']['docs']:\n",
    "    if 'GFDL' in doc['id']:\n",
    "#         print(doc)\n",
    "#         print(\"\\n\")\n",
    "        url_files_search = 'https://esgf-node.llnl.gov/search_files/' + doc['id'] + '/' + doc['index_node'] + '/?limit=10000&rnd=' + str(random.randint(100000, 999999))\n",
    "        break\n",
    "#     doc\n",
    "# data['response']['docs']"
   ]
  },
  {
   "cell_type": "code",
   "execution_count": 21,
   "metadata": {},
   "outputs": [],
   "source": [
    "# url_files_search = 'https://esgf-node.llnl.gov/search_files/CMIP6.CMIP.NOAA-GFDL.GFDL-CM4.historical.r1i1p1f1.3hr.pr.gr1.v20180701|esgdata.gfdl.noaa.gov/esgdata.gfdl.noaa.gov/?limit=100000&amp;rnd=688680'\n",
    "url_files_search = 'https://esgf-node.llnl.gov/search_files/CMIP6.CMIP.NOAA-GFDL.GFDL-CM4.historical.r1i1p1f1.3hr.pr.gr1.v20180701|esgdata.gfdl.noaa.gov/esgdata.gfdl.noaa.gov/?limit=10000&amp;rnd=541688'"
   ]
  },
  {
   "cell_type": "code",
   "execution_count": 43,
   "metadata": {},
   "outputs": [],
   "source": [
    "# with urllib.request.urlopen(url) as result_search:\n",
    "#     res = get_files_to_download(url_files_search)"
   ]
  },
  {
   "cell_type": "code",
   "execution_count": 27,
   "metadata": {},
   "outputs": [
    {
     "data": {
      "text/plain": [
       "['http://esgdata.gfdl.noaa.gov/thredds/fileServer/gfdl_dataroot4/CMIP/NOAA-GFDL/GFDL-CM4/historical/r1i1p1f1/3hr/pr/gr1/v20180701/pr_3hr_GFDL-CM4_historical_r1i1p1f1_gr1_196001010130-197912312230.nc',\n",
       " 'http://esgdata.gfdl.noaa.gov/thredds/fileServer/gfdl_dataroot4/CMIP/NOAA-GFDL/GFDL-CM4/historical/r1i1p1f1/3hr/pr/gr1/v20180701/pr_3hr_GFDL-CM4_historical_r1i1p1f1_gr1_196001010130-197912312230.nc']"
      ]
     },
     "execution_count": 27,
     "metadata": {},
     "output_type": "execute_result"
    }
   ],
   "source": [
    "list(files_to_download)"
   ]
  },
  {
   "cell_type": "code",
   "execution_count": 119,
   "metadata": {},
   "outputs": [],
   "source": [
    "# with urllib.request.urlopen(url_files_search) as result:\n",
    "#     data = json.loads(result.read().decode())\n",
    "#     file_urls_to_download = data['response']['docs'][0]['url']"
   ]
  },
  {
   "cell_type": "code",
   "execution_count": 41,
   "metadata": {},
   "outputs": [],
   "source": [
    "# list(files_to_download)\n",
    "# file_urls_to_download"
   ]
  },
  {
   "cell_type": "code",
   "execution_count": 36,
   "metadata": {},
   "outputs": [
    {
     "name": "stdout",
     "output_type": "stream",
     "text": [
      "8716\n"
     ]
    }
   ],
   "source": [
    "fs = list(files_to_download)\n",
    "print(len(fs))"
   ]
  },
  {
   "cell_type": "code",
   "execution_count": 66,
   "metadata": {},
   "outputs": [],
   "source": [
    "# 201301010130-201312312230.nc\n",
    "datetime(2000, 4, 4)"
   ]
  },
  {
   "cell_type": "code",
   "execution_count": 72,
   "metadata": {},
   "outputs": [
    {
     "data": {
      "text/plain": [
       "datetime.datetime(2013, 1, 1, 1, 30)"
      ]
     },
     "execution_count": 72,
     "metadata": {},
     "output_type": "execute_result"
    }
   ],
   "source": [
    "datetime.strptime('201301010130', '%Y%m%d%H%M')"
   ]
  },
  {
   "cell_type": "code",
   "execution_count": 178,
   "metadata": {},
   "outputs": [],
   "source": [
    "min_datetime = datetime(1970,1,1)\n",
    "fs = list(files_to_download)\n",
    "fs_sub = []\n",
    "for f_i in fs:\n",
    "    if len(re.split('[. -]', f_i)[-2]) == 10:\n",
    "        end_date = datetime.strptime(re.split('[. -]', f_i)[-2],'%Y%m%d%H')\n",
    "    else:\n",
    "        end_date = datetime.strptime(re.split('[. -]', f_i)[-2],'%Y%m%d%H%M')\n",
    "    if end_date >= min_datetime:\n",
    "        fs_sub.append(f_i)\n",
    "    "
   ]
  },
  {
   "cell_type": "code",
   "execution_count": 173,
   "metadata": {},
   "outputs": [],
   "source": [
    "# fs_sub_sub = [f_i for f_i in fs_sub if 'GFDL' in f_i]"
   ]
  },
  {
   "cell_type": "code",
   "execution_count": 181,
   "metadata": {},
   "outputs": [
    {
     "data": {
      "text/plain": [
       "1019"
      ]
     },
     "execution_count": 181,
     "metadata": {},
     "output_type": "execute_result"
    }
   ],
   "source": [
    "len(fs_sub)"
   ]
  },
  {
   "cell_type": "code",
   "execution_count": 96,
   "metadata": {},
   "outputs": [
    {
     "name": "stdout",
     "output_type": "stream",
     "text": [
      "http://esgf-data2.diasjp.net/thredds/fileServer/esg_dataroot/CMIP6/CMIP/MIROC/MIROC6/historical/r2i1p1f1/3hr/pr/gn/v20190912/pr_3hr_MIROC6_historical_r2i1p1f1_gn_201301010130-201312312230.nc\n"
     ]
    }
   ],
   "source": [
    "print(fs[0])\n",
    "# fs[0][-25:-3]\n",
    "# fs.split()"
   ]
  },
  {
   "cell_type": "code",
   "execution_count": 97,
   "metadata": {},
   "outputs": [
    {
     "data": {
      "text/plain": [
       "'201312312230'"
      ]
     },
     "execution_count": 97,
     "metadata": {},
     "output_type": "execute_result"
    }
   ],
   "source": [
    "re.split('[. -]', fs[0])[-2]"
   ]
  },
  {
   "cell_type": "code",
   "execution_count": 37,
   "metadata": {},
   "outputs": [
    {
     "data": {
      "text/plain": [
       "['http://esgdata.gfdl.noaa.gov/thredds/fileServer/gfdl_dataroot4/CMIP/NOAA-GFDL/GFDL-CM4/historical/r1i1p1f1/3hr/pr/gr2/v20180701/pr_3hr_GFDL-CM4_historical_r1i1p1f1_gr2_196001010130-197912312230.nc',\n",
       " 'http://esgdata.gfdl.noaa.gov/thredds/fileServer/gfdl_dataroot4/CMIP/NOAA-GFDL/GFDL-CM4/historical/r1i1p1f1/3hr/pr/gr2/v20180701/pr_3hr_GFDL-CM4_historical_r1i1p1f1_gr2_198001010130-199912312230.nc',\n",
       " 'http://esgdata.gfdl.noaa.gov/thredds/fileServer/gfdl_dataroot4/CMIP/NOAA-GFDL/GFDL-CM4/historical/r1i1p1f1/3hr/pr/gr2/v20180701/pr_3hr_GFDL-CM4_historical_r1i1p1f1_gr2_200001010130-201412312230.nc',\n",
       " 'http://esgdata.gfdl.noaa.gov/thredds/fileServer/gfdl_dataroot4/CMIP/NOAA-GFDL/GFDL-CM4/historical/r1i1p1f1/3hr/pr/gr1/v20180701/pr_3hr_GFDL-CM4_historical_r1i1p1f1_gr1_196001010130-197912312230.nc',\n",
       " 'http://esgdata.gfdl.noaa.gov/thredds/fileServer/gfdl_dataroot4/CMIP/NOAA-GFDL/GFDL-CM4/historical/r1i1p1f1/3hr/pr/gr1/v20180701/pr_3hr_GFDL-CM4_historical_r1i1p1f1_gr1_198001010130-199912312230.nc',\n",
       " 'http://esgdata.gfdl.noaa.gov/thredds/fileServer/gfdl_dataroot4/CMIP/NOAA-GFDL/GFDL-CM4/historical/r1i1p1f1/3hr/pr/gr1/v20180701/pr_3hr_GFDL-CM4_historical_r1i1p1f1_gr1_200001010130-201412312230.nc',\n",
       " 'http://esgdata.gfdl.noaa.gov/thredds/fileServer/gfdl_dataroot4/CMIP/NOAA-GFDL/GFDL-ESM4/historical/r1i1p1f1/3hr/pr/gr1/v20190726/pr_3hr_GFDL-ESM4_historical_r1i1p1f1_gr1_185001010130-186912312230.nc',\n",
       " 'http://esgdata.gfdl.noaa.gov/thredds/fileServer/gfdl_dataroot4/CMIP/NOAA-GFDL/GFDL-ESM4/historical/r1i1p1f1/3hr/pr/gr1/v20190726/pr_3hr_GFDL-ESM4_historical_r1i1p1f1_gr1_187001010130-188912312230.nc',\n",
       " 'http://esgdata.gfdl.noaa.gov/thredds/fileServer/gfdl_dataroot4/CMIP/NOAA-GFDL/GFDL-ESM4/historical/r1i1p1f1/3hr/pr/gr1/v20190726/pr_3hr_GFDL-ESM4_historical_r1i1p1f1_gr1_189001010130-190912312230.nc',\n",
       " 'http://esgdata.gfdl.noaa.gov/thredds/fileServer/gfdl_dataroot4/CMIP/NOAA-GFDL/GFDL-ESM4/historical/r1i1p1f1/3hr/pr/gr1/v20190726/pr_3hr_GFDL-ESM4_historical_r1i1p1f1_gr1_191001010130-192912312230.nc',\n",
       " 'http://esgdata.gfdl.noaa.gov/thredds/fileServer/gfdl_dataroot4/CMIP/NOAA-GFDL/GFDL-ESM4/historical/r1i1p1f1/3hr/pr/gr1/v20190726/pr_3hr_GFDL-ESM4_historical_r1i1p1f1_gr1_193001010130-194912312230.nc',\n",
       " 'http://esgdata.gfdl.noaa.gov/thredds/fileServer/gfdl_dataroot4/CMIP/NOAA-GFDL/GFDL-ESM4/historical/r1i1p1f1/3hr/pr/gr1/v20190726/pr_3hr_GFDL-ESM4_historical_r1i1p1f1_gr1_195001010130-196912312230.nc',\n",
       " 'http://esgdata.gfdl.noaa.gov/thredds/fileServer/gfdl_dataroot4/CMIP/NOAA-GFDL/GFDL-ESM4/historical/r1i1p1f1/3hr/pr/gr1/v20190726/pr_3hr_GFDL-ESM4_historical_r1i1p1f1_gr1_197001010130-198912312230.nc',\n",
       " 'http://esgdata.gfdl.noaa.gov/thredds/fileServer/gfdl_dataroot4/CMIP/NOAA-GFDL/GFDL-ESM4/historical/r1i1p1f1/3hr/pr/gr1/v20190726/pr_3hr_GFDL-ESM4_historical_r1i1p1f1_gr1_199001010130-200912312230.nc',\n",
       " 'http://esgdata.gfdl.noaa.gov/thredds/fileServer/gfdl_dataroot4/CMIP/NOAA-GFDL/GFDL-ESM4/historical/r1i1p1f1/3hr/pr/gr1/v20190726/pr_3hr_GFDL-ESM4_historical_r1i1p1f1_gr1_201001010130-201412312230.nc']"
      ]
     },
     "execution_count": 37,
     "metadata": {},
     "output_type": "execute_result"
    }
   ],
   "source": [
    "fs_sub = [f_i for f_i in fs if 'GFDL' in f_i]\n",
    "\n",
    "fs_sub"
   ]
  },
  {
   "cell_type": "code",
   "execution_count": 40,
   "metadata": {},
   "outputs": [
    {
     "data": {
      "text/plain": [
       "'http://esgdata.gfdl.noaa.gov/thredds/fileServer/gfdl_dataroot4/CMIP/NOAA-GFDL/GFDL-CM4/historical/r1i1p1f1/3hr/pr/gr1/v20180701/pr_3hr_GFDL-CM4_historical_r1i1p1f1_gr1_196001010130-197912312230.nc'"
      ]
     },
     "execution_count": 40,
     "metadata": {},
     "output_type": "execute_result"
    }
   ],
   "source": [
    "# fs_sub[0] \n",
    "fs_sub[3]"
   ]
  },
  {
   "cell_type": "code",
   "execution_count": 70,
   "metadata": {},
   "outputs": [
    {
     "data": {
      "text/plain": [
       "'http://esgdata.gfdl.noaa.gov/thredds/fileServer/gfdl_dataroot4/CMIP/NOAA-GFDL/GFDL-CM4/historical/r1i1p1f1/3hr/pr/gr2/v20180701/pr_3hr_GFDL-CM4_historical_r1i1p1f1_gr2_196001010130-197912312230.nc'"
      ]
     },
     "execution_count": 70,
     "metadata": {},
     "output_type": "execute_result"
    }
   ],
   "source": [
    "fs_sub[0] "
   ]
  },
  {
   "cell_type": "code",
   "execution_count": null,
   "metadata": {},
   "outputs": [],
   "source": [
    "https://dataserver.nccs.nasa.gov/thredds/fileServer/CMIP5/NASA/GISS/historical/E2-H_historical_r6i1p2_3hr/clt_3hr_GISS-E2-H_historical_r6i1p2_195001010130-195912312230.nc"
   ]
  },
  {
   "cell_type": "code",
   "execution_count": null,
   "metadata": {},
   "outputs": [],
   "source": [
    "'http://esgdata.gfdl.noaa.gov/thredds/fileServer/gfdl_dataroot/NOAA-GFDL/GFDL-ESM2M/historical/3hr/atmos/3hr/r1i1p1/v20110601/clt/clt_3hr_GFDL-ESM2M_historical_r1i1p1_1906010100-1910123123.nc'"
   ]
  }
 ],
 "metadata": {
  "kernelspec": {
   "display_name": "Python 3",
   "language": "python",
   "name": "python3"
  },
  "language_info": {
   "codemirror_mode": {
    "name": "ipython",
    "version": 3
   },
   "file_extension": ".py",
   "mimetype": "text/x-python",
   "name": "python",
   "nbconvert_exporter": "python",
   "pygments_lexer": "ipython3",
   "version": "3.6.10"
  }
 },
 "nbformat": 4,
 "nbformat_minor": 4
}
